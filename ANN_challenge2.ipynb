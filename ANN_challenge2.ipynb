{
  "nbformat": 4,
  "nbformat_minor": 0,
  "metadata": {
    "colab": {
      "provenance": [],
      "toc_visible": true,
      "mount_file_id": "13ou6qT9mDU6nLia-busYqoFQrOjDWZyN",
      "authorship_tag": "ABX9TyM8ECfhgnmj9GWZKOHaj1In",
      "include_colab_link": true
    },
    "kernelspec": {
      "name": "python3",
      "display_name": "Python 3"
    },
    "language_info": {
      "name": "python"
    },
    "gpuClass": "standard",
    "accelerator": "GPU"
  },
  "cells": [
    {
      "cell_type": "markdown",
      "metadata": {
        "id": "view-in-github",
        "colab_type": "text"
      },
      "source": [
        "<a href=\"https://colab.research.google.com/github/maurofama99/ann_challenge/blob/main/ANN_challenge2.ipynb\" target=\"_parent\"><img src=\"https://colab.research.google.com/assets/colab-badge.svg\" alt=\"Open In Colab\"/></a>"
      ]
    },
    {
      "cell_type": "markdown",
      "source": [
        "#SetUp"
      ],
      "metadata": {
        "id": "M2IB4pBe5L-A"
      }
    },
    {
      "cell_type": "code",
      "execution_count": 1,
      "metadata": {
        "colab": {
          "base_uri": "https://localhost:8080/"
        },
        "id": "1Xmr466BefCB",
        "outputId": "57f0ccde-bea9-4952-f563-4b51d3cc26f6"
      },
      "outputs": [
        {
          "output_type": "stream",
          "name": "stdout",
          "text": [
            "Mounted at /gdrive\n"
          ]
        }
      ],
      "source": [
        "from google.colab import drive\n",
        "drive.mount('/gdrive')"
      ]
    },
    {
      "cell_type": "code",
      "source": [
        "%cd /gdrive/My Drive/ANN/data1"
      ],
      "metadata": {
        "colab": {
          "base_uri": "https://localhost:8080/"
        },
        "id": "J0X15oXOiVTy",
        "outputId": "71e49b11-083d-4da9-faa4-0409d5f023b6"
      },
      "execution_count": 2,
      "outputs": [
        {
          "output_type": "stream",
          "name": "stdout",
          "text": [
            "/gdrive/My Drive/ANN/data1\n"
          ]
        }
      ]
    },
    {
      "cell_type": "markdown",
      "source": [
        "Import libraries"
      ],
      "metadata": {
        "id": "ot74p9cnihdY"
      }
    },
    {
      "cell_type": "code",
      "source": [
        "import tensorflow as tf\n",
        "import numpy as np\n",
        "import os\n",
        "import random\n",
        "import pandas as pd\n",
        "import seaborn as sns\n",
        "import matplotlib as mpl\n",
        "import matplotlib.pyplot as plt\n",
        "from sklearn.model_selection import train_test_split\n",
        "from sklearn.metrics import accuracy_score, f1_score, precision_score, recall_score\n",
        "from sklearn.metrics import confusion_matrix\n",
        "from PIL import Image\n",
        "\n",
        "tfk = tf.keras\n",
        "tfkl = tf.keras.layers\n",
        "print(tf.__version__)"
      ],
      "metadata": {
        "colab": {
          "base_uri": "https://localhost:8080/"
        },
        "id": "ifT-heICifa1",
        "outputId": "7d85fbe0-17d3-4058-ddde-ed05bfa751e0"
      },
      "execution_count": 3,
      "outputs": [
        {
          "output_type": "stream",
          "name": "stdout",
          "text": [
            "2.9.2\n"
          ]
        }
      ]
    },
    {
      "cell_type": "markdown",
      "source": [
        "seed for reproducivity"
      ],
      "metadata": {
        "id": "GhV-OZvtinXq"
      }
    },
    {
      "cell_type": "code",
      "source": [
        "# Random seed for reproducibility\n",
        "seed = 42\n",
        "\n",
        "random.seed(seed)\n",
        "os.environ['PYTHONHASHSEED'] = str(seed)\n",
        "np.random.seed(seed)\n",
        "tf.random.set_seed(seed)\n",
        "tf.compat.v1.set_random_seed(seed)"
      ],
      "metadata": {
        "id": "Txrp7SB1ikG0"
      },
      "execution_count": 4,
      "outputs": []
    },
    {
      "cell_type": "markdown",
      "source": [
        "suppress warnings"
      ],
      "metadata": {
        "id": "RFFxry6ukcUt"
      }
    },
    {
      "cell_type": "code",
      "source": [
        "import warnings\n",
        "import logging\n",
        "\n",
        "os.environ['TF_CPP_MIN_LOG_LEVEL'] = '2'\n",
        "warnings.simplefilter(action='ignore', category=FutureWarning)\n",
        "warnings.simplefilter(action='ignore', category=Warning)\n",
        "tf.get_logger().setLevel('INFO')\n",
        "tf.autograph.set_verbosity(0)\n",
        "\n",
        "tf.get_logger().setLevel(logging.ERROR)\n",
        "tf.get_logger().setLevel('ERROR')\n",
        "tf.compat.v1.logging.set_verbosity(tf.compat.v1.logging.ERROR)"
      ],
      "metadata": {
        "id": "6Dw3rwcCkblw"
      },
      "execution_count": 5,
      "outputs": []
    },
    {
      "cell_type": "markdown",
      "source": [
        "###Data"
      ],
      "metadata": {
        "id": "szjdj2n56kHZ"
      }
    },
    {
      "cell_type": "markdown",
      "source": [
        "unzip data file"
      ],
      "metadata": {
        "id": "goMMZbTriu5m"
      }
    },
    {
      "cell_type": "code",
      "source": [
        "# Load the dataset to be used for classification\n",
        "!unzip training_dataset_homework2.zip"
      ],
      "metadata": {
        "id": "_E_0tpVwiqlQ",
        "colab": {
          "base_uri": "https://localhost:8080/"
        },
        "outputId": "cb6162d5-af70-42fe-dac7-f92dbb252c8b"
      },
      "execution_count": 6,
      "outputs": [
        {
          "output_type": "stream",
          "name": "stdout",
          "text": [
            "Archive:  training_dataset_homework2.zip\n",
            "  inflating: y_train.npy             \n",
            "  inflating: x_train.npy             \n"
          ]
        }
      ]
    },
    {
      "cell_type": "code",
      "source": [
        "x_train = np.load('x_train.npy', encoding='bytes')\n",
        "y_train = np.load('y_train.npy', encoding='bytes')"
      ],
      "metadata": {
        "id": "Hg28WkWVxyrh"
      },
      "execution_count": 9,
      "outputs": []
    },
    {
      "cell_type": "code",
      "source": [
        "x_train"
      ],
      "metadata": {
        "colab": {
          "base_uri": "https://localhost:8080/"
        },
        "id": "3a3P3EFyya1x",
        "outputId": "edd2b4fa-7152-45fc-e088-4872c9ed7099"
      },
      "execution_count": 8,
      "outputs": [
        {
          "output_type": "execute_result",
          "data": {
            "text/plain": [
              "array([[[ 1.7597e+01,  8.1713e+00, -1.7842e+00, -1.9706e+01,\n",
              "         -9.7135e+00, -6.1887e+01],\n",
              "        [ 2.2974e-01, -5.8956e+00,  1.6837e+01,  5.0390e+00,\n",
              "          2.4332e+00,  5.8914e+01],\n",
              "        [-2.9654e+01, -2.1296e+01,  2.9103e+01, -4.7503e-01,\n",
              "          7.5391e+01,  1.0665e+01],\n",
              "        ...,\n",
              "        [ 1.1982e+02,  2.1849e+02,  1.6398e+03,  5.9787e+02,\n",
              "          2.1922e+03,  1.8484e+01],\n",
              "        [ 9.1591e+01,  1.0378e+02,  1.8238e+03,  1.2460e+03,\n",
              "          1.1301e+04,  7.5107e+02],\n",
              "        [ 4.3719e+01,  3.0689e+01,  9.5092e+02,  8.5927e+02,\n",
              "          8.1331e+03,  9.8883e+02]],\n",
              "\n",
              "       [[ 2.4209e+00, -5.6039e-01,  2.3654e+01, -3.8171e+00,\n",
              "          1.3721e+00,  8.2510e+00],\n",
              "        [ 1.6847e+00,  2.3989e+01,  1.7803e+01, -1.9575e+01,\n",
              "         -8.2534e+00, -2.3959e+01],\n",
              "        [ 5.0692e-01,  5.0281e+01,  5.1196e+01,  1.6036e+01,\n",
              "          7.2974e-01, -1.8185e+01],\n",
              "        ...,\n",
              "        [-1.5618e+01, -7.4233e+00,  3.7833e+00,  1.6565e+00,\n",
              "         -1.0438e+01, -5.5229e+00],\n",
              "        [-1.0702e+01, -6.3568e+00, -4.6464e+00,  6.7957e-01,\n",
              "         -5.5260e+00,  1.9070e+01],\n",
              "        [-4.6352e+00, -3.2769e+00, -5.9048e+00, -1.9564e-01,\n",
              "          1.1487e+00,  2.3275e+01]],\n",
              "\n",
              "       [[ 3.9688e+01,  7.0129e+02,  3.0038e+03,  3.4806e+01,\n",
              "          6.5036e+01,  7.7808e+01],\n",
              "        [ 1.6399e+02,  1.2559e+03,  3.3818e+03,  2.3965e+03,\n",
              "          5.1936e+01, -7.0134e+01],\n",
              "        [ 2.7545e+02,  1.7005e+03,  3.0922e+03,  3.3084e+03,\n",
              "          1.9858e+02,  3.6742e+02],\n",
              "        ...,\n",
              "        [ 3.1521e+01,  9.1987e+00, -4.7701e+00,  1.5335e+01,\n",
              "          1.7212e+01,  1.2384e+01],\n",
              "        [ 2.5363e+01,  5.1979e+00,  6.0153e+00, -6.8815e+00,\n",
              "          1.0936e+01, -6.4854e+01],\n",
              "        [ 1.2557e+01,  2.2734e+00,  4.4831e+00, -1.2885e+01,\n",
              "          1.0488e+01, -6.6960e+01]],\n",
              "\n",
              "       ...,\n",
              "\n",
              "       [[ 5.0312e+02,  1.6427e+03,  1.6508e+03,  1.5424e+03,\n",
              "          1.4157e+03,  1.3090e+03],\n",
              "        [ 3.1731e+02,  2.0105e+03,  2.1930e+03,  2.1599e+03,\n",
              "          2.0417e+03,  1.9044e+03],\n",
              "        [ 2.4274e+02,  1.4771e+03,  1.8077e+03,  1.8751e+03,\n",
              "          1.8384e+03,  1.7504e+03],\n",
              "        ...,\n",
              "        [ 4.4821e-01,  2.2123e-01,  5.3692e+00,  1.4156e+01,\n",
              "          1.6963e+01,  1.9934e+01],\n",
              "        [-7.4565e-01,  1.8507e+00,  5.6273e+00,  1.3796e+01,\n",
              "          1.6155e+01,  2.7067e+01],\n",
              "        [-7.2203e-01,  2.8672e+00,  6.6811e+00,  1.3440e+01,\n",
              "          1.7874e+01,  2.7193e+01]],\n",
              "\n",
              "       [[ 1.7756e+01,  2.0621e+00, -3.2330e+00,  3.2775e-01,\n",
              "         -1.5536e+01,  9.1006e+00],\n",
              "        [ 2.6275e+01,  2.0191e+00, -2.5783e+00, -1.6558e+00,\n",
              "         -3.8543e+00, -5.7283e+01],\n",
              "        [ 3.1817e+01,  1.6151e+00, -1.3073e+00, -3.9150e+00,\n",
              "          1.5539e+01, -4.3464e+01],\n",
              "        ...,\n",
              "        [ 8.9397e+00,  8.3143e+00,  2.8575e+01,  4.1574e+01,\n",
              "          8.0197e+01,  6.3055e+01],\n",
              "        [ 1.0139e+01,  5.4037e+00,  2.5684e+01,  3.6630e+01,\n",
              "          5.1392e+01,  1.5032e+01],\n",
              "        [ 5.9396e+00,  2.3820e+00,  1.3211e+01,  1.8603e+01,\n",
              "          3.3123e+01,  4.4679e-01]],\n",
              "\n",
              "       [[ 1.0391e+00, -1.2397e-01,  6.9213e-01,  4.2632e-01,\n",
              "          8.7345e-01,  6.6273e-01],\n",
              "        [-3.9896e+00,  2.1111e+00,  1.2686e+00, -5.9710e-01,\n",
              "          3.9892e-01, -9.4295e-01],\n",
              "        [ 1.8169e-01,  1.3814e+00,  6.6310e-01,  1.2138e-01,\n",
              "          1.4185e+00,  9.8861e+00],\n",
              "        ...,\n",
              "        [ 2.0638e-01,  1.0287e+00, -9.2512e-01, -7.1633e-01,\n",
              "          1.7333e+00,  4.7638e+00],\n",
              "        [ 4.1429e+00,  1.0939e+00, -1.8921e-01,  1.1410e+00,\n",
              "          9.3441e-01,  4.1742e+00],\n",
              "        [-1.5545e+00, -1.2121e+00,  1.0705e+00,  1.3272e+00,\n",
              "          2.4010e+00,  8.4550e+00]]])"
            ]
          },
          "metadata": {},
          "execution_count": 8
        }
      ]
    },
    {
      "cell_type": "code",
      "source": [
        "len(x_train)"
      ],
      "metadata": {
        "colab": {
          "base_uri": "https://localhost:8080/"
        },
        "id": "jQJ0mpH73ABJ",
        "outputId": "370c9a8f-cefd-4241-ff59-0e1c5cbd5f86"
      },
      "execution_count": 23,
      "outputs": [
        {
          "output_type": "execute_result",
          "data": {
            "text/plain": [
              "2429"
            ]
          },
          "metadata": {},
          "execution_count": 23
        }
      ]
    },
    {
      "cell_type": "code",
      "source": [
        "len(x_train[0])"
      ],
      "metadata": {
        "colab": {
          "base_uri": "https://localhost:8080/"
        },
        "id": "5gLferW43IRL",
        "outputId": "154cb8e6-227a-4bc1-d6c3-4d27e4db3168"
      },
      "execution_count": 24,
      "outputs": [
        {
          "output_type": "execute_result",
          "data": {
            "text/plain": [
              "36"
            ]
          },
          "metadata": {},
          "execution_count": 24
        }
      ]
    },
    {
      "cell_type": "code",
      "source": [
        "x_train.shape"
      ],
      "metadata": {
        "colab": {
          "base_uri": "https://localhost:8080/"
        },
        "id": "bzJgJtlP3Sw7",
        "outputId": "73bf64ee-ce7d-41f7-a563-7cf6a51e0b19"
      },
      "execution_count": 25,
      "outputs": [
        {
          "output_type": "execute_result",
          "data": {
            "text/plain": [
              "(2429, 36, 6)"
            ]
          },
          "metadata": {},
          "execution_count": 25
        }
      ]
    },
    {
      "cell_type": "code",
      "source": [
        "y_train"
      ],
      "metadata": {
        "colab": {
          "base_uri": "https://localhost:8080/"
        },
        "id": "KF0splMoyrHB",
        "outputId": "404d3e53-497b-4e71-93c0-36cd9b81d070"
      },
      "execution_count": 10,
      "outputs": [
        {
          "output_type": "execute_result",
          "data": {
            "text/plain": [
              "array([ 0,  0,  0, ..., 11, 11, 11], dtype=int32)"
            ]
          },
          "metadata": {},
          "execution_count": 10
        }
      ]
    },
    {
      "cell_type": "code",
      "source": [
        "len(y_train)"
      ],
      "metadata": {
        "colab": {
          "base_uri": "https://localhost:8080/"
        },
        "id": "Eq8VG4Vr2sAU",
        "outputId": "1f40fe07-7c06-41fa-c094-c5c0956926f5"
      },
      "execution_count": 22,
      "outputs": [
        {
          "output_type": "execute_result",
          "data": {
            "text/plain": [
              "2429"
            ]
          },
          "metadata": {},
          "execution_count": 22
        }
      ]
    },
    {
      "cell_type": "code",
      "source": [
        "y_train.shape"
      ],
      "metadata": {
        "colab": {
          "base_uri": "https://localhost:8080/"
        },
        "id": "af6Q74Pb3axL",
        "outputId": "50457fdc-dd58-4733-d195-c59f7396368d"
      },
      "execution_count": 26,
      "outputs": [
        {
          "output_type": "execute_result",
          "data": {
            "text/plain": [
              "(2429,)"
            ]
          },
          "metadata": {},
          "execution_count": 26
        }
      ]
    },
    {
      "cell_type": "code",
      "source": [
        "classes = ['Wish',        # 0\n",
        "          'Another',      # 1\n",
        "          'Comfortably',  # 2\n",
        "          'Money',        # 3\n",
        "          'Breathe',      # 4\n",
        "          'Time',         # 5\n",
        "          'Brain',        # 6\n",
        "          'Echoes',       # 7\n",
        "          'Wearing',      # 8\n",
        "          'Sorrow',       # 9\n",
        "          'Hey',          # 10\n",
        "          'Shine']        # 11\n",
        "\n",
        "count = [0,0,0,0,0,0,0,0,0,0,0,0]"
      ],
      "metadata": {
        "id": "zS_s-2qDzBXY"
      },
      "execution_count": 16,
      "outputs": []
    },
    {
      "cell_type": "code",
      "source": [
        "from collections import Counter\n",
        "\n",
        "counter = Counter(y_train)\n",
        "tot_number = 0;\n",
        "\n",
        "\n",
        "for i in range(len(classes)):\n",
        "  print(\"The number of \", classes[i], \" is: \", counter[i])\n",
        "  count[i] = counter[i]\n",
        "  tot_number += counter[i]\n",
        "\n",
        "print(\"The total number of data is: \", tot_number)"
      ],
      "metadata": {
        "colab": {
          "base_uri": "https://localhost:8080/"
        },
        "id": "IiRkxAs60Obl",
        "outputId": "978425da-3702-476d-bd9e-1563a9969ed9"
      },
      "execution_count": 17,
      "outputs": [
        {
          "output_type": "stream",
          "name": "stdout",
          "text": [
            "The number of  Wish  is:  34\n",
            "The number of  Another  is:  123\n",
            "The number of  Comfortably  is:  270\n",
            "The number of  Money  is:  381\n",
            "The number of  Breathe  is:  62\n",
            "The number of  Time  is:  153\n",
            "The number of  Brain  is:  313\n",
            "The number of  Echoes  is:  68\n",
            "The number of  Wearing  is:  120\n",
            "The number of  Sorrow  is:  777\n",
            "The number of  Hey  is:  77\n",
            "The number of  Shine  is:  51\n",
            "The total number of data is:  2429\n"
          ]
        }
      ]
    },
    {
      "cell_type": "code",
      "source": [
        "c = ['red', 'gold', 'thistle', 'royalblue', 'orange', 'lightseagreen', 'purple', 'brown', 'olive', 'skyblue', 'darkred', 'khaki']\n",
        "plt.bar(classes, count, color = c)\n",
        "plt.title(\"Classes Occurrence\")\n",
        "plt.ylabel(\"Occurrences\")\n",
        "plt.xticks(rotation=90)\n",
        "plt.yticks\n",
        "plt.show()"
      ],
      "metadata": {
        "colab": {
          "base_uri": "https://localhost:8080/",
          "height": 333
        },
        "id": "nhTuf3WK1_8l",
        "outputId": "75a62084-9428-4308-8a93-33dbb8bcf8c7"
      },
      "execution_count": 29,
      "outputs": [
        {
          "output_type": "display_data",
          "data": {
            "text/plain": [
              "<Figure size 432x288 with 1 Axes>"
            ],
            "image/png": "[encoded data removed]"
          },
          "metadata": {
            "needs_background": "light"
          }
        }
      ]
    },
    {
      "cell_type": "code",
      "source": [
        "def inspect_activity():\n",
        "    data = y_train[:500]\n",
        "    axis = data.plot(subplots=True, figsize=(17, 9))\n",
        "    for ax in axis:\n",
        "        ax.legend(loc='lower right')"
      ],
      "metadata": {
        "id": "eNM4t_n7-XO_"
      },
      "execution_count": 39,
      "outputs": []
    },
    {
      "cell_type": "code",
      "source": [
        "inspect_activity()"
      ],
      "metadata": {
        "id": "LggyF9n9DDef"
      },
      "execution_count": null,
      "outputs": []
    },
    {
      "cell_type": "code",
      "source": [
        "plt.plot(y_train)"
      ],
      "metadata": {
        "colab": {
          "base_uri": "https://localhost:8080/",
          "height": 282
        },
        "id": "k8NpkSkqDrXV",
        "outputId": "c9d53079-41e6-474f-851d-6f0b5ec47383"
      },
      "execution_count": 46,
      "outputs": [
        {
          "output_type": "execute_result",
          "data": {
            "text/plain": [
              "[<matplotlib.lines.Line2D at 0x7f03f1676520>]"
            ]
          },
          "metadata": {},
          "execution_count": 46
        },
        {
          "output_type": "display_data",
          "data": {
            "text/plain": [
              "<Figure size 432x288 with 1 Axes>"
            ],
            "image/png": "[encoded data removed]"
          },
          "metadata": {
            "needs_background": "light"
          }
        }
      ]
    },
    {
      "cell_type": "markdown",
      "source": [
        "###Utils functions"
      ],
      "metadata": {
        "id": "clF0zCoR6XkH"
      }
    },
    {
      "cell_type": "code",
      "source": [
        "def plot_confusionMatrix(y_test, predictions, label_mapping):\n",
        "  # Compute the confusion matrix\n",
        "  cm = confusion_matrix(np.argmax(y_test, axis=-1), np.argmax(predictions, axis=-1))\n",
        "\n",
        "  # Compute the classification metrics\n",
        "  accuracy = accuracy_score(np.argmax(y_test, axis=-1), np.argmax(predictions, axis=-1))\n",
        "  precision = precision_score(np.argmax(y_test, axis=-1), np.argmax(predictions, axis=-1), average='macro')\n",
        "  recall = recall_score(np.argmax(y_test, axis=-1), np.argmax(predictions, axis=-1), average='macro')\n",
        "  f1 = f1_score(np.argmax(y_test, axis=-1), np.argmax(predictions, axis=-1), average='macro')\n",
        "  print('Accuracy:',accuracy.round(4))\n",
        "  print('Precision:',precision.round(4))\n",
        "  print('Recall:',recall.round(4))\n",
        "  print('F1:',f1.round(4))\n",
        "\n",
        "  # Plot the confusion matrix\n",
        "  plt.figure(figsize=(10,8))\n",
        "  sns.heatmap(cm.T, cmap='Blues', xticklabels=list(label_mapping.keys()), yticklabels=list(label_mapping.keys()))\n",
        "  plt.xlabel('True labels')\n",
        "  plt.ylabel('Predicted labels')\n",
        "  plt.show()\n"
      ],
      "metadata": {
        "id": "HJZ19Bi-bP_c"
      },
      "execution_count": null,
      "outputs": []
    },
    {
      "cell_type": "markdown",
      "source": [
        "Metadata"
      ],
      "metadata": {
        "id": "fEMNG-lDoMGa"
      }
    },
    {
      "cell_type": "code",
      "source": [
        "window = 200\n",
        "stride = 50\n",
        "telescope = 27"
      ],
      "metadata": {
        "id": "8XTEDTIK4grx"
      },
      "execution_count": null,
      "outputs": []
    },
    {
      "cell_type": "code",
      "source": [
        "input_shape = x_train.shape\n",
        "#classes = number of train data\n",
        "batch_size = 128\n",
        "epochs = 200"
      ],
      "metadata": {
        "id": "Rpvjnh7ooDjl"
      },
      "execution_count": null,
      "outputs": []
    },
    {
      "cell_type": "markdown",
      "source": [
        "#LSTM"
      ],
      "metadata": {
        "id": "dqv8FCGo5Frb"
      }
    },
    {
      "cell_type": "code",
      "source": [
        "def build_LSTM_classifier(input_shape, classes):\n",
        "    # Build the neural network layer by layer\n",
        "    input_layer = tfkl.Input(shape=input_shape, name='Input')\n",
        "\n",
        "    # Feature extractor\n",
        "    lstm = tfkl.LSTM(128, return_sequences=True)(input_layer)\n",
        "    lstm = tfkl.LSTM(128)(lstm)\n",
        "    dropout = tfkl.Dropout(.5, seed=seed)(lstm)\n",
        "\n",
        "    # Classifier\n",
        "    classifier = tfkl.Dense(128, activation='relu')(dropout)\n",
        "    output_layer = tfkl.Dense(classes, activation='softmax')(classifier)\n",
        "\n",
        "    # Connect input and output through the Model class\n",
        "    model = tfk.Model(inputs=input_layer, outputs=output_layer, name='model')\n",
        "\n",
        "    # Compile the model\n",
        "    model.compile(loss=tfk.losses.CategoricalCrossentropy(), optimizer=tfk.optimizers.Adam(), metrics='accuracy')\n",
        "\n",
        "    # Return the model\n",
        "    return model"
      ],
      "metadata": {
        "id": "OeiEPe4noN6h"
      },
      "execution_count": null,
      "outputs": []
    },
    {
      "cell_type": "code",
      "source": [
        "model = build_LSTM_classifier(input_shape, classes)\n",
        "model.summary()"
      ],
      "metadata": {
        "id": "pF4cooIMo67T"
      },
      "execution_count": null,
      "outputs": []
    },
    {
      "cell_type": "code",
      "source": [
        "# Train the model\n",
        "history = model.fit(\n",
        "    x = X_train,\n",
        "    y = y_train,\n",
        "    batch_size = batch_size,\n",
        "    epochs = epochs,\n",
        "    validation_split=.1,\n",
        "    callbacks = [\n",
        "        tfk.callbacks.EarlyStopping(monitor='val_accuracy', mode='max', patience=10, restore_best_weights=True),\n",
        "        tfk.callbacks.ReduceLROnPlateau(monitor='val_accuracy', mode='max', patience=5, factor=0.5, min_lr=1e-5)\n",
        "    ]\n",
        ").history"
      ],
      "metadata": {
        "id": "LO_sfH8xordo"
      },
      "execution_count": null,
      "outputs": []
    },
    {
      "cell_type": "code",
      "source": [
        "best_epoch = np.argmax(history['val_accuracy'])\n",
        "plt.figure(figsize=(17,4))\n",
        "plt.plot(history['loss'], label='Training loss', alpha=.8, color='#ff7f0e')\n",
        "plt.plot(history['val_loss'], label='Validation loss', alpha=.9, color='#5a9aa5')\n",
        "plt.axvline(x=best_epoch, label='Best epoch', alpha=.3, ls='--', color='#5a9aa5')\n",
        "plt.title('Categorical Crossentropy')\n",
        "plt.legend()\n",
        "plt.grid(alpha=.3)\n",
        "plt.show()\n",
        "\n",
        "plt.figure(figsize=(17,4))\n",
        "plt.plot(history['accuracy'], label='Training accuracy', alpha=.8, color='#ff7f0e')\n",
        "plt.plot(history['val_accuracy'], label='Validation accuracy', alpha=.9, color='#5a9aa5')\n",
        "plt.axvline(x=best_epoch, label='Best epoch', alpha=.3, ls='--', color='#5a9aa5')\n",
        "plt.title('Accuracy')\n",
        "plt.legend()\n",
        "plt.grid(alpha=.3)\n",
        "plt.show()\n",
        "\n",
        "plt.figure(figsize=(17,4))\n",
        "plt.plot(history['lr'], label='Learning Rate', alpha=.8, color='#ff7f0e')\n",
        "plt.axvline(x=best_epoch, label='Best epoch', alpha=.3, ls='--', color='#5a9aa5')\n",
        "plt.legend()\n",
        "plt.grid(alpha=.3)\n",
        "plt.show()"
      ],
      "metadata": {
        "id": "-xn82fzr5ieR"
      },
      "execution_count": null,
      "outputs": []
    },
    {
      "cell_type": "code",
      "source": [
        "# Save best epoch model\n",
        "model.save(\"LSTM\")"
      ],
      "metadata": {
        "id": "nhQ-r5GvpBnl"
      },
      "execution_count": null,
      "outputs": []
    },
    {
      "cell_type": "code",
      "source": [
        "plot_confusionMatrix(y_test, predictions, label_mapping)"
      ],
      "metadata": {
        "id": "3kVm9kBk6tma"
      },
      "execution_count": null,
      "outputs": []
    },
    {
      "cell_type": "markdown",
      "source": [
        "#BiLSTM"
      ],
      "metadata": {
        "id": "IvESGsL66_Mx"
      }
    },
    {
      "cell_type": "code",
      "source": [
        "def build_BiLSTM_classifier(input_shape, classes):\n",
        "    # Build the neural network layer by layer\n",
        "    input_layer = tfkl.Input(shape=input_shape, name='Input')\n",
        "\n",
        "    # Feature extractor\n",
        "    bilstm = tfkl.Bidirectional(tfkl.LSTM(128, return_sequences=True))(input_layer)\n",
        "    bilstm = tfkl.Bidirectional(tfkl.LSTM(128))(bilstm)\n",
        "    dropout = tfkl.Dropout(.5, seed=seed)(bilstm)\n",
        "\n",
        "    # Classifier\n",
        "    classifier = tfkl.Dense(128, activation='relu')(dropout)\n",
        "    output_layer = tfkl.Dense(classes, activation='softmax')(classifier)\n",
        "\n",
        "    # Connect input and output through the Model class\n",
        "    model = tfk.Model(inputs=input_layer, outputs=output_layer, name='model')\n",
        "\n",
        "    # Compile the model\n",
        "    model.compile(loss=tfk.losses.CategoricalCrossentropy(), optimizer=tfk.optimizers.Adam(), metrics='accuracy')\n",
        "\n",
        "    # Return the model\n",
        "    return model"
      ],
      "metadata": {
        "id": "35exYSwQ7GR6"
      },
      "execution_count": null,
      "outputs": []
    },
    {
      "cell_type": "code",
      "source": [
        "model = build_BiLSTM_classifier(input_shape, classes)\n",
        "model.summary()"
      ],
      "metadata": {
        "id": "D-mFfYDN7cIr"
      },
      "execution_count": null,
      "outputs": []
    },
    {
      "cell_type": "code",
      "source": [
        "# Train the model\n",
        "history = model.fit(\n",
        "    x = X_train,\n",
        "    y = y_train,\n",
        "    batch_size = batch_size,\n",
        "    epochs = epochs,\n",
        "    validation_split=.1,\n",
        "    callbacks = [\n",
        "        tfk.callbacks.EarlyStopping(monitor='val_accuracy', mode='max', patience=10, restore_best_weights=True),\n",
        "        tfk.callbacks.ReduceLROnPlateau(monitor='val_accuracy', mode='max', patience=5, factor=0.5, min_lr=1e-5)\n",
        "    ]\n",
        ").history"
      ],
      "metadata": {
        "id": "1Q3BGRPf7cpD"
      },
      "execution_count": null,
      "outputs": []
    },
    {
      "cell_type": "code",
      "source": [
        "best_epoch = np.argmax(history['val_accuracy'])\n",
        "plt.figure(figsize=(17,4))\n",
        "plt.plot(history['loss'], label='Training loss', alpha=.8, color='#ff7f0e')\n",
        "plt.plot(history['val_loss'], label='Validation loss', alpha=.9, color='#5a9aa5')\n",
        "plt.axvline(x=best_epoch, label='Best epoch', alpha=.3, ls='--', color='#5a9aa5')\n",
        "plt.title('Categorical Crossentropy')\n",
        "plt.legend()\n",
        "plt.grid(alpha=.3)\n",
        "plt.show()\n",
        "\n",
        "plt.figure(figsize=(17,4))\n",
        "plt.plot(history['accuracy'], label='Training accuracy', alpha=.8, color='#ff7f0e')\n",
        "plt.plot(history['val_accuracy'], label='Validation accuracy', alpha=.9, color='#5a9aa5')\n",
        "plt.axvline(x=best_epoch, label='Best epoch', alpha=.3, ls='--', color='#5a9aa5')\n",
        "plt.title('Accuracy')\n",
        "plt.legend()\n",
        "plt.grid(alpha=.3)\n",
        "plt.show()\n",
        "\n",
        "plt.figure(figsize=(18,3))\n",
        "plt.plot(history['lr'], label='Learning Rate', alpha=.8, color='#ff7f0e')\n",
        "plt.axvline(x=best_epoch, label='Best epoch', alpha=.3, ls='--', color='#5a9aa5')\n",
        "plt.legend()\n",
        "plt.grid(alpha=.3)\n",
        "plt.show()"
      ],
      "metadata": {
        "id": "5KrnmHvQ7eq7"
      },
      "execution_count": null,
      "outputs": []
    },
    {
      "cell_type": "code",
      "source": [
        "model.save('BiLSTM')"
      ],
      "metadata": {
        "id": "AV-CWw3Z7hR8"
      },
      "execution_count": null,
      "outputs": []
    },
    {
      "cell_type": "code",
      "source": [
        "# Predict the test set with the BiLSTM\n",
        "predictions = model.predict(X_test)\n",
        "predictions.shape"
      ],
      "metadata": {
        "id": "qbZXgsRi7jfR"
      },
      "execution_count": null,
      "outputs": []
    },
    {
      "cell_type": "code",
      "source": [
        "plot_confusionMatrix(y_test, predictions, label_mapping)"
      ],
      "metadata": {
        "id": "7USUVoyL7lZ6"
      },
      "execution_count": null,
      "outputs": []
    },
    {
      "cell_type": "markdown",
      "source": [
        "#1D CNN"
      ],
      "metadata": {
        "id": "fU7ZS6Jq7urO"
      }
    },
    {
      "cell_type": "code",
      "source": [
        "def build_1DCNN_classifier(input_shape, classes):\n",
        "    # Build the neural network layer by layer\n",
        "    input_layer = tfkl.Input(shape=input_shape, name='Input')\n",
        "\n",
        "    # Feature extractor\n",
        "    cnn = tfkl.Conv1D(128,3,padding='same',activation='relu')(input_layer)\n",
        "    cnn = tfkl.MaxPooling1D()(cnn)\n",
        "    cnn = tfkl.Conv1D(128,3,padding='same',activation='relu')(cnn)\n",
        "    gap = tfkl.GlobalAveragePooling1D()(cnn)\n",
        "    dropout = tfkl.Dropout(.5, seed=seed)(gap)\n",
        "\n",
        "    # Classifier\n",
        "    classifier = tfkl.Dense(128, activation='relu')(dropout)\n",
        "    output_layer = tfkl.Dense(classes, activation='softmax')(classifier)\n",
        "\n",
        "    # Connect input and output through the Model class\n",
        "    model = tfk.Model(inputs=input_layer, outputs=output_layer, name='model')\n",
        "\n",
        "    # Compile the model\n",
        "    model.compile(loss=tfk.losses.CategoricalCrossentropy(), optimizer=tfk.optimizers.Adam(), metrics='accuracy')\n",
        "\n",
        "    # Return the model\n",
        "    return model"
      ],
      "metadata": {
        "id": "P5_m91Ku7wqz"
      },
      "execution_count": null,
      "outputs": []
    },
    {
      "cell_type": "code",
      "source": [
        "model = build_1DCNN_classifier(input_shape, classes)\n",
        "model.summary()"
      ],
      "metadata": {
        "id": "BnCLS6xi7zde"
      },
      "execution_count": null,
      "outputs": []
    },
    {
      "cell_type": "code",
      "source": [
        "# Train the model\n",
        "history = model.fit(\n",
        "    x = X_train,\n",
        "    y = y_train,\n",
        "    batch_size = batch_size,\n",
        "    epochs = epochs,\n",
        "    validation_split=.1,\n",
        "    callbacks = [\n",
        "        tfk.callbacks.EarlyStopping(monitor='val_accuracy', mode='max', patience=10, restore_best_weights=True),\n",
        "        tfk.callbacks.ReduceLROnPlateau(monitor='val_accuracy', mode='max', patience=5, factor=0.5, min_lr=1e-5)\n",
        "    ]\n",
        ").history"
      ],
      "metadata": {
        "id": "x3zZuMYa7zRd"
      },
      "execution_count": null,
      "outputs": []
    },
    {
      "cell_type": "code",
      "source": [
        "best_epoch = np.argmax(history['val_accuracy'])\n",
        "plt.figure(figsize=(17,4))\n",
        "plt.plot(history['loss'], label='Training loss', alpha=.8, color='#ff7f0e')\n",
        "plt.plot(history['val_loss'], label='Validation loss', alpha=.9, color='#5a9aa5')\n",
        "plt.axvline(x=best_epoch, label='Best epoch', alpha=.3, ls='--', color='#5a9aa5')\n",
        "plt.title('Categorical Crossentropy')\n",
        "plt.legend()\n",
        "plt.grid(alpha=.3)\n",
        "plt.show()\n",
        "\n",
        "plt.figure(figsize=(17,4))\n",
        "plt.plot(history['accuracy'], label='Training accuracy', alpha=.8, color='#ff7f0e')\n",
        "plt.plot(history['val_accuracy'], label='Validation accuracy', alpha=.9, color='#5a9aa5')\n",
        "plt.axvline(x=best_epoch, label='Best epoch', alpha=.3, ls='--', color='#5a9aa5')\n",
        "plt.title('Accuracy')\n",
        "plt.legend()\n",
        "plt.grid(alpha=.3)\n",
        "plt.show()\n",
        "\n",
        "plt.figure(figsize=(18,3))\n",
        "plt.plot(history['lr'], label='Learning Rate', alpha=.8, color='#ff7f0e')\n",
        "plt.axvline(x=best_epoch, label='Best epoch', alpha=.3, ls='--', color='#5a9aa5')\n",
        "plt.legend()\n",
        "plt.grid(alpha=.3)\n",
        "plt.show()"
      ],
      "metadata": {
        "id": "NTM3WeFS73mW"
      },
      "execution_count": null,
      "outputs": []
    },
    {
      "cell_type": "code",
      "source": [
        "model.save('1DCNN')"
      ],
      "metadata": {
        "id": "BPzNfBd975p-"
      },
      "execution_count": null,
      "outputs": []
    },
    {
      "cell_type": "code",
      "source": [
        "# Predict the test set with the 1DCNN\n",
        "predictions = model.predict(X_test)\n",
        "predictions.shape"
      ],
      "metadata": {
        "id": "FoP9jEKT77s4"
      },
      "execution_count": null,
      "outputs": []
    },
    {
      "cell_type": "code",
      "source": [
        "plot_confusionMatrix(y_test, predictions, label_mapping)"
      ],
      "metadata": {
        "id": "UAAPhGpR79Wn"
      },
      "execution_count": null,
      "outputs": []
    }
  ]
}