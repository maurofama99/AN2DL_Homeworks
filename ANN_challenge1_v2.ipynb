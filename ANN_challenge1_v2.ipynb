{
  "nbformat": 4,
  "nbformat_minor": 0,
  "metadata": {
    "colab": {
      "provenance": [],
      "collapsed_sections": [
        "fC237kGVRCvK"
      ],
      "toc_visible": true,
      "authorship_tag": "ABX9TyOjch34ziKPMUkw1oXBRWvS",
      "include_colab_link": true
    },
    "kernelspec": {
      "name": "python3",
      "display_name": "Python 3"
    },
    "language_info": {
      "name": "python"
    },
    "accelerator": "GPU",
    "gpuClass": "standard"
  },
  "cells": [
    {
      "cell_type": "markdown",
      "metadata": {
        "id": "view-in-github",
        "colab_type": "text"
      },
      "source": [
        "<a href=\"https://colab.research.google.com/github/maurofama99/ann_challenge/blob/main/ANN_challenge1_v2.ipynb\" target=\"_parent\"><img src=\"https://colab.research.google.com/assets/colab-badge.svg\" alt=\"Open In Colab\"/></a>"
      ]
    },
    {
      "cell_type": "markdown",
      "source": [
        "#SetUp"
      ],
      "metadata": {
        "id": "tIDzNMjb6-Hr"
      }
    },
    {
      "cell_type": "code",
      "execution_count": 3,
      "metadata": {
        "id": "bvm1ZEUtk50o",
        "colab": {
          "base_uri": "https://localhost:8080/"
        },
        "outputId": "248ce0e3-1516-4bcd-a1b0-221f914510c9"
      },
      "outputs": [
        {
          "output_type": "stream",
          "name": "stdout",
          "text": [
            "Drive already mounted at /gdrive; to attempt to forcibly remount, call drive.mount(\"/gdrive\", force_remount=True).\n"
          ]
        }
      ],
      "source": [
        "from google.colab import drive\n",
        "drive.mount('/gdrive')"
      ]
    },
    {
      "cell_type": "code",
      "source": [
        "%cd /gdrive/My Drive/ANN/data2"
      ],
      "metadata": {
        "id": "9psz3db6lJI9",
        "colab": {
          "base_uri": "https://localhost:8080/"
        },
        "outputId": "9b008569-1b05-4ed8-a1ab-ebc582f5144f"
      },
      "execution_count": 4,
      "outputs": [
        {
          "output_type": "stream",
          "name": "stdout",
          "text": [
            "/gdrive/My Drive/ANN/data2\n"
          ]
        }
      ]
    },
    {
      "cell_type": "code",
      "source": [
        "import tensorflow as tf\n",
        "import numpy as np\n",
        "import os\n",
        "import random\n",
        "import pandas as pd\n",
        "import seaborn as sns\n",
        "import matplotlib as mpl\n",
        "import matplotlib.pyplot as plt\n",
        "from sklearn.model_selection import train_test_split\n",
        "from sklearn.metrics import accuracy_score, f1_score, precision_score, recall_score\n",
        "from sklearn.metrics import confusion_matrix\n",
        "from PIL import Image\n",
        "\n",
        "tfk = tf.keras\n",
        "tfkl = tf.keras.layers\n",
        "print(tf.__version__)"
      ],
      "metadata": {
        "id": "cm-UpZA6lR2r",
        "colab": {
          "base_uri": "https://localhost:8080/"
        },
        "outputId": "0c254486-cf92-4c73-b4d0-996f9308d7e9"
      },
      "execution_count": 5,
      "outputs": [
        {
          "output_type": "stream",
          "name": "stdout",
          "text": [
            "2.9.2\n"
          ]
        }
      ]
    },
    {
      "cell_type": "code",
      "source": [
        "# Random seed for reproducibility\n",
        "seed = 42\n",
        "\n",
        "random.seed(seed)\n",
        "os.environ['PYTHONHASHSEED'] = str(seed)\n",
        "np.random.seed(seed)\n",
        "tf.random.set_seed(seed)\n",
        "tf.compat.v1.set_random_seed(seed)"
      ],
      "metadata": {
        "id": "TIF7zEXilVGH"
      },
      "execution_count": 6,
      "outputs": []
    },
    {
      "cell_type": "code",
      "source": [
        "import warnings\n",
        "import logging\n",
        "\n",
        "os.environ['TF_CPP_MIN_LOG_LEVEL'] = '2'\n",
        "warnings.simplefilter(action='ignore', category=FutureWarning)\n",
        "warnings.simplefilter(action='ignore', category=Warning)\n",
        "tf.get_logger().setLevel('INFO')\n",
        "tf.autograph.set_verbosity(0)\n",
        "\n",
        "tf.get_logger().setLevel(logging.ERROR)\n",
        "tf.get_logger().setLevel('ERROR')\n",
        "tf.compat.v1.logging.set_verbosity(tf.compat.v1.logging.ERROR)"
      ],
      "metadata": {
        "id": "RZRmO4y3l5RE"
      },
      "execution_count": 7,
      "outputs": []
    },
    {
      "cell_type": "code",
      "source": [
        "# Load the dataset to be used for classification\n",
        "!unzip training_dataset_homework1.zip"
      ],
      "metadata": {
        "id": "MbFQ8VmRdGAb"
      },
      "execution_count": null,
      "outputs": []
    },
    {
      "cell_type": "code",
      "source": [
        "# Dataset folders \n",
        "dataset_dir = 'training_data_final'\n"
      ],
      "metadata": {
        "id": "du1WtX-fl6QC"
      },
      "execution_count": 8,
      "outputs": []
    },
    {
      "cell_type": "code",
      "source": [
        "#get the number of img of each species\n",
        "import fnmatch\n",
        "\n",
        "count = [0,0,0,0,0,0,0,0]\n",
        "labels = ['Species1',       # 0\n",
        "          'Species2',       # 1\n",
        "          'Species3',       # 2\n",
        "          'Species4',       # 3\n",
        "          'Species5',       # 4\n",
        "          'Species6',       # 5\n",
        "          'Species7',       # 6\n",
        "          'Species8']       # 7\n",
        "\n",
        "for i in range(len(labels)):\n",
        "  dir_path = os.path.join(dataset_dir, labels[i])\n",
        "  count[i] = len(fnmatch.filter(os.listdir(dir_path), '*.*'))\n",
        "  print('The number of img of', labels[i], 'is: ', count[i])\n",
        "\n",
        "cumsum = np.cumsum(count)\n",
        "print('Total amount of img is: ', cumsum[len(cumsum)-1] )"
      ],
      "metadata": {
        "id": "zzYmPtw-mCgi",
        "colab": {
          "base_uri": "https://localhost:8080/"
        },
        "outputId": "ae96f97c-6341-49a3-b835-061c11bd39ae"
      },
      "execution_count": 9,
      "outputs": [
        {
          "output_type": "stream",
          "name": "stdout",
          "text": [
            "The number of img of Species1 is:  186\n",
            "The number of img of Species2 is:  532\n",
            "The number of img of Species3 is:  515\n",
            "The number of img of Species4 is:  511\n",
            "The number of img of Species5 is:  531\n",
            "The number of img of Species6 is:  222\n",
            "The number of img of Species7 is:  537\n",
            "The number of img of Species8 is:  508\n",
            "Total amount of img is:  3542\n"
          ]
        }
      ]
    },
    {
      "cell_type": "code",
      "source": [
        "\"Given functions\"\n",
        "from sklearn.metrics import ConfusionMatrixDisplay\n",
        "from sklearn.metrics import confusion_matrix\n",
        "from sklearn.metrics import classification_report\n",
        "from sklearn import svm\n",
        "\n",
        "\n",
        "def plot_confusionMatrix(test_labels, test_predicted):\n",
        "  cm = confusion_matrix(test_labels, test_predicted, labels=[0,1,2,3,4,5,6,7])\n",
        "  disp = ConfusionMatrixDisplay(confusion_matrix=cm,\n",
        "                                display_labels=labels)\n",
        "  disp.plot()\n",
        "  plt.show()\n",
        "  return \n"
      ],
      "metadata": {
        "id": "Gh7iki6Rhbl8"
      },
      "execution_count": 10,
      "outputs": []
    },
    {
      "cell_type": "code",
      "source": [
        "def testModel( valid_gen, model):\n",
        "\n",
        "  # d. Predit test labels\n",
        "  test_predicted = model.predict(valid_gen)\n",
        "  test_predicted = np.argmax(test_predicted, axis=-1)\n",
        "  \n",
        "\n",
        "  # e. plot confusion matrix\n",
        "  plot_confusionMatrix(valid_gen.classes, test_predicted)\n",
        "\n",
        "  # f. display classification results\n",
        "  print(classification_report(valid_gen.classes, test_predicted, target_names=labels))"
      ],
      "metadata": {
        "id": "Gk1vHCU7hbaL"
      },
      "execution_count": 11,
      "outputs": []
    },
    {
      "cell_type": "code",
      "source": [
        "# Images are divided into folders, one for each class. \n",
        "# If the images are organized in such a way, we can exploit the \n",
        "# ImageDataGenerator to read them from disk.\n",
        "from tensorflow.keras.preprocessing.image import ImageDataGenerator\n",
        "\n",
        "# Create an instance of ImageDataGenerator with Data Augmentation\n",
        "data_gen = ImageDataGenerator(rescale=1/255, validation_split=0.2) \n",
        "\n",
        "aug_train_data_gen = ImageDataGenerator(rotation_range=30,\n",
        "                                        height_shift_range=50,\n",
        "                                        width_shift_range=50,\n",
        "                                        zoom_range=0.3,\n",
        "                                        horizontal_flip=True,\n",
        "                                        vertical_flip=True, \n",
        "                                        fill_mode='reflect',\n",
        "                                        rescale=1/255,\n",
        "                                        validation_split=0.2)\n",
        "\n",
        "# Obtain a data generator with the 'ImageDataGenerator.flow_from_directory' method\n",
        "train_gen = aug_train_data_gen.flow_from_directory(directory=dataset_dir,\n",
        "                                                           target_size=(96,96),\n",
        "                                                           color_mode='rgb',\n",
        "                                                           classes=None, # can be set to labels\n",
        "                                                           class_mode='categorical',\n",
        "                                                           batch_size=16,\n",
        "                                                           shuffle=True,\n",
        "                                                           seed=seed,\n",
        "                                                           subset=\"training\")\n",
        "\n",
        "valid_gen = data_gen.flow_from_directory(directory=dataset_dir,\n",
        "                                               target_size=(96,96),\n",
        "                                               color_mode='rgb',\n",
        "                                               classes=None, # can be set to labels\n",
        "                                               class_mode='categorical',\n",
        "                                               batch_size=1,\n",
        "                                               shuffle=False,\n",
        "                                               seed=seed,\n",
        "                                               subset=\"validation\")"
      ],
      "metadata": {
        "id": "oTgvlML8nOU8",
        "colab": {
          "base_uri": "https://localhost:8080/"
        },
        "outputId": "8282ba29-29cf-480a-ec71-e476ddf2ffe9"
      },
      "execution_count": 12,
      "outputs": [
        {
          "output_type": "stream",
          "name": "stdout",
          "text": [
            "Found 2836 images belonging to 8 classes.\n",
            "Found 706 images belonging to 8 classes.\n"
          ]
        }
      ]
    },
    {
      "cell_type": "code",
      "source": [
        "input_shape = (96, 96, 3)\n",
        "epochs = 200"
      ],
      "metadata": {
        "id": "JNEGPMsjnntG"
      },
      "execution_count": 13,
      "outputs": []
    },
    {
      "cell_type": "code",
      "source": [
        "def build_model(input_shape, supernet):\n",
        "\n",
        "    # Build the neural network layer by layer\n",
        "    input_layer = tfkl.Input(shape=input_shape, name='input_layer')\n",
        "\n",
        "    vgg16_layer = supernet(input_layer) \n",
        "\n",
        "    flattening_layer = tfkl.Flatten(name='Flatten')(vgg16_layer)\n",
        "\n",
        "    layer1 = tfkl.Dense(units=1028, kernel_initializer = tfk.initializers.HeUniform(seed), activation='relu')(flattening_layer)\n",
        "\n",
        "    dropout1 = tfkl.Dropout(0.3, seed=seed)(layer1)\n",
        "\n",
        "    classifier_layer = tfkl.Dense(units=512, name='Classifier', kernel_initializer = tfk.initializers.HeUniform(seed), activation='relu')(dropout1)\n",
        "\n",
        "    dropout2 = tfkl.Dropout(0.3, seed=seed)(classifier_layer)\n",
        "\n",
        "    output_layer = tfkl.Dense(units=8, activation='softmax', kernel_initializer=tfk.initializers.GlorotUniform(seed), name='output_layer')(dropout2)\n",
        "\n",
        "    # Connect input and output through the Model class\n",
        "    model = tfk.Model(inputs=input_layer, outputs=output_layer, name='model')\n",
        "\n",
        "    # Compile the model\n",
        "    model.compile(loss=tfk.losses.CategoricalCrossentropy(), optimizer=tfk.optimizers.Adam(1e-4), metrics='accuracy')\n",
        "\n",
        "    # Return the model\n",
        "    return model"
      ],
      "metadata": {
        "id": "eWTiNu3Rnutu"
      },
      "execution_count": 12,
      "outputs": []
    },
    {
      "cell_type": "code",
      "source": [
        "def build_model2(input_shape, supernet):\n",
        "\n",
        "    # Build the neural network layer by layer\n",
        "    input_layer = tfkl.Input(shape=input_shape, name='input_layer')\n",
        "\n",
        "    vgg16_layer = supernet(input_layer) \n",
        "\n",
        "    flattening_layer = tfkl.Flatten(name='Flatten')(vgg16_layer)\n",
        "\n",
        "    layer1 = tfkl.Dense(units=1028, kernel_initializer = tfk.initializers.HeUniform(seed), activation='relu')(flattening_layer)\n",
        "\n",
        "    dropout1 = tfkl.Dropout(0.3, seed=seed)(layer1)\n",
        "\n",
        "    classifier_layer = tfkl.Dense(units=1028, name='Classifier', kernel_initializer = tfk.initializers.HeUniform(seed), activation='relu')(dropout1)\n",
        "\n",
        "    dropout2 = tfkl.Dropout(0.3, seed=seed)(classifier_layer)\n",
        "\n",
        "    output_layer = tfkl.Dense(units=8, activation='softmax', kernel_initializer=tfk.initializers.GlorotUniform(seed), name='output_layer')(dropout2)\n",
        "\n",
        "    # Connect input and output through the Model class\n",
        "    model = tfk.Model(inputs=input_layer, outputs=output_layer, name='model')\n",
        "\n",
        "    # Compile the model\n",
        "    model.compile(loss=tfk.losses.CategoricalCrossentropy(), optimizer=tfk.optimizers.Adam(1e-4), metrics='accuracy')\n",
        "\n",
        "    # Return the model\n",
        "    return model"
      ],
      "metadata": {
        "id": "9-Q0aP8QJMqJ"
      },
      "execution_count": 13,
      "outputs": []
    },
    {
      "cell_type": "code",
      "source": [
        "# Utility function to create folders and callbacks for training\n",
        "from datetime import datetime\n",
        "\n",
        "def create_folders_and_callbacks(model_name):\n",
        "\n",
        "  exps_dir = os.path.join('data_augmentation_experiments')\n",
        "  if not os.path.exists(exps_dir):\n",
        "      os.makedirs(exps_dir)\n",
        "\n",
        "  now = datetime.now().strftime('%b%d_%H-%M-%S')\n",
        "\n",
        "  exp_dir = os.path.join(exps_dir, model_name + '_' + str(now))\n",
        "  if not os.path.exists(exp_dir):\n",
        "      os.makedirs(exp_dir)\n",
        "      \n",
        "  callbacks = []\n",
        "\n",
        "  # Model checkpoint\n",
        "  # ----------------\n",
        "  ckpt_dir = os.path.join(exp_dir, 'ckpts')\n",
        "  if not os.path.exists(ckpt_dir):\n",
        "      os.makedirs(ckpt_dir)\n",
        "\n",
        "  ckpt_callback = tf.keras.callbacks.ModelCheckpoint(filepath=os.path.join(ckpt_dir, 'cp.ckpt'), \n",
        "                                                     save_weights_only=True, # True to save only weights\n",
        "                                                     save_best_only=False) # True to save only the best epoch \n",
        "  callbacks.append(ckpt_callback)\n",
        "\n",
        "  # Visualize Learning on Tensorboard\n",
        "  # ---------------------------------\n",
        "  tb_dir = os.path.join(exp_dir, 'tb_logs')\n",
        "  if not os.path.exists(tb_dir):\n",
        "      os.makedirs(tb_dir)\n",
        "      \n",
        "  # By default shows losses and metrics for both training and validation\n",
        "  tb_callback = tf.keras.callbacks.TensorBoard(log_dir=tb_dir, \n",
        "                                               profile_batch=0,\n",
        "                                               histogram_freq=1)  # if > 0 (epochs) shows weights histograms\n",
        "  callbacks.append(tb_callback)\n",
        "\n",
        "  # Early Stopping\n",
        "  # --------------\n",
        "  es_callback = tf.keras.callbacks.EarlyStopping(monitor='val_accuracy', patience=10, restore_best_weights=True)\n",
        "  callbacks.append(es_callback)\n",
        "\n",
        "  return callbacks"
      ],
      "metadata": {
        "id": "XZlKz44hnyMh"
      },
      "execution_count": 14,
      "outputs": []
    },
    {
      "cell_type": "markdown",
      "source": [
        "#VGG16"
      ],
      "metadata": {
        "id": "MMjSsjdg-BcK"
      }
    },
    {
      "cell_type": "code",
      "source": [
        "# Download and plot the VGG16 model\n",
        "supernet1 = tfk.applications.VGG16(\n",
        "    include_top=False,\n",
        "    weights=\"imagenet\",\n",
        "    input_shape=(96,96,3)\n",
        ")"
      ],
      "metadata": {
        "id": "jnami_YPf4tq",
        "colab": {
          "base_uri": "https://localhost:8080/"
        },
        "outputId": "190f6e28-f85b-4870-efe3-aca345c83355"
      },
      "execution_count": 15,
      "outputs": [
        {
          "output_type": "stream",
          "name": "stdout",
          "text": [
            "Downloading data from https://storage.googleapis.com/tensorflow/keras-applications/vgg16/vgg16_weights_tf_dim_ordering_tf_kernels_notop.h5\n",
            "58889256/58889256 [==============================] - 4s 0us/step\n"
          ]
        }
      ]
    },
    {
      "cell_type": "code",
      "source": [
        "for layer in supernet1.layers:\n",
        "    layer.trainable = False"
      ],
      "metadata": {
        "id": "f6XHy6pJgCE6"
      },
      "execution_count": 16,
      "outputs": []
    },
    {
      "cell_type": "code",
      "source": [
        "# Build model and visualize it\n",
        "model = build_model2(input_shape, supernet1)\n",
        "model.summary()"
      ],
      "metadata": {
        "id": "4JlKIehWoCwA",
        "colab": {
          "base_uri": "https://localhost:8080/"
        },
        "outputId": "ef457202-df82-4aa5-c287-0c677f3741c3"
      },
      "execution_count": 17,
      "outputs": [
        {
          "output_type": "stream",
          "name": "stdout",
          "text": [
            "Model: \"model\"\n",
            "_________________________________________________________________\n",
            " Layer (type)                Output Shape              Param #   \n",
            "=================================================================\n",
            " input_layer (InputLayer)    [(None, 96, 96, 3)]       0         \n",
            "                                                                 \n",
            " vgg16 (Functional)          (None, 3, 3, 512)         14714688  \n",
            "                                                                 \n",
            " Flatten (Flatten)           (None, 4608)              0         \n",
            "                                                                 \n",
            " dense (Dense)               (None, 1028)              4738052   \n",
            "                                                                 \n",
            " dropout (Dropout)           (None, 1028)              0         \n",
            "                                                                 \n",
            " Classifier (Dense)          (None, 1028)              1057812   \n",
            "                                                                 \n",
            " dropout_1 (Dropout)         (None, 1028)              0         \n",
            "                                                                 \n",
            " output_layer (Dense)        (None, 8)                 8232      \n",
            "                                                                 \n",
            "=================================================================\n",
            "Total params: 20,518,784\n",
            "Trainable params: 5,804,096\n",
            "Non-trainable params: 14,714,688\n",
            "_________________________________________________________________\n"
          ]
        }
      ]
    },
    {
      "cell_type": "code",
      "source": [
        "# Create folders and callbacks and fit\n",
        "callbacks = create_folders_and_callbacks(model_name='CNN_VGG16_1')\n",
        "\n",
        "# Train the model\n",
        "history = model.fit(\n",
        "    x = train_gen,\n",
        "    epochs = epochs,\n",
        "    validation_data = valid_gen,\n",
        "    class_weight = {0: 3542/186, 1: 3542/532, 2: 3542/515, 3: 3542/511, 4: 3542/531, \n",
        "                    5: 3542/222, 6: 3542/537, 7: 3542/508},\n",
        "    callbacks = callbacks,\n",
        ").history"
      ],
      "metadata": {
        "id": "ptbkcxd0oDZz",
        "colab": {
          "base_uri": "https://localhost:8080/"
        },
        "outputId": "f2005be1-da81-435d-ed47-786e9991a83a"
      },
      "execution_count": 18,
      "outputs": [
        {
          "output_type": "stream",
          "name": "stdout",
          "text": [
            "Epoch 1/200\n",
            "178/178 [==============================] - 1725s 10s/step - loss: 15.3193 - accuracy: 0.2694 - val_loss: 1.4550 - val_accuracy: 0.4561\n",
            "Epoch 2/200\n",
            "178/178 [==============================] - 22s 123ms/step - loss: 12.6283 - accuracy: 0.3833 - val_loss: 1.3215 - val_accuracy: 0.4830\n",
            "Epoch 3/200\n",
            "178/178 [==============================] - 23s 128ms/step - loss: 12.0921 - accuracy: 0.4207 - val_loss: 1.3556 - val_accuracy: 0.4646\n",
            "Epoch 4/200\n",
            "178/178 [==============================] - 22s 126ms/step - loss: 11.5979 - accuracy: 0.4436 - val_loss: 1.2720 - val_accuracy: 0.5340\n",
            "Epoch 5/200\n",
            "178/178 [==============================] - 22s 125ms/step - loss: 11.4060 - accuracy: 0.4661 - val_loss: 1.3344 - val_accuracy: 0.4759\n",
            "Epoch 6/200\n",
            "178/178 [==============================] - 23s 127ms/step - loss: 11.1772 - accuracy: 0.4831 - val_loss: 1.2026 - val_accuracy: 0.5524\n",
            "Epoch 7/200\n",
            "178/178 [==============================] - 23s 129ms/step - loss: 11.0352 - accuracy: 0.4866 - val_loss: 1.2252 - val_accuracy: 0.5255\n",
            "Epoch 8/200\n",
            "178/178 [==============================] - 22s 123ms/step - loss: 10.8774 - accuracy: 0.4958 - val_loss: 1.2164 - val_accuracy: 0.5340\n",
            "Epoch 9/200\n",
            "178/178 [==============================] - 23s 130ms/step - loss: 10.8148 - accuracy: 0.4975 - val_loss: 1.1867 - val_accuracy: 0.5779\n",
            "Epoch 10/200\n",
            "178/178 [==============================] - 22s 122ms/step - loss: 10.4273 - accuracy: 0.5282 - val_loss: 1.1637 - val_accuracy: 0.5382\n",
            "Epoch 11/200\n",
            "178/178 [==============================] - 23s 129ms/step - loss: 10.5698 - accuracy: 0.5148 - val_loss: 1.1249 - val_accuracy: 0.5864\n",
            "Epoch 12/200\n",
            "178/178 [==============================] - 23s 128ms/step - loss: 10.4165 - accuracy: 0.5353 - val_loss: 1.1241 - val_accuracy: 0.5850\n",
            "Epoch 13/200\n",
            "178/178 [==============================] - 22s 126ms/step - loss: 10.2162 - accuracy: 0.5391 - val_loss: 1.1412 - val_accuracy: 0.5807\n",
            "Epoch 14/200\n",
            "178/178 [==============================] - 23s 130ms/step - loss: 10.4439 - accuracy: 0.5293 - val_loss: 1.1240 - val_accuracy: 0.5765\n",
            "Epoch 15/200\n",
            "178/178 [==============================] - 22s 121ms/step - loss: 10.0922 - accuracy: 0.5564 - val_loss: 1.1198 - val_accuracy: 0.5666\n",
            "Epoch 16/200\n",
            "178/178 [==============================] - 22s 122ms/step - loss: 9.9222 - accuracy: 0.5582 - val_loss: 1.0733 - val_accuracy: 0.6076\n",
            "Epoch 17/200\n",
            "178/178 [==============================] - 23s 128ms/step - loss: 9.7634 - accuracy: 0.5578 - val_loss: 1.0668 - val_accuracy: 0.6161\n",
            "Epoch 18/200\n",
            "178/178 [==============================] - 22s 122ms/step - loss: 9.7851 - accuracy: 0.5458 - val_loss: 1.0688 - val_accuracy: 0.6076\n",
            "Epoch 19/200\n",
            "178/178 [==============================] - 23s 130ms/step - loss: 9.5818 - accuracy: 0.5606 - val_loss: 1.1255 - val_accuracy: 0.5581\n",
            "Epoch 20/200\n",
            "178/178 [==============================] - 23s 131ms/step - loss: 9.7267 - accuracy: 0.5733 - val_loss: 1.0380 - val_accuracy: 0.6105\n",
            "Epoch 21/200\n",
            "178/178 [==============================] - 22s 123ms/step - loss: 9.8364 - accuracy: 0.5568 - val_loss: 1.0542 - val_accuracy: 0.6147\n",
            "Epoch 22/200\n",
            "178/178 [==============================] - 24s 132ms/step - loss: 9.7796 - accuracy: 0.5645 - val_loss: 1.0253 - val_accuracy: 0.6275\n",
            "Epoch 23/200\n",
            "178/178 [==============================] - 23s 128ms/step - loss: 9.6259 - accuracy: 0.5730 - val_loss: 1.0276 - val_accuracy: 0.6275\n",
            "Epoch 24/200\n",
            "178/178 [==============================] - 23s 131ms/step - loss: 9.5378 - accuracy: 0.5702 - val_loss: 1.0142 - val_accuracy: 0.6388\n",
            "Epoch 25/200\n",
            "178/178 [==============================] - 23s 128ms/step - loss: 9.5247 - accuracy: 0.5709 - val_loss: 1.0534 - val_accuracy: 0.6119\n",
            "Epoch 26/200\n",
            "178/178 [==============================] - 23s 132ms/step - loss: 9.3759 - accuracy: 0.5878 - val_loss: 1.0743 - val_accuracy: 0.5921\n",
            "Epoch 27/200\n",
            "178/178 [==============================] - 22s 125ms/step - loss: 9.4887 - accuracy: 0.5606 - val_loss: 1.0091 - val_accuracy: 0.6374\n",
            "Epoch 28/200\n",
            "178/178 [==============================] - 22s 124ms/step - loss: 9.1766 - accuracy: 0.5762 - val_loss: 1.0653 - val_accuracy: 0.6034\n",
            "Epoch 29/200\n",
            "178/178 [==============================] - 22s 123ms/step - loss: 9.2346 - accuracy: 0.5839 - val_loss: 1.0392 - val_accuracy: 0.6091\n",
            "Epoch 30/200\n",
            "178/178 [==============================] - 21s 120ms/step - loss: 9.2684 - accuracy: 0.5793 - val_loss: 0.9899 - val_accuracy: 0.6331\n",
            "Epoch 31/200\n",
            "178/178 [==============================] - 23s 130ms/step - loss: 9.0067 - accuracy: 0.5927 - val_loss: 0.9933 - val_accuracy: 0.6388\n",
            "Epoch 32/200\n",
            "178/178 [==============================] - 22s 121ms/step - loss: 9.0599 - accuracy: 0.5963 - val_loss: 1.0175 - val_accuracy: 0.6331\n",
            "Epoch 33/200\n",
            "178/178 [==============================] - 24s 135ms/step - loss: 9.0330 - accuracy: 0.5917 - val_loss: 0.9977 - val_accuracy: 0.6246\n",
            "Epoch 34/200\n",
            "178/178 [==============================] - 22s 126ms/step - loss: 9.0287 - accuracy: 0.5878 - val_loss: 1.0168 - val_accuracy: 0.6204\n"
          ]
        }
      ]
    },
    {
      "cell_type": "code",
      "source": [
        "# Save best epoch model\n",
        "model.save(\"savedModels/CNN_VGG16_2\")"
      ],
      "metadata": {
        "id": "-vnpAJGAoIXJ",
        "colab": {
          "base_uri": "https://localhost:8080/"
        },
        "outputId": "8f348084-c13d-4cf3-ddb0-3bd2fe259574"
      },
      "execution_count": 19,
      "outputs": [
        {
          "output_type": "stream",
          "name": "stderr",
          "text": [
            "WARNING:absl:Found untraced functions such as _jit_compiled_convolution_op, _jit_compiled_convolution_op, _jit_compiled_convolution_op, _jit_compiled_convolution_op, _jit_compiled_convolution_op while saving (showing 5 of 13). These functions will not be directly callable after loading.\n"
          ]
        }
      ]
    },
    {
      "cell_type": "code",
      "source": [
        "testModel(valid_gen, model)"
      ],
      "metadata": {
        "colab": {
          "base_uri": "https://localhost:8080/",
          "height": 555
        },
        "id": "eCjB_coLhTnV",
        "outputId": "34576368-8917-40fe-dd38-a6c3240b8ab1"
      },
      "execution_count": 20,
      "outputs": [
        {
          "output_type": "stream",
          "name": "stdout",
          "text": [
            "706/706 [==============================] - 4s 6ms/step\n"
          ]
        },
        {
          "output_type": "display_data",
          "data": {
            "text/plain": [
              "<Figure size 432x288 with 2 Axes>"
            ],
            "image/png": "[encoded data removed]"
          },
          "metadata": {
            "needs_background": "light"
          }
        },
        {
          "output_type": "stream",
          "name": "stdout",
          "text": [
            "              precision    recall  f1-score   support\n",
            "\n",
            "    Species1       0.31      0.27      0.29        37\n",
            "    Species2       0.64      0.69      0.66       106\n",
            "    Species3       0.59      0.74      0.66       103\n",
            "    Species4       0.56      0.60      0.58       102\n",
            "    Species5       0.66      0.60      0.63       106\n",
            "    Species6       0.66      0.57      0.61        44\n",
            "    Species7       0.78      0.84      0.81       107\n",
            "    Species8       0.72      0.51      0.60       101\n",
            "\n",
            "    accuracy                           0.64       706\n",
            "   macro avg       0.62      0.60      0.60       706\n",
            "weighted avg       0.64      0.64      0.64       706\n",
            "\n"
          ]
        }
      ]
    },
    {
      "cell_type": "code",
      "source": [
        "m = tfk.models.load_model(\"savedModels/CNN_VGG16_2\")\n",
        "m.summary()"
      ],
      "metadata": {
        "colab": {
          "base_uri": "https://localhost:8080/"
        },
        "id": "BqPs96D1i4hh",
        "outputId": "54593f95-dea4-4093-b846-987fca742cc7"
      },
      "execution_count": 21,
      "outputs": [
        {
          "output_type": "stream",
          "name": "stdout",
          "text": [
            "Model: \"model\"\n",
            "_________________________________________________________________\n",
            " Layer (type)                Output Shape              Param #   \n",
            "=================================================================\n",
            " input_layer (InputLayer)    [(None, 96, 96, 3)]       0         \n",
            "                                                                 \n",
            " vgg16 (Functional)          (None, 3, 3, 512)         14714688  \n",
            "                                                                 \n",
            " Flatten (Flatten)           (None, 4608)              0         \n",
            "                                                                 \n",
            " dense (Dense)               (None, 1028)              4738052   \n",
            "                                                                 \n",
            " dropout (Dropout)           (None, 1028)              0         \n",
            "                                                                 \n",
            " Classifier (Dense)          (None, 1028)              1057812   \n",
            "                                                                 \n",
            " dropout_1 (Dropout)         (None, 1028)              0         \n",
            "                                                                 \n",
            " output_layer (Dense)        (None, 8)                 8232      \n",
            "                                                                 \n",
            "=================================================================\n",
            "Total params: 20,518,784\n",
            "Trainable params: 5,804,096\n",
            "Non-trainable params: 14,714,688\n",
            "_________________________________________________________________\n"
          ]
        }
      ]
    },
    {
      "cell_type": "code",
      "source": [
        "m.get_layer('vgg16').trainable = True"
      ],
      "metadata": {
        "id": "4t39G0ARjSzt"
      },
      "execution_count": 22,
      "outputs": []
    },
    {
      "cell_type": "code",
      "source": [
        "m.compile(loss=tfk.losses.CategoricalCrossentropy(), optimizer=tfk.optimizers.Adam(1e-5), metrics='accuracy')\n",
        "m.summary()"
      ],
      "metadata": {
        "colab": {
          "base_uri": "https://localhost:8080/"
        },
        "id": "amn30r9BjeLn",
        "outputId": "40d863ed-258d-438b-f7da-3fd11718644c"
      },
      "execution_count": 25,
      "outputs": [
        {
          "output_type": "stream",
          "name": "stdout",
          "text": [
            "Model: \"model\"\n",
            "_________________________________________________________________\n",
            " Layer (type)                Output Shape              Param #   \n",
            "=================================================================\n",
            " input_layer (InputLayer)    [(None, 96, 96, 3)]       0         \n",
            "                                                                 \n",
            " vgg16 (Functional)          (None, 3, 3, 512)         14714688  \n",
            "                                                                 \n",
            " Flatten (Flatten)           (None, 4608)              0         \n",
            "                                                                 \n",
            " dense (Dense)               (None, 1028)              4738052   \n",
            "                                                                 \n",
            " dropout (Dropout)           (None, 1028)              0         \n",
            "                                                                 \n",
            " Classifier (Dense)          (None, 1028)              1057812   \n",
            "                                                                 \n",
            " dropout_1 (Dropout)         (None, 1028)              0         \n",
            "                                                                 \n",
            " output_layer (Dense)        (None, 8)                 8232      \n",
            "                                                                 \n",
            "=================================================================\n",
            "Total params: 20,518,784\n",
            "Trainable params: 20,518,784\n",
            "Non-trainable params: 0\n",
            "_________________________________________________________________\n"
          ]
        }
      ]
    },
    {
      "cell_type": "code",
      "source": [
        "callbacks = create_folders_and_callbacks(model_name='CNN_VGG16_2_FineTuning')\n",
        "\n",
        "# Train the model\n",
        "history = m.fit(\n",
        "    x = train_gen,\n",
        "    epochs = epochs,\n",
        "    validation_data = valid_gen,\n",
        "    class_weight = {0: 3542/186, 1: 3542/532, 2: 3542/515, 3: 3542/511, 4: 3542/531, \n",
        "                    5: 3542/222, 6: 3542/537, 7: 3542/508},\n",
        "    callbacks = callbacks,\n",
        ").history"
      ],
      "metadata": {
        "colab": {
          "base_uri": "https://localhost:8080/"
        },
        "id": "xh83IKTwjtPP",
        "outputId": "fecf17c5-7459-4448-bcf0-ec0a9749da55"
      },
      "execution_count": 26,
      "outputs": [
        {
          "output_type": "stream",
          "name": "stdout",
          "text": [
            "Epoch 1/200\n",
            "178/178 [==============================] - 25s 138ms/step - loss: 10.4037 - accuracy: 0.4785 - val_loss: 1.2682 - val_accuracy: 0.4901\n",
            "Epoch 2/200\n",
            "178/178 [==============================] - 24s 132ms/step - loss: 9.8246 - accuracy: 0.5321 - val_loss: 1.2315 - val_accuracy: 0.4929\n",
            "Epoch 3/200\n",
            "178/178 [==============================] - 26s 143ms/step - loss: 9.5920 - accuracy: 0.5532 - val_loss: 1.1463 - val_accuracy: 0.5467\n",
            "Epoch 4/200\n",
            "178/178 [==============================] - 26s 145ms/step - loss: 9.1474 - accuracy: 0.5765 - val_loss: 1.0971 - val_accuracy: 0.5694\n",
            "Epoch 5/200\n",
            "178/178 [==============================] - 25s 141ms/step - loss: 8.8225 - accuracy: 0.6016 - val_loss: 0.9521 - val_accuracy: 0.6261\n",
            "Epoch 6/200\n",
            "178/178 [==============================] - 24s 137ms/step - loss: 8.5702 - accuracy: 0.6128 - val_loss: 1.0135 - val_accuracy: 0.5977\n",
            "Epoch 7/200\n",
            "178/178 [==============================] - 25s 139ms/step - loss: 8.4173 - accuracy: 0.6326 - val_loss: 0.9994 - val_accuracy: 0.5977\n",
            "Epoch 8/200\n",
            "178/178 [==============================] - 25s 138ms/step - loss: 7.9287 - accuracy: 0.6446 - val_loss: 0.9608 - val_accuracy: 0.6091\n",
            "Epoch 9/200\n",
            "178/178 [==============================] - 24s 137ms/step - loss: 7.9277 - accuracy: 0.6481 - val_loss: 0.8346 - val_accuracy: 0.6671\n",
            "Epoch 10/200\n",
            "178/178 [==============================] - 24s 136ms/step - loss: 7.5668 - accuracy: 0.6534 - val_loss: 0.8956 - val_accuracy: 0.6431\n",
            "Epoch 11/200\n",
            "178/178 [==============================] - 31s 174ms/step - loss: 7.2636 - accuracy: 0.6763 - val_loss: 0.9226 - val_accuracy: 0.6246\n",
            "Epoch 12/200\n",
            "178/178 [==============================] - 24s 137ms/step - loss: 7.0949 - accuracy: 0.6844 - val_loss: 0.7947 - val_accuracy: 0.6870\n",
            "Epoch 13/200\n",
            "178/178 [==============================] - 24s 136ms/step - loss: 6.8418 - accuracy: 0.6915 - val_loss: 0.7865 - val_accuracy: 0.6841\n",
            "Epoch 14/200\n",
            "178/178 [==============================] - 26s 147ms/step - loss: 6.4599 - accuracy: 0.7049 - val_loss: 0.8162 - val_accuracy: 0.6841\n",
            "Epoch 15/200\n",
            "178/178 [==============================] - 24s 134ms/step - loss: 6.4573 - accuracy: 0.6982 - val_loss: 0.9803 - val_accuracy: 0.5935\n",
            "Epoch 16/200\n",
            "178/178 [==============================] - 25s 140ms/step - loss: 6.3682 - accuracy: 0.7161 - val_loss: 0.8954 - val_accuracy: 0.6473\n",
            "Epoch 17/200\n",
            "178/178 [==============================] - 25s 140ms/step - loss: 6.1712 - accuracy: 0.7204 - val_loss: 0.7862 - val_accuracy: 0.7054\n",
            "Epoch 18/200\n",
            "178/178 [==============================] - 24s 138ms/step - loss: 5.7526 - accuracy: 0.7472 - val_loss: 0.8777 - val_accuracy: 0.6771\n",
            "Epoch 19/200\n",
            "178/178 [==============================] - 24s 133ms/step - loss: 5.9109 - accuracy: 0.7412 - val_loss: 0.9662 - val_accuracy: 0.6289\n",
            "Epoch 20/200\n",
            "178/178 [==============================] - 25s 139ms/step - loss: 5.7121 - accuracy: 0.7394 - val_loss: 0.8065 - val_accuracy: 0.6969\n",
            "Epoch 21/200\n",
            "178/178 [==============================] - 24s 137ms/step - loss: 5.5070 - accuracy: 0.7528 - val_loss: 0.7681 - val_accuracy: 0.7011\n",
            "Epoch 22/200\n",
            "178/178 [==============================] - 24s 137ms/step - loss: 5.1867 - accuracy: 0.7613 - val_loss: 0.8761 - val_accuracy: 0.6487\n",
            "Epoch 23/200\n",
            "178/178 [==============================] - 25s 140ms/step - loss: 5.3419 - accuracy: 0.7560 - val_loss: 0.7618 - val_accuracy: 0.7295\n",
            "Epoch 24/200\n",
            "178/178 [==============================] - 25s 143ms/step - loss: 5.1774 - accuracy: 0.7726 - val_loss: 0.7285 - val_accuracy: 0.7181\n",
            "Epoch 25/200\n",
            "178/178 [==============================] - 26s 144ms/step - loss: 5.3533 - accuracy: 0.7602 - val_loss: 0.8034 - val_accuracy: 0.7054\n",
            "Epoch 26/200\n",
            "178/178 [==============================] - 25s 139ms/step - loss: 4.9830 - accuracy: 0.7754 - val_loss: 0.5943 - val_accuracy: 0.7748\n",
            "Epoch 27/200\n",
            "178/178 [==============================] - 25s 140ms/step - loss: 4.9431 - accuracy: 0.7877 - val_loss: 0.6235 - val_accuracy: 0.7649\n",
            "Epoch 28/200\n",
            "178/178 [==============================] - 24s 137ms/step - loss: 4.7803 - accuracy: 0.7909 - val_loss: 0.7377 - val_accuracy: 0.7210\n",
            "Epoch 29/200\n",
            "178/178 [==============================] - 25s 138ms/step - loss: 4.5993 - accuracy: 0.7969 - val_loss: 0.7709 - val_accuracy: 0.7280\n",
            "Epoch 30/200\n",
            "178/178 [==============================] - 25s 138ms/step - loss: 4.4683 - accuracy: 0.7990 - val_loss: 0.7006 - val_accuracy: 0.7521\n",
            "Epoch 31/200\n",
            "178/178 [==============================] - 24s 132ms/step - loss: 4.6645 - accuracy: 0.7920 - val_loss: 0.8083 - val_accuracy: 0.6870\n",
            "Epoch 32/200\n",
            "178/178 [==============================] - 25s 141ms/step - loss: 4.6778 - accuracy: 0.8022 - val_loss: 0.7743 - val_accuracy: 0.6912\n",
            "Epoch 33/200\n",
            "178/178 [==============================] - 25s 139ms/step - loss: 4.4131 - accuracy: 0.8068 - val_loss: 0.6191 - val_accuracy: 0.7649\n",
            "Epoch 34/200\n",
            "178/178 [==============================] - 23s 131ms/step - loss: 4.3094 - accuracy: 0.8096 - val_loss: 0.8450 - val_accuracy: 0.7025\n",
            "Epoch 35/200\n",
            "178/178 [==============================] - 24s 135ms/step - loss: 4.3221 - accuracy: 0.8096 - val_loss: 0.6677 - val_accuracy: 0.7691\n",
            "Epoch 36/200\n",
            "178/178 [==============================] - 24s 135ms/step - loss: 4.2696 - accuracy: 0.8138 - val_loss: 0.5708 - val_accuracy: 0.7989\n",
            "Epoch 37/200\n",
            "178/178 [==============================] - 25s 140ms/step - loss: 4.2328 - accuracy: 0.8145 - val_loss: 0.8367 - val_accuracy: 0.6983\n",
            "Epoch 38/200\n",
            "178/178 [==============================] - 25s 140ms/step - loss: 4.1078 - accuracy: 0.8230 - val_loss: 0.5752 - val_accuracy: 0.7918\n",
            "Epoch 39/200\n",
            "178/178 [==============================] - 24s 133ms/step - loss: 4.4876 - accuracy: 0.8106 - val_loss: 0.5558 - val_accuracy: 0.7918\n",
            "Epoch 40/200\n",
            "178/178 [==============================] - 25s 140ms/step - loss: 4.0594 - accuracy: 0.8205 - val_loss: 0.5639 - val_accuracy: 0.8031\n",
            "Epoch 41/200\n",
            "178/178 [==============================] - 25s 140ms/step - loss: 3.8744 - accuracy: 0.8293 - val_loss: 0.6249 - val_accuracy: 0.7748\n",
            "Epoch 42/200\n",
            "178/178 [==============================] - 24s 133ms/step - loss: 3.9348 - accuracy: 0.8311 - val_loss: 0.6513 - val_accuracy: 0.7720\n",
            "Epoch 43/200\n",
            "178/178 [==============================] - 25s 138ms/step - loss: 3.8312 - accuracy: 0.8385 - val_loss: 0.8156 - val_accuracy: 0.7323\n",
            "Epoch 44/200\n",
            "178/178 [==============================] - 24s 133ms/step - loss: 3.7252 - accuracy: 0.8290 - val_loss: 0.9074 - val_accuracy: 0.7068\n",
            "Epoch 45/200\n",
            "178/178 [==============================] - 24s 138ms/step - loss: 3.8328 - accuracy: 0.8329 - val_loss: 0.6556 - val_accuracy: 0.7776\n",
            "Epoch 46/200\n",
            "178/178 [==============================] - 25s 140ms/step - loss: 3.6808 - accuracy: 0.8382 - val_loss: 0.7161 - val_accuracy: 0.7465\n",
            "Epoch 47/200\n",
            "178/178 [==============================] - 25s 140ms/step - loss: 3.5999 - accuracy: 0.8449 - val_loss: 0.6904 - val_accuracy: 0.7564\n",
            "Epoch 48/200\n",
            "178/178 [==============================] - 24s 136ms/step - loss: 3.5672 - accuracy: 0.8420 - val_loss: 0.7124 - val_accuracy: 0.7620\n",
            "Epoch 49/200\n",
            "178/178 [==============================] - 24s 135ms/step - loss: 3.6010 - accuracy: 0.8452 - val_loss: 0.5691 - val_accuracy: 0.7975\n",
            "Epoch 50/200\n",
            "178/178 [==============================] - 24s 135ms/step - loss: 3.4422 - accuracy: 0.8484 - val_loss: 0.6416 - val_accuracy: 0.7691\n"
          ]
        }
      ]
    },
    {
      "cell_type": "code",
      "source": [
        "# Save best epoch model\n",
        "m.save(\"savedModels/CNN_VGG16_2_FineTuning\")"
      ],
      "metadata": {
        "colab": {
          "base_uri": "https://localhost:8080/"
        },
        "id": "7VEzyt1Jj4Wz",
        "outputId": "944bb721-567e-4410-eeab-dfafd2d722a7"
      },
      "execution_count": 27,
      "outputs": [
        {
          "output_type": "stream",
          "name": "stderr",
          "text": [
            "WARNING:absl:Found untraced functions such as _jit_compiled_convolution_op, _jit_compiled_convolution_op, _jit_compiled_convolution_op, _jit_compiled_convolution_op, _jit_compiled_convolution_op while saving (showing 5 of 13). These functions will not be directly callable after loading.\n"
          ]
        }
      ]
    },
    {
      "cell_type": "code",
      "source": [
        "testModel(valid_gen, m)"
      ],
      "metadata": {
        "colab": {
          "base_uri": "https://localhost:8080/",
          "height": 551
        },
        "id": "6chI-dBskDI7",
        "outputId": "0d567eba-21fe-491f-c313-d7cf9771eb3d"
      },
      "execution_count": 28,
      "outputs": [
        {
          "output_type": "stream",
          "name": "stdout",
          "text": [
            "706/706 [==============================] - 4s 6ms/step\n"
          ]
        },
        {
          "output_type": "display_data",
          "data": {
            "text/plain": [
              "<Figure size 432x288 with 2 Axes>"
            ],
            "image/png": "[encoded data removed]"
          },
          "metadata": {
            "needs_background": "light"
          }
        },
        {
          "output_type": "stream",
          "name": "stdout",
          "text": [
            "              precision    recall  f1-score   support\n",
            "\n",
            "    Species1       0.33      0.59      0.42        37\n",
            "    Species2       0.85      0.87      0.86       106\n",
            "    Species3       0.86      0.74      0.80       103\n",
            "    Species4       0.74      0.82      0.78       102\n",
            "    Species5       0.87      0.90      0.88       106\n",
            "    Species6       0.97      0.77      0.86        44\n",
            "    Species7       0.98      0.92      0.95       107\n",
            "    Species8       0.78      0.65      0.71       101\n",
            "\n",
            "    accuracy                           0.80       706\n",
            "   macro avg       0.80      0.78      0.78       706\n",
            "weighted avg       0.83      0.80      0.81       706\n",
            "\n"
          ]
        }
      ]
    },
    {
      "cell_type": "markdown",
      "source": [
        "build_model (1028, 512)\n",
        "lr Dropout : 0.3 0.3\n",
        "batch size = 32"
      ],
      "metadata": {
        "id": "92lO54XbvLdM"
      }
    },
    {
      "cell_type": "code",
      "source": [
        "testModel(valid_gen, m)"
      ],
      "metadata": {
        "colab": {
          "base_uri": "https://localhost:8080/",
          "height": 551
        },
        "id": "wizEa5PvVc4j",
        "outputId": "926025a1-98da-4cff-e00f-9e810b7f7455"
      },
      "execution_count": null,
      "outputs": [
        {
          "output_type": "stream",
          "name": "stdout",
          "text": [
            "706/706 [==============================] - 4s 6ms/step\n"
          ]
        },
        {
          "output_type": "display_data",
          "data": {
            "text/plain": [
              "<Figure size 432x288 with 2 Axes>"
            ],
            "image/png": "[encoded data removed]"
          },
          "metadata": {
            "needs_background": "light"
          }
        },
        {
          "output_type": "stream",
          "name": "stdout",
          "text": [
            "              precision    recall  f1-score   support\n",
            "\n",
            "    Species1       0.43      0.70      0.54        37\n",
            "    Species2       0.91      0.89      0.90       106\n",
            "    Species3       0.92      0.89      0.91       103\n",
            "    Species4       0.81      0.80      0.81       102\n",
            "    Species5       0.97      0.79      0.87       106\n",
            "    Species6       0.84      0.82      0.83        44\n",
            "    Species7       0.95      0.97      0.96       107\n",
            "    Species8       0.79      0.80      0.80       101\n",
            "\n",
            "    accuracy                           0.85       706\n",
            "   macro avg       0.83      0.83      0.83       706\n",
            "weighted avg       0.87      0.85      0.85       706\n",
            "\n"
          ]
        }
      ]
    },
    {
      "cell_type": "markdown",
      "source": [
        "build_model2 (1028, 1028) \\\\\n",
        "lr Dropout : 0.3 0.3 \\\\\n",
        "batch size = 32"
      ],
      "metadata": {
        "id": "9xMZVo78vV6-"
      }
    },
    {
      "cell_type": "code",
      "source": [
        "testModel(valid_gen, m)"
      ],
      "metadata": {
        "id": "_JxiuEgrvi5-"
      },
      "execution_count": null,
      "outputs": []
    },
    {
      "cell_type": "markdown",
      "source": [
        "build_model2 (1028, 1028) \\\\\n",
        "lr Dropout_ 0.3 0.3 \\\\\n",
        "batch size= 16"
      ],
      "metadata": {
        "id": "vcyy0r9IvklH"
      }
    },
    {
      "cell_type": "markdown",
      "source": [
        "#XCeption"
      ],
      "metadata": {
        "id": "AMBafD8gvnQ9"
      }
    },
    {
      "cell_type": "code",
      "source": [
        "supernet = tfk.applications.Xception(\n",
        "    include_top=False,\n",
        "    weights=\"imagenet\",\n",
        "    input_shape=(96,96,3)\n",
        ")"
      ],
      "metadata": {
        "id": "jWGdJ1LLvnAp",
        "colab": {
          "base_uri": "https://localhost:8080/"
        },
        "outputId": "82f46a2e-fc8c-44b6-b40c-2232523c49cf"
      },
      "execution_count": null,
      "outputs": [
        {
          "output_type": "stream",
          "name": "stdout",
          "text": [
            "Downloading data from https://storage.googleapis.com/tensorflow/keras-applications/xception/xception_weights_tf_dim_ordering_tf_kernels_notop.h5\n",
            "83683744/83683744 [==============================] - 3s 0us/step\n"
          ]
        }
      ]
    },
    {
      "cell_type": "code",
      "source": [
        "for layer in supernet.layers:\n",
        "    layer.trainable = False"
      ],
      "metadata": {
        "id": "Kg8uK5zvDphI"
      },
      "execution_count": null,
      "outputs": []
    },
    {
      "cell_type": "code",
      "source": [
        "xCeption = build_model(input_shape)\n",
        "xCeption.summary()"
      ],
      "metadata": {
        "id": "h-mMCsdtvzwC",
        "colab": {
          "base_uri": "https://localhost:8080/"
        },
        "outputId": "d99aaab9-f16a-4559-efca-3525d4e92de0"
      },
      "execution_count": null,
      "outputs": [
        {
          "output_type": "stream",
          "name": "stdout",
          "text": [
            "Model: \"model\"\n",
            "_________________________________________________________________\n",
            " Layer (type)                Output Shape              Param #   \n",
            "=================================================================\n",
            " input_layer (InputLayer)    [(None, 96, 96, 3)]       0         \n",
            "                                                                 \n",
            " xception (Functional)       (None, 3, 3, 2048)        20861480  \n",
            "                                                                 \n",
            " Flatten (Flatten)           (None, 18432)             0         \n",
            "                                                                 \n",
            " dense (Dense)               (None, 1028)              18949124  \n",
            "                                                                 \n",
            " dropout (Dropout)           (None, 1028)              0         \n",
            "                                                                 \n",
            " Classifier (Dense)          (None, 512)               526848    \n",
            "                                                                 \n",
            " dropout_1 (Dropout)         (None, 512)               0         \n",
            "                                                                 \n",
            " output_layer (Dense)        (None, 8)                 4104      \n",
            "                                                                 \n",
            "=================================================================\n",
            "Total params: 40,341,556\n",
            "Trainable params: 19,480,076\n",
            "Non-trainable params: 20,861,480\n",
            "_________________________________________________________________\n"
          ]
        }
      ]
    },
    {
      "cell_type": "code",
      "source": [
        "callbacks = create_folders_and_callbacks(model_name='CNN_XCeption')\n",
        "\n",
        "# Train the model\n",
        "history = xCeption.fit(\n",
        "    x = train_gen,\n",
        "    epochs = epochs,\n",
        "    validation_data = valid_gen,\n",
        "    class_weight = {0: 3542/186, 1: 3542/532, 2: 3542/515, 3: 3542/511, 4: 3542/531, \n",
        "                    5: 3542/222, 6: 3542/537, 7: 3542/508},\n",
        "    callbacks = callbacks,\n",
        ").history"
      ],
      "metadata": {
        "id": "k6cJ5uuVv5Z3",
        "colab": {
          "base_uri": "https://localhost:8080/"
        },
        "outputId": "3533bde6-77bb-44d8-c29e-edb7de72dc06"
      },
      "execution_count": null,
      "outputs": [
        {
          "output_type": "stream",
          "name": "stdout",
          "text": [
            "Epoch 1/200\n",
            "89/89 [==============================] - 1172s 13s/step - loss: 15.6720 - accuracy: 0.2638 - val_loss: 1.6375 - val_accuracy: 0.4178\n",
            "Epoch 2/200\n",
            "89/89 [==============================] - 29s 328ms/step - loss: 14.0136 - accuracy: 0.3558 - val_loss: 1.5289 - val_accuracy: 0.4306\n",
            "Epoch 3/200\n",
            "89/89 [==============================] - 29s 325ms/step - loss: 13.4852 - accuracy: 0.3755 - val_loss: 1.4376 - val_accuracy: 0.4660\n",
            "Epoch 4/200\n",
            "89/89 [==============================] - 29s 322ms/step - loss: 12.6522 - accuracy: 0.4133 - val_loss: 1.4163 - val_accuracy: 0.4816\n",
            "Epoch 5/200\n",
            "89/89 [==============================] - 27s 310ms/step - loss: 12.4381 - accuracy: 0.4397 - val_loss: 1.3837 - val_accuracy: 0.4929\n",
            "Epoch 6/200\n",
            "89/89 [==============================] - 29s 324ms/step - loss: 12.4235 - accuracy: 0.4319 - val_loss: 1.3807 - val_accuracy: 0.4858\n",
            "Epoch 7/200\n",
            "89/89 [==============================] - 28s 319ms/step - loss: 12.0968 - accuracy: 0.4471 - val_loss: 1.3568 - val_accuracy: 0.4887\n",
            "Epoch 8/200\n",
            "89/89 [==============================] - 28s 313ms/step - loss: 12.1291 - accuracy: 0.4323 - val_loss: 1.3538 - val_accuracy: 0.5127\n",
            "Epoch 9/200\n",
            "89/89 [==============================] - 27s 305ms/step - loss: 11.7572 - accuracy: 0.4591 - val_loss: 1.3670 - val_accuracy: 0.4688\n",
            "Epoch 10/200\n",
            "89/89 [==============================] - 28s 315ms/step - loss: 11.6845 - accuracy: 0.4612 - val_loss: 1.2610 - val_accuracy: 0.5482\n",
            "Epoch 11/200\n",
            "89/89 [==============================] - 28s 312ms/step - loss: 11.5391 - accuracy: 0.4633 - val_loss: 1.2963 - val_accuracy: 0.5014\n",
            "Epoch 12/200\n",
            "89/89 [==============================] - 27s 300ms/step - loss: 11.4988 - accuracy: 0.4707 - val_loss: 1.2718 - val_accuracy: 0.5227\n",
            "Epoch 13/200\n",
            "89/89 [==============================] - 28s 316ms/step - loss: 11.4251 - accuracy: 0.4714 - val_loss: 1.2722 - val_accuracy: 0.5382\n",
            "Epoch 14/200\n",
            "89/89 [==============================] - 26s 297ms/step - loss: 11.4803 - accuracy: 0.4697 - val_loss: 1.2479 - val_accuracy: 0.5453\n",
            "Epoch 15/200\n",
            "89/89 [==============================] - 29s 328ms/step - loss: 11.2448 - accuracy: 0.4894 - val_loss: 1.2570 - val_accuracy: 0.5255\n",
            "Epoch 16/200\n",
            "89/89 [==============================] - 29s 322ms/step - loss: 11.3016 - accuracy: 0.4714 - val_loss: 1.2290 - val_accuracy: 0.5595\n",
            "Epoch 17/200\n",
            "89/89 [==============================] - 26s 298ms/step - loss: 11.2331 - accuracy: 0.4743 - val_loss: 1.2754 - val_accuracy: 0.5142\n",
            "Epoch 18/200\n",
            "89/89 [==============================] - 30s 343ms/step - loss: 11.1710 - accuracy: 0.4915 - val_loss: 1.2387 - val_accuracy: 0.5397\n",
            "Epoch 19/200\n",
            "89/89 [==============================] - 27s 302ms/step - loss: 11.1980 - accuracy: 0.4944 - val_loss: 1.2235 - val_accuracy: 0.5368\n",
            "Epoch 20/200\n",
            "89/89 [==============================] - 28s 315ms/step - loss: 11.1106 - accuracy: 0.4954 - val_loss: 1.2419 - val_accuracy: 0.5297\n",
            "Epoch 21/200\n",
            "89/89 [==============================] - 27s 307ms/step - loss: 11.0829 - accuracy: 0.4824 - val_loss: 1.2186 - val_accuracy: 0.5581\n",
            "Epoch 22/200\n",
            "89/89 [==============================] - 27s 304ms/step - loss: 10.9590 - accuracy: 0.5046 - val_loss: 1.2206 - val_accuracy: 0.5524\n",
            "Epoch 23/200\n",
            "89/89 [==============================] - 28s 317ms/step - loss: 11.0152 - accuracy: 0.4891 - val_loss: 1.2086 - val_accuracy: 0.5595\n",
            "Epoch 24/200\n",
            "89/89 [==============================] - 27s 304ms/step - loss: 10.7897 - accuracy: 0.5060 - val_loss: 1.2241 - val_accuracy: 0.5397\n",
            "Epoch 25/200\n",
            "89/89 [==============================] - 27s 300ms/step - loss: 10.7737 - accuracy: 0.4975 - val_loss: 1.2059 - val_accuracy: 0.5567\n",
            "Epoch 26/200\n",
            "89/89 [==============================] - 28s 310ms/step - loss: 10.7934 - accuracy: 0.5123 - val_loss: 1.2491 - val_accuracy: 0.5283\n"
          ]
        }
      ]
    },
    {
      "cell_type": "code",
      "source": [
        "# Save best epoch model\n",
        "xCeption.save(\"savedModels/CNN_XCeption\")"
      ],
      "metadata": {
        "id": "GHGkW2xRwCck",
        "colab": {
          "base_uri": "https://localhost:8080/"
        },
        "outputId": "7e5746aa-1a15-4fa8-87cb-786f417a506f"
      },
      "execution_count": null,
      "outputs": [
        {
          "output_type": "stream",
          "name": "stderr",
          "text": [
            "WARNING:absl:Found untraced functions such as _jit_compiled_convolution_op, _jit_compiled_convolution_op, _jit_compiled_convolution_op, _jit_compiled_convolution_op, _jit_compiled_convolution_op while saving (showing 5 of 40). These functions will not be directly callable after loading.\n"
          ]
        }
      ]
    },
    {
      "cell_type": "code",
      "source": [
        "testModel(valid_gen, xCeption)"
      ],
      "metadata": {
        "colab": {
          "base_uri": "https://localhost:8080/",
          "height": 555
        },
        "id": "0PQgvfJTmRkd",
        "outputId": "399cc14d-bd68-4395-c138-03b3141c0332"
      },
      "execution_count": null,
      "outputs": [
        {
          "output_type": "stream",
          "name": "stdout",
          "text": [
            "706/706 [==============================] - 8s 10ms/step\n"
          ]
        },
        {
          "output_type": "display_data",
          "data": {
            "text/plain": [
              "<Figure size 432x288 with 2 Axes>"
            ],
            "image/png": "[encoded data removed]"
          },
          "metadata": {
            "needs_background": "light"
          }
        },
        {
          "output_type": "stream",
          "name": "stdout",
          "text": [
            "              precision    recall  f1-score   support\n",
            "\n",
            "    Species1       0.58      0.41      0.48        37\n",
            "    Species2       0.54      0.42      0.48       106\n",
            "    Species3       0.51      0.67      0.58       103\n",
            "    Species4       0.53      0.47      0.50       102\n",
            "    Species5       0.52      0.66      0.58       106\n",
            "    Species6       0.46      0.68      0.55        44\n",
            "    Species7       0.66      0.61      0.63       107\n",
            "    Species8       0.71      0.52      0.60       101\n",
            "\n",
            "    accuracy                           0.56       706\n",
            "   macro avg       0.56      0.56      0.55       706\n",
            "weighted avg       0.57      0.56      0.56       706\n",
            "\n"
          ]
        }
      ]
    },
    {
      "cell_type": "code",
      "source": [
        "xc = tfk.models.load_model(\"savedModels/CNN_XCeption\")\n",
        "xc.summary()"
      ],
      "metadata": {
        "colab": {
          "base_uri": "https://localhost:8080/"
        },
        "id": "qWg3OVcvmdvK",
        "outputId": "af16ab1f-5b58-4d67-e844-8360db5d3d0b"
      },
      "execution_count": null,
      "outputs": [
        {
          "output_type": "stream",
          "name": "stdout",
          "text": [
            "Model: \"model\"\n",
            "_________________________________________________________________\n",
            " Layer (type)                Output Shape              Param #   \n",
            "=================================================================\n",
            " input_layer (InputLayer)    [(None, 96, 96, 3)]       0         \n",
            "                                                                 \n",
            " xception (Functional)       (None, 3, 3, 2048)        20861480  \n",
            "                                                                 \n",
            " Flatten (Flatten)           (None, 18432)             0         \n",
            "                                                                 \n",
            " dense (Dense)               (None, 1028)              18949124  \n",
            "                                                                 \n",
            " dropout (Dropout)           (None, 1028)              0         \n",
            "                                                                 \n",
            " Classifier (Dense)          (None, 512)               526848    \n",
            "                                                                 \n",
            " dropout_1 (Dropout)         (None, 512)               0         \n",
            "                                                                 \n",
            " output_layer (Dense)        (None, 8)                 4104      \n",
            "                                                                 \n",
            "=================================================================\n",
            "Total params: 40,341,556\n",
            "Trainable params: 19,480,076\n",
            "Non-trainable params: 20,861,480\n",
            "_________________________________________________________________\n"
          ]
        }
      ]
    },
    {
      "cell_type": "code",
      "source": [
        "xc.get_layer('xception').trainable = True"
      ],
      "metadata": {
        "id": "yWS9_VX7mdjE"
      },
      "execution_count": null,
      "outputs": []
    },
    {
      "cell_type": "code",
      "source": [
        "xc.compile(loss=tfk.losses.CategoricalCrossentropy(), optimizer=tfk.optimizers.Adam(1e-4), metrics='accuracy')\n",
        "xc.summary()"
      ],
      "metadata": {
        "colab": {
          "base_uri": "https://localhost:8080/"
        },
        "id": "anHoDNvJmv57",
        "outputId": "eb0287a0-2071-42d4-8fa4-bbec5619c734"
      },
      "execution_count": null,
      "outputs": [
        {
          "output_type": "stream",
          "name": "stdout",
          "text": [
            "Model: \"model\"\n",
            "_________________________________________________________________\n",
            " Layer (type)                Output Shape              Param #   \n",
            "=================================================================\n",
            " input_layer (InputLayer)    [(None, 96, 96, 3)]       0         \n",
            "                                                                 \n",
            " xception (Functional)       (None, 3, 3, 2048)        20861480  \n",
            "                                                                 \n",
            " Flatten (Flatten)           (None, 18432)             0         \n",
            "                                                                 \n",
            " dense (Dense)               (None, 1028)              18949124  \n",
            "                                                                 \n",
            " dropout (Dropout)           (None, 1028)              0         \n",
            "                                                                 \n",
            " Classifier (Dense)          (None, 512)               526848    \n",
            "                                                                 \n",
            " dropout_1 (Dropout)         (None, 512)               0         \n",
            "                                                                 \n",
            " output_layer (Dense)        (None, 8)                 4104      \n",
            "                                                                 \n",
            "=================================================================\n",
            "Total params: 40,341,556\n",
            "Trainable params: 40,287,028\n",
            "Non-trainable params: 54,528\n",
            "_________________________________________________________________\n"
          ]
        }
      ]
    },
    {
      "cell_type": "code",
      "source": [
        "callbacks = create_folders_and_callbacks(model_name='CNN_XCeption_FineTuning')\n",
        "\n",
        "# Train the model\n",
        "history = xc.fit(\n",
        "    x = train_gen,\n",
        "    epochs = epochs,\n",
        "    validation_data = valid_gen,\n",
        "    class_weight = {0: 3542/186, 1: 3542/532, 2: 3542/515, 3: 3542/511, 4: 3542/531, \n",
        "                    5: 3542/222, 6: 3542/537, 7: 3542/508},\n",
        "    callbacks = callbacks,\n",
        ").history"
      ],
      "metadata": {
        "colab": {
          "base_uri": "https://localhost:8080/"
        },
        "id": "pGqq-N9Zm2kN",
        "outputId": "a9f081a9-eaba-4b31-8d29-38701e5dbbd2"
      },
      "execution_count": null,
      "outputs": [
        {
          "output_type": "stream",
          "name": "stdout",
          "text": [
            "Epoch 1/200\n",
            "89/89 [==============================] - 38s 365ms/step - loss: 13.3041 - accuracy: 0.4147 - val_loss: 1.8470 - val_accuracy: 0.3853\n",
            "Epoch 2/200\n",
            "89/89 [==============================] - 32s 359ms/step - loss: 11.1056 - accuracy: 0.5028 - val_loss: 1.3813 - val_accuracy: 0.5170\n",
            "Epoch 3/200\n",
            "89/89 [==============================] - 35s 389ms/step - loss: 9.9327 - accuracy: 0.5822 - val_loss: 1.0955 - val_accuracy: 0.5793\n",
            "Epoch 4/200\n",
            "89/89 [==============================] - 31s 350ms/step - loss: 9.2160 - accuracy: 0.5977 - val_loss: 1.1067 - val_accuracy: 0.6119\n",
            "Epoch 5/200\n",
            "89/89 [==============================] - 33s 368ms/step - loss: 8.3768 - accuracy: 0.6340 - val_loss: 0.8872 - val_accuracy: 0.6856\n",
            "Epoch 6/200\n",
            "89/89 [==============================] - 33s 376ms/step - loss: 7.9111 - accuracy: 0.6629 - val_loss: 0.7958 - val_accuracy: 0.7096\n",
            "Epoch 7/200\n",
            "89/89 [==============================] - 33s 372ms/step - loss: 7.8139 - accuracy: 0.6654 - val_loss: 0.7664 - val_accuracy: 0.7125\n",
            "Epoch 8/200\n",
            "89/89 [==============================] - 32s 364ms/step - loss: 7.2691 - accuracy: 0.6894 - val_loss: 0.7749 - val_accuracy: 0.7224\n",
            "Epoch 9/200\n",
            "89/89 [==============================] - 33s 375ms/step - loss: 7.1841 - accuracy: 0.6932 - val_loss: 0.7746 - val_accuracy: 0.7280\n",
            "Epoch 10/200\n",
            "89/89 [==============================] - 34s 383ms/step - loss: 6.5718 - accuracy: 0.7172 - val_loss: 0.7502 - val_accuracy: 0.7422\n",
            "Epoch 11/200\n",
            "89/89 [==============================] - 33s 374ms/step - loss: 6.5211 - accuracy: 0.7179 - val_loss: 0.7456 - val_accuracy: 0.7266\n",
            "Epoch 12/200\n",
            "89/89 [==============================] - 33s 370ms/step - loss: 6.1664 - accuracy: 0.7271 - val_loss: 0.7968 - val_accuracy: 0.7550\n",
            "Epoch 13/200\n",
            "89/89 [==============================] - 33s 374ms/step - loss: 5.9965 - accuracy: 0.7419 - val_loss: 0.8395 - val_accuracy: 0.7691\n",
            "Epoch 14/200\n",
            "89/89 [==============================] - 33s 376ms/step - loss: 5.7486 - accuracy: 0.7493 - val_loss: 0.8208 - val_accuracy: 0.7280\n",
            "Epoch 15/200\n",
            "89/89 [==============================] - 32s 365ms/step - loss: 5.7227 - accuracy: 0.7482 - val_loss: 0.7162 - val_accuracy: 0.7805\n",
            "Epoch 16/200\n",
            "89/89 [==============================] - 32s 358ms/step - loss: 5.4302 - accuracy: 0.7609 - val_loss: 0.8510 - val_accuracy: 0.7677\n",
            "Epoch 17/200\n",
            "89/89 [==============================] - 31s 351ms/step - loss: 5.3460 - accuracy: 0.7729 - val_loss: 0.7304 - val_accuracy: 0.7620\n",
            "Epoch 18/200\n",
            "89/89 [==============================] - 32s 355ms/step - loss: 4.9460 - accuracy: 0.7793 - val_loss: 0.7407 - val_accuracy: 0.7748\n",
            "Epoch 19/200\n",
            "89/89 [==============================] - 32s 361ms/step - loss: 5.0696 - accuracy: 0.7729 - val_loss: 0.6962 - val_accuracy: 0.7762\n",
            "Epoch 20/200\n",
            "89/89 [==============================] - 32s 362ms/step - loss: 4.8997 - accuracy: 0.7863 - val_loss: 0.8969 - val_accuracy: 0.7819\n",
            "Epoch 21/200\n",
            "89/89 [==============================] - 32s 361ms/step - loss: 4.8411 - accuracy: 0.7948 - val_loss: 0.7007 - val_accuracy: 0.7720\n",
            "Epoch 22/200\n",
            "89/89 [==============================] - 34s 386ms/step - loss: 4.7528 - accuracy: 0.7965 - val_loss: 0.6474 - val_accuracy: 0.7776\n",
            "Epoch 23/200\n",
            "89/89 [==============================] - 33s 369ms/step - loss: 4.4518 - accuracy: 0.7994 - val_loss: 0.7312 - val_accuracy: 0.7861\n",
            "Epoch 24/200\n",
            "89/89 [==============================] - 34s 382ms/step - loss: 4.3983 - accuracy: 0.8054 - val_loss: 0.5685 - val_accuracy: 0.8116\n",
            "Epoch 25/200\n",
            "89/89 [==============================] - 33s 372ms/step - loss: 4.1205 - accuracy: 0.8212 - val_loss: 0.6015 - val_accuracy: 0.8031\n",
            "Epoch 26/200\n",
            "89/89 [==============================] - 34s 386ms/step - loss: 4.3976 - accuracy: 0.8163 - val_loss: 0.5935 - val_accuracy: 0.8074\n",
            "Epoch 27/200\n",
            "89/89 [==============================] - 34s 385ms/step - loss: 4.0380 - accuracy: 0.8244 - val_loss: 0.6659 - val_accuracy: 0.7946\n",
            "Epoch 28/200\n",
            "89/89 [==============================] - 33s 375ms/step - loss: 4.1243 - accuracy: 0.8166 - val_loss: 0.6259 - val_accuracy: 0.8017\n",
            "Epoch 29/200\n",
            "89/89 [==============================] - 33s 377ms/step - loss: 3.9844 - accuracy: 0.8276 - val_loss: 0.6653 - val_accuracy: 0.7776\n",
            "Epoch 30/200\n",
            "89/89 [==============================] - 33s 376ms/step - loss: 3.7500 - accuracy: 0.8434 - val_loss: 0.7091 - val_accuracy: 0.7861\n",
            "Epoch 31/200\n",
            "89/89 [==============================] - 33s 376ms/step - loss: 3.7866 - accuracy: 0.8452 - val_loss: 0.6444 - val_accuracy: 0.8045\n",
            "Epoch 32/200\n",
            "89/89 [==============================] - 38s 424ms/step - loss: 3.5997 - accuracy: 0.8445 - val_loss: 0.5769 - val_accuracy: 0.8300\n",
            "Epoch 33/200\n",
            "89/89 [==============================] - 32s 360ms/step - loss: 3.6730 - accuracy: 0.8389 - val_loss: 0.5880 - val_accuracy: 0.8187\n",
            "Epoch 34/200\n",
            "89/89 [==============================] - 34s 385ms/step - loss: 3.4135 - accuracy: 0.8466 - val_loss: 0.7579 - val_accuracy: 0.8045\n",
            "Epoch 35/200\n",
            "89/89 [==============================] - 33s 365ms/step - loss: 3.2560 - accuracy: 0.8547 - val_loss: 0.6254 - val_accuracy: 0.7975\n",
            "Epoch 36/200\n",
            "89/89 [==============================] - 33s 370ms/step - loss: 3.4678 - accuracy: 0.8470 - val_loss: 0.5648 - val_accuracy: 0.8201\n",
            "Epoch 37/200\n",
            "89/89 [==============================] - 37s 413ms/step - loss: 3.0336 - accuracy: 0.8699 - val_loss: 0.6127 - val_accuracy: 0.8130\n",
            "Epoch 38/200\n",
            "89/89 [==============================] - 34s 383ms/step - loss: 3.2464 - accuracy: 0.8579 - val_loss: 0.6924 - val_accuracy: 0.8144\n",
            "Epoch 39/200\n",
            "89/89 [==============================] - 34s 378ms/step - loss: 3.1734 - accuracy: 0.8611 - val_loss: 0.6972 - val_accuracy: 0.8059\n",
            "Epoch 40/200\n",
            "89/89 [==============================] - 33s 370ms/step - loss: 3.1465 - accuracy: 0.8642 - val_loss: 0.5675 - val_accuracy: 0.8329\n",
            "Epoch 41/200\n",
            "89/89 [==============================] - 34s 383ms/step - loss: 3.1024 - accuracy: 0.8650 - val_loss: 0.6122 - val_accuracy: 0.8286\n",
            "Epoch 42/200\n",
            "89/89 [==============================] - 33s 373ms/step - loss: 3.2151 - accuracy: 0.8650 - val_loss: 0.5830 - val_accuracy: 0.8385\n",
            "Epoch 43/200\n",
            "89/89 [==============================] - 32s 364ms/step - loss: 2.9160 - accuracy: 0.8798 - val_loss: 0.6933 - val_accuracy: 0.7960\n",
            "Epoch 44/200\n",
            "89/89 [==============================] - 36s 401ms/step - loss: 2.8747 - accuracy: 0.8822 - val_loss: 0.6535 - val_accuracy: 0.8088\n",
            "Epoch 45/200\n",
            "89/89 [==============================] - 32s 362ms/step - loss: 2.8328 - accuracy: 0.8822 - val_loss: 0.5715 - val_accuracy: 0.8229\n",
            "Epoch 46/200\n",
            "89/89 [==============================] - 33s 367ms/step - loss: 2.6850 - accuracy: 0.8829 - val_loss: 0.6044 - val_accuracy: 0.8229\n",
            "Epoch 47/200\n",
            "89/89 [==============================] - 33s 376ms/step - loss: 2.5272 - accuracy: 0.8903 - val_loss: 0.6632 - val_accuracy: 0.8144\n",
            "Epoch 48/200\n",
            "89/89 [==============================] - 34s 380ms/step - loss: 2.7620 - accuracy: 0.8752 - val_loss: 0.6264 - val_accuracy: 0.8215\n",
            "Epoch 49/200\n",
            "89/89 [==============================] - 33s 367ms/step - loss: 2.6443 - accuracy: 0.8896 - val_loss: 0.6925 - val_accuracy: 0.8173\n",
            "Epoch 50/200\n",
            "89/89 [==============================] - 34s 387ms/step - loss: 2.4629 - accuracy: 0.8942 - val_loss: 0.6365 - val_accuracy: 0.8300\n",
            "Epoch 51/200\n",
            "89/89 [==============================] - 34s 380ms/step - loss: 2.6954 - accuracy: 0.8858 - val_loss: 0.5818 - val_accuracy: 0.8357\n",
            "Epoch 52/200\n",
            "89/89 [==============================] - 35s 392ms/step - loss: 2.5176 - accuracy: 0.8882 - val_loss: 0.8148 - val_accuracy: 0.8130\n"
          ]
        }
      ]
    },
    {
      "cell_type": "code",
      "source": [
        "# Save best epoch model\n",
        "xc.save(\"savedModels/CNN_XCeption_FineTuning\")"
      ],
      "metadata": {
        "id": "aL4_KumVm_vf",
        "colab": {
          "base_uri": "https://localhost:8080/"
        },
        "outputId": "87a5665b-1dd9-4982-f948-10130bc90498"
      },
      "execution_count": null,
      "outputs": [
        {
          "output_type": "stream",
          "name": "stderr",
          "text": [
            "WARNING:absl:Found untraced functions such as _jit_compiled_convolution_op, _jit_compiled_convolution_op, _jit_compiled_convolution_op, _jit_compiled_convolution_op, _jit_compiled_convolution_op while saving (showing 5 of 40). These functions will not be directly callable after loading.\n"
          ]
        }
      ]
    },
    {
      "cell_type": "code",
      "source": [
        "testModel(valid_gen, xc)"
      ],
      "metadata": {
        "id": "tjTfY-2PnIBL",
        "colab": {
          "base_uri": "https://localhost:8080/",
          "height": 555
        },
        "outputId": "2dbd7325-28ce-40ff-d999-c7a09728d9c6"
      },
      "execution_count": null,
      "outputs": [
        {
          "output_type": "stream",
          "name": "stdout",
          "text": [
            "706/706 [==============================] - 8s 11ms/step\n"
          ]
        },
        {
          "output_type": "display_data",
          "data": {
            "text/plain": [
              "<Figure size 432x288 with 2 Axes>"
            ],
            "image/png": "[encoded data removed]"
          },
          "metadata": {
            "needs_background": "light"
          }
        },
        {
          "output_type": "stream",
          "name": "stdout",
          "text": [
            "              precision    recall  f1-score   support\n",
            "\n",
            "    Species1       0.67      0.65      0.66        37\n",
            "    Species2       0.81      0.87      0.84       106\n",
            "    Species3       0.87      0.80      0.83       103\n",
            "    Species4       0.73      0.88      0.80       102\n",
            "    Species5       0.87      0.85      0.86       106\n",
            "    Species6       0.97      0.66      0.78        44\n",
            "    Species7       0.99      0.93      0.96       107\n",
            "    Species8       0.81      0.84      0.83       101\n",
            "\n",
            "    accuracy                           0.84       706\n",
            "   macro avg       0.84      0.81      0.82       706\n",
            "weighted avg       0.85      0.84      0.84       706\n",
            "\n"
          ]
        }
      ]
    },
    {
      "cell_type": "markdown",
      "source": [
        "#InceptionV3"
      ],
      "metadata": {
        "id": "fC237kGVRCvK"
      }
    },
    {
      "cell_type": "code",
      "source": [
        "supernet3 = tfk.applications.InceptionV3(\n",
        "    include_top=False,\n",
        "    weights=\"imagenet\",\n",
        "    input_shape=(96,96,3)\n",
        ")"
      ],
      "metadata": {
        "colab": {
          "base_uri": "https://localhost:8080/"
        },
        "id": "fezLnbhXRFuU",
        "outputId": "1999e0a1-d7bb-4b41-9985-316d7e13617e"
      },
      "execution_count": null,
      "outputs": [
        {
          "output_type": "stream",
          "name": "stdout",
          "text": [
            "Downloading data from https://storage.googleapis.com/tensorflow/keras-applications/inception_v3/inception_v3_weights_tf_dim_ordering_tf_kernels_notop.h5\n",
            "87910968/87910968 [==============================] - 4s 0us/step\n"
          ]
        }
      ]
    },
    {
      "cell_type": "code",
      "source": [
        "for layer in supernet3.layers:\n",
        "    layer.trainable = False"
      ],
      "metadata": {
        "id": "xAwyvAnTRdnL"
      },
      "execution_count": null,
      "outputs": []
    },
    {
      "cell_type": "code",
      "source": [
        "inceptionV3 = build_model(input_shape, supernet3)\n",
        "inceptionV3.summary()"
      ],
      "metadata": {
        "colab": {
          "base_uri": "https://localhost:8080/"
        },
        "id": "2pQl-80CRgxC",
        "outputId": "fd4c8f0d-16a3-47c6-f0b7-42c334517c6e"
      },
      "execution_count": null,
      "outputs": [
        {
          "output_type": "stream",
          "name": "stdout",
          "text": [
            "Model: \"model\"\n",
            "_________________________________________________________________\n",
            " Layer (type)                Output Shape              Param #   \n",
            "=================================================================\n",
            " input_layer (InputLayer)    [(None, 96, 96, 3)]       0         \n",
            "                                                                 \n",
            " inception_v3 (Functional)   (None, 1, 1, 2048)        21802784  \n",
            "                                                                 \n",
            " Flatten (Flatten)           (None, 2048)              0         \n",
            "                                                                 \n",
            " dense_1 (Dense)             (None, 1028)              2106372   \n",
            "                                                                 \n",
            " dropout_2 (Dropout)         (None, 1028)              0         \n",
            "                                                                 \n",
            " Classifier (Dense)          (None, 512)               526848    \n",
            "                                                                 \n",
            " dropout_3 (Dropout)         (None, 512)               0         \n",
            "                                                                 \n",
            " output_layer (Dense)        (None, 8)                 4104      \n",
            "                                                                 \n",
            "=================================================================\n",
            "Total params: 24,440,108\n",
            "Trainable params: 2,637,324\n",
            "Non-trainable params: 21,802,784\n",
            "_________________________________________________________________\n"
          ]
        }
      ]
    },
    {
      "cell_type": "code",
      "source": [
        "callbacks = create_folders_and_callbacks(model_name='CNN_XCeption')\n",
        "\n",
        "# Train the model\n",
        "history = inceptionV3.fit(\n",
        "    x = train_gen,\n",
        "    epochs = epochs,\n",
        "    validation_data = valid_gen,\n",
        "    class_weight = {0: 3542/186, 1: 3542/532, 2: 3542/515, 3: 3542/511, 4: 3542/531, \n",
        "                    5: 3542/222, 6: 3542/537, 7: 3542/508},\n",
        "    callbacks = callbacks,\n",
        ").history"
      ],
      "metadata": {
        "colab": {
          "base_uri": "https://localhost:8080/"
        },
        "id": "ufqfbakvRyto",
        "outputId": "c3755eb1-0e9b-436a-c285-42236ddb8a1c"
      },
      "execution_count": null,
      "outputs": [
        {
          "output_type": "stream",
          "name": "stdout",
          "text": [
            "Epoch 1/200\n",
            "89/89 [==============================] - 38s 373ms/step - loss: 18.4904 - accuracy: 0.1668 - val_loss: 1.8235 - val_accuracy: 0.3513\n",
            "Epoch 2/200\n",
            "89/89 [==============================] - 30s 341ms/step - loss: 16.1028 - accuracy: 0.2574 - val_loss: 1.7706 - val_accuracy: 0.3456\n",
            "Epoch 3/200\n",
            "89/89 [==============================] - 28s 315ms/step - loss: 15.0425 - accuracy: 0.3032 - val_loss: 1.6819 - val_accuracy: 0.3697\n",
            "Epoch 4/200\n",
            "89/89 [==============================] - 29s 322ms/step - loss: 14.6979 - accuracy: 0.3029 - val_loss: 1.5911 - val_accuracy: 0.4391\n",
            "Epoch 5/200\n",
            "89/89 [==============================] - 28s 311ms/step - loss: 14.3209 - accuracy: 0.3170 - val_loss: 1.5698 - val_accuracy: 0.4207\n",
            "Epoch 6/200\n",
            "89/89 [==============================] - 28s 322ms/step - loss: 14.2124 - accuracy: 0.3410 - val_loss: 1.5835 - val_accuracy: 0.4136\n",
            "Epoch 7/200\n",
            "89/89 [==============================] - 28s 319ms/step - loss: 14.1402 - accuracy: 0.3325 - val_loss: 1.5390 - val_accuracy: 0.4348\n",
            "Epoch 8/200\n",
            "89/89 [==============================] - 29s 326ms/step - loss: 13.8344 - accuracy: 0.3519 - val_loss: 1.5244 - val_accuracy: 0.4490\n",
            "Epoch 9/200\n",
            "89/89 [==============================] - 28s 320ms/step - loss: 13.7337 - accuracy: 0.3583 - val_loss: 1.5340 - val_accuracy: 0.4533\n",
            "Epoch 10/200\n",
            "89/89 [==============================] - 27s 309ms/step - loss: 13.8720 - accuracy: 0.3470 - val_loss: 1.5132 - val_accuracy: 0.4533\n",
            "Epoch 11/200\n",
            "89/89 [==============================] - 28s 321ms/step - loss: 13.5469 - accuracy: 0.3805 - val_loss: 1.5188 - val_accuracy: 0.4618\n",
            "Epoch 12/200\n",
            "89/89 [==============================] - 27s 303ms/step - loss: 13.6718 - accuracy: 0.3650 - val_loss: 1.4912 - val_accuracy: 0.4547\n",
            "Epoch 13/200\n",
            "89/89 [==============================] - 28s 321ms/step - loss: 13.4276 - accuracy: 0.3755 - val_loss: 1.4807 - val_accuracy: 0.4433\n",
            "Epoch 14/200\n",
            "89/89 [==============================] - 28s 313ms/step - loss: 13.1145 - accuracy: 0.3865 - val_loss: 1.4800 - val_accuracy: 0.4603\n",
            "Epoch 15/200\n",
            "89/89 [==============================] - 28s 319ms/step - loss: 13.3334 - accuracy: 0.3646 - val_loss: 1.4573 - val_accuracy: 0.4688\n",
            "Epoch 16/200\n",
            "89/89 [==============================] - 28s 320ms/step - loss: 13.1392 - accuracy: 0.3889 - val_loss: 1.4402 - val_accuracy: 0.4731\n",
            "Epoch 17/200\n",
            "89/89 [==============================] - 28s 311ms/step - loss: 12.9969 - accuracy: 0.3879 - val_loss: 1.4692 - val_accuracy: 0.4688\n",
            "Epoch 18/200\n",
            "89/89 [==============================] - 29s 323ms/step - loss: 13.0794 - accuracy: 0.3791 - val_loss: 1.4429 - val_accuracy: 0.4731\n",
            "Epoch 19/200\n",
            "89/89 [==============================] - 27s 303ms/step - loss: 13.0062 - accuracy: 0.3960 - val_loss: 1.4643 - val_accuracy: 0.4518\n",
            "Epoch 20/200\n",
            "89/89 [==============================] - 27s 305ms/step - loss: 13.1146 - accuracy: 0.3872 - val_loss: 1.4519 - val_accuracy: 0.4816\n",
            "Epoch 21/200\n",
            "89/89 [==============================] - 28s 313ms/step - loss: 12.8513 - accuracy: 0.3917 - val_loss: 1.4328 - val_accuracy: 0.4773\n",
            "Epoch 22/200\n",
            "89/89 [==============================] - 28s 320ms/step - loss: 12.8598 - accuracy: 0.3879 - val_loss: 1.4564 - val_accuracy: 0.4575\n",
            "Epoch 23/200\n",
            "89/89 [==============================] - 28s 313ms/step - loss: 13.0830 - accuracy: 0.3858 - val_loss: 1.4600 - val_accuracy: 0.4788\n",
            "Epoch 24/200\n",
            "89/89 [==============================] - 28s 320ms/step - loss: 13.1292 - accuracy: 0.3882 - val_loss: 1.4253 - val_accuracy: 0.4844\n",
            "Epoch 25/200\n",
            "89/89 [==============================] - 27s 310ms/step - loss: 12.9442 - accuracy: 0.3854 - val_loss: 1.4235 - val_accuracy: 0.4986\n",
            "Epoch 26/200\n",
            "89/89 [==============================] - 28s 317ms/step - loss: 12.7755 - accuracy: 0.3956 - val_loss: 1.4091 - val_accuracy: 0.4958\n",
            "Epoch 27/200\n",
            "89/89 [==============================] - 27s 304ms/step - loss: 12.9746 - accuracy: 0.3939 - val_loss: 1.4054 - val_accuracy: 0.4986\n"
          ]
        }
      ]
    },
    {
      "cell_type": "code",
      "source": [
        "# Save best epoch model\n",
        "inceptionV3.save(\"savedModels/CNN_inceptionV3\")"
      ],
      "metadata": {
        "id": "VNLPrhgqSWxc"
      },
      "execution_count": null,
      "outputs": []
    },
    {
      "cell_type": "code",
      "source": [
        "testModel(valid_gen, inceptionV3)"
      ],
      "metadata": {
        "id": "gjL2vBtzSeK0"
      },
      "execution_count": null,
      "outputs": []
    },
    {
      "cell_type": "code",
      "source": [
        "iv3 = tfk.models.load_model(\"savedModels/CNN_inceptionV3\")\n",
        "iv3.summary()"
      ],
      "metadata": {
        "id": "8KdBAANvSnCz"
      },
      "execution_count": null,
      "outputs": []
    },
    {
      "cell_type": "code",
      "source": [
        "iv3.get_layer('inception_v3').trainable = True\n"
      ],
      "metadata": {
        "id": "xamD1kcNSutj"
      },
      "execution_count": null,
      "outputs": []
    },
    {
      "cell_type": "code",
      "source": [
        "iv3.compile(loss=tfk.losses.CategoricalCrossentropy(), optimizer=tfk.optimizers.Adam(1e-4), metrics='accuracy')\n",
        "iv3.summary()"
      ],
      "metadata": {
        "id": "NCIL_m94S_W1"
      },
      "execution_count": null,
      "outputs": []
    },
    {
      "cell_type": "code",
      "source": [
        "callbacks = create_folders_and_callbacks(model_name='CNN_inceptionV3_FineTuning')\n",
        "\n",
        "# Train the model\n",
        "history = iv3.fit(\n",
        "    x = train_gen,\n",
        "    epochs = epochs,\n",
        "    validation_data = valid_gen,\n",
        "    class_weight = {0: 3542/186, 1: 3542/532, 2: 3542/515, 3: 3542/511, 4: 3542/531, \n",
        "                    5: 3542/222, 6: 3542/537, 7: 3542/508},\n",
        "    callbacks = callbacks,\n",
        ").history"
      ],
      "metadata": {
        "id": "7x8w4tuATHxa"
      },
      "execution_count": null,
      "outputs": []
    },
    {
      "cell_type": "code",
      "source": [
        "iv3.save(\"savedModels/CNN_inceptionV3_FineTuning\")"
      ],
      "metadata": {
        "id": "U3m_7M_UTQKJ"
      },
      "execution_count": null,
      "outputs": []
    },
    {
      "cell_type": "code",
      "source": [
        "testModel(valid_gen, iv3)"
      ],
      "metadata": {
        "id": "6-TZn46STUzG"
      },
      "execution_count": null,
      "outputs": []
    },
    {
      "cell_type": "markdown",
      "source": [
        "#ResNet"
      ],
      "metadata": {
        "id": "TUXJAA0z4BrD"
      }
    },
    {
      "cell_type": "code",
      "source": [
        "supernet4 = tfk.applications.ResNet50(\n",
        "    include_top=False,\n",
        "    weights=\"imagenet\",\n",
        "    input_shape=(96,96,3)\n",
        ")"
      ],
      "metadata": {
        "id": "4Q6q83kg4HUm"
      },
      "execution_count": null,
      "outputs": []
    },
    {
      "cell_type": "code",
      "source": [
        "for layer in supernet4.layers:\n",
        "    layer.trainable = False"
      ],
      "metadata": {
        "id": "pFm6Bpqo4dHk"
      },
      "execution_count": null,
      "outputs": []
    },
    {
      "cell_type": "code",
      "source": [
        "resNet = build_model(input_shape, supernet4)\n",
        "resNet.summary()"
      ],
      "metadata": {
        "id": "Lpj17LAw4c9u"
      },
      "execution_count": null,
      "outputs": []
    },
    {
      "cell_type": "code",
      "source": [
        "callbacks = create_folders_and_callbacks(model_name='CNN_resNet50')\n",
        "\n",
        "# Train the model\n",
        "history = resNet.fit(\n",
        "    x = train_gen,\n",
        "    epochs = epochs,\n",
        "    validation_data = valid_gen,\n",
        "    class_weight = {0: 3542/186, 1: 3542/532, 2: 3542/515, 3: 3542/511, 4: 3542/531, \n",
        "                    5: 3542/222, 6: 3542/537, 7: 3542/508},\n",
        "    callbacks = callbacks,\n",
        ").history"
      ],
      "metadata": {
        "id": "QHhi5ZV94cz8"
      },
      "execution_count": null,
      "outputs": []
    },
    {
      "cell_type": "code",
      "source": [
        "# Save best epoch model\n",
        "resNet.save(\"savedModels/CNN_resNet50\")"
      ],
      "metadata": {
        "id": "1bGYTCl64cit"
      },
      "execution_count": null,
      "outputs": []
    },
    {
      "cell_type": "code",
      "source": [
        "testModel(valid_gen, resNet)"
      ],
      "metadata": {
        "id": "KrGMFQmR5Wuj"
      },
      "execution_count": null,
      "outputs": []
    },
    {
      "cell_type": "code",
      "source": [
        "rn = tfk.models.load_model(\"savedModels/CNN_resNet50\")\n",
        "rn.summary()"
      ],
      "metadata": {
        "id": "0qT1xFmX5Wj_"
      },
      "execution_count": null,
      "outputs": []
    },
    {
      "cell_type": "code",
      "source": [
        "rn.get_layer('xception').trainable = True"
      ],
      "metadata": {
        "id": "Euu5VUER5WZp"
      },
      "execution_count": null,
      "outputs": []
    },
    {
      "cell_type": "code",
      "source": [
        "rn.compile(loss=tfk.losses.CategoricalCrossentropy(), optimizer=tfk.optimizers.Adam(1e-4), metrics='accuracy')\n",
        "rn.summary()"
      ],
      "metadata": {
        "id": "5H2CH6uS5lg8"
      },
      "execution_count": null,
      "outputs": []
    },
    {
      "cell_type": "code",
      "source": [
        "callbacks = create_folders_and_callbacks(model_name='CNN_resNet50_FineTuning')\n",
        "\n",
        "# Train the model\n",
        "history = rn.fit(\n",
        "    x = train_gen,\n",
        "    epochs = epochs,\n",
        "    validation_data = valid_gen,\n",
        "    class_weight = {0: 3542/186, 1: 3542/532, 2: 3542/515, 3: 3542/511, 4: 3542/531, \n",
        "                    5: 3542/222, 6: 3542/537, 7: 3542/508},\n",
        "    callbacks = callbacks,\n",
        ").history"
      ],
      "metadata": {
        "id": "t3ElKzJ35lSd"
      },
      "execution_count": null,
      "outputs": []
    },
    {
      "cell_type": "code",
      "source": [
        "# Save best epoch model\n",
        "rn.save(\"savedModels/CNN_resNet50_FineTuning\")"
      ],
      "metadata": {
        "id": "12F_Zpov5lEQ"
      },
      "execution_count": null,
      "outputs": []
    },
    {
      "cell_type": "code",
      "source": [
        "testModel(valid_gen, rn)"
      ],
      "metadata": {
        "id": "UBtKgjoL5WLE"
      },
      "execution_count": null,
      "outputs": []
    },
    {
      "cell_type": "markdown",
      "source": [
        "#EfficientNetB4"
      ],
      "metadata": {
        "id": "YJl-mozU673Y"
      }
    },
    {
      "cell_type": "code",
      "source": [
        "supernet5 = tfk.applications.EfficientNetB4(\n",
        "    include_top=False,\n",
        "    weights=\"imagenet\",\n",
        "    input_shape=(96,96,3)\n",
        ")"
      ],
      "metadata": {
        "id": "YCXEbG6v6vuQ"
      },
      "execution_count": null,
      "outputs": []
    },
    {
      "cell_type": "code",
      "source": [
        "for layer in supernet5.layers:\n",
        "    layer.trainable = False"
      ],
      "metadata": {
        "id": "vC2COYZa7SqE"
      },
      "execution_count": null,
      "outputs": []
    },
    {
      "cell_type": "code",
      "source": [
        "effNetB4 = build_model(input_shape, supernet5)\n",
        "effNetB4.summary()\n",
        "tfk.utils.plot_model(effNetB4)"
      ],
      "metadata": {
        "id": "F5yDZ_Oc7Shv"
      },
      "execution_count": null,
      "outputs": []
    },
    {
      "cell_type": "code",
      "source": [
        "callbacks = create_folders_and_callbacks(model_name='CNN_effNetB4')\n",
        "\n",
        "# Train the model\n",
        "history = effNetB4.fit(\n",
        "    x = train_gen,\n",
        "    epochs = epochs,\n",
        "    validation_data = valid_gen,\n",
        "    class_weight = {0: 3542/186, 1: 3542/532, 2: 3542/515, 3: 3542/511, 4: 3542/531, \n",
        "                    5: 3542/222, 6: 3542/537, 7: 3542/508},\n",
        "    callbacks = callbacks,\n",
        ").history"
      ],
      "metadata": {
        "id": "01pcZMz97SZk"
      },
      "execution_count": null,
      "outputs": []
    },
    {
      "cell_type": "code",
      "source": [
        "# Save best epoch model\n",
        "effNetB4.save(\"savedModels/CNN_effNetB4\")"
      ],
      "metadata": {
        "id": "CYNpTWdm7SRn"
      },
      "execution_count": null,
      "outputs": []
    },
    {
      "cell_type": "code",
      "source": [
        "testModel(valid_gen, effNetB4)"
      ],
      "metadata": {
        "id": "vze2IhUV7SI8"
      },
      "execution_count": null,
      "outputs": []
    },
    {
      "cell_type": "code",
      "source": [
        "enb4 = tfk.models.load_model(\"savedModels/CNN_effNetB4\")\n",
        "enb4.summary()"
      ],
      "metadata": {
        "id": "en9gkruT7R9v"
      },
      "execution_count": null,
      "outputs": []
    },
    {
      "cell_type": "code",
      "source": [
        "enb4.get_layer('xception').trainable = True"
      ],
      "metadata": {
        "id": "eMPYiwKx7iOz"
      },
      "execution_count": null,
      "outputs": []
    },
    {
      "cell_type": "code",
      "source": [
        "enb4.compile(loss=tfk.losses.CategoricalCrossentropy(), optimizer=tfk.optimizers.Adam(1e-4), metrics='accuracy')\n",
        "enb4.summary()"
      ],
      "metadata": {
        "id": "TRQ4AUpJ7iGG"
      },
      "execution_count": null,
      "outputs": []
    },
    {
      "cell_type": "code",
      "source": [
        "callbacks = create_folders_and_callbacks(model_name='CNN_effNetB4_FineTuning')\n",
        "\n",
        "# Train the model\n",
        "history = enb4.fit(\n",
        "    x = train_gen,\n",
        "    epochs = epochs,\n",
        "    validation_data = valid_gen,\n",
        "    class_weight = {0: 3542/186, 1: 3542/532, 2: 3542/515, 3: 3542/511, 4: 3542/531, \n",
        "                    5: 3542/222, 6: 3542/537, 7: 3542/508},\n",
        "    callbacks = callbacks,\n",
        ").history"
      ],
      "metadata": {
        "id": "fvA0X_uX7sgX"
      },
      "execution_count": null,
      "outputs": []
    },
    {
      "cell_type": "code",
      "source": [
        "# Save best epoch model\n",
        "enb4.save(\"savedModels/CNN_effNetB4_FineTuning\")"
      ],
      "metadata": {
        "id": "8UZK5_x27sSg"
      },
      "execution_count": null,
      "outputs": []
    },
    {
      "cell_type": "code",
      "source": [
        "testModel(valid_gen, enb4)"
      ],
      "metadata": {
        "id": "1qoExp8u7h-U"
      },
      "execution_count": null,
      "outputs": []
    },
    {
      "cell_type": "markdown",
      "source": [
        "#Combine 2 model together"
      ],
      "metadata": {
        "id": "o7_WoRcm-zax"
      }
    },
    {
      "cell_type": "code",
      "source": [
        "first_model = tfk.models.load_model(\"savedModels/CNN_VGG16_2_FineTuning\")\n",
        "second_model = tfk.models.load_model(\"savedModels/CNN_XCeption_FineTuning\")\n",
        "\n",
        "second_model._name = 'model2'"
      ],
      "metadata": {
        "id": "2XJ4UduY-4YP"
      },
      "execution_count": 15,
      "outputs": []
    },
    {
      "cell_type": "code",
      "source": [
        "def build_combine_model(input_shape):\n",
        "  input_layer = tfkl.Input(shape=input_shape, name='input_layer')\n",
        "\n",
        "  a = (input_layer/255)\n",
        "  b = tf.keras.applications.mobilenet.preprocess_input(input_layer)\n",
        "\n",
        "  x = first_model(a)\n",
        "  y = second_model(a)\n",
        "\n",
        "  avg = tf.keras.layers.Average()([x, y])\n",
        "\n",
        "  combine_model = tfk.Model(inputs=input_layer, outputs=avg, name='Comb_model')\n",
        "\n",
        "  return combine_model"
      ],
      "metadata": {
        "id": "z082-Q-J_Srk"
      },
      "execution_count": 21,
      "outputs": []
    },
    {
      "cell_type": "code",
      "source": [
        "cmb_model = build_combine_model(input_shape)\n",
        "cmb_model.summary()"
      ],
      "metadata": {
        "id": "fx_p4i2MAgVY",
        "colab": {
          "base_uri": "https://localhost:8080/"
        },
        "outputId": "e9d9cbf9-99fc-4598-e828-25d2b83093f3"
      },
      "execution_count": 22,
      "outputs": [
        {
          "output_type": "stream",
          "name": "stdout",
          "text": [
            "Model: \"Comb_model\"\n",
            "__________________________________________________________________________________________________\n",
            " Layer (type)                   Output Shape         Param #     Connected to                     \n",
            "==================================================================================================\n",
            " input_layer (InputLayer)       [(None, 96, 96, 3)]  0           []                               \n",
            "                                                                                                  \n",
            " tf.math.truediv_4 (TFOpLambda)  (None, 96, 96, 3)   0           ['input_layer[0][0]']            \n",
            "                                                                                                  \n",
            " model (Functional)             (None, 8)            20518784    ['tf.math.truediv_4[0][0]']      \n",
            "                                                                                                  \n",
            " model2 (Functional)            (None, 8)            40341556    ['tf.math.truediv_4[0][0]']      \n",
            "                                                                                                  \n",
            " average_2 (Average)            (None, 8)            0           ['model[2][0]',                  \n",
            "                                                                  'model2[2][0]']                 \n",
            "                                                                                                  \n",
            "==================================================================================================\n",
            "Total params: 60,860,340\n",
            "Trainable params: 60,805,812\n",
            "Non-trainable params: 54,528\n",
            "__________________________________________________________________________________________________\n"
          ]
        }
      ]
    },
    {
      "cell_type": "code",
      "source": [
        "cmb_model.save(\"savedModels/CombinedModel\")"
      ],
      "metadata": {
        "id": "dpPQ1u21BVzr"
      },
      "execution_count": null,
      "outputs": []
    },
    {
      "cell_type": "code",
      "source": [
        "testModel(valid_gen, cmb_model)"
      ],
      "metadata": {
        "id": "tF5rgaFdBehO",
        "colab": {
          "base_uri": "https://localhost:8080/",
          "height": 551
        },
        "outputId": "0c137c8d-e719-479b-ee71-f4143481d182"
      },
      "execution_count": 23,
      "outputs": [
        {
          "output_type": "stream",
          "name": "stdout",
          "text": [
            "706/706 [==============================] - 9s 11ms/step\n"
          ]
        },
        {
          "output_type": "display_data",
          "data": {
            "text/plain": [
              "<Figure size 432x288 with 2 Axes>"
            ],
            "image/png": "[encoded data removed]"
          },
          "metadata": {
            "needs_background": "light"
          }
        },
        {
          "output_type": "stream",
          "name": "stdout",
          "text": [
            "              precision    recall  f1-score   support\n",
            "\n",
            "    Species1       0.00      0.00      0.00        37\n",
            "    Species2       0.00      0.00      0.00       106\n",
            "    Species3       0.00      0.00      0.00       103\n",
            "    Species4       0.14      1.00      0.25       102\n",
            "    Species5       0.00      0.00      0.00       106\n",
            "    Species6       0.00      0.00      0.00        44\n",
            "    Species7       0.00      0.00      0.00       107\n",
            "    Species8       0.00      0.00      0.00       101\n",
            "\n",
            "    accuracy                           0.14       706\n",
            "   macro avg       0.02      0.12      0.03       706\n",
            "weighted avg       0.02      0.14      0.04       706\n",
            "\n"
          ]
        }
      ]
    },
    {
      "cell_type": "markdown",
      "source": [
        "# AlexNet"
      ],
      "metadata": {
        "id": "fmy4Z9r40xjk"
      }
    },
    {
      "cell_type": "code",
      "source": [
        "def build_alexNet_model(input_shape):\n",
        "\n",
        "    # Build the neural network layer by layer\n",
        "    input_layer = tfkl.Input(shape=input_shape, name='input_layer')\n",
        "\n",
        "    conv1 = tfkl.Conv2D(\n",
        "        filters=96,\n",
        "        kernel_size=(11, 11),\n",
        "        strides=(4, 4),\n",
        "        activation = 'relu',\n",
        "        kernel_initializer = tfk.initializers.HeUniform(seed)\n",
        "    )(input_layer)\n",
        "    #normalization1 = tfkl.BatchNormalization()(conv1)\n",
        "    pool1 = tfkl.MaxPooling2D(pool_size=(3, 3), strides=(2, 2))(input_layer)\n",
        "\n",
        "    conv2 = tfkl.Conv2D(\n",
        "        filters=256,\n",
        "        kernel_size=(5, 5),\n",
        "        strides=(1, 1),\n",
        "        padding = 'same',\n",
        "        activation = 'relu',\n",
        "        kernel_initializer = tfk.initializers.HeUniform(seed)\n",
        "    )(pool1)\n",
        "    #normalization2 = tfkl.BatchNormalization()(conv2)\n",
        "    pool2 = tfkl.MaxPooling2D(pool_size=(3, 3), strides=(2, 2))(conv2)\n",
        "\n",
        "    conv3 = tfkl.Conv2D(\n",
        "        filters=384,\n",
        "        kernel_size=(3, 3),\n",
        "        strides=(1, 1),\n",
        "        padding = 'same',\n",
        "        activation = 'relu',\n",
        "        kernel_initializer = tfk.initializers.HeUniform(seed)\n",
        "    )(pool2)\n",
        "    #normalization3 = tfkl.BatchNormalization()(conv3)\n",
        "    conv4 = tfkl.Conv2D(\n",
        "        filters=384,\n",
        "        kernel_size=(3, 3),\n",
        "        strides=(1, 1),\n",
        "        padding = 'same',\n",
        "        activation = 'relu',\n",
        "        kernel_initializer = tfk.initializers.HeUniform(seed)\n",
        "    )(conv3)\n",
        "    #normalization4 = tfkl.BatchNormalization()(conv4)\n",
        "    conv5 = tfkl.Conv2D(\n",
        "        filters=256,\n",
        "        kernel_size=(3, 3),\n",
        "        strides=(1, 1),\n",
        "        padding = 'same',\n",
        "        activation = 'relu',\n",
        "        kernel_initializer = tfk.initializers.HeUniform(seed)\n",
        "    )(conv4)\n",
        "    #normalization5 = tfkl.BatchNormalization()(conv5)\n",
        "    pool3 = tfkl.MaxPooling2D(pool_size=(3, 3), strides=(2, 2))(conv5)\n",
        "\n",
        "    flattening_layer = tfkl.Flatten(name='Flatten')(pool3)\n",
        "    dropout1 = tfkl.Dropout(0.5, seed=seed)(flattening_layer)\n",
        "    dense_layer1 = tfkl.Dense(units=4096, activation='relu', kernel_initializer=tfk.initializers.HeUniform(seed))(dropout1)\n",
        "    dropout2 = tfkl.Dropout(0.5, seed=seed)(dense_layer1)\n",
        "    dense_layer2 = tfkl.Dense(units=4096, activation='relu', kernel_initializer=tfk.initializers.HeUniform(seed))(dropout2)\n",
        "    output_layer = tfkl.Dense(units=8, activation='softmax', kernel_initializer=tfk.initializers.GlorotUniform(seed), name='output_layer')(dense_layer2)\n",
        "\n",
        "    # Connect input and output through the Model class\n",
        "    model = tfk.Model(inputs=input_layer, outputs=output_layer, name='model')\n",
        "\n",
        "    # Compile the model\n",
        "    model.compile(loss=tfk.losses.CategoricalCrossentropy(), optimizer=tfk.optimizers.SGD(0.001), metrics='accuracy')\n",
        "\n",
        "    # Return the model\n",
        "    return model"
      ],
      "metadata": {
        "id": "rs8m5TCO022I"
      },
      "execution_count": 24,
      "outputs": []
    },
    {
      "cell_type": "code",
      "source": [
        "alexNet = build_alexNet_model(input_shape)\n",
        "alexNet.summary()"
      ],
      "metadata": {
        "colab": {
          "base_uri": "https://localhost:8080/"
        },
        "id": "9duvT0Oh6Ogi",
        "outputId": "d72fb4b1-a06f-48e2-fd14-0ba28fe270ad"
      },
      "execution_count": 25,
      "outputs": [
        {
          "output_type": "stream",
          "name": "stdout",
          "text": [
            "Model: \"model\"\n",
            "_________________________________________________________________\n",
            " Layer (type)                Output Shape              Param #   \n",
            "=================================================================\n",
            " input_layer (InputLayer)    [(None, 96, 96, 3)]       0         \n",
            "                                                                 \n",
            " max_pooling2d (MaxPooling2D  (None, 47, 47, 3)        0         \n",
            " )                                                               \n",
            "                                                                 \n",
            " conv2d_1 (Conv2D)           (None, 47, 47, 256)       19456     \n",
            "                                                                 \n",
            " max_pooling2d_1 (MaxPooling  (None, 23, 23, 256)      0         \n",
            " 2D)                                                             \n",
            "                                                                 \n",
            " conv2d_2 (Conv2D)           (None, 23, 23, 384)       885120    \n",
            "                                                                 \n",
            " conv2d_3 (Conv2D)           (None, 23, 23, 384)       1327488   \n",
            "                                                                 \n",
            " conv2d_4 (Conv2D)           (None, 23, 23, 256)       884992    \n",
            "                                                                 \n",
            " max_pooling2d_2 (MaxPooling  (None, 11, 11, 256)      0         \n",
            " 2D)                                                             \n",
            "                                                                 \n",
            " Flatten (Flatten)           (None, 30976)             0         \n",
            "                                                                 \n",
            " dropout (Dropout)           (None, 30976)             0         \n",
            "                                                                 \n",
            " dense (Dense)               (None, 4096)              126881792 \n",
            "                                                                 \n",
            " dropout_1 (Dropout)         (None, 4096)              0         \n",
            "                                                                 \n",
            " dense_1 (Dense)             (None, 4096)              16781312  \n",
            "                                                                 \n",
            " output_layer (Dense)        (None, 8)                 32776     \n",
            "                                                                 \n",
            "=================================================================\n",
            "Total params: 146,812,936\n",
            "Trainable params: 146,812,936\n",
            "Non-trainable params: 0\n",
            "_________________________________________________________________\n"
          ]
        }
      ]
    },
    {
      "cell_type": "code",
      "source": [
        "import visualkeras\n",
        "\n",
        "visualkeras.layered_view(alexNet)"
      ],
      "metadata": {
        "colab": {
          "base_uri": "https://localhost:8080/",
          "height": 334
        },
        "id": "rV0ihTWf6V8e",
        "outputId": "93e99299-5d5e-4f58-ecc1-cfb1ebc960d5"
      },
      "execution_count": null,
      "outputs": [
        {
          "output_type": "error",
          "ename": "ModuleNotFoundError",
          "evalue": "ignored",
          "traceback": [
            "\u001b[0;31m---------------------------------------------------------------------------\u001b[0m",
            "\u001b[0;31mModuleNotFoundError\u001b[0m                       Traceback (most recent call last)",
            "\u001b[0;32m<ipython-input-15-4a9846ad4ae5>\u001b[0m in \u001b[0;36m<module>\u001b[0;34m\u001b[0m\n\u001b[0;32m----> 1\u001b[0;31m \u001b[0;32mimport\u001b[0m \u001b[0mvisualkeras\u001b[0m\u001b[0;34m\u001b[0m\u001b[0;34m\u001b[0m\u001b[0m\n\u001b[0m\u001b[1;32m      2\u001b[0m \u001b[0;34m\u001b[0m\u001b[0m\n\u001b[1;32m      3\u001b[0m \u001b[0mvisualkeras\u001b[0m\u001b[0;34m.\u001b[0m\u001b[0mlayered_view\u001b[0m\u001b[0;34m(\u001b[0m\u001b[0malexNet\u001b[0m\u001b[0;34m)\u001b[0m\u001b[0;34m\u001b[0m\u001b[0;34m\u001b[0m\u001b[0m\n",
            "\u001b[0;31mModuleNotFoundError\u001b[0m: No module named 'visualkeras'",
            "",
            "\u001b[0;31m---------------------------------------------------------------------------\u001b[0;32m\nNOTE: If your import is failing due to a missing package, you can\nmanually install dependencies using either !pip or !apt.\n\nTo view examples of installing some common dependencies, click the\n\"Open Examples\" button below.\n\u001b[0;31m---------------------------------------------------------------------------\u001b[0m\n"
          ],
          "errorDetails": {
            "actions": [
              {
                "action": "open_url",
                "actionText": "Open Examples",
                "url": "/notebooks/snippets/importing_libraries.ipynb"
              }
            ]
          }
        }
      ]
    },
    {
      "cell_type": "code",
      "source": [
        "callbacks = create_folders_and_callbacks(model_name='CNN_alexNet')\n",
        "\n",
        "# Train the model\n",
        "history = alexNet.fit(\n",
        "    x = train_gen,\n",
        "    epochs = epochs,\n",
        "    validation_data = valid_gen,\n",
        "    class_weight = {0: 3542/186, 1: 3542/532, 2: 3542/515, 3: 3542/511, 4: 3542/531, \n",
        "                    5: 3542/222, 6: 3542/537, 7: 3542/508},\n",
        "    callbacks = callbacks,\n",
        ").history"
      ],
      "metadata": {
        "colab": {
          "base_uri": "https://localhost:8080/"
        },
        "id": "_QoTYkMy6lhw",
        "outputId": "caa58b75-cad4-45fe-ad0d-8b5c48f83204"
      },
      "execution_count": null,
      "outputs": [
        {
          "output_type": "stream",
          "name": "stdout",
          "text": [
            "Epoch 1/200\n",
            "178/178 [==============================] - ETA: 0s - loss: 18.0467 - accuracy: 0.1195"
          ]
        }
      ]
    },
    {
      "cell_type": "code",
      "source": [
        "# Save best epoch model\n",
        "alexNet.save(\"savedModels/CNN_alexNet\")"
      ],
      "metadata": {
        "colab": {
          "base_uri": "https://localhost:8080/"
        },
        "id": "KiVlwOyd6rbX",
        "outputId": "9746a965-b5d0-4e1d-99de-f9ec287999cc"
      },
      "execution_count": null,
      "outputs": [
        {
          "output_type": "stream",
          "name": "stderr",
          "text": [
            "WARNING:absl:Found untraced functions such as _jit_compiled_convolution_op, _jit_compiled_convolution_op, _jit_compiled_convolution_op, _jit_compiled_convolution_op, _jit_compiled_convolution_op while saving (showing 5 of 5). These functions will not be directly callable after loading.\n"
          ]
        }
      ]
    },
    {
      "cell_type": "code",
      "source": [
        "testModel(valid_gen, alexNet)"
      ],
      "metadata": {
        "colab": {
          "base_uri": "https://localhost:8080/",
          "height": 551
        },
        "id": "hLA1nEbe62O4",
        "outputId": "519c1a21-44b7-4edf-fdec-e907097dff35"
      },
      "execution_count": null,
      "outputs": [
        {
          "output_type": "stream",
          "name": "stdout",
          "text": [
            "706/706 [==============================] - 3s 4ms/step\n"
          ]
        },
        {
          "output_type": "display_data",
          "data": {
            "text/plain": [
              "<Figure size 432x288 with 2 Axes>"
            ],
            "image/png": "[encoded data removed]"
          },
          "metadata": {
            "needs_background": "light"
          }
        },
        {
          "output_type": "stream",
          "name": "stdout",
          "text": [
            "              precision    recall  f1-score   support\n",
            "\n",
            "    Species1       0.22      0.11      0.15        37\n",
            "    Species2       0.72      0.17      0.27       106\n",
            "    Species3       0.30      0.31      0.30       103\n",
            "    Species4       0.32      0.57      0.41       102\n",
            "    Species5       0.41      0.73      0.52       106\n",
            "    Species6       0.43      0.41      0.42        44\n",
            "    Species7       0.66      0.59      0.62       107\n",
            "    Species8       0.61      0.30      0.40       101\n",
            "\n",
            "    accuracy                           0.42       706\n",
            "   macro avg       0.46      0.40      0.39       706\n",
            "weighted avg       0.49      0.42      0.41       706\n",
            "\n"
          ]
        }
      ]
    },
    {
      "cell_type": "code",
      "source": [
        "testModel(valid_gen, alexNet)"
      ],
      "metadata": {
        "id": "zZnJVzCAEK9V"
      },
      "execution_count": null,
      "outputs": []
    },
    {
      "cell_type": "code",
      "source": [
        "an = tfk.models.load_model(\"savedModels/CNN_alexNet\")\n",
        "an.summary()"
      ],
      "metadata": {
        "colab": {
          "base_uri": "https://localhost:8080/"
        },
        "id": "jh27WadHAlzh",
        "outputId": "ae0fb897-e380-4b47-c87a-e31421648b64"
      },
      "execution_count": null,
      "outputs": [
        {
          "output_type": "stream",
          "name": "stdout",
          "text": [
            "Model: \"model\"\n",
            "_________________________________________________________________\n",
            " Layer (type)                Output Shape              Param #   \n",
            "=================================================================\n",
            " input_layer (InputLayer)    [(None, 96, 96, 3)]       0         \n",
            "                                                                 \n",
            " conv2d_10 (Conv2D)          (None, 22, 22, 96)        34944     \n",
            "                                                                 \n",
            " batch_normalization_10 (Bat  (None, 22, 22, 96)       384       \n",
            " chNormalization)                                                \n",
            "                                                                 \n",
            " max_pooling2d_6 (MaxPooling  (None, 10, 10, 96)       0         \n",
            " 2D)                                                             \n",
            "                                                                 \n",
            " conv2d_11 (Conv2D)          (None, 10, 10, 256)       614656    \n",
            "                                                                 \n",
            " batch_normalization_11 (Bat  (None, 10, 10, 256)      1024      \n",
            " chNormalization)                                                \n",
            "                                                                 \n",
            " max_pooling2d_7 (MaxPooling  (None, 4, 4, 256)        0         \n",
            " 2D)                                                             \n",
            "                                                                 \n",
            " conv2d_12 (Conv2D)          (None, 4, 4, 384)         885120    \n",
            "                                                                 \n",
            " batch_normalization_12 (Bat  (None, 4, 4, 384)        1536      \n",
            " chNormalization)                                                \n",
            "                                                                 \n",
            " conv2d_13 (Conv2D)          (None, 4, 4, 384)         1327488   \n",
            "                                                                 \n",
            " batch_normalization_13 (Bat  (None, 4, 4, 384)        1536      \n",
            " chNormalization)                                                \n",
            "                                                                 \n",
            " conv2d_14 (Conv2D)          (None, 4, 4, 256)         884992    \n",
            "                                                                 \n",
            " batch_normalization_14 (Bat  (None, 4, 4, 256)        1024      \n",
            " chNormalization)                                                \n",
            "                                                                 \n",
            " max_pooling2d_8 (MaxPooling  (None, 1, 1, 256)        0         \n",
            " 2D)                                                             \n",
            "                                                                 \n",
            " Flatten (Flatten)           (None, 256)               0         \n",
            "                                                                 \n",
            " dense_2 (Dense)             (None, 4096)              1052672   \n",
            "                                                                 \n",
            " dropout_2 (Dropout)         (None, 4096)              0         \n",
            "                                                                 \n",
            " output_layer (Dense)        (None, 8)                 32776     \n",
            "                                                                 \n",
            "=================================================================\n",
            "Total params: 4,838,152\n",
            "Trainable params: 4,835,400\n",
            "Non-trainable params: 2,752\n",
            "_________________________________________________________________\n"
          ]
        }
      ]
    },
    {
      "cell_type": "code",
      "source": [
        "an.compile(loss=tfk.losses.CategoricalCrossentropy(), optimizer=tfk.optimizers.SGD(0.0001), metrics='accuracy')"
      ],
      "metadata": {
        "id": "FDxYSCqEA5Kz"
      },
      "execution_count": null,
      "outputs": []
    },
    {
      "cell_type": "code",
      "source": [
        "callbacks = create_folders_and_callbacks(model_name='CNN_alexNet')\n",
        "\n",
        "# Train the model\n",
        "history = an.fit(\n",
        "    x = train_gen,\n",
        "    epochs = epochs,\n",
        "    validation_data = valid_gen,\n",
        "    class_weight = {0: 3542/186, 1: 3542/532, 2: 3542/515, 3: 3542/511, 4: 3542/531, \n",
        "                    5: 3542/222, 6: 3542/537, 7: 3542/508},\n",
        "    callbacks = callbacks,\n",
        ").history"
      ],
      "metadata": {
        "colab": {
          "base_uri": "https://localhost:8080/"
        },
        "id": "w2If-lIdBHBs",
        "outputId": "eed93046-ad87-45c8-a3e2-fe04df1595a3"
      },
      "execution_count": null,
      "outputs": [
        {
          "output_type": "stream",
          "name": "stdout",
          "text": [
            "Epoch 1/200\n",
            "89/89 [==============================] - 17s 185ms/step - loss: 12.2618 - accuracy: 0.4309 - val_loss: 1.5375 - val_accuracy: 0.4419\n",
            "Epoch 2/200\n",
            "89/89 [==============================] - 15s 171ms/step - loss: 12.0858 - accuracy: 0.4510 - val_loss: 1.7818 - val_accuracy: 0.3470\n",
            "Epoch 3/200\n",
            "89/89 [==============================] - 16s 180ms/step - loss: 11.9125 - accuracy: 0.4616 - val_loss: 1.7073 - val_accuracy: 0.3541\n",
            "Epoch 4/200\n",
            "89/89 [==============================] - 15s 171ms/step - loss: 11.9099 - accuracy: 0.4676 - val_loss: 1.5826 - val_accuracy: 0.3924\n",
            "Epoch 5/200\n",
            "89/89 [==============================] - 17s 193ms/step - loss: 11.7773 - accuracy: 0.4577 - val_loss: 1.6246 - val_accuracy: 0.3824\n",
            "Epoch 6/200\n",
            "89/89 [==============================] - 15s 169ms/step - loss: 11.8095 - accuracy: 0.4591 - val_loss: 1.7843 - val_accuracy: 0.3371\n",
            "Epoch 7/200\n",
            "89/89 [==============================] - 15s 171ms/step - loss: 11.9248 - accuracy: 0.4503 - val_loss: 1.7297 - val_accuracy: 0.3527\n",
            "Epoch 8/200\n",
            "89/89 [==============================] - 18s 203ms/step - loss: 11.9975 - accuracy: 0.4503 - val_loss: 1.8317 - val_accuracy: 0.3173\n",
            "Epoch 9/200\n",
            "89/89 [==============================] - 16s 180ms/step - loss: 11.9071 - accuracy: 0.4549 - val_loss: 1.6925 - val_accuracy: 0.3569\n",
            "Epoch 10/200\n",
            "89/89 [==============================] - 16s 181ms/step - loss: 11.8319 - accuracy: 0.4616 - val_loss: 1.6084 - val_accuracy: 0.3739\n",
            "Epoch 11/200\n",
            "89/89 [==============================] - 15s 170ms/step - loss: 11.6160 - accuracy: 0.4651 - val_loss: 1.7531 - val_accuracy: 0.3414\n"
          ]
        }
      ]
    },
    {
      "cell_type": "code",
      "source": [
        "# Save best epoch model\n",
        "an.save(\"savedModels/CNN_alexNet_2\")"
      ],
      "metadata": {
        "colab": {
          "base_uri": "https://localhost:8080/"
        },
        "id": "9dSo9znZBJT_",
        "outputId": "72d90ab2-de05-4ef6-e417-ae257ee5023a"
      },
      "execution_count": null,
      "outputs": [
        {
          "output_type": "stream",
          "name": "stderr",
          "text": [
            "WARNING:absl:Found untraced functions such as _jit_compiled_convolution_op, _jit_compiled_convolution_op, _jit_compiled_convolution_op, _jit_compiled_convolution_op, _jit_compiled_convolution_op while saving (showing 5 of 5). These functions will not be directly callable after loading.\n"
          ]
        }
      ]
    },
    {
      "cell_type": "code",
      "source": [
        "testModel(valid_gen, an)"
      ],
      "metadata": {
        "colab": {
          "base_uri": "https://localhost:8080/",
          "height": 551
        },
        "id": "9yPTrfVmBTKm",
        "outputId": "a2e825a7-f5d9-4a00-863a-cfb2aac96cec"
      },
      "execution_count": null,
      "outputs": [
        {
          "output_type": "stream",
          "name": "stdout",
          "text": [
            "706/706 [==============================] - 3s 4ms/step\n"
          ]
        },
        {
          "output_type": "display_data",
          "data": {
            "text/plain": [
              "<Figure size 432x288 with 2 Axes>"
            ],
            "image/png": "[encoded data removed]"
          },
          "metadata": {
            "needs_background": "light"
          }
        },
        {
          "output_type": "stream",
          "name": "stdout",
          "text": [
            "              precision    recall  f1-score   support\n",
            "\n",
            "    Species1       0.11      0.14      0.12        37\n",
            "    Species2       0.54      0.41      0.46       106\n",
            "    Species3       0.38      0.35      0.36       103\n",
            "    Species4       0.40      0.38      0.39       102\n",
            "    Species5       0.40      0.86      0.54       106\n",
            "    Species6       0.44      0.50      0.47        44\n",
            "    Species7       0.75      0.42      0.54       107\n",
            "    Species8       0.60      0.31      0.41       101\n",
            "\n",
            "    accuracy                           0.44       706\n",
            "   macro avg       0.45      0.42      0.41       706\n",
            "weighted avg       0.49      0.44      0.44       706\n",
            "\n"
          ]
        }
      ]
    },
    {
      "cell_type": "code",
      "source": [
        "axn = tfk.models.load_model(\"savedModels/CNN_alexNet_2\")\n",
        "axn.compile(loss=tfk.losses.CategoricalCrossentropy(), optimizer=tfk.optimizers.SGD(0.00001), metrics='accuracy')"
      ],
      "metadata": {
        "id": "MbhVIncOB0GG"
      },
      "execution_count": null,
      "outputs": []
    },
    {
      "cell_type": "code",
      "source": [
        "callbacks = create_folders_and_callbacks(model_name='CNN_alexNet')\n",
        "\n",
        "# Train the model\n",
        "history = axn.fit(\n",
        "    x = train_gen,\n",
        "    epochs = epochs,\n",
        "    validation_data = valid_gen,\n",
        "    class_weight = {0: 3542/186, 1: 3542/532, 2: 3542/515, 3: 3542/511, 4: 3542/531, \n",
        "                    5: 3542/222, 6: 3542/537, 7: 3542/508},\n",
        "    callbacks = callbacks,\n",
        ").history"
      ],
      "metadata": {
        "colab": {
          "base_uri": "https://localhost:8080/"
        },
        "id": "UQZfL_pgCIVR",
        "outputId": "b4da4d9c-1b17-4ead-dc3f-e1bfe68034cd"
      },
      "execution_count": null,
      "outputs": [
        {
          "output_type": "stream",
          "name": "stdout",
          "text": [
            "Epoch 1/200\n",
            "89/89 [==============================] - 17s 182ms/step - loss: 11.9879 - accuracy: 0.4464 - val_loss: 1.6275 - val_accuracy: 0.3895\n",
            "Epoch 2/200\n",
            "89/89 [==============================] - 15s 169ms/step - loss: 12.0116 - accuracy: 0.4552 - val_loss: 1.6874 - val_accuracy: 0.3725\n",
            "Epoch 3/200\n",
            "89/89 [==============================] - 16s 179ms/step - loss: 12.0533 - accuracy: 0.4450 - val_loss: 1.6992 - val_accuracy: 0.3683\n",
            "Epoch 4/200\n",
            "89/89 [==============================] - 15s 172ms/step - loss: 12.0870 - accuracy: 0.4545 - val_loss: 1.6880 - val_accuracy: 0.3711\n",
            "Epoch 5/200\n",
            "89/89 [==============================] - 16s 178ms/step - loss: 12.1210 - accuracy: 0.4348 - val_loss: 1.6857 - val_accuracy: 0.3711\n",
            "Epoch 6/200\n",
            "89/89 [==============================] - 15s 167ms/step - loss: 12.0142 - accuracy: 0.4633 - val_loss: 1.6972 - val_accuracy: 0.3654\n",
            "Epoch 7/200\n",
            "89/89 [==============================] - 16s 178ms/step - loss: 11.8964 - accuracy: 0.4563 - val_loss: 1.6966 - val_accuracy: 0.3626\n",
            "Epoch 8/200\n",
            "89/89 [==============================] - 16s 179ms/step - loss: 11.8736 - accuracy: 0.4669 - val_loss: 1.6928 - val_accuracy: 0.3669\n",
            "Epoch 9/200\n",
            "89/89 [==============================] - 15s 167ms/step - loss: 12.0893 - accuracy: 0.4464 - val_loss: 1.6920 - val_accuracy: 0.3626\n",
            "Epoch 10/200\n",
            "89/89 [==============================] - 15s 167ms/step - loss: 12.0338 - accuracy: 0.4563 - val_loss: 1.7032 - val_accuracy: 0.3626\n",
            "Epoch 11/200\n",
            "89/89 [==============================] - 15s 169ms/step - loss: 11.7036 - accuracy: 0.4690 - val_loss: 1.6990 - val_accuracy: 0.3626\n"
          ]
        }
      ]
    },
    {
      "cell_type": "code",
      "source": [
        "axn.save(\"savedModels/CNN_alexNet_3\")"
      ],
      "metadata": {
        "colab": {
          "base_uri": "https://localhost:8080/"
        },
        "id": "IurN5VkUCXxv",
        "outputId": "92fd282a-b73f-48fc-d374-74dbef878a50"
      },
      "execution_count": null,
      "outputs": [
        {
          "output_type": "stream",
          "name": "stderr",
          "text": [
            "WARNING:absl:Found untraced functions such as _jit_compiled_convolution_op, _jit_compiled_convolution_op, _jit_compiled_convolution_op, _jit_compiled_convolution_op, _jit_compiled_convolution_op while saving (showing 5 of 5). These functions will not be directly callable after loading.\n"
          ]
        }
      ]
    },
    {
      "cell_type": "code",
      "source": [
        "testModel(valid_gen, axn)"
      ],
      "metadata": {
        "colab": {
          "base_uri": "https://localhost:8080/",
          "height": 551
        },
        "id": "cSaWaTGtCcfa",
        "outputId": "b4dd8067-ffb8-4c5d-f4f5-8f699d12d948"
      },
      "execution_count": null,
      "outputs": [
        {
          "output_type": "stream",
          "name": "stdout",
          "text": [
            "706/706 [==============================] - 3s 4ms/step\n"
          ]
        },
        {
          "output_type": "display_data",
          "data": {
            "text/plain": [
              "<Figure size 432x288 with 2 Axes>"
            ],
            "image/png": "[encoded data removed]"
          },
          "metadata": {
            "needs_background": "light"
          }
        },
        {
          "output_type": "stream",
          "name": "stdout",
          "text": [
            "              precision    recall  f1-score   support\n",
            "\n",
            "    Species1       0.09      0.14      0.11        37\n",
            "    Species2       0.48      0.37      0.41       106\n",
            "    Species3       0.27      0.28      0.27       103\n",
            "    Species4       0.35      0.43      0.39       102\n",
            "    Species5       0.39      0.81      0.52       106\n",
            "    Species6       0.48      0.27      0.35        44\n",
            "    Species7       0.72      0.29      0.41       107\n",
            "    Species8       0.66      0.29      0.40       101\n",
            "\n",
            "    accuracy                           0.39       706\n",
            "   macro avg       0.43      0.36      0.36       706\n",
            "weighted avg       0.46      0.39      0.38       706\n",
            "\n"
          ]
        }
      ]
    }
  ]
}