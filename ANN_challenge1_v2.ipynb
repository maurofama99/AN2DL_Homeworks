{
  "nbformat": 4,
  "nbformat_minor": 0,
  "metadata": {
    "colab": {
      "provenance": [],
      "collapsed_sections": [
        "MMjSsjdg-BcK",
        "AMBafD8gvnQ9",
        "fC237kGVRCvK",
        "TUXJAA0z4BrD",
        "YJl-mozU673Y",
        "o7_WoRcm-zax",
        "fmy4Z9r40xjk"
      ],
      "authorship_tag": "ABX9TyPLCYqBRmrWAF7jXCTY5bnt",
      "include_colab_link": true
    },
    "kernelspec": {
      "name": "python3",
      "display_name": "Python 3"
    },
    "language_info": {
      "name": "python"
    },
    "accelerator": "GPU",
    "gpuClass": "standard"
  },
  "cells": [
    {
      "cell_type": "markdown",
      "metadata": {
        "id": "view-in-github",
        "colab_type": "text"
      },
      "source": [
        "<a href=\"https://colab.research.google.com/github/maurofama99/ann_challenge/blob/main/ANN_challenge1_v2.ipynb\" target=\"_parent\"><img src=\"https://colab.research.google.com/assets/colab-badge.svg\" alt=\"Open In Colab\"/></a>"
      ]
    },
    {
      "cell_type": "markdown",
      "source": [
        "#SetUp"
      ],
      "metadata": {
        "id": "tIDzNMjb6-Hr"
      }
    },
    {
      "cell_type": "code",
      "execution_count": null,
      "metadata": {
        "id": "bvm1ZEUtk50o",
        "colab": {
          "base_uri": "https://localhost:8080/"
        },
        "outputId": "4bfc48d8-ac94-4529-8607-6e60ec307318"
      },
      "outputs": [
        {
          "output_type": "stream",
          "name": "stdout",
          "text": [
            "Mounted at /gdrive\n"
          ]
        }
      ],
      "source": [
        "from google.colab import drive\n",
        "drive.mount('/gdrive')"
      ]
    },
    {
      "cell_type": "code",
      "source": [
        "%cd /gdrive/My Drive/ANN/data2"
      ],
      "metadata": {
        "id": "9psz3db6lJI9",
        "colab": {
          "base_uri": "https://localhost:8080/"
        },
        "outputId": "6f9a81f0-a544-42a1-87eb-cf1c406f124a"
      },
      "execution_count": null,
      "outputs": [
        {
          "output_type": "stream",
          "name": "stdout",
          "text": [
            "/gdrive/My Drive/ANN/data2\n"
          ]
        }
      ]
    },
    {
      "cell_type": "code",
      "source": [
        "import tensorflow as tf\n",
        "import numpy as np\n",
        "import os\n",
        "import random\n",
        "import pandas as pd\n",
        "import seaborn as sns\n",
        "import matplotlib as mpl\n",
        "import matplotlib.pyplot as plt\n",
        "from sklearn.model_selection import train_test_split\n",
        "from sklearn.metrics import accuracy_score, f1_score, precision_score, recall_score\n",
        "from sklearn.metrics import confusion_matrix\n",
        "from PIL import Image\n",
        "\n",
        "tfk = tf.keras\n",
        "tfkl = tf.keras.layers\n",
        "print(tf.__version__)"
      ],
      "metadata": {
        "id": "cm-UpZA6lR2r",
        "colab": {
          "base_uri": "https://localhost:8080/"
        },
        "outputId": "00328d9b-07f5-4836-866b-c327f253ecae"
      },
      "execution_count": null,
      "outputs": [
        {
          "output_type": "stream",
          "name": "stdout",
          "text": [
            "2.9.2\n"
          ]
        }
      ]
    },
    {
      "cell_type": "code",
      "source": [
        "# Random seed for reproducibility\n",
        "seed = 42\n",
        "\n",
        "random.seed(seed)\n",
        "os.environ['PYTHONHASHSEED'] = str(seed)\n",
        "np.random.seed(seed)\n",
        "tf.random.set_seed(seed)\n",
        "tf.compat.v1.set_random_seed(seed)"
      ],
      "metadata": {
        "id": "TIF7zEXilVGH"
      },
      "execution_count": null,
      "outputs": []
    },
    {
      "cell_type": "code",
      "source": [
        "import warnings\n",
        "import logging\n",
        "\n",
        "os.environ['TF_CPP_MIN_LOG_LEVEL'] = '2'\n",
        "warnings.simplefilter(action='ignore', category=FutureWarning)\n",
        "warnings.simplefilter(action='ignore', category=Warning)\n",
        "tf.get_logger().setLevel('INFO')\n",
        "tf.autograph.set_verbosity(0)\n",
        "\n",
        "tf.get_logger().setLevel(logging.ERROR)\n",
        "tf.get_logger().setLevel('ERROR')\n",
        "tf.compat.v1.logging.set_verbosity(tf.compat.v1.logging.ERROR)"
      ],
      "metadata": {
        "id": "RZRmO4y3l5RE"
      },
      "execution_count": null,
      "outputs": []
    },
    {
      "cell_type": "code",
      "source": [
        "# Load the dataset to be used for classification\n",
        "!unzip training_dataset_homework1.zip"
      ],
      "metadata": {
        "id": "MbFQ8VmRdGAb"
      },
      "execution_count": null,
      "outputs": []
    },
    {
      "cell_type": "code",
      "source": [
        "# Dataset folders \n",
        "dataset_dir = 'training_data_final'\n"
      ],
      "metadata": {
        "id": "du1WtX-fl6QC"
      },
      "execution_count": null,
      "outputs": []
    },
    {
      "cell_type": "code",
      "source": [
        "#get the number of img of each species\n",
        "import fnmatch\n",
        "\n",
        "count = [0,0,0,0,0,0,0,0]\n",
        "labels = ['Species1',       # 0\n",
        "          'Species2',       # 1\n",
        "          'Species3',       # 2\n",
        "          'Species4',       # 3\n",
        "          'Species5',       # 4\n",
        "          'Species6',       # 5\n",
        "          'Species7',       # 6\n",
        "          'Species8']       # 7\n",
        "\n",
        "for i in range(len(labels)):\n",
        "  dir_path = os.path.join(dataset_dir, labels[i])\n",
        "  count[i] = len(fnmatch.filter(os.listdir(dir_path), '*.*'))\n",
        "  print('The number of img of', labels[i], 'is: ', count[i])\n",
        "\n",
        "cumsum = np.cumsum(count)\n",
        "print('Total amount of img is: ', cumsum[len(cumsum)-1] )"
      ],
      "metadata": {
        "id": "zzYmPtw-mCgi",
        "colab": {
          "base_uri": "https://localhost:8080/"
        },
        "outputId": "a58bdd50-6329-457b-87b6-6aeb0ef3deb3"
      },
      "execution_count": null,
      "outputs": [
        {
          "output_type": "stream",
          "name": "stdout",
          "text": [
            "The number of img of Species1 is:  186\n",
            "The number of img of Species2 is:  532\n",
            "The number of img of Species3 is:  515\n",
            "The number of img of Species4 is:  511\n",
            "The number of img of Species5 is:  531\n",
            "The number of img of Species6 is:  222\n",
            "The number of img of Species7 is:  537\n",
            "The number of img of Species8 is:  508\n",
            "Total amount of img is:  3542\n"
          ]
        }
      ]
    },
    {
      "cell_type": "code",
      "source": [
        "\"Given functions\"\n",
        "from sklearn.metrics import ConfusionMatrixDisplay\n",
        "from sklearn.metrics import confusion_matrix\n",
        "from sklearn.metrics import classification_report\n",
        "from sklearn import svm\n",
        "\n",
        "\n",
        "def plot_confusionMatrix(test_labels, test_predicted):\n",
        "  cm = confusion_matrix(test_labels, test_predicted, labels=[0,1,2,3,4,5,6,7])\n",
        "  disp = ConfusionMatrixDisplay(confusion_matrix=cm,\n",
        "                                display_labels=labels)\n",
        "  disp.plot()\n",
        "  plt.show()\n",
        "  return \n"
      ],
      "metadata": {
        "id": "Gh7iki6Rhbl8"
      },
      "execution_count": null,
      "outputs": []
    },
    {
      "cell_type": "code",
      "source": [
        "def testModel( valid_gen, model):\n",
        "\n",
        "  # d. Predit test labels\n",
        "  test_predicted = model.predict(valid_gen)\n",
        "  test_predicted = np.argmax(test_predicted, axis=-1)\n",
        "  \n",
        "\n",
        "  # e. plot confusion matrix\n",
        "  plot_confusionMatrix(valid_gen.classes, test_predicted)\n",
        "\n",
        "  # f. display classification results\n",
        "  print(classification_report(valid_gen.classes, test_predicted, target_names=labels))"
      ],
      "metadata": {
        "id": "Gk1vHCU7hbaL"
      },
      "execution_count": null,
      "outputs": []
    },
    {
      "cell_type": "code",
      "source": [
        "import cv2\n",
        "\n",
        "def add_noise(img):\n",
        "    '''Add random noise to an image'''\n",
        "    VARIABILITY = 70\n",
        "    deviation = VARIABILITY*random.random()\n",
        "    noise = np.random.normal(0, deviation, img.shape)\n",
        "    img += noise\n",
        "    np.clip(img, 0., 255.)\n",
        "    return img\n",
        "\n",
        "def change_color(image):\n",
        "    image = np.array(image)\n",
        "    hsv_image = cv2.cvtColor(image,cv2.COLOR_RGB2HSV)\n",
        "    return hsv_image\n",
        "\n",
        "def preprocessing(image):\n",
        "    CP1 = 0.3\n",
        "    CP2 = 0.6\n",
        "    n = random.random()\n",
        "    if n<=CP1: \n",
        "        return change_color(image)\n",
        "    elif n>CP1 and n<=CP2:\n",
        "        return add_noise(image)\n",
        "    return image"
      ],
      "metadata": {
        "id": "U7fPemGbObEX"
      },
      "execution_count": null,
      "outputs": []
    },
    {
      "cell_type": "code",
      "source": [
        "# Images are divided into folders, one for each class. \n",
        "# If the images are organized in such a way, we can exploit the \n",
        "# ImageDataGenerator to read them from disk.\n",
        "from tensorflow.keras.preprocessing.image import ImageDataGenerator\n",
        "\n",
        "# Create an instance of ImageDataGenerator with Data Augmentation\n",
        "data_gen = ImageDataGenerator(rescale=1/255, validation_split=0.2) \n",
        "\n",
        "aug_train_data_gen = ImageDataGenerator(rotation_range=30,\n",
        "                                        height_shift_range=50,\n",
        "                                        width_shift_range=50,\n",
        "                                        zoom_range=0.3,\n",
        "                                        horizontal_flip=True,\n",
        "                                        vertical_flip=True, \n",
        "                                        fill_mode='reflect',\n",
        "                                        #preprocessing_function=preprocessing,\n",
        "                                        rescale=1/255,\n",
        "                                        validation_split=0.2)\n",
        "\n",
        "# Obtain a data generator with the 'ImageDataGenerator.flow_from_directory' method\n",
        "train_gen = aug_train_data_gen.flow_from_directory(directory=dataset_dir,\n",
        "                                                           target_size=(96,96),\n",
        "                                                           color_mode='rgb',\n",
        "                                                           classes=None, # can be set to labels\n",
        "                                                           class_mode='categorical',\n",
        "                                                           batch_size=32,\n",
        "                                                           shuffle=True,\n",
        "                                                           seed=seed,\n",
        "                                                           subset=\"training\")\n",
        "\n",
        "valid_gen = data_gen.flow_from_directory(directory=dataset_dir,\n",
        "                                               target_size=(96,96),\n",
        "                                               color_mode='rgb',\n",
        "                                               classes=None, # can be set to labels\n",
        "                                               class_mode='categorical',\n",
        "                                               batch_size=1,\n",
        "                                               shuffle=False,\n",
        "                                               seed=seed,\n",
        "                                               subset=\"validation\")"
      ],
      "metadata": {
        "id": "oTgvlML8nOU8",
        "colab": {
          "base_uri": "https://localhost:8080/"
        },
        "outputId": "e86fe662-8da8-4886-9b52-3d10e58e2bd3"
      },
      "execution_count": null,
      "outputs": [
        {
          "output_type": "stream",
          "name": "stdout",
          "text": [
            "Found 2836 images belonging to 8 classes.\n",
            "Found 706 images belonging to 8 classes.\n"
          ]
        }
      ]
    },
    {
      "cell_type": "code",
      "source": [
        "input_shape = (96, 96, 3)\n",
        "epochs = 200"
      ],
      "metadata": {
        "id": "JNEGPMsjnntG"
      },
      "execution_count": null,
      "outputs": []
    },
    {
      "cell_type": "markdown",
      "source": [
        "##Build Model"
      ],
      "metadata": {
        "id": "9J0jegNlR1HF"
      }
    },
    {
      "cell_type": "code",
      "source": [
        "def build_model(input_shape, supernet):\n",
        "\n",
        "    # Build the neural network layer by layer\n",
        "    input_layer = tfkl.Input(shape=input_shape, name='input_layer')\n",
        "\n",
        "    vgg16_layer = supernet(input_layer) \n",
        "\n",
        "    flattening_layer = tfkl.Flatten(name='Flatten')(vgg16_layer)\n",
        "\n",
        "    layer1 = tfkl.Dense(units=1028, kernel_initializer = tfk.initializers.HeUniform(seed), activation='relu')(flattening_layer)\n",
        "\n",
        "    dropout1 = tfkl.Dropout(0.3, seed=seed)(layer1)\n",
        "\n",
        "    classifier_layer = tfkl.Dense(units=512, name='Classifier', kernel_initializer = tfk.initializers.HeUniform(seed), activation='relu')(dropout1)\n",
        "\n",
        "    dropout2 = tfkl.Dropout(0.3, seed=seed)(classifier_layer)\n",
        "\n",
        "    output_layer = tfkl.Dense(units=8, activation='softmax', kernel_initializer=tfk.initializers.GlorotUniform(seed), name='output_layer')(dropout2)\n",
        "\n",
        "    # Connect input and output through the Model class\n",
        "    model = tfk.Model(inputs=input_layer, outputs=output_layer, name='model')\n",
        "\n",
        "    # Compile the model\n",
        "    model.compile(loss=tfk.losses.CategoricalCrossentropy(), optimizer=tfk.optimizers.Adam(1e-4), metrics='accuracy')\n",
        "\n",
        "    # Return the model\n",
        "    return model"
      ],
      "metadata": {
        "id": "eWTiNu3Rnutu"
      },
      "execution_count": null,
      "outputs": []
    },
    {
      "cell_type": "code",
      "source": [
        "def build_model2(input_shape, supernet):\n",
        "\n",
        "    # Build the neural network layer by layer\n",
        "    input_layer = tfkl.Input(shape=input_shape, name='input_layer')\n",
        "\n",
        "    vgg16_layer = supernet(input_layer) \n",
        "\n",
        "    flattening_layer = tfkl.Flatten(name='Flatten')(vgg16_layer)\n",
        "\n",
        "    layer1 = tfkl.Dense(units=1028, kernel_initializer = tfk.initializers.HeUniform(seed), activation='relu')(flattening_layer)\n",
        "\n",
        "    dropout1 = tfkl.Dropout(0.3, seed=seed)(layer1)\n",
        "\n",
        "    classifier_layer = tfkl.Dense(units=1028, name='Classifier', kernel_initializer = tfk.initializers.HeUniform(seed), activation='relu')(dropout1)\n",
        "\n",
        "    dropout2 = tfkl.Dropout(0.3, seed=seed)(classifier_layer)\n",
        "\n",
        "    output_layer = tfkl.Dense(units=8, activation='softmax', kernel_initializer=tfk.initializers.GlorotUniform(seed), name='output_layer')(dropout2)\n",
        "\n",
        "    # Connect input and output through the Model class\n",
        "    model = tfk.Model(inputs=input_layer, outputs=output_layer, name='model')\n",
        "\n",
        "    # Compile the model\n",
        "    model.compile(loss=tfk.losses.CategoricalCrossentropy(), optimizer=tfk.optimizers.Adam(1e-4), metrics='accuracy')\n",
        "\n",
        "    # Return the model\n",
        "    return model"
      ],
      "metadata": {
        "id": "9-Q0aP8QJMqJ"
      },
      "execution_count": null,
      "outputs": []
    },
    {
      "cell_type": "code",
      "source": [
        "def build_model3(input_shape, supernet):\n",
        "\n",
        "    # Build the neural network layer by layer\n",
        "    input_layer = tfkl.Input(shape=input_shape, name='input_layer')\n",
        "\n",
        "    vgg16_layer = supernet(input_layer) \n",
        "\n",
        "    flattening_layer = tfkl.Flatten(name='Flatten')(vgg16_layer)\n",
        "\n",
        "    layer1 = tfkl.Dense(units=512, kernel_initializer = tfk.initializers.HeUniform(seed), activation='relu')(flattening_layer)\n",
        "\n",
        "    dropout1 = tfkl.Dropout(0.2, seed=seed)(layer1)\n",
        "\n",
        "    classifier_layer = tfkl.Dense(units=256, name='Classifier', kernel_initializer = tfk.initializers.HeUniform(seed), activation='relu')(dropout1)\n",
        "\n",
        "    dropout2 = tfkl.Dropout(0.5, seed=seed)(classifier_layer)\n",
        "\n",
        "    output_layer = tfkl.Dense(units=8, activation='softmax', kernel_initializer=tfk.initializers.GlorotUniform(seed), name='output_layer')(dropout2)\n",
        "\n",
        "    # Connect input and output through the Model class\n",
        "    model = tfk.Model(inputs=input_layer, outputs=output_layer, name='model')\n",
        "\n",
        "    # Compile the model\n",
        "    model.compile(loss=tfk.losses.CategoricalCrossentropy(), optimizer=tfk.optimizers.Adam(1e-3), metrics='accuracy')\n",
        "\n",
        "    # Return the model\n",
        "    return model"
      ],
      "metadata": {
        "id": "a0MpdAYYqmOk"
      },
      "execution_count": null,
      "outputs": []
    },
    {
      "cell_type": "code",
      "source": [
        "# Utility function to create folders and callbacks for training\n",
        "from datetime import datetime\n",
        "\n",
        "def create_folders_and_callbacks(model_name):\n",
        "\n",
        "  exps_dir = os.path.join('data_augmentation_experiments')\n",
        "  if not os.path.exists(exps_dir):\n",
        "      os.makedirs(exps_dir)\n",
        "\n",
        "  now = datetime.now().strftime('%b%d_%H-%M-%S')\n",
        "\n",
        "  exp_dir = os.path.join(exps_dir, model_name + '_' + str(now))\n",
        "  if not os.path.exists(exp_dir):\n",
        "      os.makedirs(exp_dir)\n",
        "      \n",
        "  callbacks = []\n",
        "\n",
        "  # Model checkpoint\n",
        "  # ----------------\n",
        "  ckpt_dir = os.path.join(exp_dir, 'ckpts')\n",
        "  if not os.path.exists(ckpt_dir):\n",
        "      os.makedirs(ckpt_dir)\n",
        "\n",
        "  ckpt_callback = tf.keras.callbacks.ModelCheckpoint(filepath=os.path.join(ckpt_dir, 'cp.ckpt'), \n",
        "                                                     save_weights_only=True, # True to save only weights\n",
        "                                                     save_best_only=False) # True to save only the best epoch \n",
        "  callbacks.append(ckpt_callback)\n",
        "\n",
        "  # Visualize Learning on Tensorboard\n",
        "  # ---------------------------------\n",
        "  tb_dir = os.path.join(exp_dir, 'tb_logs')\n",
        "  if not os.path.exists(tb_dir):\n",
        "      os.makedirs(tb_dir)\n",
        "      \n",
        "  # By default shows losses and metrics for both training and validation\n",
        "  tb_callback = tf.keras.callbacks.TensorBoard(log_dir=tb_dir, \n",
        "                                               profile_batch=0,\n",
        "                                               histogram_freq=1)  # if > 0 (epochs) shows weights histograms\n",
        "  callbacks.append(tb_callback)\n",
        "\n",
        "  # Early Stopping\n",
        "  # --------------\n",
        "  es_callback = tf.keras.callbacks.EarlyStopping(monitor='val_accuracy', patience=10, restore_best_weights=True)\n",
        "  callbacks.append(es_callback)\n",
        "\n",
        "  return callbacks"
      ],
      "metadata": {
        "id": "XZlKz44hnyMh"
      },
      "execution_count": null,
      "outputs": []
    },
    {
      "cell_type": "markdown",
      "source": [
        "#VGG16"
      ],
      "metadata": {
        "id": "MMjSsjdg-BcK"
      }
    },
    {
      "cell_type": "code",
      "source": [
        "# Download and plot the VGG16 model\n",
        "supernet1 = tfk.applications.VGG16(\n",
        "    include_top=False,\n",
        "    weights=\"imagenet\",\n",
        "    input_shape=(96,96,3)\n",
        ")"
      ],
      "metadata": {
        "id": "jnami_YPf4tq"
      },
      "execution_count": null,
      "outputs": []
    },
    {
      "cell_type": "code",
      "source": [
        "for layer in supernet1.layers:\n",
        "    layer.trainable = False"
      ],
      "metadata": {
        "id": "f6XHy6pJgCE6"
      },
      "execution_count": null,
      "outputs": []
    },
    {
      "cell_type": "code",
      "source": [
        "# Build model and visualize it\n",
        "model = build_model2(input_shape, supernet1)\n",
        "model.summary()"
      ],
      "metadata": {
        "id": "4JlKIehWoCwA",
        "colab": {
          "base_uri": "https://localhost:8080/"
        },
        "outputId": "d2e38bd6-78fd-4cfe-9a84-2f00d2770463"
      },
      "execution_count": null,
      "outputs": [
        {
          "output_type": "stream",
          "name": "stdout",
          "text": [
            "Model: \"model\"\n",
            "_________________________________________________________________\n",
            " Layer (type)                Output Shape              Param #   \n",
            "=================================================================\n",
            " input_layer (InputLayer)    [(None, 96, 96, 3)]       0         \n",
            "                                                                 \n",
            " vgg16 (Functional)          (None, 3, 3, 512)         14714688  \n",
            "                                                                 \n",
            " Flatten (Flatten)           (None, 4608)              0         \n",
            "                                                                 \n",
            " dense_2 (Dense)             (None, 1028)              4738052   \n",
            "                                                                 \n",
            " dropout_4 (Dropout)         (None, 1028)              0         \n",
            "                                                                 \n",
            " Classifier (Dense)          (None, 1028)              1057812   \n",
            "                                                                 \n",
            " dropout_5 (Dropout)         (None, 1028)              0         \n",
            "                                                                 \n",
            " output_layer (Dense)        (None, 8)                 8232      \n",
            "                                                                 \n",
            "=================================================================\n",
            "Total params: 20,518,784\n",
            "Trainable params: 5,804,096\n",
            "Non-trainable params: 14,714,688\n",
            "_________________________________________________________________\n"
          ]
        }
      ]
    },
    {
      "cell_type": "code",
      "source": [
        "# Create folders and callbacks and fit\n",
        "callbacks = create_folders_and_callbacks(model_name='CNN_VGG16_1')\n",
        "\n",
        "# Train the model\n",
        "history = model.fit(\n",
        "    x = train_gen,\n",
        "    epochs = epochs,\n",
        "    validation_data = valid_gen,\n",
        "    class_weight = {0: 3542/186, 1: 3542/532, 2: 3542/515, 3: 3542/511, 4: 3542/531, \n",
        "                    5: 3542/222, 6: 3542/537, 7: 3542/508},\n",
        "    callbacks = callbacks,\n",
        ").history"
      ],
      "metadata": {
        "id": "ptbkcxd0oDZz",
        "colab": {
          "base_uri": "https://localhost:8080/"
        },
        "outputId": "acfbb941-097d-4227-a2ea-db39eac5e006"
      },
      "execution_count": null,
      "outputs": [
        {
          "output_type": "stream",
          "name": "stdout",
          "text": [
            "Epoch 1/200\n",
            "89/89 [==============================] - 21s 228ms/step - loss: 15.6023 - accuracy: 0.2578 - val_loss: 1.4858 - val_accuracy: 0.4249\n",
            "Epoch 2/200\n",
            "89/89 [==============================] - 21s 231ms/step - loss: 13.1086 - accuracy: 0.3688 - val_loss: 1.4027 - val_accuracy: 0.4334\n",
            "Epoch 3/200\n",
            "89/89 [==============================] - 20s 224ms/step - loss: 12.2057 - accuracy: 0.4140 - val_loss: 1.2996 - val_accuracy: 0.5057\n",
            "Epoch 4/200\n",
            "89/89 [==============================] - 20s 228ms/step - loss: 11.9261 - accuracy: 0.4404 - val_loss: 1.2696 - val_accuracy: 0.5326\n",
            "Epoch 5/200\n",
            "89/89 [==============================] - 21s 235ms/step - loss: 11.3703 - accuracy: 0.4795 - val_loss: 1.2560 - val_accuracy: 0.5198\n",
            "Epoch 6/200\n",
            "89/89 [==============================] - 21s 236ms/step - loss: 11.4674 - accuracy: 0.4630 - val_loss: 1.2163 - val_accuracy: 0.5326\n",
            "Epoch 7/200\n",
            "89/89 [==============================] - 20s 229ms/step - loss: 11.0776 - accuracy: 0.4725 - val_loss: 1.1592 - val_accuracy: 0.5722\n",
            "Epoch 8/200\n",
            "89/89 [==============================] - 21s 234ms/step - loss: 11.0490 - accuracy: 0.4852 - val_loss: 1.2064 - val_accuracy: 0.5397\n",
            "Epoch 9/200\n",
            "89/89 [==============================] - 21s 234ms/step - loss: 10.8701 - accuracy: 0.4894 - val_loss: 1.2210 - val_accuracy: 0.5184\n",
            "Epoch 10/200\n",
            "89/89 [==============================] - 20s 221ms/step - loss: 10.7278 - accuracy: 0.5039 - val_loss: 1.1776 - val_accuracy: 0.5524\n",
            "Epoch 11/200\n",
            "89/89 [==============================] - 21s 238ms/step - loss: 10.7024 - accuracy: 0.5116 - val_loss: 1.1568 - val_accuracy: 0.5722\n",
            "Epoch 12/200\n",
            "89/89 [==============================] - 20s 223ms/step - loss: 10.3147 - accuracy: 0.5148 - val_loss: 1.1093 - val_accuracy: 0.5850\n",
            "Epoch 13/200\n",
            "89/89 [==============================] - 20s 228ms/step - loss: 10.4413 - accuracy: 0.5134 - val_loss: 1.0895 - val_accuracy: 0.5963\n",
            "Epoch 14/200\n",
            "89/89 [==============================] - 21s 238ms/step - loss: 10.4743 - accuracy: 0.5254 - val_loss: 1.0827 - val_accuracy: 0.6020\n",
            "Epoch 15/200\n",
            "89/89 [==============================] - 20s 230ms/step - loss: 10.0071 - accuracy: 0.5331 - val_loss: 1.0916 - val_accuracy: 0.6062\n",
            "Epoch 16/200\n",
            "89/89 [==============================] - 20s 229ms/step - loss: 9.8406 - accuracy: 0.5550 - val_loss: 1.0969 - val_accuracy: 0.5892\n",
            "Epoch 17/200\n",
            "89/89 [==============================] - 21s 237ms/step - loss: 9.9770 - accuracy: 0.5402 - val_loss: 1.0665 - val_accuracy: 0.6119\n",
            "Epoch 18/200\n",
            "89/89 [==============================] - 21s 237ms/step - loss: 10.0140 - accuracy: 0.5314 - val_loss: 1.0401 - val_accuracy: 0.6161\n",
            "Epoch 19/200\n",
            "89/89 [==============================] - 20s 230ms/step - loss: 9.8765 - accuracy: 0.5501 - val_loss: 1.1053 - val_accuracy: 0.5850\n",
            "Epoch 20/200\n",
            "89/89 [==============================] - 21s 237ms/step - loss: 9.9087 - accuracy: 0.5437 - val_loss: 1.0748 - val_accuracy: 0.6006\n",
            "Epoch 21/200\n",
            "89/89 [==============================] - 20s 223ms/step - loss: 9.7917 - accuracy: 0.5642 - val_loss: 1.0268 - val_accuracy: 0.6473\n",
            "Epoch 22/200\n",
            "89/89 [==============================] - 20s 230ms/step - loss: 9.5661 - accuracy: 0.5744 - val_loss: 1.0771 - val_accuracy: 0.5878\n",
            "Epoch 23/200\n",
            "89/89 [==============================] - 21s 237ms/step - loss: 9.4157 - accuracy: 0.5818 - val_loss: 1.0263 - val_accuracy: 0.6176\n",
            "Epoch 24/200\n",
            "89/89 [==============================] - 21s 234ms/step - loss: 9.6492 - accuracy: 0.5751 - val_loss: 1.0541 - val_accuracy: 0.5992\n",
            "Epoch 25/200\n",
            "89/89 [==============================] - 20s 230ms/step - loss: 9.5699 - accuracy: 0.5578 - val_loss: 1.0398 - val_accuracy: 0.6161\n",
            "Epoch 26/200\n",
            "89/89 [==============================] - 21s 236ms/step - loss: 9.5329 - accuracy: 0.5719 - val_loss: 0.9988 - val_accuracy: 0.6459\n",
            "Epoch 27/200\n",
            "89/89 [==============================] - 21s 238ms/step - loss: 9.5629 - accuracy: 0.5642 - val_loss: 1.0029 - val_accuracy: 0.6487\n",
            "Epoch 28/200\n",
            "89/89 [==============================] - 20s 227ms/step - loss: 9.2207 - accuracy: 0.5758 - val_loss: 0.9944 - val_accuracy: 0.6246\n",
            "Epoch 29/200\n",
            "89/89 [==============================] - 21s 238ms/step - loss: 9.3678 - accuracy: 0.5688 - val_loss: 1.0350 - val_accuracy: 0.6091\n",
            "Epoch 30/200\n",
            "89/89 [==============================] - 21s 238ms/step - loss: 9.3211 - accuracy: 0.5811 - val_loss: 1.0194 - val_accuracy: 0.6176\n",
            "Epoch 31/200\n",
            "89/89 [==============================] - 20s 228ms/step - loss: 9.2809 - accuracy: 0.5913 - val_loss: 1.0040 - val_accuracy: 0.6190\n",
            "Epoch 32/200\n",
            "89/89 [==============================] - 21s 236ms/step - loss: 9.1837 - accuracy: 0.5864 - val_loss: 0.9979 - val_accuracy: 0.6204\n",
            "Epoch 33/200\n",
            "89/89 [==============================] - 20s 222ms/step - loss: 9.0903 - accuracy: 0.5892 - val_loss: 1.0035 - val_accuracy: 0.6218\n",
            "Epoch 34/200\n",
            "89/89 [==============================] - 21s 237ms/step - loss: 9.0888 - accuracy: 0.5871 - val_loss: 1.0354 - val_accuracy: 0.6062\n",
            "Epoch 35/200\n",
            "89/89 [==============================] - ETA: 0s - loss: 8.9868 - accuracy: 0.5998"
          ]
        }
      ]
    },
    {
      "cell_type": "code",
      "source": [
        "# Save best epoch model\n",
        "model.save(\"savedModels/CNN_VGG16_1\")"
      ],
      "metadata": {
        "id": "-vnpAJGAoIXJ"
      },
      "execution_count": null,
      "outputs": []
    },
    {
      "cell_type": "code",
      "source": [
        "testModel(valid_gen, model)"
      ],
      "metadata": {
        "id": "eCjB_coLhTnV"
      },
      "execution_count": null,
      "outputs": []
    },
    {
      "cell_type": "code",
      "source": [
        "m = tfk.models.load_model(\"savedModels/CNN_VGG16_1\")"
      ],
      "metadata": {
        "id": "BqPs96D1i4hh"
      },
      "execution_count": null,
      "outputs": []
    },
    {
      "cell_type": "code",
      "source": [
        "m.get_layer('vgg16').trainable = True"
      ],
      "metadata": {
        "id": "4t39G0ARjSzt"
      },
      "execution_count": null,
      "outputs": []
    },
    {
      "cell_type": "code",
      "source": [
        "m.compile(loss=tfk.losses.CategoricalCrossentropy(), optimizer=tfk.optimizers.Adam(1e-4), metrics='accuracy')\n",
        "m.summary()"
      ],
      "metadata": {
        "id": "amn30r9BjeLn"
      },
      "execution_count": null,
      "outputs": []
    },
    {
      "cell_type": "code",
      "source": [
        "callbacks = create_folders_and_callbacks(model_name='CNN_VGG16_1_FineTuning')\n",
        "\n",
        "# Train the model\n",
        "history = m.fit(\n",
        "    x = train_gen,\n",
        "    epochs = epochs,\n",
        "    validation_data = valid_gen,\n",
        "    class_weight = {0: 3542/186, 1: 3542/532, 2: 3542/515, 3: 3542/511, 4: 3542/531, \n",
        "                    5: 3542/222, 6: 3542/537, 7: 3542/508},\n",
        "    callbacks = callbacks,\n",
        ").history"
      ],
      "metadata": {
        "id": "xh83IKTwjtPP"
      },
      "execution_count": null,
      "outputs": []
    },
    {
      "cell_type": "code",
      "source": [
        "# Save best epoch model\n",
        "m.save(\"savedModels/CNN_VGG16_1_FineTuning\")"
      ],
      "metadata": {
        "id": "7VEzyt1Jj4Wz"
      },
      "execution_count": null,
      "outputs": []
    },
    {
      "cell_type": "code",
      "source": [
        "testModel(valid_gen, m)"
      ],
      "metadata": {
        "colab": {
          "base_uri": "https://localhost:8080/",
          "height": 551
        },
        "id": "6chI-dBskDI7",
        "outputId": "0d567eba-21fe-491f-c313-d7cf9771eb3d"
      },
      "execution_count": null,
      "outputs": [
        {
          "output_type": "stream",
          "name": "stdout",
          "text": [
            "706/706 [==============================] - 4s 6ms/step\n"
          ]
        },
        {
          "output_type": "display_data",
          "data": {
            "text/plain": [
              "<Figure size 432x288 with 2 Axes>"
            ],
            "image/png": "[encoded data removed]"
          },
          "metadata": {
            "needs_background": "light"
          }
        },
        {
          "output_type": "stream",
          "name": "stdout",
          "text": [
            "              precision    recall  f1-score   support\n",
            "\n",
            "    Species1       0.33      0.59      0.42        37\n",
            "    Species2       0.85      0.87      0.86       106\n",
            "    Species3       0.86      0.74      0.80       103\n",
            "    Species4       0.74      0.82      0.78       102\n",
            "    Species5       0.87      0.90      0.88       106\n",
            "    Species6       0.97      0.77      0.86        44\n",
            "    Species7       0.98      0.92      0.95       107\n",
            "    Species8       0.78      0.65      0.71       101\n",
            "\n",
            "    accuracy                           0.80       706\n",
            "   macro avg       0.80      0.78      0.78       706\n",
            "weighted avg       0.83      0.80      0.81       706\n",
            "\n"
          ]
        }
      ]
    },
    {
      "cell_type": "markdown",
      "source": [
        "build_model (1028, 512)\n",
        "lr Dropout : 0.3 0.3\n",
        "batch size = 32"
      ],
      "metadata": {
        "id": "92lO54XbvLdM"
      }
    },
    {
      "cell_type": "code",
      "source": [
        "testModel(valid_gen, m)"
      ],
      "metadata": {
        "id": "wizEa5PvVc4j"
      },
      "execution_count": null,
      "outputs": []
    },
    {
      "cell_type": "markdown",
      "source": [
        "build_model2 (1028, 1028) \\\\\n",
        "lr Dropout : 0.3 0.3 \\\\\n",
        "batch size = 32"
      ],
      "metadata": {
        "id": "9xMZVo78vV6-"
      }
    },
    {
      "cell_type": "code",
      "source": [
        "testModel(valid_gen, m)"
      ],
      "metadata": {
        "id": "_JxiuEgrvi5-",
        "colab": {
          "base_uri": "https://localhost:8080/",
          "height": 551
        },
        "outputId": "758b3160-2183-430f-9377-b72718b5b8fb"
      },
      "execution_count": null,
      "outputs": [
        {
          "output_type": "stream",
          "name": "stdout",
          "text": [
            "706/706 [==============================] - 5s 7ms/step\n"
          ]
        },
        {
          "output_type": "display_data",
          "data": {
            "text/plain": [
              "<Figure size 432x288 with 2 Axes>"
            ],
            "image/png": "[encoded data removed]"
          },
          "metadata": {
            "needs_background": "light"
          }
        },
        {
          "output_type": "stream",
          "name": "stdout",
          "text": [
            "              precision    recall  f1-score   support\n",
            "\n",
            "    Species1       0.24      0.51      0.32        37\n",
            "    Species2       0.78      0.90      0.83       106\n",
            "    Species3       0.81      0.89      0.85       103\n",
            "    Species4       0.86      0.75      0.80       102\n",
            "    Species5       0.83      0.78      0.81       106\n",
            "    Species6       0.80      0.80      0.80        44\n",
            "    Species7       0.96      0.84      0.90       107\n",
            "    Species8       0.77      0.49      0.59       101\n",
            "\n",
            "    accuracy                           0.76       706\n",
            "   macro avg       0.75      0.74      0.74       706\n",
            "weighted avg       0.80      0.76      0.77       706\n",
            "\n"
          ]
        }
      ]
    },
    {
      "cell_type": "markdown",
      "source": [
        "build_model3 (516, 228) \\\\\n",
        "lr Dropout_ 0.2 0.5 \\\\\n",
        "batch size= 32"
      ],
      "metadata": {
        "id": "vcyy0r9IvklH"
      }
    },
    {
      "cell_type": "code",
      "source": [
        "m2 = tfk.models.load_model(\"savedModels/CNN_VGG16_1_FineTuning\")"
      ],
      "metadata": {
        "id": "JCEKL6SLd8Gz"
      },
      "execution_count": null,
      "outputs": []
    },
    {
      "cell_type": "code",
      "source": [
        "m2.compile(loss=tfk.losses.CategoricalCrossentropy(), optimizer=tfk.optimizers.Adam(1e-5), metrics='accuracy')\n",
        "m2.summary()"
      ],
      "metadata": {
        "colab": {
          "base_uri": "https://localhost:8080/"
        },
        "id": "lwe3sjv6dCci",
        "outputId": "2cd456a0-d550-4dbd-899e-0bc2edfd5afa"
      },
      "execution_count": null,
      "outputs": [
        {
          "output_type": "stream",
          "name": "stdout",
          "text": [
            "Model: \"model\"\n",
            "_________________________________________________________________\n",
            " Layer (type)                Output Shape              Param #   \n",
            "=================================================================\n",
            " input_layer (InputLayer)    [(None, 96, 96, 3)]       0         \n",
            "                                                                 \n",
            " vgg16 (Functional)          (None, 3, 3, 512)         14714688  \n",
            "                                                                 \n",
            " Flatten (Flatten)           (None, 4608)              0         \n",
            "                                                                 \n",
            " dense (Dense)               (None, 512)               2359808   \n",
            "                                                                 \n",
            " dropout (Dropout)           (None, 512)               0         \n",
            "                                                                 \n",
            " Classifier (Dense)          (None, 256)               131328    \n",
            "                                                                 \n",
            " dropout_1 (Dropout)         (None, 256)               0         \n",
            "                                                                 \n",
            " output_layer (Dense)        (None, 8)                 2056      \n",
            "                                                                 \n",
            "=================================================================\n",
            "Total params: 17,207,880\n",
            "Trainable params: 17,207,880\n",
            "Non-trainable params: 0\n",
            "_________________________________________________________________\n"
          ]
        }
      ]
    },
    {
      "cell_type": "code",
      "source": [
        "callbacks = create_folders_and_callbacks(model_name='CNN_VGG16_2_FineTuning')\n",
        "\n",
        "# Train the model\n",
        "history = m2.fit(\n",
        "    x = train_gen,\n",
        "    epochs = epochs,\n",
        "    validation_data = valid_gen,\n",
        "    class_weight = {0: 3542/186, 1: 3542/532, 2: 3542/515, 3: 3542/511, 4: 3542/531, \n",
        "                    5: 3542/222, 6: 3542/537, 7: 3542/508},\n",
        "    callbacks = callbacks,\n",
        ").history"
      ],
      "metadata": {
        "colab": {
          "base_uri": "https://localhost:8080/"
        },
        "id": "Ub0dwqemdFbP",
        "outputId": "6646913a-1b9b-4eb1-c8ca-868aebac9b74"
      },
      "execution_count": null,
      "outputs": [
        {
          "output_type": "stream",
          "name": "stdout",
          "text": [
            "Epoch 1/200\n",
            "89/89 [==============================] - 23s 245ms/step - loss: 5.1453 - accuracy: 0.7683 - val_loss: 0.6391 - val_accuracy: 0.7408\n",
            "Epoch 2/200\n",
            "89/89 [==============================] - 20s 229ms/step - loss: 4.6304 - accuracy: 0.7831 - val_loss: 0.6252 - val_accuracy: 0.7550\n",
            "Epoch 3/200\n",
            "89/89 [==============================] - 22s 252ms/step - loss: 4.6292 - accuracy: 0.7860 - val_loss: 0.6293 - val_accuracy: 0.7479\n",
            "Epoch 4/200\n",
            "89/89 [==============================] - 21s 235ms/step - loss: 4.4074 - accuracy: 0.8015 - val_loss: 0.7229 - val_accuracy: 0.7167\n",
            "Epoch 5/200\n",
            "89/89 [==============================] - 22s 248ms/step - loss: 4.4316 - accuracy: 0.7860 - val_loss: 0.6115 - val_accuracy: 0.7436\n",
            "Epoch 6/200\n",
            "89/89 [==============================] - 21s 234ms/step - loss: 4.3978 - accuracy: 0.8004 - val_loss: 0.7477 - val_accuracy: 0.7054\n",
            "Epoch 7/200\n",
            "89/89 [==============================] - 21s 232ms/step - loss: 4.4012 - accuracy: 0.8001 - val_loss: 0.5871 - val_accuracy: 0.7578\n",
            "Epoch 8/200\n",
            "89/89 [==============================] - 21s 232ms/step - loss: 4.3897 - accuracy: 0.8015 - val_loss: 0.7404 - val_accuracy: 0.7068\n",
            "Epoch 9/200\n",
            "89/89 [==============================] - 21s 236ms/step - loss: 4.0746 - accuracy: 0.8103 - val_loss: 0.6381 - val_accuracy: 0.7365\n",
            "Epoch 10/200\n",
            "89/89 [==============================] - 20s 229ms/step - loss: 4.2055 - accuracy: 0.8131 - val_loss: 0.7281 - val_accuracy: 0.7167\n",
            "Epoch 11/200\n",
            "89/89 [==============================] - 23s 255ms/step - loss: 4.2816 - accuracy: 0.8061 - val_loss: 0.5918 - val_accuracy: 0.7564\n",
            "Epoch 12/200\n",
            "89/89 [==============================] - 22s 249ms/step - loss: 4.1273 - accuracy: 0.8078 - val_loss: 0.5202 - val_accuracy: 0.7918\n",
            "Epoch 13/200\n",
            "89/89 [==============================] - 21s 233ms/step - loss: 4.1454 - accuracy: 0.8050 - val_loss: 0.6290 - val_accuracy: 0.7380\n",
            "Epoch 14/200\n",
            "89/89 [==============================] - 21s 230ms/step - loss: 4.0857 - accuracy: 0.8096 - val_loss: 0.5601 - val_accuracy: 0.7762\n",
            "Epoch 15/200\n",
            "89/89 [==============================] - 21s 236ms/step - loss: 3.9520 - accuracy: 0.8159 - val_loss: 0.6303 - val_accuracy: 0.7465\n",
            "Epoch 16/200\n",
            "89/89 [==============================] - 21s 233ms/step - loss: 4.0257 - accuracy: 0.8064 - val_loss: 0.6118 - val_accuracy: 0.7620\n",
            "Epoch 17/200\n",
            "89/89 [==============================] - 21s 237ms/step - loss: 3.8534 - accuracy: 0.8159 - val_loss: 0.5479 - val_accuracy: 0.7705\n",
            "Epoch 18/200\n",
            "89/89 [==============================] - 22s 247ms/step - loss: 3.6499 - accuracy: 0.8276 - val_loss: 0.6104 - val_accuracy: 0.7649\n",
            "Epoch 19/200\n",
            "89/89 [==============================] - 20s 230ms/step - loss: 3.8013 - accuracy: 0.8188 - val_loss: 0.5458 - val_accuracy: 0.7904\n",
            "Epoch 20/200\n",
            "89/89 [==============================] - 22s 247ms/step - loss: 3.7509 - accuracy: 0.8071 - val_loss: 0.6305 - val_accuracy: 0.7422\n",
            "Epoch 21/200\n",
            "89/89 [==============================] - 21s 234ms/step - loss: 3.4807 - accuracy: 0.8279 - val_loss: 0.5991 - val_accuracy: 0.7535\n",
            "Epoch 22/200\n",
            "89/89 [==============================] - 22s 243ms/step - loss: 3.8476 - accuracy: 0.8173 - val_loss: 0.6228 - val_accuracy: 0.7592\n"
          ]
        }
      ]
    },
    {
      "cell_type": "code",
      "source": [
        "# Save best epoch model\n",
        "m2.save(\"savedModels/CNN_VGG16_2_FineTuning\")"
      ],
      "metadata": {
        "colab": {
          "base_uri": "https://localhost:8080/"
        },
        "id": "jGcdrX0TdQDy",
        "outputId": "81a3b59c-43f8-457d-8030-967d0fe5327b"
      },
      "execution_count": null,
      "outputs": [
        {
          "output_type": "stream",
          "name": "stderr",
          "text": [
            "WARNING:absl:Found untraced functions such as _jit_compiled_convolution_op, _jit_compiled_convolution_op, _jit_compiled_convolution_op, _jit_compiled_convolution_op, _jit_compiled_convolution_op while saving (showing 5 of 13). These functions will not be directly callable after loading.\n"
          ]
        }
      ]
    },
    {
      "cell_type": "code",
      "source": [
        "testModel(valid_gen, m2)"
      ],
      "metadata": {
        "colab": {
          "base_uri": "https://localhost:8080/",
          "height": 551
        },
        "id": "DMYJn-v1dSzL",
        "outputId": "a955e341-54f1-416f-e762-94096c4ad598"
      },
      "execution_count": null,
      "outputs": [
        {
          "output_type": "stream",
          "name": "stdout",
          "text": [
            "706/706 [==============================] - 4s 6ms/step\n"
          ]
        },
        {
          "output_type": "display_data",
          "data": {
            "text/plain": [
              "<Figure size 432x288 with 2 Axes>"
            ],
            "image/png": "[encoded data removed]"
          },
          "metadata": {
            "needs_background": "light"
          }
        },
        {
          "output_type": "stream",
          "name": "stdout",
          "text": [
            "              precision    recall  f1-score   support\n",
            "\n",
            "    Species1       0.27      0.70      0.39        37\n",
            "    Species2       0.85      0.90      0.87       106\n",
            "    Species3       0.89      0.89      0.89       103\n",
            "    Species4       0.79      0.85      0.82       102\n",
            "    Species5       0.88      0.90      0.89       106\n",
            "    Species6       0.94      0.77      0.85        44\n",
            "    Species7       0.96      0.95      0.96       107\n",
            "    Species8       0.85      0.28      0.42       101\n",
            "\n",
            "    accuracy                           0.79       706\n",
            "   macro avg       0.80      0.78      0.76       706\n",
            "weighted avg       0.84      0.79      0.79       706\n",
            "\n"
          ]
        }
      ]
    },
    {
      "cell_type": "code",
      "source": [
        "m3 = tfk.models.load_model(\"savedModels/CNN_VGG16_2_FineTuning\")"
      ],
      "metadata": {
        "id": "HXsOssAteHLG"
      },
      "execution_count": null,
      "outputs": []
    },
    {
      "cell_type": "code",
      "source": [
        "m3.compile(loss=tfk.losses.CategoricalCrossentropy(), optimizer=tfk.optimizers.Adam(1e-6), metrics='accuracy')\n",
        "m3.summary()"
      ],
      "metadata": {
        "colab": {
          "base_uri": "https://localhost:8080/"
        },
        "id": "X1OCaBB6dTpj",
        "outputId": "0af5b0da-b202-415a-d7e0-0ebcf387c606"
      },
      "execution_count": null,
      "outputs": [
        {
          "output_type": "stream",
          "name": "stdout",
          "text": [
            "Model: \"model\"\n",
            "_________________________________________________________________\n",
            " Layer (type)                Output Shape              Param #   \n",
            "=================================================================\n",
            " input_layer (InputLayer)    [(None, 96, 96, 3)]       0         \n",
            "                                                                 \n",
            " vgg16 (Functional)          (None, 3, 3, 512)         14714688  \n",
            "                                                                 \n",
            " Flatten (Flatten)           (None, 4608)              0         \n",
            "                                                                 \n",
            " dense (Dense)               (None, 512)               2359808   \n",
            "                                                                 \n",
            " dropout (Dropout)           (None, 512)               0         \n",
            "                                                                 \n",
            " Classifier (Dense)          (None, 256)               131328    \n",
            "                                                                 \n",
            " dropout_1 (Dropout)         (None, 256)               0         \n",
            "                                                                 \n",
            " output_layer (Dense)        (None, 8)                 2056      \n",
            "                                                                 \n",
            "=================================================================\n",
            "Total params: 17,207,880\n",
            "Trainable params: 17,207,880\n",
            "Non-trainable params: 0\n",
            "_________________________________________________________________\n"
          ]
        }
      ]
    },
    {
      "cell_type": "code",
      "source": [
        "callbacks = create_folders_and_callbacks(model_name='CNN_VGG16_3_FineTuning')\n",
        "\n",
        "# Train the model\n",
        "history = m3.fit(\n",
        "    x = train_gen,\n",
        "    epochs = epochs,\n",
        "    validation_data = valid_gen,\n",
        "    class_weight = {0: 3542/186, 1: 3542/532, 2: 3542/515, 3: 3542/511, 4: 3542/531, \n",
        "                    5: 3542/222, 6: 3542/537, 7: 3542/508},\n",
        "    callbacks = callbacks,\n",
        ").history"
      ],
      "metadata": {
        "colab": {
          "base_uri": "https://localhost:8080/"
        },
        "id": "i1T7DH6DdYMt",
        "outputId": "0af4ce46-785b-4054-c561-0b254ef79848"
      },
      "execution_count": null,
      "outputs": [
        {
          "output_type": "stream",
          "name": "stdout",
          "text": [
            "Epoch 1/200\n",
            "89/89 [==============================] - 21s 230ms/step - loss: 3.7567 - accuracy: 0.8170 - val_loss: 0.5789 - val_accuracy: 0.7748\n",
            "Epoch 2/200\n",
            "89/89 [==============================] - 22s 242ms/step - loss: 3.8303 - accuracy: 0.8205 - val_loss: 0.5809 - val_accuracy: 0.7748\n",
            "Epoch 3/200\n",
            "89/89 [==============================] - 21s 238ms/step - loss: 3.7809 - accuracy: 0.8212 - val_loss: 0.6016 - val_accuracy: 0.7649\n",
            "Epoch 4/200\n",
            "89/89 [==============================] - 22s 250ms/step - loss: 3.8649 - accuracy: 0.8166 - val_loss: 0.6148 - val_accuracy: 0.7592\n",
            "Epoch 5/200\n",
            "89/89 [==============================] - 21s 241ms/step - loss: 3.8709 - accuracy: 0.8198 - val_loss: 0.5935 - val_accuracy: 0.7720\n",
            "Epoch 6/200\n",
            "89/89 [==============================] - 21s 238ms/step - loss: 3.6720 - accuracy: 0.8304 - val_loss: 0.5908 - val_accuracy: 0.7649\n",
            "Epoch 7/200\n",
            "89/89 [==============================] - 22s 251ms/step - loss: 3.6687 - accuracy: 0.8251 - val_loss: 0.5749 - val_accuracy: 0.7663\n",
            "Epoch 8/200\n",
            "89/89 [==============================] - 20s 228ms/step - loss: 3.7632 - accuracy: 0.8262 - val_loss: 0.6206 - val_accuracy: 0.7606\n",
            "Epoch 9/200\n",
            "89/89 [==============================] - 21s 235ms/step - loss: 3.9056 - accuracy: 0.8117 - val_loss: 0.5817 - val_accuracy: 0.7691\n",
            "Epoch 10/200\n",
            "89/89 [==============================] - 21s 232ms/step - loss: 3.9438 - accuracy: 0.8068 - val_loss: 0.5943 - val_accuracy: 0.7705\n",
            "Epoch 11/200\n",
            "89/89 [==============================] - 21s 241ms/step - loss: 3.8504 - accuracy: 0.8237 - val_loss: 0.5864 - val_accuracy: 0.7720\n"
          ]
        }
      ]
    },
    {
      "cell_type": "code",
      "source": [
        "# Save best epoch model\n",
        "m3.save(\"savedModels/CNN_VGG16_3_FineTuning\")"
      ],
      "metadata": {
        "colab": {
          "base_uri": "https://localhost:8080/"
        },
        "id": "izp5IvBEdbwG",
        "outputId": "c38a0b4f-bebf-49d4-d69c-60748aea2b49"
      },
      "execution_count": null,
      "outputs": [
        {
          "output_type": "stream",
          "name": "stderr",
          "text": [
            "WARNING:absl:Found untraced functions such as _jit_compiled_convolution_op, _jit_compiled_convolution_op, _jit_compiled_convolution_op, _jit_compiled_convolution_op, _jit_compiled_convolution_op while saving (showing 5 of 13). These functions will not be directly callable after loading.\n"
          ]
        }
      ]
    },
    {
      "cell_type": "code",
      "source": [
        "testModel(valid_gen, m3)"
      ],
      "metadata": {
        "colab": {
          "base_uri": "https://localhost:8080/",
          "height": 551
        },
        "id": "ncvLITo4deV-",
        "outputId": "f92543aa-8a94-4cec-dacb-16495f25609b"
      },
      "execution_count": null,
      "outputs": [
        {
          "output_type": "stream",
          "name": "stdout",
          "text": [
            "706/706 [==============================] - 4s 5ms/step\n"
          ]
        },
        {
          "output_type": "display_data",
          "data": {
            "text/plain": [
              "<Figure size 432x288 with 2 Axes>"
            ],
            "image/png": "[encoded data removed]"
          },
          "metadata": {
            "needs_background": "light"
          }
        },
        {
          "output_type": "stream",
          "name": "stdout",
          "text": [
            "              precision    recall  f1-score   support\n",
            "\n",
            "    Species1       0.28      0.78      0.42        37\n",
            "    Species2       0.83      0.91      0.87       106\n",
            "    Species3       0.90      0.80      0.85       103\n",
            "    Species4       0.74      0.86      0.80       102\n",
            "    Species5       0.82      0.90      0.86       106\n",
            "    Species6       0.97      0.73      0.83        44\n",
            "    Species7       0.98      0.93      0.95       107\n",
            "    Species8       0.90      0.26      0.40       101\n",
            "\n",
            "    accuracy                           0.77       706\n",
            "   macro avg       0.80      0.77      0.75       706\n",
            "weighted avg       0.84      0.77      0.77       706\n",
            "\n"
          ]
        }
      ]
    },
    {
      "cell_type": "code",
      "source": [
        "m4 = tfk.models.load_model(\"savedModels/CNN_VGG16_3_FineTuning\")"
      ],
      "metadata": {
        "id": "YBRbEXx9eQT6"
      },
      "execution_count": null,
      "outputs": []
    },
    {
      "cell_type": "code",
      "source": [
        "m4.compile(loss=tfk.losses.CategoricalCrossentropy(), optimizer=tfk.optimizers.Adam(1e-7), metrics='accuracy')\n",
        "m4.summary()"
      ],
      "metadata": {
        "colab": {
          "base_uri": "https://localhost:8080/"
        },
        "id": "8uDrvNljeVj9",
        "outputId": "aac4e909-c3aa-4923-bd57-7904bbb55c8c"
      },
      "execution_count": null,
      "outputs": [
        {
          "output_type": "stream",
          "name": "stdout",
          "text": [
            "Model: \"model\"\n",
            "_________________________________________________________________\n",
            " Layer (type)                Output Shape              Param #   \n",
            "=================================================================\n",
            " input_layer (InputLayer)    [(None, 96, 96, 3)]       0         \n",
            "                                                                 \n",
            " vgg16 (Functional)          (None, 3, 3, 512)         14714688  \n",
            "                                                                 \n",
            " Flatten (Flatten)           (None, 4608)              0         \n",
            "                                                                 \n",
            " dense (Dense)               (None, 512)               2359808   \n",
            "                                                                 \n",
            " dropout (Dropout)           (None, 512)               0         \n",
            "                                                                 \n",
            " Classifier (Dense)          (None, 256)               131328    \n",
            "                                                                 \n",
            " dropout_1 (Dropout)         (None, 256)               0         \n",
            "                                                                 \n",
            " output_layer (Dense)        (None, 8)                 2056      \n",
            "                                                                 \n",
            "=================================================================\n",
            "Total params: 17,207,880\n",
            "Trainable params: 17,207,880\n",
            "Non-trainable params: 0\n",
            "_________________________________________________________________\n"
          ]
        }
      ]
    },
    {
      "cell_type": "code",
      "source": [
        "callbacks = create_folders_and_callbacks(model_name='CNN_VGG16_4_FineTuning')\n",
        "\n",
        "# Train the model\n",
        "history = m4.fit(\n",
        "    x = train_gen,\n",
        "    epochs = epochs,\n",
        "    validation_data = valid_gen,\n",
        "    class_weight = {0: 3542/186, 1: 3542/532, 2: 3542/515, 3: 3542/511, 4: 3542/531, \n",
        "                    5: 3542/222, 6: 3542/537, 7: 3542/508},\n",
        "    callbacks = callbacks,\n",
        ").history"
      ],
      "metadata": {
        "colab": {
          "base_uri": "https://localhost:8080/"
        },
        "id": "zoJTWN1KeVDC",
        "outputId": "7196f669-eaab-47d1-d27d-13009e80942d"
      },
      "execution_count": null,
      "outputs": [
        {
          "output_type": "stream",
          "name": "stdout",
          "text": [
            "Epoch 1/200\n",
            "89/89 [==============================] - 22s 234ms/step - loss: 3.8032 - accuracy: 0.8138 - val_loss: 0.5771 - val_accuracy: 0.7776\n",
            "Epoch 2/200\n",
            "89/89 [==============================] - 22s 242ms/step - loss: 3.7699 - accuracy: 0.8166 - val_loss: 0.5798 - val_accuracy: 0.7720\n",
            "Epoch 3/200\n",
            "89/89 [==============================] - 22s 251ms/step - loss: 3.8292 - accuracy: 0.8145 - val_loss: 0.5855 - val_accuracy: 0.7705\n",
            "Epoch 4/200\n",
            "89/89 [==============================] - 21s 238ms/step - loss: 3.7684 - accuracy: 0.8177 - val_loss: 0.5905 - val_accuracy: 0.7663\n",
            "Epoch 5/200\n",
            "89/89 [==============================] - 21s 237ms/step - loss: 3.9205 - accuracy: 0.8184 - val_loss: 0.5874 - val_accuracy: 0.7705\n",
            "Epoch 6/200\n",
            "89/89 [==============================] - 22s 250ms/step - loss: 3.8791 - accuracy: 0.8202 - val_loss: 0.5875 - val_accuracy: 0.7691\n",
            "Epoch 7/200\n",
            "89/89 [==============================] - 21s 237ms/step - loss: 3.9275 - accuracy: 0.8209 - val_loss: 0.5853 - val_accuracy: 0.7691\n",
            "Epoch 8/200\n",
            "89/89 [==============================] - 22s 242ms/step - loss: 3.8781 - accuracy: 0.8152 - val_loss: 0.5881 - val_accuracy: 0.7691\n",
            "Epoch 9/200\n",
            "89/89 [==============================] - 21s 237ms/step - loss: 3.7887 - accuracy: 0.8191 - val_loss: 0.5894 - val_accuracy: 0.7705\n",
            "Epoch 10/200\n",
            "89/89 [==============================] - 22s 242ms/step - loss: 3.8348 - accuracy: 0.8128 - val_loss: 0.5896 - val_accuracy: 0.7705\n",
            "Epoch 11/200\n",
            "89/89 [==============================] - 23s 258ms/step - loss: 3.7827 - accuracy: 0.8223 - val_loss: 0.5855 - val_accuracy: 0.7705\n"
          ]
        }
      ]
    },
    {
      "cell_type": "code",
      "source": [
        "# Save best epoch model\n",
        "m4.save(\"savedModels/CNN_VGG16_4_FineTuning\")"
      ],
      "metadata": {
        "colab": {
          "base_uri": "https://localhost:8080/"
        },
        "id": "SiVc5b7oeh_i",
        "outputId": "7d6d4a25-e1f8-4232-daaf-d2942fa31a87"
      },
      "execution_count": null,
      "outputs": [
        {
          "output_type": "stream",
          "name": "stderr",
          "text": [
            "WARNING:absl:Found untraced functions such as _jit_compiled_convolution_op, _jit_compiled_convolution_op, _jit_compiled_convolution_op, _jit_compiled_convolution_op, _jit_compiled_convolution_op while saving (showing 5 of 13). These functions will not be directly callable after loading.\n"
          ]
        }
      ]
    },
    {
      "cell_type": "code",
      "source": [
        "testModel(valid_gen, m4)"
      ],
      "metadata": {
        "colab": {
          "base_uri": "https://localhost:8080/",
          "height": 551
        },
        "id": "prF9Zj2fehgK",
        "outputId": "95def00a-04b5-4e97-efa2-388242cb084f"
      },
      "execution_count": null,
      "outputs": [
        {
          "output_type": "stream",
          "name": "stdout",
          "text": [
            "706/706 [==============================] - 4s 5ms/step\n"
          ]
        },
        {
          "output_type": "display_data",
          "data": {
            "text/plain": [
              "<Figure size 432x288 with 2 Axes>"
            ],
            "image/png": "[encoded data removed]"
          },
          "metadata": {
            "needs_background": "light"
          }
        },
        {
          "output_type": "stream",
          "name": "stdout",
          "text": [
            "              precision    recall  f1-score   support\n",
            "\n",
            "    Species1       0.28      0.78      0.41        37\n",
            "    Species2       0.84      0.92      0.87       106\n",
            "    Species3       0.90      0.80      0.85       103\n",
            "    Species4       0.75      0.87      0.81       102\n",
            "    Species5       0.83      0.90      0.86       106\n",
            "    Species6       0.97      0.73      0.83        44\n",
            "    Species7       0.99      0.93      0.96       107\n",
            "    Species8       0.90      0.26      0.40       101\n",
            "\n",
            "    accuracy                           0.78       706\n",
            "   macro avg       0.81      0.77      0.75       706\n",
            "weighted avg       0.84      0.78      0.78       706\n",
            "\n"
          ]
        }
      ]
    },
    {
      "cell_type": "markdown",
      "source": [
        "#XCeption"
      ],
      "metadata": {
        "id": "AMBafD8gvnQ9"
      }
    },
    {
      "cell_type": "code",
      "source": [
        "supernet2 = tfk.applications.Xception(\n",
        "    include_top=False,\n",
        "    weights=\"imagenet\",\n",
        "    input_shape=(96,96,3)\n",
        ")"
      ],
      "metadata": {
        "id": "jWGdJ1LLvnAp",
        "colab": {
          "base_uri": "https://localhost:8080/"
        },
        "outputId": "4b7ac432-6e82-4ae0-ce0f-87f1cd49881b"
      },
      "execution_count": null,
      "outputs": [
        {
          "output_type": "stream",
          "name": "stdout",
          "text": [
            "Downloading data from https://storage.googleapis.com/tensorflow/keras-applications/xception/xception_weights_tf_dim_ordering_tf_kernels_notop.h5\n",
            "83683744/83683744 [==============================] - 4s 0us/step\n"
          ]
        }
      ]
    },
    {
      "cell_type": "code",
      "source": [
        "for layer in supernet2.layers:\n",
        "    layer.trainable = False"
      ],
      "metadata": {
        "id": "Kg8uK5zvDphI"
      },
      "execution_count": null,
      "outputs": []
    },
    {
      "cell_type": "code",
      "source": [
        "xCeption = build_model3(input_shape, supernet2)\n",
        "xCeption.summary()"
      ],
      "metadata": {
        "id": "h-mMCsdtvzwC",
        "colab": {
          "base_uri": "https://localhost:8080/"
        },
        "outputId": "9266edb5-4a91-4739-ae2b-8cd48de8d532"
      },
      "execution_count": null,
      "outputs": [
        {
          "output_type": "stream",
          "name": "stdout",
          "text": [
            "Model: \"model\"\n",
            "_________________________________________________________________\n",
            " Layer (type)                Output Shape              Param #   \n",
            "=================================================================\n",
            " input_layer (InputLayer)    [(None, 96, 96, 3)]       0         \n",
            "                                                                 \n",
            " xception (Functional)       (None, 3, 3, 2048)        20861480  \n",
            "                                                                 \n",
            " Flatten (Flatten)           (None, 18432)             0         \n",
            "                                                                 \n",
            " dense_1 (Dense)             (None, 512)               9437696   \n",
            "                                                                 \n",
            " dropout_2 (Dropout)         (None, 512)               0         \n",
            "                                                                 \n",
            " Classifier (Dense)          (None, 256)               131328    \n",
            "                                                                 \n",
            " dropout_3 (Dropout)         (None, 256)               0         \n",
            "                                                                 \n",
            " output_layer (Dense)        (None, 8)                 2056      \n",
            "                                                                 \n",
            "=================================================================\n",
            "Total params: 30,432,560\n",
            "Trainable params: 9,571,080\n",
            "Non-trainable params: 20,861,480\n",
            "_________________________________________________________________\n"
          ]
        }
      ]
    },
    {
      "cell_type": "code",
      "source": [
        "callbacks = create_folders_and_callbacks(model_name='CNN_XCeption')\n",
        "\n",
        "# Train the model\n",
        "history = xCeption.fit(\n",
        "    x = train_gen,\n",
        "    epochs = epochs,\n",
        "    validation_data = valid_gen,\n",
        "    class_weight = {0: 3542/186, 1: 3542/532, 2: 3542/515, 3: 3542/511, 4: 3542/531, \n",
        "                    5: 3542/222, 6: 3542/537, 7: 3542/508},\n",
        "    callbacks = callbacks,\n",
        ").history"
      ],
      "metadata": {
        "id": "k6cJ5uuVv5Z3",
        "colab": {
          "base_uri": "https://localhost:8080/",
          "height": 990
        },
        "outputId": "b9012c94-16f3-48fc-db33-b53976cf0bb1"
      },
      "execution_count": null,
      "outputs": [
        {
          "output_type": "stream",
          "name": "stdout",
          "text": [
            "Epoch 1/200\n",
            "89/89 [==============================] - 30s 310ms/step - loss: 17.5881 - accuracy: 0.2482 - val_loss: 1.7035 - val_accuracy: 0.3810\n",
            "Epoch 2/200\n",
            "89/89 [==============================] - 27s 300ms/step - loss: 14.9561 - accuracy: 0.3166 - val_loss: 1.5201 - val_accuracy: 0.4462\n",
            "Epoch 3/200\n",
            "89/89 [==============================] - 26s 296ms/step - loss: 14.0343 - accuracy: 0.3484 - val_loss: 1.4753 - val_accuracy: 0.4462\n",
            "Epoch 4/200\n",
            "89/89 [==============================] - 28s 321ms/step - loss: 13.4627 - accuracy: 0.3791 - val_loss: 1.4683 - val_accuracy: 0.4221\n",
            "Epoch 5/200\n",
            "89/89 [==============================] - 26s 291ms/step - loss: 13.3831 - accuracy: 0.3812 - val_loss: 1.4386 - val_accuracy: 0.4476\n",
            "Epoch 6/200\n",
            "89/89 [==============================] - 27s 305ms/step - loss: 13.0694 - accuracy: 0.4080 - val_loss: 1.3990 - val_accuracy: 0.4844\n",
            "Epoch 7/200\n",
            "89/89 [==============================] - 26s 295ms/step - loss: 12.6067 - accuracy: 0.4189 - val_loss: 1.4538 - val_accuracy: 0.4391\n",
            "Epoch 8/200\n",
            "89/89 [==============================] - 25s 282ms/step - loss: 12.7536 - accuracy: 0.4104 - val_loss: 1.3964 - val_accuracy: 0.4660\n",
            "Epoch 9/200\n",
            "89/89 [==============================] - 25s 276ms/step - loss: 12.3496 - accuracy: 0.4362 - val_loss: 1.3369 - val_accuracy: 0.4844\n",
            "Epoch 10/200\n",
            "89/89 [==============================] - 25s 284ms/step - loss: 12.4863 - accuracy: 0.4228 - val_loss: 1.3448 - val_accuracy: 0.5042\n",
            "Epoch 11/200\n",
            "89/89 [==============================] - 24s 267ms/step - loss: 12.2997 - accuracy: 0.4334 - val_loss: 1.3804 - val_accuracy: 0.4717\n",
            "Epoch 12/200\n",
            "89/89 [==============================] - 25s 285ms/step - loss: 12.2491 - accuracy: 0.4252 - val_loss: 1.3697 - val_accuracy: 0.4703\n",
            "Epoch 13/200\n",
            "89/89 [==============================] - 26s 291ms/step - loss: 12.3505 - accuracy: 0.4270 - val_loss: 1.3279 - val_accuracy: 0.4887\n",
            "Epoch 14/200\n",
            "89/89 [==============================] - 24s 276ms/step - loss: 11.9659 - accuracy: 0.4316 - val_loss: 1.3357 - val_accuracy: 0.4773\n",
            "Epoch 15/200\n",
            "89/89 [==============================] - 28s 320ms/step - loss: 12.0805 - accuracy: 0.4506 - val_loss: 1.3297 - val_accuracy: 0.5198\n",
            "Epoch 16/200\n",
            "89/89 [==============================] - 25s 277ms/step - loss: 12.1416 - accuracy: 0.4464 - val_loss: 1.3341 - val_accuracy: 0.5142\n",
            "Epoch 17/200\n",
            "89/89 [==============================] - ETA: 0s - loss: 12.0095 - accuracy: 0.4570"
          ]
        },
        {
          "output_type": "error",
          "ename": "KeyboardInterrupt",
          "evalue": "ignored",
          "traceback": [
            "\u001b[0;31m---------------------------------------------------------------------------\u001b[0m",
            "\u001b[0;31mKeyboardInterrupt\u001b[0m                         Traceback (most recent call last)",
            "\u001b[0;32m<ipython-input-46-afadd3683bf7>\u001b[0m in \u001b[0;36m<module>\u001b[0;34m\u001b[0m\n\u001b[1;32m      8\u001b[0m     class_weight = {0: 3542/186, 1: 3542/532, 2: 3542/515, 3: 3542/511, 4: 3542/531, \n\u001b[1;32m      9\u001b[0m                     5: 3542/222, 6: 3542/537, 7: 3542/508},\n\u001b[0;32m---> 10\u001b[0;31m     \u001b[0mcallbacks\u001b[0m \u001b[0;34m=\u001b[0m \u001b[0mcallbacks\u001b[0m\u001b[0;34m,\u001b[0m\u001b[0;34m\u001b[0m\u001b[0;34m\u001b[0m\u001b[0m\n\u001b[0m\u001b[1;32m     11\u001b[0m ).history\n",
            "\u001b[0;32m/usr/local/lib/python3.7/dist-packages/keras/utils/traceback_utils.py\u001b[0m in \u001b[0;36merror_handler\u001b[0;34m(*args, **kwargs)\u001b[0m\n\u001b[1;32m     62\u001b[0m     \u001b[0mfiltered_tb\u001b[0m \u001b[0;34m=\u001b[0m \u001b[0;32mNone\u001b[0m\u001b[0;34m\u001b[0m\u001b[0;34m\u001b[0m\u001b[0m\n\u001b[1;32m     63\u001b[0m     \u001b[0;32mtry\u001b[0m\u001b[0;34m:\u001b[0m\u001b[0;34m\u001b[0m\u001b[0;34m\u001b[0m\u001b[0m\n\u001b[0;32m---> 64\u001b[0;31m       \u001b[0;32mreturn\u001b[0m \u001b[0mfn\u001b[0m\u001b[0;34m(\u001b[0m\u001b[0;34m*\u001b[0m\u001b[0margs\u001b[0m\u001b[0;34m,\u001b[0m \u001b[0;34m**\u001b[0m\u001b[0mkwargs\u001b[0m\u001b[0;34m)\u001b[0m\u001b[0;34m\u001b[0m\u001b[0;34m\u001b[0m\u001b[0m\n\u001b[0m\u001b[1;32m     65\u001b[0m     \u001b[0;32mexcept\u001b[0m \u001b[0mException\u001b[0m \u001b[0;32mas\u001b[0m \u001b[0me\u001b[0m\u001b[0;34m:\u001b[0m  \u001b[0;31m# pylint: disable=broad-except\u001b[0m\u001b[0;34m\u001b[0m\u001b[0;34m\u001b[0m\u001b[0m\n\u001b[1;32m     66\u001b[0m       \u001b[0mfiltered_tb\u001b[0m \u001b[0;34m=\u001b[0m \u001b[0m_process_traceback_frames\u001b[0m\u001b[0;34m(\u001b[0m\u001b[0me\u001b[0m\u001b[0;34m.\u001b[0m\u001b[0m__traceback__\u001b[0m\u001b[0;34m)\u001b[0m\u001b[0;34m\u001b[0m\u001b[0;34m\u001b[0m\u001b[0m\n",
            "\u001b[0;32m/usr/local/lib/python3.7/dist-packages/keras/engine/training.py\u001b[0m in \u001b[0;36mfit\u001b[0;34m(self, x, y, batch_size, epochs, verbose, callbacks, validation_split, validation_data, shuffle, class_weight, sample_weight, initial_epoch, steps_per_epoch, validation_steps, validation_batch_size, validation_freq, max_queue_size, workers, use_multiprocessing)\u001b[0m\n\u001b[1;32m   1458\u001b[0m           \u001b[0mepoch_logs\u001b[0m\u001b[0;34m.\u001b[0m\u001b[0mupdate\u001b[0m\u001b[0;34m(\u001b[0m\u001b[0mval_logs\u001b[0m\u001b[0;34m)\u001b[0m\u001b[0;34m\u001b[0m\u001b[0;34m\u001b[0m\u001b[0m\n\u001b[1;32m   1459\u001b[0m \u001b[0;34m\u001b[0m\u001b[0m\n\u001b[0;32m-> 1460\u001b[0;31m         \u001b[0mcallbacks\u001b[0m\u001b[0;34m.\u001b[0m\u001b[0mon_epoch_end\u001b[0m\u001b[0;34m(\u001b[0m\u001b[0mepoch\u001b[0m\u001b[0;34m,\u001b[0m \u001b[0mepoch_logs\u001b[0m\u001b[0;34m)\u001b[0m\u001b[0;34m\u001b[0m\u001b[0;34m\u001b[0m\u001b[0m\n\u001b[0m\u001b[1;32m   1461\u001b[0m         \u001b[0mtraining_logs\u001b[0m \u001b[0;34m=\u001b[0m \u001b[0mepoch_logs\u001b[0m\u001b[0;34m\u001b[0m\u001b[0;34m\u001b[0m\u001b[0m\n\u001b[1;32m   1462\u001b[0m         \u001b[0;32mif\u001b[0m \u001b[0mself\u001b[0m\u001b[0;34m.\u001b[0m\u001b[0mstop_training\u001b[0m\u001b[0;34m:\u001b[0m\u001b[0;34m\u001b[0m\u001b[0;34m\u001b[0m\u001b[0m\n",
            "\u001b[0;32m/usr/local/lib/python3.7/dist-packages/keras/callbacks.py\u001b[0m in \u001b[0;36mon_epoch_end\u001b[0;34m(self, epoch, logs)\u001b[0m\n\u001b[1;32m    414\u001b[0m     \u001b[0mlogs\u001b[0m \u001b[0;34m=\u001b[0m \u001b[0mself\u001b[0m\u001b[0;34m.\u001b[0m\u001b[0m_process_logs\u001b[0m\u001b[0;34m(\u001b[0m\u001b[0mlogs\u001b[0m\u001b[0;34m)\u001b[0m\u001b[0;34m\u001b[0m\u001b[0;34m\u001b[0m\u001b[0m\n\u001b[1;32m    415\u001b[0m     \u001b[0;32mfor\u001b[0m \u001b[0mcallback\u001b[0m \u001b[0;32min\u001b[0m \u001b[0mself\u001b[0m\u001b[0;34m.\u001b[0m\u001b[0mcallbacks\u001b[0m\u001b[0;34m:\u001b[0m\u001b[0;34m\u001b[0m\u001b[0;34m\u001b[0m\u001b[0m\n\u001b[0;32m--> 416\u001b[0;31m       \u001b[0mcallback\u001b[0m\u001b[0;34m.\u001b[0m\u001b[0mon_epoch_end\u001b[0m\u001b[0;34m(\u001b[0m\u001b[0mepoch\u001b[0m\u001b[0;34m,\u001b[0m \u001b[0mlogs\u001b[0m\u001b[0;34m)\u001b[0m\u001b[0;34m\u001b[0m\u001b[0;34m\u001b[0m\u001b[0m\n\u001b[0m\u001b[1;32m    417\u001b[0m \u001b[0;34m\u001b[0m\u001b[0m\n\u001b[1;32m    418\u001b[0m   \u001b[0;32mdef\u001b[0m \u001b[0mon_train_batch_begin\u001b[0m\u001b[0;34m(\u001b[0m\u001b[0mself\u001b[0m\u001b[0;34m,\u001b[0m \u001b[0mbatch\u001b[0m\u001b[0;34m,\u001b[0m \u001b[0mlogs\u001b[0m\u001b[0;34m=\u001b[0m\u001b[0;32mNone\u001b[0m\u001b[0;34m)\u001b[0m\u001b[0;34m:\u001b[0m\u001b[0;34m\u001b[0m\u001b[0;34m\u001b[0m\u001b[0m\n",
            "\u001b[0;32m/usr/local/lib/python3.7/dist-packages/keras/callbacks.py\u001b[0m in \u001b[0;36mon_epoch_end\u001b[0;34m(self, epoch, logs)\u001b[0m\n\u001b[1;32m   2506\u001b[0m \u001b[0;34m\u001b[0m\u001b[0m\n\u001b[1;32m   2507\u001b[0m     \u001b[0;32mif\u001b[0m \u001b[0mself\u001b[0m\u001b[0;34m.\u001b[0m\u001b[0mhistogram_freq\u001b[0m \u001b[0;32mand\u001b[0m \u001b[0mepoch\u001b[0m \u001b[0;34m%\u001b[0m \u001b[0mself\u001b[0m\u001b[0;34m.\u001b[0m\u001b[0mhistogram_freq\u001b[0m \u001b[0;34m==\u001b[0m \u001b[0;36m0\u001b[0m\u001b[0;34m:\u001b[0m\u001b[0;34m\u001b[0m\u001b[0;34m\u001b[0m\u001b[0m\n\u001b[0;32m-> 2508\u001b[0;31m       \u001b[0mself\u001b[0m\u001b[0;34m.\u001b[0m\u001b[0m_log_weights\u001b[0m\u001b[0;34m(\u001b[0m\u001b[0mepoch\u001b[0m\u001b[0;34m)\u001b[0m\u001b[0;34m\u001b[0m\u001b[0;34m\u001b[0m\u001b[0m\n\u001b[0m\u001b[1;32m   2509\u001b[0m \u001b[0;34m\u001b[0m\u001b[0m\n\u001b[1;32m   2510\u001b[0m     \u001b[0;32mif\u001b[0m \u001b[0mself\u001b[0m\u001b[0;34m.\u001b[0m\u001b[0membeddings_freq\u001b[0m \u001b[0;32mand\u001b[0m \u001b[0mepoch\u001b[0m \u001b[0;34m%\u001b[0m \u001b[0mself\u001b[0m\u001b[0;34m.\u001b[0m\u001b[0membeddings_freq\u001b[0m \u001b[0;34m==\u001b[0m \u001b[0;36m0\u001b[0m\u001b[0;34m:\u001b[0m\u001b[0;34m\u001b[0m\u001b[0;34m\u001b[0m\u001b[0m\n",
            "\u001b[0;32m/usr/local/lib/python3.7/dist-packages/keras/callbacks.py\u001b[0m in \u001b[0;36m_log_weights\u001b[0;34m(self, epoch)\u001b[0m\n\u001b[1;32m   2574\u001b[0m           \u001b[0;32mfor\u001b[0m \u001b[0mweight\u001b[0m \u001b[0;32min\u001b[0m \u001b[0mlayer\u001b[0m\u001b[0;34m.\u001b[0m\u001b[0mweights\u001b[0m\u001b[0;34m:\u001b[0m\u001b[0;34m\u001b[0m\u001b[0;34m\u001b[0m\u001b[0m\n\u001b[1;32m   2575\u001b[0m             \u001b[0mweight_name\u001b[0m \u001b[0;34m=\u001b[0m \u001b[0mweight\u001b[0m\u001b[0;34m.\u001b[0m\u001b[0mname\u001b[0m\u001b[0;34m.\u001b[0m\u001b[0mreplace\u001b[0m\u001b[0;34m(\u001b[0m\u001b[0;34m':'\u001b[0m\u001b[0;34m,\u001b[0m \u001b[0;34m'_'\u001b[0m\u001b[0;34m)\u001b[0m\u001b[0;34m\u001b[0m\u001b[0;34m\u001b[0m\u001b[0m\n\u001b[0;32m-> 2576\u001b[0;31m             \u001b[0mtf\u001b[0m\u001b[0;34m.\u001b[0m\u001b[0msummary\u001b[0m\u001b[0;34m.\u001b[0m\u001b[0mhistogram\u001b[0m\u001b[0;34m(\u001b[0m\u001b[0mweight_name\u001b[0m\u001b[0;34m,\u001b[0m \u001b[0mweight\u001b[0m\u001b[0;34m,\u001b[0m \u001b[0mstep\u001b[0m\u001b[0;34m=\u001b[0m\u001b[0mepoch\u001b[0m\u001b[0;34m)\u001b[0m\u001b[0;34m\u001b[0m\u001b[0;34m\u001b[0m\u001b[0m\n\u001b[0m\u001b[1;32m   2577\u001b[0m             \u001b[0;32mif\u001b[0m \u001b[0mself\u001b[0m\u001b[0;34m.\u001b[0m\u001b[0mwrite_images\u001b[0m\u001b[0;34m:\u001b[0m\u001b[0;34m\u001b[0m\u001b[0;34m\u001b[0m\u001b[0m\n\u001b[1;32m   2578\u001b[0m               \u001b[0mself\u001b[0m\u001b[0;34m.\u001b[0m\u001b[0m_log_weight_as_image\u001b[0m\u001b[0;34m(\u001b[0m\u001b[0mweight\u001b[0m\u001b[0;34m,\u001b[0m \u001b[0mweight_name\u001b[0m\u001b[0;34m,\u001b[0m \u001b[0mepoch\u001b[0m\u001b[0;34m)\u001b[0m\u001b[0;34m\u001b[0m\u001b[0;34m\u001b[0m\u001b[0m\n",
            "\u001b[0;32m/usr/local/lib/python3.7/dist-packages/tensorboard/plugins/histogram/summary_v2.py\u001b[0m in \u001b[0;36mhistogram\u001b[0;34m(name, data, step, buckets, description)\u001b[0m\n\u001b[1;32m    196\u001b[0m             \u001b[0mtensor\u001b[0m\u001b[0;34m=\u001b[0m\u001b[0mlazy_tensor\u001b[0m\u001b[0;34m,\u001b[0m\u001b[0;34m\u001b[0m\u001b[0;34m\u001b[0m\u001b[0m\n\u001b[1;32m    197\u001b[0m             \u001b[0mstep\u001b[0m\u001b[0;34m=\u001b[0m\u001b[0mstep\u001b[0m\u001b[0;34m,\u001b[0m\u001b[0;34m\u001b[0m\u001b[0;34m\u001b[0m\u001b[0m\n\u001b[0;32m--> 198\u001b[0;31m             \u001b[0mmetadata\u001b[0m\u001b[0;34m=\u001b[0m\u001b[0msummary_metadata\u001b[0m\u001b[0;34m,\u001b[0m\u001b[0;34m\u001b[0m\u001b[0;34m\u001b[0m\u001b[0m\n\u001b[0m\u001b[1;32m    199\u001b[0m         )\n\u001b[1;32m    200\u001b[0m \u001b[0;34m\u001b[0m\u001b[0m\n",
            "\u001b[0;32m/usr/local/lib/python3.7/dist-packages/tensorflow/python/ops/summary_ops_v2.py\u001b[0m in \u001b[0;36mwrite\u001b[0;34m(tag, tensor, step, metadata, name)\u001b[0m\n\u001b[1;32m    768\u001b[0m \u001b[0;34m\u001b[0m\u001b[0m\n\u001b[1;32m    769\u001b[0m     op = smart_cond.smart_cond(\n\u001b[0;32m--> 770\u001b[0;31m         should_record_summaries(), record, _nothing, name=\"summary_cond\")\n\u001b[0m\u001b[1;32m    771\u001b[0m     \u001b[0;32mif\u001b[0m \u001b[0;32mnot\u001b[0m \u001b[0mcontext\u001b[0m\u001b[0;34m.\u001b[0m\u001b[0mexecuting_eagerly\u001b[0m\u001b[0;34m(\u001b[0m\u001b[0;34m)\u001b[0m\u001b[0;34m:\u001b[0m\u001b[0;34m\u001b[0m\u001b[0;34m\u001b[0m\u001b[0m\n\u001b[1;32m    772\u001b[0m       \u001b[0mops\u001b[0m\u001b[0;34m.\u001b[0m\u001b[0madd_to_collection\u001b[0m\u001b[0;34m(\u001b[0m\u001b[0mops\u001b[0m\u001b[0;34m.\u001b[0m\u001b[0mGraphKeys\u001b[0m\u001b[0;34m.\u001b[0m\u001b[0m_SUMMARY_COLLECTION\u001b[0m\u001b[0;34m,\u001b[0m \u001b[0mop\u001b[0m\u001b[0;34m)\u001b[0m  \u001b[0;31m# pylint: disable=protected-access\u001b[0m\u001b[0;34m\u001b[0m\u001b[0;34m\u001b[0m\u001b[0m\n",
            "\u001b[0;32m/usr/local/lib/python3.7/dist-packages/tensorflow/python/framework/smart_cond.py\u001b[0m in \u001b[0;36msmart_cond\u001b[0;34m(pred, true_fn, false_fn, name)\u001b[0m\n\u001b[1;32m     51\u001b[0m   \u001b[0;32mif\u001b[0m \u001b[0mpred_value\u001b[0m \u001b[0;32mis\u001b[0m \u001b[0;32mnot\u001b[0m \u001b[0;32mNone\u001b[0m\u001b[0;34m:\u001b[0m\u001b[0;34m\u001b[0m\u001b[0;34m\u001b[0m\u001b[0m\n\u001b[1;32m     52\u001b[0m     \u001b[0;32mif\u001b[0m \u001b[0mpred_value\u001b[0m\u001b[0;34m:\u001b[0m\u001b[0;34m\u001b[0m\u001b[0;34m\u001b[0m\u001b[0m\n\u001b[0;32m---> 53\u001b[0;31m       \u001b[0;32mreturn\u001b[0m \u001b[0mtrue_fn\u001b[0m\u001b[0;34m(\u001b[0m\u001b[0;34m)\u001b[0m\u001b[0;34m\u001b[0m\u001b[0;34m\u001b[0m\u001b[0m\n\u001b[0m\u001b[1;32m     54\u001b[0m     \u001b[0;32melse\u001b[0m\u001b[0;34m:\u001b[0m\u001b[0;34m\u001b[0m\u001b[0;34m\u001b[0m\u001b[0m\n\u001b[1;32m     55\u001b[0m       \u001b[0;32mreturn\u001b[0m \u001b[0mfalse_fn\u001b[0m\u001b[0;34m(\u001b[0m\u001b[0;34m)\u001b[0m\u001b[0;34m\u001b[0m\u001b[0;34m\u001b[0m\u001b[0m\n",
            "\u001b[0;32m/usr/local/lib/python3.7/dist-packages/tensorflow/python/ops/summary_ops_v2.py\u001b[0m in \u001b[0;36mrecord\u001b[0;34m()\u001b[0m\n\u001b[1;32m    755\u001b[0m       \u001b[0;31m# Note the identity to move the tensor to the CPU.\u001b[0m\u001b[0;34m\u001b[0m\u001b[0;34m\u001b[0m\u001b[0;34m\u001b[0m\u001b[0m\n\u001b[1;32m    756\u001b[0m       \u001b[0;32mwith\u001b[0m \u001b[0mops\u001b[0m\u001b[0;34m.\u001b[0m\u001b[0mdevice\u001b[0m\u001b[0;34m(\u001b[0m\u001b[0;34m\"cpu:0\"\u001b[0m\u001b[0;34m)\u001b[0m\u001b[0;34m:\u001b[0m\u001b[0;34m\u001b[0m\u001b[0;34m\u001b[0m\u001b[0m\n\u001b[0;32m--> 757\u001b[0;31m         summary_tensor = tensor() if callable(tensor) else array_ops.identity(\n\u001b[0m\u001b[1;32m    758\u001b[0m             tensor)\n\u001b[1;32m    759\u001b[0m         write_summary_op = gen_summary_ops.write_summary(\n",
            "\u001b[0;32m/usr/local/lib/python3.7/dist-packages/tensorboard/util/lazy_tensor_creator.py\u001b[0m in \u001b[0;36m__call__\u001b[0;34m(self)\u001b[0m\n\u001b[1;32m     64\u001b[0m                 \u001b[0;32melif\u001b[0m \u001b[0mself\u001b[0m\u001b[0;34m.\u001b[0m\u001b[0m_tensor\u001b[0m \u001b[0;32mis\u001b[0m \u001b[0;32mNone\u001b[0m\u001b[0;34m:\u001b[0m\u001b[0;34m\u001b[0m\u001b[0;34m\u001b[0m\u001b[0m\n\u001b[1;32m     65\u001b[0m                     \u001b[0mself\u001b[0m\u001b[0;34m.\u001b[0m\u001b[0m_tensor\u001b[0m \u001b[0;34m=\u001b[0m \u001b[0m_CALL_IN_PROGRESS_SENTINEL\u001b[0m\u001b[0;34m\u001b[0m\u001b[0;34m\u001b[0m\u001b[0m\n\u001b[0;32m---> 66\u001b[0;31m                     \u001b[0mself\u001b[0m\u001b[0;34m.\u001b[0m\u001b[0m_tensor\u001b[0m \u001b[0;34m=\u001b[0m \u001b[0mself\u001b[0m\u001b[0;34m.\u001b[0m\u001b[0m_tensor_callable\u001b[0m\u001b[0;34m(\u001b[0m\u001b[0;34m)\u001b[0m\u001b[0;34m\u001b[0m\u001b[0;34m\u001b[0m\u001b[0m\n\u001b[0m\u001b[1;32m     67\u001b[0m         \u001b[0;32mreturn\u001b[0m \u001b[0mself\u001b[0m\u001b[0;34m.\u001b[0m\u001b[0m_tensor\u001b[0m\u001b[0;34m\u001b[0m\u001b[0;34m\u001b[0m\u001b[0m\n\u001b[1;32m     68\u001b[0m \u001b[0;34m\u001b[0m\u001b[0m\n",
            "\u001b[0;32m/usr/local/lib/python3.7/dist-packages/tensorboard/plugins/histogram/summary_v2.py\u001b[0m in \u001b[0;36mlazy_tensor\u001b[0;34m()\u001b[0m\n\u001b[1;32m    190\u001b[0m         \u001b[0;34m@\u001b[0m\u001b[0mlazy_tensor_creator\u001b[0m\u001b[0;34m.\u001b[0m\u001b[0mLazyTensorCreator\u001b[0m\u001b[0;34m\u001b[0m\u001b[0;34m\u001b[0m\u001b[0m\n\u001b[1;32m    191\u001b[0m         \u001b[0;32mdef\u001b[0m \u001b[0mlazy_tensor\u001b[0m\u001b[0;34m(\u001b[0m\u001b[0;34m)\u001b[0m\u001b[0;34m:\u001b[0m\u001b[0;34m\u001b[0m\u001b[0;34m\u001b[0m\u001b[0m\n\u001b[0;32m--> 192\u001b[0;31m             \u001b[0;32mreturn\u001b[0m \u001b[0m_buckets\u001b[0m\u001b[0;34m(\u001b[0m\u001b[0mdata\u001b[0m\u001b[0;34m,\u001b[0m \u001b[0mbuckets\u001b[0m\u001b[0;34m)\u001b[0m\u001b[0;34m\u001b[0m\u001b[0;34m\u001b[0m\u001b[0m\n\u001b[0m\u001b[1;32m    193\u001b[0m \u001b[0;34m\u001b[0m\u001b[0m\n\u001b[1;32m    194\u001b[0m         return tf.summary.write(\n",
            "\u001b[0;32m/usr/local/lib/python3.7/dist-packages/tensorboard/plugins/histogram/summary_v2.py\u001b[0m in \u001b[0;36m_buckets\u001b[0;34m(data, bucket_count)\u001b[0m\n\u001b[1;32m    289\u001b[0m             )\n\u001b[1;32m    290\u001b[0m \u001b[0;34m\u001b[0m\u001b[0m\n\u001b[0;32m--> 291\u001b[0;31m         \u001b[0;32mreturn\u001b[0m \u001b[0mtf\u001b[0m\u001b[0;34m.\u001b[0m\u001b[0mcond\u001b[0m\u001b[0;34m(\u001b[0m\u001b[0mis_empty\u001b[0m\u001b[0;34m,\u001b[0m \u001b[0mwhen_empty\u001b[0m\u001b[0;34m,\u001b[0m \u001b[0mwhen_nonempty\u001b[0m\u001b[0;34m)\u001b[0m\u001b[0;34m\u001b[0m\u001b[0;34m\u001b[0m\u001b[0m\n\u001b[0m",
            "\u001b[0;32m/usr/local/lib/python3.7/dist-packages/tensorflow/python/util/traceback_utils.py\u001b[0m in \u001b[0;36merror_handler\u001b[0;34m(*args, **kwargs)\u001b[0m\n\u001b[1;32m    148\u001b[0m     \u001b[0mfiltered_tb\u001b[0m \u001b[0;34m=\u001b[0m \u001b[0;32mNone\u001b[0m\u001b[0;34m\u001b[0m\u001b[0;34m\u001b[0m\u001b[0m\n\u001b[1;32m    149\u001b[0m     \u001b[0;32mtry\u001b[0m\u001b[0;34m:\u001b[0m\u001b[0;34m\u001b[0m\u001b[0;34m\u001b[0m\u001b[0m\n\u001b[0;32m--> 150\u001b[0;31m       \u001b[0;32mreturn\u001b[0m \u001b[0mfn\u001b[0m\u001b[0;34m(\u001b[0m\u001b[0;34m*\u001b[0m\u001b[0margs\u001b[0m\u001b[0;34m,\u001b[0m \u001b[0;34m**\u001b[0m\u001b[0mkwargs\u001b[0m\u001b[0;34m)\u001b[0m\u001b[0;34m\u001b[0m\u001b[0;34m\u001b[0m\u001b[0m\n\u001b[0m\u001b[1;32m    151\u001b[0m     \u001b[0;32mexcept\u001b[0m \u001b[0mException\u001b[0m \u001b[0;32mas\u001b[0m \u001b[0me\u001b[0m\u001b[0;34m:\u001b[0m\u001b[0;34m\u001b[0m\u001b[0;34m\u001b[0m\u001b[0m\n\u001b[1;32m    152\u001b[0m       \u001b[0mfiltered_tb\u001b[0m \u001b[0;34m=\u001b[0m \u001b[0m_process_traceback_frames\u001b[0m\u001b[0;34m(\u001b[0m\u001b[0me\u001b[0m\u001b[0;34m.\u001b[0m\u001b[0m__traceback__\u001b[0m\u001b[0;34m)\u001b[0m\u001b[0;34m\u001b[0m\u001b[0;34m\u001b[0m\u001b[0m\n",
            "\u001b[0;32m/usr/local/lib/python3.7/dist-packages/tensorflow/python/util/dispatch.py\u001b[0m in \u001b[0;36mop_dispatch_handler\u001b[0;34m(*args, **kwargs)\u001b[0m\n\u001b[1;32m   1080\u001b[0m       \u001b[0;31m# Fallback dispatch system (dispatch v1):\u001b[0m\u001b[0;34m\u001b[0m\u001b[0;34m\u001b[0m\u001b[0;34m\u001b[0m\u001b[0m\n\u001b[1;32m   1081\u001b[0m       \u001b[0;32mtry\u001b[0m\u001b[0;34m:\u001b[0m\u001b[0;34m\u001b[0m\u001b[0;34m\u001b[0m\u001b[0m\n\u001b[0;32m-> 1082\u001b[0;31m         \u001b[0;32mreturn\u001b[0m \u001b[0mdispatch_target\u001b[0m\u001b[0;34m(\u001b[0m\u001b[0;34m*\u001b[0m\u001b[0margs\u001b[0m\u001b[0;34m,\u001b[0m \u001b[0;34m**\u001b[0m\u001b[0mkwargs\u001b[0m\u001b[0;34m)\u001b[0m\u001b[0;34m\u001b[0m\u001b[0;34m\u001b[0m\u001b[0m\n\u001b[0m\u001b[1;32m   1083\u001b[0m       \u001b[0;32mexcept\u001b[0m \u001b[0;34m(\u001b[0m\u001b[0mTypeError\u001b[0m\u001b[0;34m,\u001b[0m \u001b[0mValueError\u001b[0m\u001b[0;34m)\u001b[0m\u001b[0;34m:\u001b[0m\u001b[0;34m\u001b[0m\u001b[0;34m\u001b[0m\u001b[0m\n\u001b[1;32m   1084\u001b[0m         \u001b[0;31m# Note: convert_to_eager_tensor currently raises a ValueError, not a\u001b[0m\u001b[0;34m\u001b[0m\u001b[0;34m\u001b[0m\u001b[0;34m\u001b[0m\u001b[0m\n",
            "\u001b[0;32m/usr/local/lib/python3.7/dist-packages/tensorflow/python/ops/control_flow_ops.py\u001b[0m in \u001b[0;36mcond_for_tf_v2\u001b[0;34m(pred, true_fn, false_fn, name)\u001b[0m\n\u001b[1;32m   1389\u001b[0m \u001b[0;34m\u001b[0m\u001b[0m\n\u001b[1;32m   1390\u001b[0m   \"\"\"\n\u001b[0;32m-> 1391\u001b[0;31m   \u001b[0;32mreturn\u001b[0m \u001b[0mcond\u001b[0m\u001b[0;34m(\u001b[0m\u001b[0mpred\u001b[0m\u001b[0;34m,\u001b[0m \u001b[0mtrue_fn\u001b[0m\u001b[0;34m=\u001b[0m\u001b[0mtrue_fn\u001b[0m\u001b[0;34m,\u001b[0m \u001b[0mfalse_fn\u001b[0m\u001b[0;34m=\u001b[0m\u001b[0mfalse_fn\u001b[0m\u001b[0;34m,\u001b[0m \u001b[0mstrict\u001b[0m\u001b[0;34m=\u001b[0m\u001b[0;32mTrue\u001b[0m\u001b[0;34m,\u001b[0m \u001b[0mname\u001b[0m\u001b[0;34m=\u001b[0m\u001b[0mname\u001b[0m\u001b[0;34m)\u001b[0m\u001b[0;34m\u001b[0m\u001b[0;34m\u001b[0m\u001b[0m\n\u001b[0m\u001b[1;32m   1392\u001b[0m \u001b[0;34m\u001b[0m\u001b[0m\n\u001b[1;32m   1393\u001b[0m \u001b[0;34m\u001b[0m\u001b[0m\n",
            "\u001b[0;32m/usr/local/lib/python3.7/dist-packages/tensorflow/python/util/traceback_utils.py\u001b[0m in \u001b[0;36merror_handler\u001b[0;34m(*args, **kwargs)\u001b[0m\n\u001b[1;32m    148\u001b[0m     \u001b[0mfiltered_tb\u001b[0m \u001b[0;34m=\u001b[0m \u001b[0;32mNone\u001b[0m\u001b[0;34m\u001b[0m\u001b[0;34m\u001b[0m\u001b[0m\n\u001b[1;32m    149\u001b[0m     \u001b[0;32mtry\u001b[0m\u001b[0;34m:\u001b[0m\u001b[0;34m\u001b[0m\u001b[0;34m\u001b[0m\u001b[0m\n\u001b[0;32m--> 150\u001b[0;31m       \u001b[0;32mreturn\u001b[0m \u001b[0mfn\u001b[0m\u001b[0;34m(\u001b[0m\u001b[0;34m*\u001b[0m\u001b[0margs\u001b[0m\u001b[0;34m,\u001b[0m \u001b[0;34m**\u001b[0m\u001b[0mkwargs\u001b[0m\u001b[0;34m)\u001b[0m\u001b[0;34m\u001b[0m\u001b[0;34m\u001b[0m\u001b[0m\n\u001b[0m\u001b[1;32m    151\u001b[0m     \u001b[0;32mexcept\u001b[0m \u001b[0mException\u001b[0m \u001b[0;32mas\u001b[0m \u001b[0me\u001b[0m\u001b[0;34m:\u001b[0m\u001b[0;34m\u001b[0m\u001b[0;34m\u001b[0m\u001b[0m\n\u001b[1;32m    152\u001b[0m       \u001b[0mfiltered_tb\u001b[0m \u001b[0;34m=\u001b[0m \u001b[0m_process_traceback_frames\u001b[0m\u001b[0;34m(\u001b[0m\u001b[0me\u001b[0m\u001b[0;34m.\u001b[0m\u001b[0m__traceback__\u001b[0m\u001b[0;34m)\u001b[0m\u001b[0;34m\u001b[0m\u001b[0;34m\u001b[0m\u001b[0m\n",
            "\u001b[0;32m/usr/local/lib/python3.7/dist-packages/tensorflow/python/util/dispatch.py\u001b[0m in \u001b[0;36mop_dispatch_handler\u001b[0;34m(*args, **kwargs)\u001b[0m\n\u001b[1;32m   1080\u001b[0m       \u001b[0;31m# Fallback dispatch system (dispatch v1):\u001b[0m\u001b[0;34m\u001b[0m\u001b[0;34m\u001b[0m\u001b[0;34m\u001b[0m\u001b[0m\n\u001b[1;32m   1081\u001b[0m       \u001b[0;32mtry\u001b[0m\u001b[0;34m:\u001b[0m\u001b[0;34m\u001b[0m\u001b[0;34m\u001b[0m\u001b[0m\n\u001b[0;32m-> 1082\u001b[0;31m         \u001b[0;32mreturn\u001b[0m \u001b[0mdispatch_target\u001b[0m\u001b[0;34m(\u001b[0m\u001b[0;34m*\u001b[0m\u001b[0margs\u001b[0m\u001b[0;34m,\u001b[0m \u001b[0;34m**\u001b[0m\u001b[0mkwargs\u001b[0m\u001b[0;34m)\u001b[0m\u001b[0;34m\u001b[0m\u001b[0;34m\u001b[0m\u001b[0m\n\u001b[0m\u001b[1;32m   1083\u001b[0m       \u001b[0;32mexcept\u001b[0m \u001b[0;34m(\u001b[0m\u001b[0mTypeError\u001b[0m\u001b[0;34m,\u001b[0m \u001b[0mValueError\u001b[0m\u001b[0;34m)\u001b[0m\u001b[0;34m:\u001b[0m\u001b[0;34m\u001b[0m\u001b[0;34m\u001b[0m\u001b[0m\n\u001b[1;32m   1084\u001b[0m         \u001b[0;31m# Note: convert_to_eager_tensor currently raises a ValueError, not a\u001b[0m\u001b[0;34m\u001b[0m\u001b[0;34m\u001b[0m\u001b[0;34m\u001b[0m\u001b[0m\n",
            "\u001b[0;32m/usr/local/lib/python3.7/dist-packages/tensorflow/python/util/deprecation.py\u001b[0m in \u001b[0;36mnew_func\u001b[0;34m(*args, **kwargs)\u001b[0m\n\u001b[1;32m    559\u001b[0m                 \u001b[0;34m'in a future version'\u001b[0m \u001b[0;32mif\u001b[0m \u001b[0mdate\u001b[0m \u001b[0;32mis\u001b[0m \u001b[0;32mNone\u001b[0m \u001b[0;32melse\u001b[0m \u001b[0;34m(\u001b[0m\u001b[0;34m'after %s'\u001b[0m \u001b[0;34m%\u001b[0m \u001b[0mdate\u001b[0m\u001b[0;34m)\u001b[0m\u001b[0;34m,\u001b[0m\u001b[0;34m\u001b[0m\u001b[0;34m\u001b[0m\u001b[0m\n\u001b[1;32m    560\u001b[0m                 instructions)\n\u001b[0;32m--> 561\u001b[0;31m       \u001b[0;32mreturn\u001b[0m \u001b[0mfunc\u001b[0m\u001b[0;34m(\u001b[0m\u001b[0;34m*\u001b[0m\u001b[0margs\u001b[0m\u001b[0;34m,\u001b[0m \u001b[0;34m**\u001b[0m\u001b[0mkwargs\u001b[0m\u001b[0;34m)\u001b[0m\u001b[0;34m\u001b[0m\u001b[0;34m\u001b[0m\u001b[0m\n\u001b[0m\u001b[1;32m    562\u001b[0m \u001b[0;34m\u001b[0m\u001b[0m\n\u001b[1;32m    563\u001b[0m     doc = _add_deprecated_arg_notice_to_docstring(\n",
            "\u001b[0;32m/usr/local/lib/python3.7/dist-packages/tensorflow/python/ops/control_flow_ops.py\u001b[0m in \u001b[0;36mcond\u001b[0;34m(pred, true_fn, false_fn, strict, name, fn1, fn2)\u001b[0m\n\u001b[1;32m   1196\u001b[0m \u001b[0;34m\u001b[0m\u001b[0m\n\u001b[1;32m   1197\u001b[0m   \u001b[0;32mif\u001b[0m \u001b[0mcontext\u001b[0m\u001b[0;34m.\u001b[0m\u001b[0mexecuting_eagerly\u001b[0m\u001b[0;34m(\u001b[0m\u001b[0;34m)\u001b[0m\u001b[0;34m:\u001b[0m\u001b[0;34m\u001b[0m\u001b[0;34m\u001b[0m\u001b[0m\n\u001b[0;32m-> 1198\u001b[0;31m     \u001b[0;32mreturn\u001b[0m \u001b[0m_eager_cond_implementation\u001b[0m\u001b[0;34m(\u001b[0m\u001b[0mpred\u001b[0m\u001b[0;34m,\u001b[0m \u001b[0mtrue_fn\u001b[0m\u001b[0;34m,\u001b[0m \u001b[0mfalse_fn\u001b[0m\u001b[0;34m,\u001b[0m \u001b[0mstrict\u001b[0m\u001b[0;34m,\u001b[0m \u001b[0mname\u001b[0m\u001b[0;34m)\u001b[0m\u001b[0;34m\u001b[0m\u001b[0;34m\u001b[0m\u001b[0m\n\u001b[0m\u001b[1;32m   1199\u001b[0m \u001b[0;34m\u001b[0m\u001b[0m\n\u001b[1;32m   1200\u001b[0m   \u001b[0;31m# Always enable control flow v2 if building a function, regardless of toggle.\u001b[0m\u001b[0;34m\u001b[0m\u001b[0;34m\u001b[0m\u001b[0;34m\u001b[0m\u001b[0m\n",
            "\u001b[0;32m/usr/local/lib/python3.7/dist-packages/tensorflow/python/ops/control_flow_ops.py\u001b[0m in \u001b[0;36m_eager_cond_implementation\u001b[0;34m(pred, true_fn, false_fn, strict, name)\u001b[0m\n\u001b[1;32m   1085\u001b[0m         \u001b[0mresult\u001b[0m \u001b[0;34m=\u001b[0m \u001b[0mtrue_fn\u001b[0m\u001b[0;34m(\u001b[0m\u001b[0;34m)\u001b[0m\u001b[0;34m\u001b[0m\u001b[0;34m\u001b[0m\u001b[0m\n\u001b[1;32m   1086\u001b[0m       \u001b[0;32melse\u001b[0m\u001b[0;34m:\u001b[0m\u001b[0;34m\u001b[0m\u001b[0;34m\u001b[0m\u001b[0m\n\u001b[0;32m-> 1087\u001b[0;31m         \u001b[0mresult\u001b[0m \u001b[0;34m=\u001b[0m \u001b[0mfalse_fn\u001b[0m\u001b[0;34m(\u001b[0m\u001b[0;34m)\u001b[0m\u001b[0;34m\u001b[0m\u001b[0;34m\u001b[0m\u001b[0m\n\u001b[0m\u001b[1;32m   1088\u001b[0m       \u001b[0;32mif\u001b[0m \u001b[0;32mnot\u001b[0m \u001b[0mstrict\u001b[0m\u001b[0;34m:\u001b[0m\u001b[0;34m\u001b[0m\u001b[0;34m\u001b[0m\u001b[0m\n\u001b[1;32m   1089\u001b[0m         \u001b[0mresult\u001b[0m \u001b[0;34m=\u001b[0m \u001b[0m_UnpackIfSingleton\u001b[0m\u001b[0;34m(\u001b[0m\u001b[0mresult\u001b[0m\u001b[0;34m)\u001b[0m\u001b[0;34m\u001b[0m\u001b[0;34m\u001b[0m\u001b[0m\n",
            "\u001b[0;32m/usr/local/lib/python3.7/dist-packages/tensorboard/plugins/histogram/summary_v2.py\u001b[0m in \u001b[0;36mwhen_nonempty\u001b[0;34m()\u001b[0m\n\u001b[1;32m    286\u001b[0m \u001b[0;34m\u001b[0m\u001b[0m\n\u001b[1;32m    287\u001b[0m             return tf.cond(\n\u001b[0;32m--> 288\u001b[0;31m                 \u001b[0mhas_single_value\u001b[0m\u001b[0;34m,\u001b[0m \u001b[0mwhen_single_value\u001b[0m\u001b[0;34m,\u001b[0m \u001b[0mwhen_multiple_values\u001b[0m\u001b[0;34m\u001b[0m\u001b[0;34m\u001b[0m\u001b[0m\n\u001b[0m\u001b[1;32m    289\u001b[0m             )\n\u001b[1;32m    290\u001b[0m \u001b[0;34m\u001b[0m\u001b[0m\n",
            "\u001b[0;32m/usr/local/lib/python3.7/dist-packages/tensorflow/python/util/traceback_utils.py\u001b[0m in \u001b[0;36merror_handler\u001b[0;34m(*args, **kwargs)\u001b[0m\n\u001b[1;32m    148\u001b[0m     \u001b[0mfiltered_tb\u001b[0m \u001b[0;34m=\u001b[0m \u001b[0;32mNone\u001b[0m\u001b[0;34m\u001b[0m\u001b[0;34m\u001b[0m\u001b[0m\n\u001b[1;32m    149\u001b[0m     \u001b[0;32mtry\u001b[0m\u001b[0;34m:\u001b[0m\u001b[0;34m\u001b[0m\u001b[0;34m\u001b[0m\u001b[0m\n\u001b[0;32m--> 150\u001b[0;31m       \u001b[0;32mreturn\u001b[0m \u001b[0mfn\u001b[0m\u001b[0;34m(\u001b[0m\u001b[0;34m*\u001b[0m\u001b[0margs\u001b[0m\u001b[0;34m,\u001b[0m \u001b[0;34m**\u001b[0m\u001b[0mkwargs\u001b[0m\u001b[0;34m)\u001b[0m\u001b[0;34m\u001b[0m\u001b[0;34m\u001b[0m\u001b[0m\n\u001b[0m\u001b[1;32m    151\u001b[0m     \u001b[0;32mexcept\u001b[0m \u001b[0mException\u001b[0m \u001b[0;32mas\u001b[0m \u001b[0me\u001b[0m\u001b[0;34m:\u001b[0m\u001b[0;34m\u001b[0m\u001b[0;34m\u001b[0m\u001b[0m\n\u001b[1;32m    152\u001b[0m       \u001b[0mfiltered_tb\u001b[0m \u001b[0;34m=\u001b[0m \u001b[0m_process_traceback_frames\u001b[0m\u001b[0;34m(\u001b[0m\u001b[0me\u001b[0m\u001b[0;34m.\u001b[0m\u001b[0m__traceback__\u001b[0m\u001b[0;34m)\u001b[0m\u001b[0;34m\u001b[0m\u001b[0;34m\u001b[0m\u001b[0m\n",
            "\u001b[0;32m/usr/local/lib/python3.7/dist-packages/tensorflow/python/util/dispatch.py\u001b[0m in \u001b[0;36mop_dispatch_handler\u001b[0;34m(*args, **kwargs)\u001b[0m\n\u001b[1;32m   1080\u001b[0m       \u001b[0;31m# Fallback dispatch system (dispatch v1):\u001b[0m\u001b[0;34m\u001b[0m\u001b[0;34m\u001b[0m\u001b[0;34m\u001b[0m\u001b[0m\n\u001b[1;32m   1081\u001b[0m       \u001b[0;32mtry\u001b[0m\u001b[0;34m:\u001b[0m\u001b[0;34m\u001b[0m\u001b[0;34m\u001b[0m\u001b[0m\n\u001b[0;32m-> 1082\u001b[0;31m         \u001b[0;32mreturn\u001b[0m \u001b[0mdispatch_target\u001b[0m\u001b[0;34m(\u001b[0m\u001b[0;34m*\u001b[0m\u001b[0margs\u001b[0m\u001b[0;34m,\u001b[0m \u001b[0;34m**\u001b[0m\u001b[0mkwargs\u001b[0m\u001b[0;34m)\u001b[0m\u001b[0;34m\u001b[0m\u001b[0;34m\u001b[0m\u001b[0m\n\u001b[0m\u001b[1;32m   1083\u001b[0m       \u001b[0;32mexcept\u001b[0m \u001b[0;34m(\u001b[0m\u001b[0mTypeError\u001b[0m\u001b[0;34m,\u001b[0m \u001b[0mValueError\u001b[0m\u001b[0;34m)\u001b[0m\u001b[0;34m:\u001b[0m\u001b[0;34m\u001b[0m\u001b[0;34m\u001b[0m\u001b[0m\n\u001b[1;32m   1084\u001b[0m         \u001b[0;31m# Note: convert_to_eager_tensor currently raises a ValueError, not a\u001b[0m\u001b[0;34m\u001b[0m\u001b[0;34m\u001b[0m\u001b[0;34m\u001b[0m\u001b[0m\n",
            "\u001b[0;32m/usr/local/lib/python3.7/dist-packages/tensorflow/python/ops/control_flow_ops.py\u001b[0m in \u001b[0;36mcond_for_tf_v2\u001b[0;34m(pred, true_fn, false_fn, name)\u001b[0m\n\u001b[1;32m   1389\u001b[0m \u001b[0;34m\u001b[0m\u001b[0m\n\u001b[1;32m   1390\u001b[0m   \"\"\"\n\u001b[0;32m-> 1391\u001b[0;31m   \u001b[0;32mreturn\u001b[0m \u001b[0mcond\u001b[0m\u001b[0;34m(\u001b[0m\u001b[0mpred\u001b[0m\u001b[0;34m,\u001b[0m \u001b[0mtrue_fn\u001b[0m\u001b[0;34m=\u001b[0m\u001b[0mtrue_fn\u001b[0m\u001b[0;34m,\u001b[0m \u001b[0mfalse_fn\u001b[0m\u001b[0;34m=\u001b[0m\u001b[0mfalse_fn\u001b[0m\u001b[0;34m,\u001b[0m \u001b[0mstrict\u001b[0m\u001b[0;34m=\u001b[0m\u001b[0;32mTrue\u001b[0m\u001b[0;34m,\u001b[0m \u001b[0mname\u001b[0m\u001b[0;34m=\u001b[0m\u001b[0mname\u001b[0m\u001b[0;34m)\u001b[0m\u001b[0;34m\u001b[0m\u001b[0;34m\u001b[0m\u001b[0m\n\u001b[0m\u001b[1;32m   1392\u001b[0m \u001b[0;34m\u001b[0m\u001b[0m\n\u001b[1;32m   1393\u001b[0m \u001b[0;34m\u001b[0m\u001b[0m\n",
            "\u001b[0;32m/usr/local/lib/python3.7/dist-packages/tensorflow/python/util/traceback_utils.py\u001b[0m in \u001b[0;36merror_handler\u001b[0;34m(*args, **kwargs)\u001b[0m\n\u001b[1;32m    148\u001b[0m     \u001b[0mfiltered_tb\u001b[0m \u001b[0;34m=\u001b[0m \u001b[0;32mNone\u001b[0m\u001b[0;34m\u001b[0m\u001b[0;34m\u001b[0m\u001b[0m\n\u001b[1;32m    149\u001b[0m     \u001b[0;32mtry\u001b[0m\u001b[0;34m:\u001b[0m\u001b[0;34m\u001b[0m\u001b[0;34m\u001b[0m\u001b[0m\n\u001b[0;32m--> 150\u001b[0;31m       \u001b[0;32mreturn\u001b[0m \u001b[0mfn\u001b[0m\u001b[0;34m(\u001b[0m\u001b[0;34m*\u001b[0m\u001b[0margs\u001b[0m\u001b[0;34m,\u001b[0m \u001b[0;34m**\u001b[0m\u001b[0mkwargs\u001b[0m\u001b[0;34m)\u001b[0m\u001b[0;34m\u001b[0m\u001b[0;34m\u001b[0m\u001b[0m\n\u001b[0m\u001b[1;32m    151\u001b[0m     \u001b[0;32mexcept\u001b[0m \u001b[0mException\u001b[0m \u001b[0;32mas\u001b[0m \u001b[0me\u001b[0m\u001b[0;34m:\u001b[0m\u001b[0;34m\u001b[0m\u001b[0;34m\u001b[0m\u001b[0m\n\u001b[1;32m    152\u001b[0m       \u001b[0mfiltered_tb\u001b[0m \u001b[0;34m=\u001b[0m \u001b[0m_process_traceback_frames\u001b[0m\u001b[0;34m(\u001b[0m\u001b[0me\u001b[0m\u001b[0;34m.\u001b[0m\u001b[0m__traceback__\u001b[0m\u001b[0;34m)\u001b[0m\u001b[0;34m\u001b[0m\u001b[0;34m\u001b[0m\u001b[0m\n",
            "\u001b[0;32m/usr/local/lib/python3.7/dist-packages/tensorflow/python/util/dispatch.py\u001b[0m in \u001b[0;36mop_dispatch_handler\u001b[0;34m(*args, **kwargs)\u001b[0m\n\u001b[1;32m   1080\u001b[0m       \u001b[0;31m# Fallback dispatch system (dispatch v1):\u001b[0m\u001b[0;34m\u001b[0m\u001b[0;34m\u001b[0m\u001b[0;34m\u001b[0m\u001b[0m\n\u001b[1;32m   1081\u001b[0m       \u001b[0;32mtry\u001b[0m\u001b[0;34m:\u001b[0m\u001b[0;34m\u001b[0m\u001b[0;34m\u001b[0m\u001b[0m\n\u001b[0;32m-> 1082\u001b[0;31m         \u001b[0;32mreturn\u001b[0m \u001b[0mdispatch_target\u001b[0m\u001b[0;34m(\u001b[0m\u001b[0;34m*\u001b[0m\u001b[0margs\u001b[0m\u001b[0;34m,\u001b[0m \u001b[0;34m**\u001b[0m\u001b[0mkwargs\u001b[0m\u001b[0;34m)\u001b[0m\u001b[0;34m\u001b[0m\u001b[0;34m\u001b[0m\u001b[0m\n\u001b[0m\u001b[1;32m   1083\u001b[0m       \u001b[0;32mexcept\u001b[0m \u001b[0;34m(\u001b[0m\u001b[0mTypeError\u001b[0m\u001b[0;34m,\u001b[0m \u001b[0mValueError\u001b[0m\u001b[0;34m)\u001b[0m\u001b[0;34m:\u001b[0m\u001b[0;34m\u001b[0m\u001b[0;34m\u001b[0m\u001b[0m\n\u001b[1;32m   1084\u001b[0m         \u001b[0;31m# Note: convert_to_eager_tensor currently raises a ValueError, not a\u001b[0m\u001b[0;34m\u001b[0m\u001b[0;34m\u001b[0m\u001b[0;34m\u001b[0m\u001b[0m\n",
            "\u001b[0;32m/usr/local/lib/python3.7/dist-packages/tensorflow/python/util/deprecation.py\u001b[0m in \u001b[0;36mnew_func\u001b[0;34m(*args, **kwargs)\u001b[0m\n\u001b[1;32m    559\u001b[0m                 \u001b[0;34m'in a future version'\u001b[0m \u001b[0;32mif\u001b[0m \u001b[0mdate\u001b[0m \u001b[0;32mis\u001b[0m \u001b[0;32mNone\u001b[0m \u001b[0;32melse\u001b[0m \u001b[0;34m(\u001b[0m\u001b[0;34m'after %s'\u001b[0m \u001b[0;34m%\u001b[0m \u001b[0mdate\u001b[0m\u001b[0;34m)\u001b[0m\u001b[0;34m,\u001b[0m\u001b[0;34m\u001b[0m\u001b[0;34m\u001b[0m\u001b[0m\n\u001b[1;32m    560\u001b[0m                 instructions)\n\u001b[0;32m--> 561\u001b[0;31m       \u001b[0;32mreturn\u001b[0m \u001b[0mfunc\u001b[0m\u001b[0;34m(\u001b[0m\u001b[0;34m*\u001b[0m\u001b[0margs\u001b[0m\u001b[0;34m,\u001b[0m \u001b[0;34m**\u001b[0m\u001b[0mkwargs\u001b[0m\u001b[0;34m)\u001b[0m\u001b[0;34m\u001b[0m\u001b[0;34m\u001b[0m\u001b[0m\n\u001b[0m\u001b[1;32m    562\u001b[0m \u001b[0;34m\u001b[0m\u001b[0m\n\u001b[1;32m    563\u001b[0m     doc = _add_deprecated_arg_notice_to_docstring(\n",
            "\u001b[0;32m/usr/local/lib/python3.7/dist-packages/tensorflow/python/ops/control_flow_ops.py\u001b[0m in \u001b[0;36mcond\u001b[0;34m(pred, true_fn, false_fn, strict, name, fn1, fn2)\u001b[0m\n\u001b[1;32m   1196\u001b[0m \u001b[0;34m\u001b[0m\u001b[0m\n\u001b[1;32m   1197\u001b[0m   \u001b[0;32mif\u001b[0m \u001b[0mcontext\u001b[0m\u001b[0;34m.\u001b[0m\u001b[0mexecuting_eagerly\u001b[0m\u001b[0;34m(\u001b[0m\u001b[0;34m)\u001b[0m\u001b[0;34m:\u001b[0m\u001b[0;34m\u001b[0m\u001b[0;34m\u001b[0m\u001b[0m\n\u001b[0;32m-> 1198\u001b[0;31m     \u001b[0;32mreturn\u001b[0m \u001b[0m_eager_cond_implementation\u001b[0m\u001b[0;34m(\u001b[0m\u001b[0mpred\u001b[0m\u001b[0;34m,\u001b[0m \u001b[0mtrue_fn\u001b[0m\u001b[0;34m,\u001b[0m \u001b[0mfalse_fn\u001b[0m\u001b[0;34m,\u001b[0m \u001b[0mstrict\u001b[0m\u001b[0;34m,\u001b[0m \u001b[0mname\u001b[0m\u001b[0;34m)\u001b[0m\u001b[0;34m\u001b[0m\u001b[0;34m\u001b[0m\u001b[0m\n\u001b[0m\u001b[1;32m   1199\u001b[0m \u001b[0;34m\u001b[0m\u001b[0m\n\u001b[1;32m   1200\u001b[0m   \u001b[0;31m# Always enable control flow v2 if building a function, regardless of toggle.\u001b[0m\u001b[0;34m\u001b[0m\u001b[0;34m\u001b[0m\u001b[0;34m\u001b[0m\u001b[0m\n",
            "\u001b[0;32m/usr/local/lib/python3.7/dist-packages/tensorflow/python/ops/control_flow_ops.py\u001b[0m in \u001b[0;36m_eager_cond_implementation\u001b[0;34m(pred, true_fn, false_fn, strict, name)\u001b[0m\n\u001b[1;32m   1085\u001b[0m         \u001b[0mresult\u001b[0m \u001b[0;34m=\u001b[0m \u001b[0mtrue_fn\u001b[0m\u001b[0;34m(\u001b[0m\u001b[0;34m)\u001b[0m\u001b[0;34m\u001b[0m\u001b[0;34m\u001b[0m\u001b[0m\n\u001b[1;32m   1086\u001b[0m       \u001b[0;32melse\u001b[0m\u001b[0;34m:\u001b[0m\u001b[0;34m\u001b[0m\u001b[0;34m\u001b[0m\u001b[0m\n\u001b[0;32m-> 1087\u001b[0;31m         \u001b[0mresult\u001b[0m \u001b[0;34m=\u001b[0m \u001b[0mfalse_fn\u001b[0m\u001b[0;34m(\u001b[0m\u001b[0;34m)\u001b[0m\u001b[0;34m\u001b[0m\u001b[0;34m\u001b[0m\u001b[0m\n\u001b[0m\u001b[1;32m   1088\u001b[0m       \u001b[0;32mif\u001b[0m \u001b[0;32mnot\u001b[0m \u001b[0mstrict\u001b[0m\u001b[0;34m:\u001b[0m\u001b[0;34m\u001b[0m\u001b[0;34m\u001b[0m\u001b[0m\n\u001b[1;32m   1089\u001b[0m         \u001b[0mresult\u001b[0m \u001b[0;34m=\u001b[0m \u001b[0m_UnpackIfSingleton\u001b[0m\u001b[0;34m(\u001b[0m\u001b[0mresult\u001b[0m\u001b[0;34m)\u001b[0m\u001b[0;34m\u001b[0m\u001b[0;34m\u001b[0m\u001b[0m\n",
            "\u001b[0;31mKeyboardInterrupt\u001b[0m: "
          ]
        }
      ]
    },
    {
      "cell_type": "code",
      "source": [
        "# Save best epoch model\n",
        "xCeption.save(\"savedModels/CNN_XCeption\")"
      ],
      "metadata": {
        "id": "GHGkW2xRwCck"
      },
      "execution_count": null,
      "outputs": []
    },
    {
      "cell_type": "code",
      "source": [
        "testModel(valid_gen, xCeption)"
      ],
      "metadata": {
        "id": "0PQgvfJTmRkd"
      },
      "execution_count": null,
      "outputs": []
    },
    {
      "cell_type": "code",
      "source": [
        "testModel(valid_gen, xCeption) #with roumor"
      ],
      "metadata": {
        "colab": {
          "base_uri": "https://localhost:8080/",
          "height": 551
        },
        "id": "DPMr6NENHE8K",
        "outputId": "203dc243-f546-4ed2-e465-c8348662dc3d"
      },
      "execution_count": null,
      "outputs": [
        {
          "output_type": "stream",
          "name": "stdout",
          "text": [
            "706/706 [==============================] - 7s 9ms/step\n"
          ]
        },
        {
          "output_type": "display_data",
          "data": {
            "text/plain": [
              "<Figure size 432x288 with 2 Axes>"
            ],
            "image/png": "[encoded data removed]"
          },
          "metadata": {
            "needs_background": "light"
          }
        },
        {
          "output_type": "stream",
          "name": "stdout",
          "text": [
            "              precision    recall  f1-score   support\n",
            "\n",
            "    Species1       0.26      0.24      0.25        37\n",
            "    Species2       0.47      0.34      0.40       106\n",
            "    Species3       0.55      0.48      0.51       103\n",
            "    Species4       0.40      0.35      0.38       102\n",
            "    Species5       0.48      0.61      0.54       106\n",
            "    Species6       0.47      0.48      0.47        44\n",
            "    Species7       0.52      0.73      0.61       107\n",
            "    Species8       0.57      0.50      0.53       101\n",
            "\n",
            "    accuracy                           0.49       706\n",
            "   macro avg       0.47      0.47      0.46       706\n",
            "weighted avg       0.49      0.49      0.48       706\n",
            "\n"
          ]
        }
      ]
    },
    {
      "cell_type": "code",
      "source": [
        "#this is with roumor in the imgs\n",
        "testModel(valid_gen, xCeption)"
      ],
      "metadata": {
        "colab": {
          "base_uri": "https://localhost:8080/",
          "height": 555
        },
        "id": "uB4ssCrmny8K",
        "outputId": "a0860bc4-3186-4cb1-9a46-902a47f967cd"
      },
      "execution_count": null,
      "outputs": [
        {
          "output_type": "stream",
          "name": "stdout",
          "text": [
            "706/706 [==============================] - 6s 8ms/step\n"
          ]
        },
        {
          "output_type": "display_data",
          "data": {
            "text/plain": [
              "<Figure size 432x288 with 2 Axes>"
            ],
            "image/png": "[encoded data removed]"
          },
          "metadata": {
            "needs_background": "light"
          }
        },
        {
          "output_type": "stream",
          "name": "stdout",
          "text": [
            "              precision    recall  f1-score   support\n",
            "\n",
            "    Species1       0.50      0.16      0.24        37\n",
            "    Species2       0.54      0.41      0.46       106\n",
            "    Species3       0.52      0.57      0.54       103\n",
            "    Species4       0.52      0.47      0.49       102\n",
            "    Species5       0.52      0.67      0.58       106\n",
            "    Species6       0.36      0.70      0.48        44\n",
            "    Species7       0.69      0.75      0.72       107\n",
            "    Species8       0.69      0.48      0.56       101\n",
            "\n",
            "    accuracy                           0.55       706\n",
            "   macro avg       0.54      0.53      0.51       706\n",
            "weighted avg       0.56      0.55      0.54       706\n",
            "\n"
          ]
        }
      ]
    },
    {
      "cell_type": "code",
      "source": [
        "xc = tfk.models.load_model(\"savedModels/CNN_XCeption\")"
      ],
      "metadata": {
        "id": "qWg3OVcvmdvK",
        "colab": {
          "base_uri": "https://localhost:8080/"
        },
        "outputId": "bdb11217-3be9-4197-95ee-e490fce273bb"
      },
      "execution_count": null,
      "outputs": [
        {
          "output_type": "stream",
          "name": "stdout",
          "text": [
            "Model: \"model\"\n",
            "_________________________________________________________________\n",
            " Layer (type)                Output Shape              Param #   \n",
            "=================================================================\n",
            " input_layer (InputLayer)    [(None, 96, 96, 3)]       0         \n",
            "                                                                 \n",
            " xception (Functional)       (None, 3, 3, 2048)        20861480  \n",
            "                                                                 \n",
            " Flatten (Flatten)           (None, 18432)             0         \n",
            "                                                                 \n",
            " dense (Dense)               (None, 512)               9437696   \n",
            "                                                                 \n",
            " dropout (Dropout)           (None, 512)               0         \n",
            "                                                                 \n",
            " Classifier (Dense)          (None, 256)               131328    \n",
            "                                                                 \n",
            " dropout_1 (Dropout)         (None, 256)               0         \n",
            "                                                                 \n",
            " output_layer (Dense)        (None, 8)                 2056      \n",
            "                                                                 \n",
            "=================================================================\n",
            "Total params: 30,432,560\n",
            "Trainable params: 9,571,080\n",
            "Non-trainable params: 20,861,480\n",
            "_________________________________________________________________\n"
          ]
        }
      ]
    },
    {
      "cell_type": "code",
      "source": [
        "xc.get_layer('xception').trainable = True"
      ],
      "metadata": {
        "id": "yWS9_VX7mdjE"
      },
      "execution_count": null,
      "outputs": []
    },
    {
      "cell_type": "code",
      "source": [
        "xc.compile(loss=tfk.losses.CategoricalCrossentropy(), optimizer=tfk.optimizers.Adam(1e-4), metrics='accuracy')\n",
        "xc.summary()"
      ],
      "metadata": {
        "id": "anHoDNvJmv57",
        "colab": {
          "base_uri": "https://localhost:8080/"
        },
        "outputId": "8e543eea-4e9c-4df9-b138-a5283c2d9470"
      },
      "execution_count": null,
      "outputs": [
        {
          "output_type": "stream",
          "name": "stdout",
          "text": [
            "Model: \"model\"\n",
            "_________________________________________________________________\n",
            " Layer (type)                Output Shape              Param #   \n",
            "=================================================================\n",
            " input_layer (InputLayer)    [(None, 96, 96, 3)]       0         \n",
            "                                                                 \n",
            " xception (Functional)       (None, 3, 3, 2048)        20861480  \n",
            "                                                                 \n",
            " Flatten (Flatten)           (None, 18432)             0         \n",
            "                                                                 \n",
            " dense (Dense)               (None, 512)               9437696   \n",
            "                                                                 \n",
            " dropout (Dropout)           (None, 512)               0         \n",
            "                                                                 \n",
            " Classifier (Dense)          (None, 256)               131328    \n",
            "                                                                 \n",
            " dropout_1 (Dropout)         (None, 256)               0         \n",
            "                                                                 \n",
            " output_layer (Dense)        (None, 8)                 2056      \n",
            "                                                                 \n",
            "=================================================================\n",
            "Total params: 30,432,560\n",
            "Trainable params: 30,378,032\n",
            "Non-trainable params: 54,528\n",
            "_________________________________________________________________\n"
          ]
        }
      ]
    },
    {
      "cell_type": "code",
      "source": [
        "callbacks = create_folders_and_callbacks(model_name='CNN_XCeption_1_FineTuning')\n",
        "\n",
        "# Train the model\n",
        "history = xc.fit(\n",
        "    x = train_gen,\n",
        "    epochs = epochs,\n",
        "    validation_data = valid_gen,\n",
        "    class_weight = {0: 3542/186, 1: 3542/532, 2: 3542/515, 3: 3542/511, 4: 3542/531, \n",
        "                    5: 3542/222, 6: 3542/537, 7: 3542/508},\n",
        "    callbacks = callbacks,\n",
        ").history"
      ],
      "metadata": {
        "colab": {
          "base_uri": "https://localhost:8080/"
        },
        "id": "pGqq-N9Zm2kN",
        "outputId": "615015c8-7a29-4cc4-99f3-92ab49501719"
      },
      "execution_count": null,
      "outputs": [
        {
          "output_type": "stream",
          "name": "stdout",
          "text": [
            "Epoch 1/200\n",
            "89/89 [==============================] - 44s 418ms/step - loss: 15.4782 - accuracy: 0.2405 - val_loss: 1.6241 - val_accuracy: 0.4037\n",
            "Epoch 2/200\n",
            "89/89 [==============================] - 32s 363ms/step - loss: 14.3611 - accuracy: 0.3071 - val_loss: 1.3370 - val_accuracy: 0.5014\n",
            "Epoch 3/200\n",
            "89/89 [==============================] - 31s 354ms/step - loss: 13.5145 - accuracy: 0.3628 - val_loss: 1.3018 - val_accuracy: 0.5028\n",
            "Epoch 4/200\n",
            "89/89 [==============================] - 30s 336ms/step - loss: 13.5222 - accuracy: 0.3547 - val_loss: 1.1803 - val_accuracy: 0.5581\n",
            "Epoch 5/200\n",
            "89/89 [==============================] - 31s 352ms/step - loss: 13.0123 - accuracy: 0.3787 - val_loss: 1.1049 - val_accuracy: 0.6232\n",
            "Epoch 6/200\n",
            "89/89 [==============================] - 33s 373ms/step - loss: 12.6746 - accuracy: 0.4136 - val_loss: 1.2643 - val_accuracy: 0.5992\n",
            "Epoch 7/200\n",
            "89/89 [==============================] - 31s 351ms/step - loss: 12.2222 - accuracy: 0.4203 - val_loss: 1.0989 - val_accuracy: 0.6218\n",
            "Epoch 8/200\n",
            "89/89 [==============================] - 31s 350ms/step - loss: 12.1388 - accuracy: 0.4496 - val_loss: 0.9819 - val_accuracy: 0.6572\n",
            "Epoch 9/200\n",
            "89/89 [==============================] - 31s 353ms/step - loss: 11.2762 - accuracy: 0.4852 - val_loss: 0.9440 - val_accuracy: 0.6487\n",
            "Epoch 10/200\n",
            "89/89 [==============================] - 32s 357ms/step - loss: 11.5621 - accuracy: 0.4707 - val_loss: 0.8694 - val_accuracy: 0.6870\n",
            "Epoch 11/200\n",
            "89/89 [==============================] - 32s 359ms/step - loss: 11.0016 - accuracy: 0.5063 - val_loss: 0.9192 - val_accuracy: 0.6756\n",
            "Epoch 12/200\n",
            "89/89 [==============================] - 31s 350ms/step - loss: 11.0643 - accuracy: 0.4993 - val_loss: 0.8039 - val_accuracy: 0.6983\n",
            "Epoch 13/200\n",
            "89/89 [==============================] - 32s 359ms/step - loss: 10.7837 - accuracy: 0.5275 - val_loss: 0.8036 - val_accuracy: 0.7096\n",
            "Epoch 14/200\n",
            "89/89 [==============================] - 31s 352ms/step - loss: 10.2134 - accuracy: 0.5437 - val_loss: 0.8134 - val_accuracy: 0.6941\n",
            "Epoch 15/200\n",
            "89/89 [==============================] - 32s 357ms/step - loss: 10.6604 - accuracy: 0.5335 - val_loss: 0.7605 - val_accuracy: 0.7210\n",
            "Epoch 16/200\n",
            "89/89 [==============================] - 31s 347ms/step - loss: 10.0584 - accuracy: 0.5409 - val_loss: 0.8247 - val_accuracy: 0.6941\n",
            "Epoch 17/200\n",
            "89/89 [==============================] - 31s 352ms/step - loss: 10.1034 - accuracy: 0.5635 - val_loss: 0.7369 - val_accuracy: 0.7238\n",
            "Epoch 18/200\n",
            "89/89 [==============================] - 32s 359ms/step - loss: 9.5923 - accuracy: 0.5659 - val_loss: 0.7482 - val_accuracy: 0.7153\n",
            "Epoch 19/200\n",
            "89/89 [==============================] - 31s 354ms/step - loss: 9.8672 - accuracy: 0.5684 - val_loss: 0.7558 - val_accuracy: 0.7266\n",
            "Epoch 20/200\n",
            "89/89 [==============================] - 32s 360ms/step - loss: 9.4865 - accuracy: 0.5829 - val_loss: 0.7373 - val_accuracy: 0.7337\n",
            "Epoch 21/200\n",
            "89/89 [==============================] - 32s 357ms/step - loss: 9.6361 - accuracy: 0.5677 - val_loss: 0.6989 - val_accuracy: 0.7408\n",
            "Epoch 22/200\n",
            "89/89 [==============================] - 31s 349ms/step - loss: 9.1205 - accuracy: 0.5945 - val_loss: 0.6790 - val_accuracy: 0.7493\n",
            "Epoch 23/200\n",
            "89/89 [==============================] - 31s 347ms/step - loss: 9.1009 - accuracy: 0.6058 - val_loss: 0.6793 - val_accuracy: 0.7493\n",
            "Epoch 24/200\n",
            "89/89 [==============================] - 33s 368ms/step - loss: 8.9020 - accuracy: 0.6199 - val_loss: 0.6552 - val_accuracy: 0.7578\n",
            "Epoch 25/200\n",
            "89/89 [==============================] - 30s 340ms/step - loss: 8.9939 - accuracy: 0.5998 - val_loss: 0.6088 - val_accuracy: 0.7748\n",
            "Epoch 26/200\n",
            "89/89 [==============================] - 33s 367ms/step - loss: 8.8878 - accuracy: 0.6072 - val_loss: 0.6609 - val_accuracy: 0.7578\n",
            "Epoch 27/200\n",
            "89/89 [==============================] - 31s 349ms/step - loss: 8.7864 - accuracy: 0.6217 - val_loss: 0.6263 - val_accuracy: 0.7564\n",
            "Epoch 28/200\n",
            "89/89 [==============================] - 31s 346ms/step - loss: 8.6749 - accuracy: 0.6329 - val_loss: 0.6524 - val_accuracy: 0.7677\n",
            "Epoch 29/200\n",
            "89/89 [==============================] - 31s 349ms/step - loss: 8.7339 - accuracy: 0.6266 - val_loss: 0.6006 - val_accuracy: 0.7847\n",
            "Epoch 30/200\n",
            "89/89 [==============================] - 30s 339ms/step - loss: 8.4483 - accuracy: 0.6386 - val_loss: 0.6175 - val_accuracy: 0.7663\n",
            "Epoch 31/200\n",
            "89/89 [==============================] - 30s 339ms/step - loss: 8.5061 - accuracy: 0.6294 - val_loss: 0.6268 - val_accuracy: 0.7677\n",
            "Epoch 32/200\n",
            "89/89 [==============================] - 32s 363ms/step - loss: 8.1619 - accuracy: 0.6379 - val_loss: 0.6270 - val_accuracy: 0.7705\n",
            "Epoch 33/200\n",
            "89/89 [==============================] - 30s 339ms/step - loss: 8.3436 - accuracy: 0.6382 - val_loss: 0.6403 - val_accuracy: 0.7691\n",
            "Epoch 34/200\n",
            "89/89 [==============================] - 32s 360ms/step - loss: 8.0232 - accuracy: 0.6400 - val_loss: 0.6275 - val_accuracy: 0.7975\n",
            "Epoch 35/200\n",
            "89/89 [==============================] - 32s 363ms/step - loss: 8.1466 - accuracy: 0.6502 - val_loss: 0.5471 - val_accuracy: 0.8003\n",
            "Epoch 36/200\n",
            "89/89 [==============================] - 30s 338ms/step - loss: 7.7820 - accuracy: 0.6580 - val_loss: 0.6045 - val_accuracy: 0.7890\n",
            "Epoch 37/200\n",
            "89/89 [==============================] - 32s 358ms/step - loss: 7.4818 - accuracy: 0.6714 - val_loss: 0.6031 - val_accuracy: 0.7861\n",
            "Epoch 38/200\n",
            "89/89 [==============================] - 31s 344ms/step - loss: 7.8668 - accuracy: 0.6587 - val_loss: 0.5762 - val_accuracy: 0.8031\n",
            "Epoch 39/200\n",
            "89/89 [==============================] - 33s 367ms/step - loss: 7.6511 - accuracy: 0.6657 - val_loss: 0.5667 - val_accuracy: 0.8215\n",
            "Epoch 40/200\n",
            "89/89 [==============================] - 32s 355ms/step - loss: 7.4941 - accuracy: 0.6855 - val_loss: 0.5481 - val_accuracy: 0.8215\n",
            "Epoch 41/200\n",
            "89/89 [==============================] - 32s 365ms/step - loss: 7.7450 - accuracy: 0.6633 - val_loss: 0.5984 - val_accuracy: 0.7960\n",
            "Epoch 42/200\n",
            "89/89 [==============================] - 36s 408ms/step - loss: 7.6318 - accuracy: 0.6685 - val_loss: 0.4797 - val_accuracy: 0.8314\n",
            "Epoch 43/200\n",
            "89/89 [==============================] - 31s 347ms/step - loss: 7.5380 - accuracy: 0.6742 - val_loss: 0.5077 - val_accuracy: 0.8286\n",
            "Epoch 44/200\n",
            "89/89 [==============================] - 34s 377ms/step - loss: 7.2112 - accuracy: 0.6897 - val_loss: 0.5810 - val_accuracy: 0.8045\n",
            "Epoch 45/200\n",
            "89/89 [==============================] - 32s 357ms/step - loss: 7.3242 - accuracy: 0.6897 - val_loss: 0.5562 - val_accuracy: 0.8031\n",
            "Epoch 46/200\n",
            "89/89 [==============================] - 33s 366ms/step - loss: 7.5220 - accuracy: 0.6812 - val_loss: 0.5301 - val_accuracy: 0.8003\n",
            "Epoch 47/200\n",
            "89/89 [==============================] - 37s 413ms/step - loss: 7.3004 - accuracy: 0.6812 - val_loss: 0.5483 - val_accuracy: 0.8102\n",
            "Epoch 48/200\n",
            "89/89 [==============================] - 31s 354ms/step - loss: 7.0829 - accuracy: 0.6982 - val_loss: 0.5651 - val_accuracy: 0.8017\n",
            "Epoch 49/200\n",
            "89/89 [==============================] - 32s 356ms/step - loss: 7.1695 - accuracy: 0.6932 - val_loss: 0.5179 - val_accuracy: 0.8201\n",
            "Epoch 50/200\n",
            "89/89 [==============================] - 32s 358ms/step - loss: 6.9868 - accuracy: 0.6961 - val_loss: 0.5236 - val_accuracy: 0.8258\n",
            "Epoch 51/200\n",
            "89/89 [==============================] - 31s 354ms/step - loss: 7.1589 - accuracy: 0.6897 - val_loss: 0.5421 - val_accuracy: 0.8215\n",
            "Epoch 52/200\n",
            "89/89 [==============================] - 32s 356ms/step - loss: 7.0471 - accuracy: 0.6992 - val_loss: 0.5145 - val_accuracy: 0.8272\n"
          ]
        }
      ]
    },
    {
      "cell_type": "code",
      "source": [
        "# Save best epoch model\n",
        "xc.save(\"savedModels/CNN_XCeption_1_FineTuning\")"
      ],
      "metadata": {
        "id": "aL4_KumVm_vf",
        "colab": {
          "base_uri": "https://localhost:8080/"
        },
        "outputId": "9de08984-a753-437c-cbd5-6e0735af5fed"
      },
      "execution_count": null,
      "outputs": [
        {
          "output_type": "stream",
          "name": "stderr",
          "text": [
            "WARNING:absl:Found untraced functions such as _jit_compiled_convolution_op, _jit_compiled_convolution_op, _jit_compiled_convolution_op, _jit_compiled_convolution_op, _jit_compiled_convolution_op while saving (showing 5 of 40). These functions will not be directly callable after loading.\n"
          ]
        }
      ]
    },
    {
      "cell_type": "code",
      "source": [
        "testModel(valid_gen, xc)"
      ],
      "metadata": {
        "id": "tjTfY-2PnIBL",
        "colab": {
          "base_uri": "https://localhost:8080/",
          "height": 555
        },
        "outputId": "2dbd7325-28ce-40ff-d999-c7a09728d9c6"
      },
      "execution_count": null,
      "outputs": [
        {
          "output_type": "stream",
          "name": "stdout",
          "text": [
            "706/706 [==============================] - 8s 11ms/step\n"
          ]
        },
        {
          "output_type": "display_data",
          "data": {
            "text/plain": [
              "<Figure size 432x288 with 2 Axes>"
            ],
            "image/png": "[encoded data removed]"
          },
          "metadata": {
            "needs_background": "light"
          }
        },
        {
          "output_type": "stream",
          "name": "stdout",
          "text": [
            "              precision    recall  f1-score   support\n",
            "\n",
            "    Species1       0.67      0.65      0.66        37\n",
            "    Species2       0.81      0.87      0.84       106\n",
            "    Species3       0.87      0.80      0.83       103\n",
            "    Species4       0.73      0.88      0.80       102\n",
            "    Species5       0.87      0.85      0.86       106\n",
            "    Species6       0.97      0.66      0.78        44\n",
            "    Species7       0.99      0.93      0.96       107\n",
            "    Species8       0.81      0.84      0.83       101\n",
            "\n",
            "    accuracy                           0.84       706\n",
            "   macro avg       0.84      0.81      0.82       706\n",
            "weighted avg       0.85      0.84      0.84       706\n",
            "\n"
          ]
        }
      ]
    },
    {
      "cell_type": "code",
      "source": [
        "testModel(valid_gen, xc)"
      ],
      "metadata": {
        "id": "5UExcKsgvzLd",
        "colab": {
          "base_uri": "https://localhost:8080/",
          "height": 553
        },
        "outputId": "6bc33f7c-ce99-4514-dc94-bad4ed04532f"
      },
      "execution_count": null,
      "outputs": [
        {
          "output_type": "stream",
          "name": "stdout",
          "text": [
            "706/706 [==============================] - 7s 8ms/step\n"
          ]
        },
        {
          "output_type": "display_data",
          "data": {
            "text/plain": [
              "<Figure size 432x288 with 2 Axes>"
            ],
            "image/png": "[encoded data removed]"
          },
          "metadata": {
            "needs_background": "light"
          }
        },
        {
          "output_type": "stream",
          "name": "stdout",
          "text": [
            "              precision    recall  f1-score   support\n",
            "\n",
            "    Species1       0.70      0.51      0.59        37\n",
            "    Species2       0.79      0.89      0.84       106\n",
            "    Species3       0.86      0.80      0.83       103\n",
            "    Species4       0.79      0.84      0.82       102\n",
            "    Species5       0.85      0.91      0.88       106\n",
            "    Species6       1.00      0.64      0.78        44\n",
            "    Species7       0.94      0.94      0.94       107\n",
            "    Species8       0.78      0.82      0.80       101\n",
            "\n",
            "    accuracy                           0.83       706\n",
            "   macro avg       0.84      0.79      0.81       706\n",
            "weighted avg       0.84      0.83      0.83       706\n",
            "\n"
          ]
        }
      ]
    },
    {
      "cell_type": "code",
      "source": [
        "testModel(valid_gen, xc) #with roumors"
      ],
      "metadata": {
        "colab": {
          "base_uri": "https://localhost:8080/",
          "height": 551
        },
        "id": "jgaInGpHNLFg",
        "outputId": "8bf1cf0f-bef0-4a43-8434-82053ff9f7a5"
      },
      "execution_count": null,
      "outputs": [
        {
          "output_type": "stream",
          "name": "stdout",
          "text": [
            "706/706 [==============================] - 398s 554ms/step\n"
          ]
        },
        {
          "output_type": "display_data",
          "data": {
            "text/plain": [
              "<Figure size 432x288 with 2 Axes>"
            ],
            "image/png": "[encoded data removed]"
          },
          "metadata": {
            "needs_background": "light"
          }
        },
        {
          "output_type": "stream",
          "name": "stdout",
          "text": [
            "              precision    recall  f1-score   support\n",
            "\n",
            "    Species1       0.53      0.49      0.51        37\n",
            "    Species2       0.82      0.89      0.85       106\n",
            "    Species3       0.85      0.87      0.86       103\n",
            "    Species4       0.83      0.75      0.79       102\n",
            "    Species5       0.79      0.89      0.84       106\n",
            "    Species6       0.97      0.73      0.83        44\n",
            "    Species7       0.95      0.97      0.96       107\n",
            "    Species8       0.80      0.77      0.78       101\n",
            "\n",
            "    accuracy                           0.83       706\n",
            "   macro avg       0.82      0.80      0.80       706\n",
            "weighted avg       0.83      0.83      0.83       706\n",
            "\n"
          ]
        }
      ]
    },
    {
      "cell_type": "code",
      "source": [
        "xc2 = tfk.models.load_model(\"savedModels/CNN_XCeption_1_FineTuning\")"
      ],
      "metadata": {
        "colab": {
          "base_uri": "https://localhost:8080/"
        },
        "id": "imyz-PjHgp3r",
        "outputId": "83697a1b-8a2c-4a53-cf17-9136f42dd525"
      },
      "execution_count": null,
      "outputs": [
        {
          "output_type": "stream",
          "name": "stdout",
          "text": [
            "Model: \"model\"\n",
            "_________________________________________________________________\n",
            " Layer (type)                Output Shape              Param #   \n",
            "=================================================================\n",
            " input_layer (InputLayer)    [(None, 96, 96, 3)]       0         \n",
            "                                                                 \n",
            " xception (Functional)       (None, 3, 3, 2048)        20861480  \n",
            "                                                                 \n",
            " Flatten (Flatten)           (None, 18432)             0         \n",
            "                                                                 \n",
            " dense (Dense)               (None, 512)               9437696   \n",
            "                                                                 \n",
            " dropout (Dropout)           (None, 512)               0         \n",
            "                                                                 \n",
            " Classifier (Dense)          (None, 256)               131328    \n",
            "                                                                 \n",
            " dropout_1 (Dropout)         (None, 256)               0         \n",
            "                                                                 \n",
            " output_layer (Dense)        (None, 8)                 2056      \n",
            "                                                                 \n",
            "=================================================================\n",
            "Total params: 30,432,560\n",
            "Trainable params: 30,378,032\n",
            "Non-trainable params: 54,528\n",
            "_________________________________________________________________\n"
          ]
        }
      ]
    },
    {
      "cell_type": "code",
      "source": [
        "xc2.compile(loss=tfk.losses.CategoricalCrossentropy(), optimizer=tfk.optimizers.Adam(1e-5), metrics='accuracy')"
      ],
      "metadata": {
        "colab": {
          "base_uri": "https://localhost:8080/"
        },
        "id": "H7dDiG9Cgxxu",
        "outputId": "0f4d442f-e50c-4efe-fb1e-18c8d6f89599"
      },
      "execution_count": null,
      "outputs": [
        {
          "output_type": "stream",
          "name": "stdout",
          "text": [
            "Model: \"model\"\n",
            "_________________________________________________________________\n",
            " Layer (type)                Output Shape              Param #   \n",
            "=================================================================\n",
            " input_layer (InputLayer)    [(None, 96, 96, 3)]       0         \n",
            "                                                                 \n",
            " xception (Functional)       (None, 3, 3, 2048)        20861480  \n",
            "                                                                 \n",
            " Flatten (Flatten)           (None, 18432)             0         \n",
            "                                                                 \n",
            " dense (Dense)               (None, 512)               9437696   \n",
            "                                                                 \n",
            " dropout (Dropout)           (None, 512)               0         \n",
            "                                                                 \n",
            " Classifier (Dense)          (None, 256)               131328    \n",
            "                                                                 \n",
            " dropout_1 (Dropout)         (None, 256)               0         \n",
            "                                                                 \n",
            " output_layer (Dense)        (None, 8)                 2056      \n",
            "                                                                 \n",
            "=================================================================\n",
            "Total params: 30,432,560\n",
            "Trainable params: 30,378,032\n",
            "Non-trainable params: 54,528\n",
            "_________________________________________________________________\n"
          ]
        }
      ]
    },
    {
      "cell_type": "code",
      "source": [
        "callbacks = create_folders_and_callbacks(model_name='CNN_XCeption_2_FineTuning')\n",
        "\n",
        "# Train the model\n",
        "history = xc2.fit(\n",
        "    x = train_gen,\n",
        "    epochs = epochs,\n",
        "    validation_data = valid_gen,\n",
        "    class_weight = {0: 3542/186, 1: 3542/532, 2: 3542/515, 3: 3542/511, 4: 3542/531, \n",
        "                    5: 3542/222, 6: 3542/537, 7: 3542/508},\n",
        "    callbacks = callbacks,\n",
        ").history"
      ],
      "metadata": {
        "colab": {
          "base_uri": "https://localhost:8080/"
        },
        "id": "yCdjZI74hEmB",
        "outputId": "2dc29919-255a-435d-df78-bd916115ccd1"
      },
      "execution_count": null,
      "outputs": [
        {
          "output_type": "stream",
          "name": "stdout",
          "text": [
            "Epoch 1/200\n",
            "89/89 [==============================] - 1485s 17s/step - loss: 6.8598 - accuracy: 0.7070 - val_loss: 0.4807 - val_accuracy: 0.8385\n",
            "Epoch 2/200\n",
            "89/89 [==============================] - 29s 328ms/step - loss: 7.0714 - accuracy: 0.6869 - val_loss: 0.4764 - val_accuracy: 0.8300\n",
            "Epoch 3/200\n",
            "89/89 [==============================] - 29s 329ms/step - loss: 6.7882 - accuracy: 0.7123 - val_loss: 0.4996 - val_accuracy: 0.8272\n",
            "Epoch 4/200\n",
            "89/89 [==============================] - 28s 319ms/step - loss: 7.1253 - accuracy: 0.6961 - val_loss: 0.4877 - val_accuracy: 0.8272\n",
            "Epoch 5/200\n",
            "89/89 [==============================] - 28s 310ms/step - loss: 6.9024 - accuracy: 0.7077 - val_loss: 0.4942 - val_accuracy: 0.8314\n",
            "Epoch 6/200\n",
            "89/89 [==============================] - 28s 319ms/step - loss: 6.6702 - accuracy: 0.7098 - val_loss: 0.4952 - val_accuracy: 0.8314\n",
            "Epoch 7/200\n",
            "89/89 [==============================] - 29s 324ms/step - loss: 6.7454 - accuracy: 0.7042 - val_loss: 0.4892 - val_accuracy: 0.8357\n",
            "Epoch 8/200\n",
            "89/89 [==============================] - 33s 375ms/step - loss: 6.6214 - accuracy: 0.7144 - val_loss: 0.4910 - val_accuracy: 0.8272\n",
            "Epoch 9/200\n",
            "89/89 [==============================] - 27s 306ms/step - loss: 6.9985 - accuracy: 0.6879 - val_loss: 0.4885 - val_accuracy: 0.8286\n",
            "Epoch 10/200\n",
            "89/89 [==============================] - 27s 303ms/step - loss: 6.6480 - accuracy: 0.7042 - val_loss: 0.4907 - val_accuracy: 0.8286\n",
            "Epoch 11/200\n",
            "89/89 [==============================] - 28s 310ms/step - loss: 6.8195 - accuracy: 0.7056 - val_loss: 0.4898 - val_accuracy: 0.8314\n"
          ]
        }
      ]
    },
    {
      "cell_type": "code",
      "source": [
        "# Save best epoch model\n",
        "xc2.save(\"savedModels/CNN_XCeption_2_FineTuning\")"
      ],
      "metadata": {
        "colab": {
          "base_uri": "https://localhost:8080/"
        },
        "id": "4exKNKJihHyS",
        "outputId": "8a6f84cb-8dbc-44ef-cbbf-96f61b525697"
      },
      "execution_count": null,
      "outputs": [
        {
          "output_type": "stream",
          "name": "stderr",
          "text": [
            "WARNING:absl:Found untraced functions such as _jit_compiled_convolution_op, _jit_compiled_convolution_op, _jit_compiled_convolution_op, _jit_compiled_convolution_op, _jit_compiled_convolution_op while saving (showing 5 of 40). These functions will not be directly callable after loading.\n"
          ]
        }
      ]
    },
    {
      "cell_type": "code",
      "source": [
        "testModel(valid_gen, xc2)"
      ],
      "metadata": {
        "colab": {
          "base_uri": "https://localhost:8080/",
          "height": 551
        },
        "id": "z3ZtR0d2hP8w",
        "outputId": "6f4fb07f-6282-48c3-cae6-b9c402e4e9de"
      },
      "execution_count": null,
      "outputs": [
        {
          "output_type": "stream",
          "name": "stdout",
          "text": [
            "706/706 [==============================] - 7s 9ms/step\n"
          ]
        },
        {
          "output_type": "display_data",
          "data": {
            "text/plain": [
              "<Figure size 432x288 with 2 Axes>"
            ],
            "image/png": "[encoded data removed]"
          },
          "metadata": {
            "needs_background": "light"
          }
        },
        {
          "output_type": "stream",
          "name": "stdout",
          "text": [
            "              precision    recall  f1-score   support\n",
            "\n",
            "    Species1       0.61      0.59      0.60        37\n",
            "    Species2       0.79      0.92      0.85       106\n",
            "    Species3       0.88      0.84      0.86       103\n",
            "    Species4       0.80      0.88      0.84       102\n",
            "    Species5       0.88      0.90      0.89       106\n",
            "    Species6       1.00      0.64      0.78        44\n",
            "    Species7       0.98      0.93      0.95       107\n",
            "    Species8       0.84      0.80      0.82       101\n",
            "\n",
            "    accuracy                           0.85       706\n",
            "   macro avg       0.85      0.81      0.82       706\n",
            "weighted avg       0.86      0.85      0.85       706\n",
            "\n"
          ]
        }
      ]
    },
    {
      "cell_type": "code",
      "source": [
        "testModel(valid_gen, xc2) #with roumors"
      ],
      "metadata": {
        "colab": {
          "base_uri": "https://localhost:8080/",
          "height": 551
        },
        "id": "oq1DGDm5I677",
        "outputId": "a56fb6a1-d2a2-4859-aa7b-f21fef44e28d"
      },
      "execution_count": null,
      "outputs": [
        {
          "output_type": "stream",
          "name": "stdout",
          "text": [
            "706/706 [==============================] - 6s 8ms/step\n"
          ]
        },
        {
          "output_type": "display_data",
          "data": {
            "text/plain": [
              "<Figure size 432x288 with 2 Axes>"
            ],
            "image/png": "[encoded data removed]"
          },
          "metadata": {
            "needs_background": "light"
          }
        },
        {
          "output_type": "stream",
          "name": "stdout",
          "text": [
            "              precision    recall  f1-score   support\n",
            "\n",
            "    Species1       0.56      0.59      0.58        37\n",
            "    Species2       0.84      0.87      0.86       106\n",
            "    Species3       0.87      0.83      0.85       103\n",
            "    Species4       0.85      0.77      0.81       102\n",
            "    Species5       0.76      0.92      0.83       106\n",
            "    Species6       0.97      0.80      0.88        44\n",
            "    Species7       0.97      0.97      0.97       107\n",
            "    Species8       0.80      0.76      0.78       101\n",
            "\n",
            "    accuracy                           0.84       706\n",
            "   macro avg       0.83      0.81      0.82       706\n",
            "weighted avg       0.84      0.84      0.84       706\n",
            "\n"
          ]
        }
      ]
    },
    {
      "cell_type": "code",
      "source": [
        "xc3 = tfk.models.load_model(\"savedModels/CNN_XCeption_2_FineTuning\")"
      ],
      "metadata": {
        "colab": {
          "base_uri": "https://localhost:8080/"
        },
        "id": "HaZdl-CukUEq",
        "outputId": "9bcca9a2-e3e6-41f6-9866-01b2a3aeacb0"
      },
      "execution_count": null,
      "outputs": [
        {
          "output_type": "stream",
          "name": "stdout",
          "text": [
            "Model: \"model\"\n",
            "_________________________________________________________________\n",
            " Layer (type)                Output Shape              Param #   \n",
            "=================================================================\n",
            " input_layer (InputLayer)    [(None, 96, 96, 3)]       0         \n",
            "                                                                 \n",
            " xception (Functional)       (None, 3, 3, 2048)        20861480  \n",
            "                                                                 \n",
            " Flatten (Flatten)           (None, 18432)             0         \n",
            "                                                                 \n",
            " dense_1 (Dense)             (None, 512)               9437696   \n",
            "                                                                 \n",
            " dropout_2 (Dropout)         (None, 512)               0         \n",
            "                                                                 \n",
            " Classifier (Dense)          (None, 256)               131328    \n",
            "                                                                 \n",
            " dropout_3 (Dropout)         (None, 256)               0         \n",
            "                                                                 \n",
            " output_layer (Dense)        (None, 8)                 2056      \n",
            "                                                                 \n",
            "=================================================================\n",
            "Total params: 30,432,560\n",
            "Trainable params: 30,378,032\n",
            "Non-trainable params: 54,528\n",
            "_________________________________________________________________\n"
          ]
        }
      ]
    },
    {
      "cell_type": "code",
      "source": [
        "xc3.compile(loss=tfk.losses.CategoricalCrossentropy(), optimizer=tfk.optimizers.Adam(1e-6), metrics='accuracy')\n"
      ],
      "metadata": {
        "id": "Akp7adMbkT-Z"
      },
      "execution_count": null,
      "outputs": []
    },
    {
      "cell_type": "code",
      "source": [
        "callbacks = create_folders_and_callbacks(model_name='CNN_XCeption_3_FineTuning')\n",
        "\n",
        "# Train the model\n",
        "history = xc3.fit(\n",
        "    x = train_gen,\n",
        "    epochs = epochs,\n",
        "    validation_data = valid_gen,\n",
        "    class_weight = {0: 3542/186, 1: 3542/532, 2: 3542/515, 3: 3542/511, 4: 3542/531, \n",
        "                    5: 3542/222, 6: 3542/537, 7: 3542/508},\n",
        "    callbacks = callbacks,\n",
        ").history"
      ],
      "metadata": {
        "colab": {
          "base_uri": "https://localhost:8080/"
        },
        "id": "Omj4YtrlkT5Z",
        "outputId": "4607d844-d3b4-43f6-b66e-55f6677f6e68"
      },
      "execution_count": null,
      "outputs": [
        {
          "output_type": "stream",
          "name": "stdout",
          "text": [
            "Epoch 1/200\n",
            "89/89 [==============================] - 38s 365ms/step - loss: 2.1646 - accuracy: 0.9006 - val_loss: 0.5932 - val_accuracy: 0.8442\n",
            "Epoch 2/200\n",
            "89/89 [==============================] - 28s 310ms/step - loss: 2.1868 - accuracy: 0.9051 - val_loss: 0.5902 - val_accuracy: 0.8414\n",
            "Epoch 3/200\n",
            "89/89 [==============================] - 28s 320ms/step - loss: 2.2359 - accuracy: 0.9090 - val_loss: 0.5860 - val_accuracy: 0.8442\n",
            "Epoch 4/200\n",
            "89/89 [==============================] - 28s 316ms/step - loss: 2.3914 - accuracy: 0.9034 - val_loss: 0.5962 - val_accuracy: 0.8385\n",
            "Epoch 5/200\n",
            "89/89 [==============================] - 27s 306ms/step - loss: 2.2832 - accuracy: 0.9044 - val_loss: 0.5893 - val_accuracy: 0.8399\n",
            "Epoch 6/200\n",
            "89/89 [==============================] - 27s 303ms/step - loss: 2.4685 - accuracy: 0.9006 - val_loss: 0.5973 - val_accuracy: 0.8414\n",
            "Epoch 7/200\n",
            "89/89 [==============================] - 27s 302ms/step - loss: 2.1872 - accuracy: 0.9044 - val_loss: 0.5862 - val_accuracy: 0.8428\n",
            "Epoch 8/200\n",
            "89/89 [==============================] - 28s 318ms/step - loss: 2.0723 - accuracy: 0.9157 - val_loss: 0.5852 - val_accuracy: 0.8414\n",
            "Epoch 9/200\n",
            "89/89 [==============================] - 27s 301ms/step - loss: 2.2609 - accuracy: 0.9087 - val_loss: 0.5849 - val_accuracy: 0.8428\n",
            "Epoch 10/200\n",
            "89/89 [==============================] - 28s 316ms/step - loss: 2.0433 - accuracy: 0.9133 - val_loss: 0.5844 - val_accuracy: 0.8428\n",
            "Epoch 11/200\n",
            "89/89 [==============================] - 27s 301ms/step - loss: 2.2278 - accuracy: 0.9097 - val_loss: 0.5842 - val_accuracy: 0.8385\n"
          ]
        }
      ]
    },
    {
      "cell_type": "code",
      "source": [
        "# Save best epoch model\n",
        "xc3.save(\"savedModels/CNN_XCeption_3_FineTuning\")"
      ],
      "metadata": {
        "colab": {
          "base_uri": "https://localhost:8080/"
        },
        "id": "g9QrhYHlkrVM",
        "outputId": "9bf755a3-360b-446a-87e1-969e2d71dd40"
      },
      "execution_count": null,
      "outputs": [
        {
          "output_type": "stream",
          "name": "stderr",
          "text": [
            "WARNING:absl:Found untraced functions such as _jit_compiled_convolution_op, _jit_compiled_convolution_op, _jit_compiled_convolution_op, _jit_compiled_convolution_op, _jit_compiled_convolution_op while saving (showing 5 of 40). These functions will not be directly callable after loading.\n"
          ]
        }
      ]
    },
    {
      "cell_type": "code",
      "source": [
        "testModel(valid_gen, xc3)"
      ],
      "metadata": {
        "colab": {
          "base_uri": "https://localhost:8080/",
          "height": 551
        },
        "id": "b-JhCedZkq_o",
        "outputId": "41d5709b-50a0-42a0-df19-aaed9873c31b"
      },
      "execution_count": null,
      "outputs": [
        {
          "output_type": "stream",
          "name": "stdout",
          "text": [
            "706/706 [==============================] - 7s 9ms/step\n"
          ]
        },
        {
          "output_type": "display_data",
          "data": {
            "text/plain": [
              "<Figure size 432x288 with 2 Axes>"
            ],
            "image/png": "[encoded data removed]"
          },
          "metadata": {
            "needs_background": "light"
          }
        },
        {
          "output_type": "stream",
          "name": "stdout",
          "text": [
            "              precision    recall  f1-score   support\n",
            "\n",
            "    Species1       0.62      0.57      0.59        37\n",
            "    Species2       0.78      0.92      0.85       106\n",
            "    Species3       0.87      0.84      0.86       103\n",
            "    Species4       0.78      0.88      0.83       102\n",
            "    Species5       0.88      0.89      0.88       106\n",
            "    Species6       1.00      0.64      0.78        44\n",
            "    Species7       0.98      0.93      0.95       107\n",
            "    Species8       0.82      0.78      0.80       101\n",
            "\n",
            "    accuracy                           0.84       706\n",
            "   macro avg       0.84      0.81      0.82       706\n",
            "weighted avg       0.85      0.84      0.84       706\n",
            "\n"
          ]
        }
      ]
    },
    {
      "cell_type": "markdown",
      "source": [
        "#InceptionV3"
      ],
      "metadata": {
        "id": "fC237kGVRCvK"
      }
    },
    {
      "cell_type": "code",
      "source": [
        "supernet3 = tfk.applications.InceptionV3(\n",
        "    include_top=False,\n",
        "    weights=\"imagenet\",\n",
        "    input_shape=(96,96,3)\n",
        ")"
      ],
      "metadata": {
        "colab": {
          "base_uri": "https://localhost:8080/"
        },
        "id": "fezLnbhXRFuU",
        "outputId": "1999e0a1-d7bb-4b41-9985-316d7e13617e"
      },
      "execution_count": null,
      "outputs": [
        {
          "output_type": "stream",
          "name": "stdout",
          "text": [
            "Downloading data from https://storage.googleapis.com/tensorflow/keras-applications/inception_v3/inception_v3_weights_tf_dim_ordering_tf_kernels_notop.h5\n",
            "87910968/87910968 [==============================] - 4s 0us/step\n"
          ]
        }
      ]
    },
    {
      "cell_type": "code",
      "source": [
        "for layer in supernet3.layers:\n",
        "    layer.trainable = False"
      ],
      "metadata": {
        "id": "xAwyvAnTRdnL"
      },
      "execution_count": null,
      "outputs": []
    },
    {
      "cell_type": "code",
      "source": [
        "inceptionV3 = build_model(input_shape, supernet3)\n",
        "inceptionV3.summary()"
      ],
      "metadata": {
        "colab": {
          "base_uri": "https://localhost:8080/"
        },
        "id": "2pQl-80CRgxC",
        "outputId": "fd4c8f0d-16a3-47c6-f0b7-42c334517c6e"
      },
      "execution_count": null,
      "outputs": [
        {
          "output_type": "stream",
          "name": "stdout",
          "text": [
            "Model: \"model\"\n",
            "_________________________________________________________________\n",
            " Layer (type)                Output Shape              Param #   \n",
            "=================================================================\n",
            " input_layer (InputLayer)    [(None, 96, 96, 3)]       0         \n",
            "                                                                 \n",
            " inception_v3 (Functional)   (None, 1, 1, 2048)        21802784  \n",
            "                                                                 \n",
            " Flatten (Flatten)           (None, 2048)              0         \n",
            "                                                                 \n",
            " dense_1 (Dense)             (None, 1028)              2106372   \n",
            "                                                                 \n",
            " dropout_2 (Dropout)         (None, 1028)              0         \n",
            "                                                                 \n",
            " Classifier (Dense)          (None, 512)               526848    \n",
            "                                                                 \n",
            " dropout_3 (Dropout)         (None, 512)               0         \n",
            "                                                                 \n",
            " output_layer (Dense)        (None, 8)                 4104      \n",
            "                                                                 \n",
            "=================================================================\n",
            "Total params: 24,440,108\n",
            "Trainable params: 2,637,324\n",
            "Non-trainable params: 21,802,784\n",
            "_________________________________________________________________\n"
          ]
        }
      ]
    },
    {
      "cell_type": "code",
      "source": [
        "callbacks = create_folders_and_callbacks(model_name='CNN_XCeption')\n",
        "\n",
        "# Train the model\n",
        "history = inceptionV3.fit(\n",
        "    x = train_gen,\n",
        "    epochs = epochs,\n",
        "    validation_data = valid_gen,\n",
        "    class_weight = {0: 3542/186, 1: 3542/532, 2: 3542/515, 3: 3542/511, 4: 3542/531, \n",
        "                    5: 3542/222, 6: 3542/537, 7: 3542/508},\n",
        "    callbacks = callbacks,\n",
        ").history"
      ],
      "metadata": {
        "colab": {
          "base_uri": "https://localhost:8080/"
        },
        "id": "ufqfbakvRyto",
        "outputId": "c3755eb1-0e9b-436a-c285-42236ddb8a1c"
      },
      "execution_count": null,
      "outputs": [
        {
          "output_type": "stream",
          "name": "stdout",
          "text": [
            "Epoch 1/200\n",
            "89/89 [==============================] - 38s 373ms/step - loss: 18.4904 - accuracy: 0.1668 - val_loss: 1.8235 - val_accuracy: 0.3513\n",
            "Epoch 2/200\n",
            "89/89 [==============================] - 30s 341ms/step - loss: 16.1028 - accuracy: 0.2574 - val_loss: 1.7706 - val_accuracy: 0.3456\n",
            "Epoch 3/200\n",
            "89/89 [==============================] - 28s 315ms/step - loss: 15.0425 - accuracy: 0.3032 - val_loss: 1.6819 - val_accuracy: 0.3697\n",
            "Epoch 4/200\n",
            "89/89 [==============================] - 29s 322ms/step - loss: 14.6979 - accuracy: 0.3029 - val_loss: 1.5911 - val_accuracy: 0.4391\n",
            "Epoch 5/200\n",
            "89/89 [==============================] - 28s 311ms/step - loss: 14.3209 - accuracy: 0.3170 - val_loss: 1.5698 - val_accuracy: 0.4207\n",
            "Epoch 6/200\n",
            "89/89 [==============================] - 28s 322ms/step - loss: 14.2124 - accuracy: 0.3410 - val_loss: 1.5835 - val_accuracy: 0.4136\n",
            "Epoch 7/200\n",
            "89/89 [==============================] - 28s 319ms/step - loss: 14.1402 - accuracy: 0.3325 - val_loss: 1.5390 - val_accuracy: 0.4348\n",
            "Epoch 8/200\n",
            "89/89 [==============================] - 29s 326ms/step - loss: 13.8344 - accuracy: 0.3519 - val_loss: 1.5244 - val_accuracy: 0.4490\n",
            "Epoch 9/200\n",
            "89/89 [==============================] - 28s 320ms/step - loss: 13.7337 - accuracy: 0.3583 - val_loss: 1.5340 - val_accuracy: 0.4533\n",
            "Epoch 10/200\n",
            "89/89 [==============================] - 27s 309ms/step - loss: 13.8720 - accuracy: 0.3470 - val_loss: 1.5132 - val_accuracy: 0.4533\n",
            "Epoch 11/200\n",
            "89/89 [==============================] - 28s 321ms/step - loss: 13.5469 - accuracy: 0.3805 - val_loss: 1.5188 - val_accuracy: 0.4618\n",
            "Epoch 12/200\n",
            "89/89 [==============================] - 27s 303ms/step - loss: 13.6718 - accuracy: 0.3650 - val_loss: 1.4912 - val_accuracy: 0.4547\n",
            "Epoch 13/200\n",
            "89/89 [==============================] - 28s 321ms/step - loss: 13.4276 - accuracy: 0.3755 - val_loss: 1.4807 - val_accuracy: 0.4433\n",
            "Epoch 14/200\n",
            "89/89 [==============================] - 28s 313ms/step - loss: 13.1145 - accuracy: 0.3865 - val_loss: 1.4800 - val_accuracy: 0.4603\n",
            "Epoch 15/200\n",
            "89/89 [==============================] - 28s 319ms/step - loss: 13.3334 - accuracy: 0.3646 - val_loss: 1.4573 - val_accuracy: 0.4688\n",
            "Epoch 16/200\n",
            "89/89 [==============================] - 28s 320ms/step - loss: 13.1392 - accuracy: 0.3889 - val_loss: 1.4402 - val_accuracy: 0.4731\n",
            "Epoch 17/200\n",
            "89/89 [==============================] - 28s 311ms/step - loss: 12.9969 - accuracy: 0.3879 - val_loss: 1.4692 - val_accuracy: 0.4688\n",
            "Epoch 18/200\n",
            "89/89 [==============================] - 29s 323ms/step - loss: 13.0794 - accuracy: 0.3791 - val_loss: 1.4429 - val_accuracy: 0.4731\n",
            "Epoch 19/200\n",
            "89/89 [==============================] - 27s 303ms/step - loss: 13.0062 - accuracy: 0.3960 - val_loss: 1.4643 - val_accuracy: 0.4518\n",
            "Epoch 20/200\n",
            "89/89 [==============================] - 27s 305ms/step - loss: 13.1146 - accuracy: 0.3872 - val_loss: 1.4519 - val_accuracy: 0.4816\n",
            "Epoch 21/200\n",
            "89/89 [==============================] - 28s 313ms/step - loss: 12.8513 - accuracy: 0.3917 - val_loss: 1.4328 - val_accuracy: 0.4773\n",
            "Epoch 22/200\n",
            "89/89 [==============================] - 28s 320ms/step - loss: 12.8598 - accuracy: 0.3879 - val_loss: 1.4564 - val_accuracy: 0.4575\n",
            "Epoch 23/200\n",
            "89/89 [==============================] - 28s 313ms/step - loss: 13.0830 - accuracy: 0.3858 - val_loss: 1.4600 - val_accuracy: 0.4788\n",
            "Epoch 24/200\n",
            "89/89 [==============================] - 28s 320ms/step - loss: 13.1292 - accuracy: 0.3882 - val_loss: 1.4253 - val_accuracy: 0.4844\n",
            "Epoch 25/200\n",
            "89/89 [==============================] - 27s 310ms/step - loss: 12.9442 - accuracy: 0.3854 - val_loss: 1.4235 - val_accuracy: 0.4986\n",
            "Epoch 26/200\n",
            "89/89 [==============================] - 28s 317ms/step - loss: 12.7755 - accuracy: 0.3956 - val_loss: 1.4091 - val_accuracy: 0.4958\n",
            "Epoch 27/200\n",
            "89/89 [==============================] - 27s 304ms/step - loss: 12.9746 - accuracy: 0.3939 - val_loss: 1.4054 - val_accuracy: 0.4986\n"
          ]
        }
      ]
    },
    {
      "cell_type": "code",
      "source": [
        "# Save best epoch model\n",
        "inceptionV3.save(\"savedModels/CNN_inceptionV3\")"
      ],
      "metadata": {
        "id": "VNLPrhgqSWxc"
      },
      "execution_count": null,
      "outputs": []
    },
    {
      "cell_type": "code",
      "source": [
        "testModel(valid_gen, inceptionV3)"
      ],
      "metadata": {
        "id": "gjL2vBtzSeK0"
      },
      "execution_count": null,
      "outputs": []
    },
    {
      "cell_type": "code",
      "source": [
        "iv3 = tfk.models.load_model(\"savedModels/CNN_inceptionV3\")\n",
        "iv3.summary()"
      ],
      "metadata": {
        "id": "8KdBAANvSnCz"
      },
      "execution_count": null,
      "outputs": []
    },
    {
      "cell_type": "code",
      "source": [
        "iv3.get_layer('inception_v3').trainable = True\n"
      ],
      "metadata": {
        "id": "xamD1kcNSutj"
      },
      "execution_count": null,
      "outputs": []
    },
    {
      "cell_type": "code",
      "source": [
        "iv3.compile(loss=tfk.losses.CategoricalCrossentropy(), optimizer=tfk.optimizers.Adam(1e-4), metrics='accuracy')\n",
        "iv3.summary()"
      ],
      "metadata": {
        "id": "NCIL_m94S_W1"
      },
      "execution_count": null,
      "outputs": []
    },
    {
      "cell_type": "code",
      "source": [
        "callbacks = create_folders_and_callbacks(model_name='CNN_inceptionV3_FineTuning')\n",
        "\n",
        "# Train the model\n",
        "history = iv3.fit(\n",
        "    x = train_gen,\n",
        "    epochs = epochs,\n",
        "    validation_data = valid_gen,\n",
        "    class_weight = {0: 3542/186, 1: 3542/532, 2: 3542/515, 3: 3542/511, 4: 3542/531, \n",
        "                    5: 3542/222, 6: 3542/537, 7: 3542/508},\n",
        "    callbacks = callbacks,\n",
        ").history"
      ],
      "metadata": {
        "id": "7x8w4tuATHxa"
      },
      "execution_count": null,
      "outputs": []
    },
    {
      "cell_type": "code",
      "source": [
        "iv3.save(\"savedModels/CNN_inceptionV3_FineTuning\")"
      ],
      "metadata": {
        "id": "U3m_7M_UTQKJ"
      },
      "execution_count": null,
      "outputs": []
    },
    {
      "cell_type": "code",
      "source": [
        "testModel(valid_gen, iv3)"
      ],
      "metadata": {
        "id": "6-TZn46STUzG"
      },
      "execution_count": null,
      "outputs": []
    },
    {
      "cell_type": "markdown",
      "source": [
        "#ResNet"
      ],
      "metadata": {
        "id": "TUXJAA0z4BrD"
      }
    },
    {
      "cell_type": "code",
      "source": [
        "supernet4 = tfk.applications.ResNet50(\n",
        "    include_top=False,\n",
        "    weights=\"imagenet\",\n",
        "    input_shape=(96,96,3)\n",
        ")"
      ],
      "metadata": {
        "id": "4Q6q83kg4HUm"
      },
      "execution_count": null,
      "outputs": []
    },
    {
      "cell_type": "code",
      "source": [
        "for layer in supernet4.layers:\n",
        "    layer.trainable = False"
      ],
      "metadata": {
        "id": "pFm6Bpqo4dHk"
      },
      "execution_count": null,
      "outputs": []
    },
    {
      "cell_type": "code",
      "source": [
        "resNet = build_model(input_shape, supernet4)\n",
        "resNet.summary()"
      ],
      "metadata": {
        "id": "Lpj17LAw4c9u"
      },
      "execution_count": null,
      "outputs": []
    },
    {
      "cell_type": "code",
      "source": [
        "callbacks = create_folders_and_callbacks(model_name='CNN_resNet50')\n",
        "\n",
        "# Train the model\n",
        "history = resNet.fit(\n",
        "    x = train_gen,\n",
        "    epochs = epochs,\n",
        "    validation_data = valid_gen,\n",
        "    class_weight = {0: 3542/186, 1: 3542/532, 2: 3542/515, 3: 3542/511, 4: 3542/531, \n",
        "                    5: 3542/222, 6: 3542/537, 7: 3542/508},\n",
        "    callbacks = callbacks,\n",
        ").history"
      ],
      "metadata": {
        "id": "QHhi5ZV94cz8"
      },
      "execution_count": null,
      "outputs": []
    },
    {
      "cell_type": "code",
      "source": [
        "# Save best epoch model\n",
        "resNet.save(\"savedModels/CNN_resNet50\")"
      ],
      "metadata": {
        "id": "1bGYTCl64cit"
      },
      "execution_count": null,
      "outputs": []
    },
    {
      "cell_type": "code",
      "source": [
        "testModel(valid_gen, resNet)"
      ],
      "metadata": {
        "id": "KrGMFQmR5Wuj"
      },
      "execution_count": null,
      "outputs": []
    },
    {
      "cell_type": "code",
      "source": [
        "rn = tfk.models.load_model(\"savedModels/CNN_resNet50\")\n",
        "rn.summary()"
      ],
      "metadata": {
        "id": "0qT1xFmX5Wj_"
      },
      "execution_count": null,
      "outputs": []
    },
    {
      "cell_type": "code",
      "source": [
        "rn.get_layer('xception').trainable = True"
      ],
      "metadata": {
        "id": "Euu5VUER5WZp"
      },
      "execution_count": null,
      "outputs": []
    },
    {
      "cell_type": "code",
      "source": [
        "rn.compile(loss=tfk.losses.CategoricalCrossentropy(), optimizer=tfk.optimizers.Adam(1e-4), metrics='accuracy')\n",
        "rn.summary()"
      ],
      "metadata": {
        "id": "5H2CH6uS5lg8"
      },
      "execution_count": null,
      "outputs": []
    },
    {
      "cell_type": "code",
      "source": [
        "callbacks = create_folders_and_callbacks(model_name='CNN_resNet50_FineTuning')\n",
        "\n",
        "# Train the model\n",
        "history = rn.fit(\n",
        "    x = train_gen,\n",
        "    epochs = epochs,\n",
        "    validation_data = valid_gen,\n",
        "    class_weight = {0: 3542/186, 1: 3542/532, 2: 3542/515, 3: 3542/511, 4: 3542/531, \n",
        "                    5: 3542/222, 6: 3542/537, 7: 3542/508},\n",
        "    callbacks = callbacks,\n",
        ").history"
      ],
      "metadata": {
        "id": "t3ElKzJ35lSd"
      },
      "execution_count": null,
      "outputs": []
    },
    {
      "cell_type": "code",
      "source": [
        "# Save best epoch model\n",
        "rn.save(\"savedModels/CNN_resNet50_FineTuning\")"
      ],
      "metadata": {
        "id": "12F_Zpov5lEQ"
      },
      "execution_count": null,
      "outputs": []
    },
    {
      "cell_type": "code",
      "source": [
        "testModel(valid_gen, rn)"
      ],
      "metadata": {
        "id": "UBtKgjoL5WLE"
      },
      "execution_count": null,
      "outputs": []
    },
    {
      "cell_type": "markdown",
      "source": [
        "#EfficientNetB4"
      ],
      "metadata": {
        "id": "YJl-mozU673Y"
      }
    },
    {
      "cell_type": "code",
      "source": [
        "supernet5 = tfk.applications.EfficientNetB4(\n",
        "    include_top=False,\n",
        "    weights=\"imagenet\",\n",
        "    input_shape=(96,96,3)\n",
        ")"
      ],
      "metadata": {
        "id": "YCXEbG6v6vuQ"
      },
      "execution_count": null,
      "outputs": []
    },
    {
      "cell_type": "code",
      "source": [
        "for layer in supernet5.layers:\n",
        "    layer.trainable = False"
      ],
      "metadata": {
        "id": "vC2COYZa7SqE"
      },
      "execution_count": null,
      "outputs": []
    },
    {
      "cell_type": "code",
      "source": [
        "effNetB4 = build_model(input_shape, supernet5)\n",
        "effNetB4.summary()\n",
        "tfk.utils.plot_model(effNetB4)"
      ],
      "metadata": {
        "id": "F5yDZ_Oc7Shv"
      },
      "execution_count": null,
      "outputs": []
    },
    {
      "cell_type": "code",
      "source": [
        "callbacks = create_folders_and_callbacks(model_name='CNN_effNetB4')\n",
        "\n",
        "# Train the model\n",
        "history = effNetB4.fit(\n",
        "    x = train_gen,\n",
        "    epochs = epochs,\n",
        "    validation_data = valid_gen,\n",
        "    class_weight = {0: 3542/186, 1: 3542/532, 2: 3542/515, 3: 3542/511, 4: 3542/531, \n",
        "                    5: 3542/222, 6: 3542/537, 7: 3542/508},\n",
        "    callbacks = callbacks,\n",
        ").history"
      ],
      "metadata": {
        "id": "01pcZMz97SZk"
      },
      "execution_count": null,
      "outputs": []
    },
    {
      "cell_type": "code",
      "source": [
        "# Save best epoch model\n",
        "effNetB4.save(\"savedModels/CNN_effNetB4\")"
      ],
      "metadata": {
        "id": "CYNpTWdm7SRn"
      },
      "execution_count": null,
      "outputs": []
    },
    {
      "cell_type": "code",
      "source": [
        "testModel(valid_gen, effNetB4)"
      ],
      "metadata": {
        "id": "vze2IhUV7SI8"
      },
      "execution_count": null,
      "outputs": []
    },
    {
      "cell_type": "code",
      "source": [
        "enb4 = tfk.models.load_model(\"savedModels/CNN_effNetB4\")\n",
        "enb4.summary()"
      ],
      "metadata": {
        "id": "en9gkruT7R9v"
      },
      "execution_count": null,
      "outputs": []
    },
    {
      "cell_type": "code",
      "source": [
        "enb4.get_layer('xception').trainable = True"
      ],
      "metadata": {
        "id": "eMPYiwKx7iOz"
      },
      "execution_count": null,
      "outputs": []
    },
    {
      "cell_type": "code",
      "source": [
        "enb4.compile(loss=tfk.losses.CategoricalCrossentropy(), optimizer=tfk.optimizers.Adam(1e-4), metrics='accuracy')\n",
        "enb4.summary()"
      ],
      "metadata": {
        "id": "TRQ4AUpJ7iGG"
      },
      "execution_count": null,
      "outputs": []
    },
    {
      "cell_type": "code",
      "source": [
        "callbacks = create_folders_and_callbacks(model_name='CNN_effNetB4_FineTuning')\n",
        "\n",
        "# Train the model\n",
        "history = enb4.fit(\n",
        "    x = train_gen,\n",
        "    epochs = epochs,\n",
        "    validation_data = valid_gen,\n",
        "    class_weight = {0: 3542/186, 1: 3542/532, 2: 3542/515, 3: 3542/511, 4: 3542/531, \n",
        "                    5: 3542/222, 6: 3542/537, 7: 3542/508},\n",
        "    callbacks = callbacks,\n",
        ").history"
      ],
      "metadata": {
        "id": "fvA0X_uX7sgX"
      },
      "execution_count": null,
      "outputs": []
    },
    {
      "cell_type": "code",
      "source": [
        "# Save best epoch model\n",
        "enb4.save(\"savedModels/CNN_effNetB4_FineTuning\")"
      ],
      "metadata": {
        "id": "8UZK5_x27sSg"
      },
      "execution_count": null,
      "outputs": []
    },
    {
      "cell_type": "code",
      "source": [
        "testModel(valid_gen, enb4)"
      ],
      "metadata": {
        "id": "1qoExp8u7h-U"
      },
      "execution_count": null,
      "outputs": []
    },
    {
      "cell_type": "markdown",
      "source": [
        "#Combine 2 model together"
      ],
      "metadata": {
        "id": "o7_WoRcm-zax"
      }
    },
    {
      "cell_type": "code",
      "source": [
        "first_model = tfk.models.load_model(\"savedModels/BestModel_1\")\n",
        "second_model = tfk.models.load_model(\"savedModels/CNN_XCeption_3_FineTuning\")\n",
        "\n",
        "first_model._name = 'model1'\n",
        "second_model._name = 'model2'"
      ],
      "metadata": {
        "id": "2XJ4UduY-4YP"
      },
      "execution_count": null,
      "outputs": []
    },
    {
      "cell_type": "code",
      "source": [
        "models = [first_model, second_model]\n",
        "model_input = tf.keras.Input(shape=input_shape, name='input_layer')\n",
        "model_outputs = [model(model_input) for model in models]\n",
        "ensemble_output = tf.keras.layers.Average()(model_outputs)\n",
        "ensemble_model = tf.keras.Model(inputs=model_input, outputs=ensemble_output)"
      ],
      "metadata": {
        "id": "Uj-WGCXkAoh_"
      },
      "execution_count": null,
      "outputs": []
    },
    {
      "cell_type": "code",
      "source": [
        "ensemble_model.summary()"
      ],
      "metadata": {
        "colab": {
          "base_uri": "https://localhost:8080/"
        },
        "id": "VGJeSB4pBxdh",
        "outputId": "13090ddf-a082-4006-818e-56e964d5b8f0"
      },
      "execution_count": null,
      "outputs": [
        {
          "output_type": "stream",
          "name": "stdout",
          "text": [
            "Model: \"model\"\n",
            "__________________________________________________________________________________________________\n",
            " Layer (type)                   Output Shape         Param #     Connected to                     \n",
            "==================================================================================================\n",
            " input_layer (InputLayer)       [(None, 96, 96, 3)]  0           []                               \n",
            "                                                                                                  \n",
            " model1 (Functional)            (None, 8)            17207880    ['input_layer[0][0]']            \n",
            "                                                                                                  \n",
            " model2 (Functional)            (None, 8)            30432560    ['input_layer[0][0]']            \n",
            "                                                                                                  \n",
            " average (Average)              (None, 8)            0           ['model1[0][0]',                 \n",
            "                                                                  'model2[0][0]']                 \n",
            "                                                                                                  \n",
            "==================================================================================================\n",
            "Total params: 47,640,440\n",
            "Trainable params: 47,585,912\n",
            "Non-trainable params: 54,528\n",
            "__________________________________________________________________________________________________\n"
          ]
        }
      ]
    },
    {
      "cell_type": "code",
      "source": [
        "def build_combine_model(input_shape):\n",
        "  input_layer = tfkl.Input(shape=input_shape, name='input_layer')\n",
        "\n",
        "  a = (input_layer/255)\n",
        "  b = tf.keras.applications.mobilenet.preprocess_input(input_layer)\n",
        "\n",
        "  x = first_model(a)\n",
        "  y = second_model(a)\n",
        "\n",
        "  avg = tf.keras.layers.Average()([x, y])\n",
        "\n",
        "  combine_model = tfk.Model(inputs=input_layer, outputs=avg, name='Comb_model')\n",
        "\n",
        "  return combine_model"
      ],
      "metadata": {
        "id": "z082-Q-J_Srk"
      },
      "execution_count": null,
      "outputs": []
    },
    {
      "cell_type": "code",
      "source": [
        "cmb_model = build_combine_model(input_shape)\n",
        "cmb_model.summary()"
      ],
      "metadata": {
        "id": "fx_p4i2MAgVY",
        "colab": {
          "base_uri": "https://localhost:8080/"
        },
        "outputId": "d9fe0dbb-bb9c-40b9-d760-dad37739e73f"
      },
      "execution_count": null,
      "outputs": [
        {
          "output_type": "stream",
          "name": "stdout",
          "text": [
            "Model: \"Comb_model\"\n",
            "__________________________________________________________________________________________________\n",
            " Layer (type)                   Output Shape         Param #     Connected to                     \n",
            "==================================================================================================\n",
            " input_layer (InputLayer)       [(None, 96, 96, 3)]  0           []                               \n",
            "                                                                                                  \n",
            " tf.math.truediv (TFOpLambda)   (None, 96, 96, 3)    0           ['input_layer[0][0]']            \n",
            "                                                                                                  \n",
            " model1 (Functional)            (None, 8)            17207880    ['tf.math.truediv[0][0]']        \n",
            "                                                                                                  \n",
            " model2 (Functional)            (None, 8)            30432560    ['tf.math.truediv[0][0]']        \n",
            "                                                                                                  \n",
            " average_1 (Average)            (None, 8)            0           ['model1[1][0]',                 \n",
            "                                                                  'model2[1][0]']                 \n",
            "                                                                                                  \n",
            "==================================================================================================\n",
            "Total params: 47,640,440\n",
            "Trainable params: 47,585,912\n",
            "Non-trainable params: 54,528\n",
            "__________________________________________________________________________________________________\n"
          ]
        }
      ]
    },
    {
      "cell_type": "code",
      "source": [
        "ensemble_model.save(\"savedModels/EnsambleModel_2\")"
      ],
      "metadata": {
        "id": "dpPQ1u21BVzr",
        "colab": {
          "base_uri": "https://localhost:8080/"
        },
        "outputId": "a155750c-47ce-4f55-b227-83c6de6777e7"
      },
      "execution_count": null,
      "outputs": [
        {
          "output_type": "stream",
          "name": "stderr",
          "text": [
            "WARNING:absl:Found untraced functions such as _jit_compiled_convolution_op, _jit_compiled_convolution_op, _jit_compiled_convolution_op, _jit_compiled_convolution_op, _jit_compiled_convolution_op while saving (showing 5 of 53). These functions will not be directly callable after loading.\n"
          ]
        }
      ]
    },
    {
      "cell_type": "code",
      "source": [
        "testModel(valid_gen, first_model)"
      ],
      "metadata": {
        "colab": {
          "base_uri": "https://localhost:8080/",
          "height": 551
        },
        "id": "PKnOrbtS9gQo",
        "outputId": "d565f569-5c07-40fb-d115-5d339893eadd"
      },
      "execution_count": null,
      "outputs": [
        {
          "output_type": "stream",
          "name": "stdout",
          "text": [
            "706/706 [==============================] - 278s 394ms/step\n"
          ]
        },
        {
          "output_type": "display_data",
          "data": {
            "text/plain": [
              "<Figure size 432x288 with 2 Axes>"
            ],
            "image/png": "[encoded data removed]"
          },
          "metadata": {
            "needs_background": "light"
          }
        },
        {
          "output_type": "stream",
          "name": "stdout",
          "text": [
            "              precision    recall  f1-score   support\n",
            "\n",
            "    Species1       0.50      0.65      0.56        37\n",
            "    Species2       0.86      0.91      0.88       106\n",
            "    Species3       0.87      0.89      0.88       103\n",
            "    Species4       0.81      0.84      0.83       102\n",
            "    Species5       0.91      0.87      0.89       106\n",
            "    Species6       0.93      0.86      0.89        44\n",
            "    Species7       0.96      0.95      0.96       107\n",
            "    Species8       0.80      0.69      0.74       101\n",
            "\n",
            "    accuracy                           0.85       706\n",
            "   macro avg       0.83      0.83      0.83       706\n",
            "weighted avg       0.86      0.85      0.85       706\n",
            "\n"
          ]
        }
      ]
    },
    {
      "cell_type": "code",
      "source": [
        "testModel(valid_gen, ensemble_model)"
      ],
      "metadata": {
        "id": "tF5rgaFdBehO",
        "colab": {
          "base_uri": "https://localhost:8080/",
          "height": 551
        },
        "outputId": "52d59de6-cd11-4ae0-e9b8-27af91e73887"
      },
      "execution_count": null,
      "outputs": [
        {
          "output_type": "stream",
          "name": "stdout",
          "text": [
            "706/706 [==============================] - 89s 126ms/step\n"
          ]
        },
        {
          "output_type": "display_data",
          "data": {
            "text/plain": [
              "<Figure size 432x288 with 2 Axes>"
            ],
            "image/png": "[encoded data removed]"
          },
          "metadata": {
            "needs_background": "light"
          }
        },
        {
          "output_type": "stream",
          "name": "stdout",
          "text": [
            "              precision    recall  f1-score   support\n",
            "\n",
            "    Species1       0.61      0.59      0.60        37\n",
            "    Species2       0.87      0.92      0.89       106\n",
            "    Species3       0.88      0.90      0.89       103\n",
            "    Species4       0.85      0.92      0.88       102\n",
            "    Species5       0.90      0.90      0.90       106\n",
            "    Species6       1.00      0.80      0.89        44\n",
            "    Species7       0.96      0.95      0.96       107\n",
            "    Species8       0.88      0.81      0.85       101\n",
            "\n",
            "    accuracy                           0.88       706\n",
            "   macro avg       0.87      0.85      0.86       706\n",
            "weighted avg       0.88      0.88      0.88       706\n",
            "\n"
          ]
        }
      ]
    },
    {
      "cell_type": "markdown",
      "source": [
        "# AlexNet"
      ],
      "metadata": {
        "id": "fmy4Z9r40xjk"
      }
    },
    {
      "cell_type": "code",
      "source": [
        "def build_alexNet_model(input_shape):\n",
        "\n",
        "    # Build the neural network layer by layer\n",
        "    input_layer = tfkl.Input(shape=input_shape, name='input_layer')\n",
        "\n",
        "    conv1 = tfkl.Conv2D(\n",
        "        filters=96,\n",
        "        kernel_size=(11, 11),\n",
        "        strides=(4, 4),\n",
        "        activation = 'relu',\n",
        "        kernel_initializer = tfk.initializers.HeUniform(seed)\n",
        "    )(input_layer)\n",
        "    #normalization1 = tfkl.BatchNormalization()(conv1)\n",
        "    pool1 = tfkl.MaxPooling2D(pool_size=(3, 3), strides=(2, 2))(input_layer)\n",
        "\n",
        "    conv2 = tfkl.Conv2D(\n",
        "        filters=256,\n",
        "        kernel_size=(5, 5),\n",
        "        strides=(1, 1),\n",
        "        padding = 'same',\n",
        "        activation = 'relu',\n",
        "        kernel_initializer = tfk.initializers.HeUniform(seed)\n",
        "    )(pool1)\n",
        "    #normalization2 = tfkl.BatchNormalization()(conv2)\n",
        "    pool2 = tfkl.MaxPooling2D(pool_size=(3, 3), strides=(2, 2))(conv2)\n",
        "\n",
        "    conv3 = tfkl.Conv2D(\n",
        "        filters=384,\n",
        "        kernel_size=(3, 3),\n",
        "        strides=(1, 1),\n",
        "        padding = 'same',\n",
        "        activation = 'relu',\n",
        "        kernel_initializer = tfk.initializers.HeUniform(seed)\n",
        "    )(pool2)\n",
        "    #normalization3 = tfkl.BatchNormalization()(conv3)\n",
        "    conv4 = tfkl.Conv2D(\n",
        "        filters=384,\n",
        "        kernel_size=(3, 3),\n",
        "        strides=(1, 1),\n",
        "        padding = 'same',\n",
        "        activation = 'relu',\n",
        "        kernel_initializer = tfk.initializers.HeUniform(seed)\n",
        "    )(conv3)\n",
        "    #normalization4 = tfkl.BatchNormalization()(conv4)\n",
        "    conv5 = tfkl.Conv2D(\n",
        "        filters=256,\n",
        "        kernel_size=(3, 3),\n",
        "        strides=(1, 1),\n",
        "        padding = 'same',\n",
        "        activation = 'relu',\n",
        "        kernel_initializer = tfk.initializers.HeUniform(seed)\n",
        "    )(conv4)\n",
        "    #normalization5 = tfkl.BatchNormalization()(conv5)\n",
        "    pool3 = tfkl.MaxPooling2D(pool_size=(3, 3), strides=(2, 2))(conv5)\n",
        "\n",
        "    flattening_layer = tfkl.Flatten(name='Flatten')(pool3)\n",
        "    dropout1 = tfkl.Dropout(0.5, seed=seed)(flattening_layer)\n",
        "    dense_layer1 = tfkl.Dense(units=4096, activation='relu', kernel_initializer=tfk.initializers.HeUniform(seed))(dropout1)\n",
        "    dropout2 = tfkl.Dropout(0.5, seed=seed)(dense_layer1)\n",
        "    dense_layer2 = tfkl.Dense(units=4096, activation='relu', kernel_initializer=tfk.initializers.HeUniform(seed))(dropout2)\n",
        "    output_layer = tfkl.Dense(units=8, activation='softmax', kernel_initializer=tfk.initializers.GlorotUniform(seed), name='output_layer')(dense_layer2)\n",
        "\n",
        "    # Connect input and output through the Model class\n",
        "    model = tfk.Model(inputs=input_layer, outputs=output_layer, name='model')\n",
        "\n",
        "    # Compile the model\n",
        "    model.compile(loss=tfk.losses.CategoricalCrossentropy(), optimizer=tfk.optimizers.SGD(0.001), metrics='accuracy')\n",
        "\n",
        "    # Return the model\n",
        "    return model"
      ],
      "metadata": {
        "id": "rs8m5TCO022I"
      },
      "execution_count": null,
      "outputs": []
    },
    {
      "cell_type": "code",
      "source": [
        "alexNet = build_alexNet_model(input_shape)\n",
        "alexNet.summary()"
      ],
      "metadata": {
        "colab": {
          "base_uri": "https://localhost:8080/"
        },
        "id": "9duvT0Oh6Ogi",
        "outputId": "d72fb4b1-a06f-48e2-fd14-0ba28fe270ad"
      },
      "execution_count": null,
      "outputs": [
        {
          "output_type": "stream",
          "name": "stdout",
          "text": [
            "Model: \"model\"\n",
            "_________________________________________________________________\n",
            " Layer (type)                Output Shape              Param #   \n",
            "=================================================================\n",
            " input_layer (InputLayer)    [(None, 96, 96, 3)]       0         \n",
            "                                                                 \n",
            " max_pooling2d (MaxPooling2D  (None, 47, 47, 3)        0         \n",
            " )                                                               \n",
            "                                                                 \n",
            " conv2d_1 (Conv2D)           (None, 47, 47, 256)       19456     \n",
            "                                                                 \n",
            " max_pooling2d_1 (MaxPooling  (None, 23, 23, 256)      0         \n",
            " 2D)                                                             \n",
            "                                                                 \n",
            " conv2d_2 (Conv2D)           (None, 23, 23, 384)       885120    \n",
            "                                                                 \n",
            " conv2d_3 (Conv2D)           (None, 23, 23, 384)       1327488   \n",
            "                                                                 \n",
            " conv2d_4 (Conv2D)           (None, 23, 23, 256)       884992    \n",
            "                                                                 \n",
            " max_pooling2d_2 (MaxPooling  (None, 11, 11, 256)      0         \n",
            " 2D)                                                             \n",
            "                                                                 \n",
            " Flatten (Flatten)           (None, 30976)             0         \n",
            "                                                                 \n",
            " dropout (Dropout)           (None, 30976)             0         \n",
            "                                                                 \n",
            " dense (Dense)               (None, 4096)              126881792 \n",
            "                                                                 \n",
            " dropout_1 (Dropout)         (None, 4096)              0         \n",
            "                                                                 \n",
            " dense_1 (Dense)             (None, 4096)              16781312  \n",
            "                                                                 \n",
            " output_layer (Dense)        (None, 8)                 32776     \n",
            "                                                                 \n",
            "=================================================================\n",
            "Total params: 146,812,936\n",
            "Trainable params: 146,812,936\n",
            "Non-trainable params: 0\n",
            "_________________________________________________________________\n"
          ]
        }
      ]
    },
    {
      "cell_type": "code",
      "source": [
        "import visualkeras\n",
        "\n",
        "visualkeras.layered_view(alexNet)"
      ],
      "metadata": {
        "colab": {
          "base_uri": "https://localhost:8080/",
          "height": 334
        },
        "id": "rV0ihTWf6V8e",
        "outputId": "93e99299-5d5e-4f58-ecc1-cfb1ebc960d5"
      },
      "execution_count": null,
      "outputs": [
        {
          "output_type": "error",
          "ename": "ModuleNotFoundError",
          "evalue": "ignored",
          "traceback": [
            "\u001b[0;31m---------------------------------------------------------------------------\u001b[0m",
            "\u001b[0;31mModuleNotFoundError\u001b[0m                       Traceback (most recent call last)",
            "\u001b[0;32m<ipython-input-15-4a9846ad4ae5>\u001b[0m in \u001b[0;36m<module>\u001b[0;34m\u001b[0m\n\u001b[0;32m----> 1\u001b[0;31m \u001b[0;32mimport\u001b[0m \u001b[0mvisualkeras\u001b[0m\u001b[0;34m\u001b[0m\u001b[0;34m\u001b[0m\u001b[0m\n\u001b[0m\u001b[1;32m      2\u001b[0m \u001b[0;34m\u001b[0m\u001b[0m\n\u001b[1;32m      3\u001b[0m \u001b[0mvisualkeras\u001b[0m\u001b[0;34m.\u001b[0m\u001b[0mlayered_view\u001b[0m\u001b[0;34m(\u001b[0m\u001b[0malexNet\u001b[0m\u001b[0;34m)\u001b[0m\u001b[0;34m\u001b[0m\u001b[0;34m\u001b[0m\u001b[0m\n",
            "\u001b[0;31mModuleNotFoundError\u001b[0m: No module named 'visualkeras'",
            "",
            "\u001b[0;31m---------------------------------------------------------------------------\u001b[0;32m\nNOTE: If your import is failing due to a missing package, you can\nmanually install dependencies using either !pip or !apt.\n\nTo view examples of installing some common dependencies, click the\n\"Open Examples\" button below.\n\u001b[0;31m---------------------------------------------------------------------------\u001b[0m\n"
          ],
          "errorDetails": {
            "actions": [
              {
                "action": "open_url",
                "actionText": "Open Examples",
                "url": "/notebooks/snippets/importing_libraries.ipynb"
              }
            ]
          }
        }
      ]
    },
    {
      "cell_type": "code",
      "source": [
        "callbacks = create_folders_and_callbacks(model_name='CNN_alexNet')\n",
        "\n",
        "# Train the model\n",
        "history = alexNet.fit(\n",
        "    x = train_gen,\n",
        "    epochs = epochs,\n",
        "    validation_data = valid_gen,\n",
        "    class_weight = {0: 3542/186, 1: 3542/532, 2: 3542/515, 3: 3542/511, 4: 3542/531, \n",
        "                    5: 3542/222, 6: 3542/537, 7: 3542/508},\n",
        "    callbacks = callbacks,\n",
        ").history"
      ],
      "metadata": {
        "colab": {
          "base_uri": "https://localhost:8080/"
        },
        "id": "_QoTYkMy6lhw",
        "outputId": "caa58b75-cad4-45fe-ad0d-8b5c48f83204"
      },
      "execution_count": null,
      "outputs": [
        {
          "output_type": "stream",
          "name": "stdout",
          "text": [
            "Epoch 1/200\n",
            "178/178 [==============================] - ETA: 0s - loss: 18.0467 - accuracy: 0.1195"
          ]
        }
      ]
    },
    {
      "cell_type": "code",
      "source": [
        "# Save best epoch model\n",
        "alexNet.save(\"savedModels/CNN_alexNet\")"
      ],
      "metadata": {
        "colab": {
          "base_uri": "https://localhost:8080/"
        },
        "id": "KiVlwOyd6rbX",
        "outputId": "9746a965-b5d0-4e1d-99de-f9ec287999cc"
      },
      "execution_count": null,
      "outputs": [
        {
          "output_type": "stream",
          "name": "stderr",
          "text": [
            "WARNING:absl:Found untraced functions such as _jit_compiled_convolution_op, _jit_compiled_convolution_op, _jit_compiled_convolution_op, _jit_compiled_convolution_op, _jit_compiled_convolution_op while saving (showing 5 of 5). These functions will not be directly callable after loading.\n"
          ]
        }
      ]
    },
    {
      "cell_type": "code",
      "source": [
        "testModel(valid_gen, alexNet)"
      ],
      "metadata": {
        "colab": {
          "base_uri": "https://localhost:8080/",
          "height": 551
        },
        "id": "hLA1nEbe62O4",
        "outputId": "519c1a21-44b7-4edf-fdec-e907097dff35"
      },
      "execution_count": null,
      "outputs": [
        {
          "output_type": "stream",
          "name": "stdout",
          "text": [
            "706/706 [==============================] - 3s 4ms/step\n"
          ]
        },
        {
          "output_type": "display_data",
          "data": {
            "text/plain": [
              "<Figure size 432x288 with 2 Axes>"
            ],
            "image/png": "[encoded data removed]"
          },
          "metadata": {
            "needs_background": "light"
          }
        },
        {
          "output_type": "stream",
          "name": "stdout",
          "text": [
            "              precision    recall  f1-score   support\n",
            "\n",
            "    Species1       0.22      0.11      0.15        37\n",
            "    Species2       0.72      0.17      0.27       106\n",
            "    Species3       0.30      0.31      0.30       103\n",
            "    Species4       0.32      0.57      0.41       102\n",
            "    Species5       0.41      0.73      0.52       106\n",
            "    Species6       0.43      0.41      0.42        44\n",
            "    Species7       0.66      0.59      0.62       107\n",
            "    Species8       0.61      0.30      0.40       101\n",
            "\n",
            "    accuracy                           0.42       706\n",
            "   macro avg       0.46      0.40      0.39       706\n",
            "weighted avg       0.49      0.42      0.41       706\n",
            "\n"
          ]
        }
      ]
    },
    {
      "cell_type": "code",
      "source": [
        "testModel(valid_gen, alexNet)"
      ],
      "metadata": {
        "id": "zZnJVzCAEK9V"
      },
      "execution_count": null,
      "outputs": []
    },
    {
      "cell_type": "code",
      "source": [
        "an = tfk.models.load_model(\"savedModels/CNN_alexNet\")\n",
        "an.summary()"
      ],
      "metadata": {
        "colab": {
          "base_uri": "https://localhost:8080/"
        },
        "id": "jh27WadHAlzh",
        "outputId": "ae0fb897-e380-4b47-c87a-e31421648b64"
      },
      "execution_count": null,
      "outputs": [
        {
          "output_type": "stream",
          "name": "stdout",
          "text": [
            "Model: \"model\"\n",
            "_________________________________________________________________\n",
            " Layer (type)                Output Shape              Param #   \n",
            "=================================================================\n",
            " input_layer (InputLayer)    [(None, 96, 96, 3)]       0         \n",
            "                                                                 \n",
            " conv2d_10 (Conv2D)          (None, 22, 22, 96)        34944     \n",
            "                                                                 \n",
            " batch_normalization_10 (Bat  (None, 22, 22, 96)       384       \n",
            " chNormalization)                                                \n",
            "                                                                 \n",
            " max_pooling2d_6 (MaxPooling  (None, 10, 10, 96)       0         \n",
            " 2D)                                                             \n",
            "                                                                 \n",
            " conv2d_11 (Conv2D)          (None, 10, 10, 256)       614656    \n",
            "                                                                 \n",
            " batch_normalization_11 (Bat  (None, 10, 10, 256)      1024      \n",
            " chNormalization)                                                \n",
            "                                                                 \n",
            " max_pooling2d_7 (MaxPooling  (None, 4, 4, 256)        0         \n",
            " 2D)                                                             \n",
            "                                                                 \n",
            " conv2d_12 (Conv2D)          (None, 4, 4, 384)         885120    \n",
            "                                                                 \n",
            " batch_normalization_12 (Bat  (None, 4, 4, 384)        1536      \n",
            " chNormalization)                                                \n",
            "                                                                 \n",
            " conv2d_13 (Conv2D)          (None, 4, 4, 384)         1327488   \n",
            "                                                                 \n",
            " batch_normalization_13 (Bat  (None, 4, 4, 384)        1536      \n",
            " chNormalization)                                                \n",
            "                                                                 \n",
            " conv2d_14 (Conv2D)          (None, 4, 4, 256)         884992    \n",
            "                                                                 \n",
            " batch_normalization_14 (Bat  (None, 4, 4, 256)        1024      \n",
            " chNormalization)                                                \n",
            "                                                                 \n",
            " max_pooling2d_8 (MaxPooling  (None, 1, 1, 256)        0         \n",
            " 2D)                                                             \n",
            "                                                                 \n",
            " Flatten (Flatten)           (None, 256)               0         \n",
            "                                                                 \n",
            " dense_2 (Dense)             (None, 4096)              1052672   \n",
            "                                                                 \n",
            " dropout_2 (Dropout)         (None, 4096)              0         \n",
            "                                                                 \n",
            " output_layer (Dense)        (None, 8)                 32776     \n",
            "                                                                 \n",
            "=================================================================\n",
            "Total params: 4,838,152\n",
            "Trainable params: 4,835,400\n",
            "Non-trainable params: 2,752\n",
            "_________________________________________________________________\n"
          ]
        }
      ]
    },
    {
      "cell_type": "code",
      "source": [
        "an.compile(loss=tfk.losses.CategoricalCrossentropy(), optimizer=tfk.optimizers.SGD(0.0001), metrics='accuracy')"
      ],
      "metadata": {
        "id": "FDxYSCqEA5Kz"
      },
      "execution_count": null,
      "outputs": []
    },
    {
      "cell_type": "code",
      "source": [
        "callbacks = create_folders_and_callbacks(model_name='CNN_alexNet')\n",
        "\n",
        "# Train the model\n",
        "history = an.fit(\n",
        "    x = train_gen,\n",
        "    epochs = epochs,\n",
        "    validation_data = valid_gen,\n",
        "    class_weight = {0: 3542/186, 1: 3542/532, 2: 3542/515, 3: 3542/511, 4: 3542/531, \n",
        "                    5: 3542/222, 6: 3542/537, 7: 3542/508},\n",
        "    callbacks = callbacks,\n",
        ").history"
      ],
      "metadata": {
        "colab": {
          "base_uri": "https://localhost:8080/"
        },
        "id": "w2If-lIdBHBs",
        "outputId": "eed93046-ad87-45c8-a3e2-fe04df1595a3"
      },
      "execution_count": null,
      "outputs": [
        {
          "output_type": "stream",
          "name": "stdout",
          "text": [
            "Epoch 1/200\n",
            "89/89 [==============================] - 17s 185ms/step - loss: 12.2618 - accuracy: 0.4309 - val_loss: 1.5375 - val_accuracy: 0.4419\n",
            "Epoch 2/200\n",
            "89/89 [==============================] - 15s 171ms/step - loss: 12.0858 - accuracy: 0.4510 - val_loss: 1.7818 - val_accuracy: 0.3470\n",
            "Epoch 3/200\n",
            "89/89 [==============================] - 16s 180ms/step - loss: 11.9125 - accuracy: 0.4616 - val_loss: 1.7073 - val_accuracy: 0.3541\n",
            "Epoch 4/200\n",
            "89/89 [==============================] - 15s 171ms/step - loss: 11.9099 - accuracy: 0.4676 - val_loss: 1.5826 - val_accuracy: 0.3924\n",
            "Epoch 5/200\n",
            "89/89 [==============================] - 17s 193ms/step - loss: 11.7773 - accuracy: 0.4577 - val_loss: 1.6246 - val_accuracy: 0.3824\n",
            "Epoch 6/200\n",
            "89/89 [==============================] - 15s 169ms/step - loss: 11.8095 - accuracy: 0.4591 - val_loss: 1.7843 - val_accuracy: 0.3371\n",
            "Epoch 7/200\n",
            "89/89 [==============================] - 15s 171ms/step - loss: 11.9248 - accuracy: 0.4503 - val_loss: 1.7297 - val_accuracy: 0.3527\n",
            "Epoch 8/200\n",
            "89/89 [==============================] - 18s 203ms/step - loss: 11.9975 - accuracy: 0.4503 - val_loss: 1.8317 - val_accuracy: 0.3173\n",
            "Epoch 9/200\n",
            "89/89 [==============================] - 16s 180ms/step - loss: 11.9071 - accuracy: 0.4549 - val_loss: 1.6925 - val_accuracy: 0.3569\n",
            "Epoch 10/200\n",
            "89/89 [==============================] - 16s 181ms/step - loss: 11.8319 - accuracy: 0.4616 - val_loss: 1.6084 - val_accuracy: 0.3739\n",
            "Epoch 11/200\n",
            "89/89 [==============================] - 15s 170ms/step - loss: 11.6160 - accuracy: 0.4651 - val_loss: 1.7531 - val_accuracy: 0.3414\n"
          ]
        }
      ]
    },
    {
      "cell_type": "code",
      "source": [
        "# Save best epoch model\n",
        "an.save(\"savedModels/CNN_alexNet_2\")"
      ],
      "metadata": {
        "colab": {
          "base_uri": "https://localhost:8080/"
        },
        "id": "9dSo9znZBJT_",
        "outputId": "72d90ab2-de05-4ef6-e417-ae257ee5023a"
      },
      "execution_count": null,
      "outputs": [
        {
          "output_type": "stream",
          "name": "stderr",
          "text": [
            "WARNING:absl:Found untraced functions such as _jit_compiled_convolution_op, _jit_compiled_convolution_op, _jit_compiled_convolution_op, _jit_compiled_convolution_op, _jit_compiled_convolution_op while saving (showing 5 of 5). These functions will not be directly callable after loading.\n"
          ]
        }
      ]
    },
    {
      "cell_type": "code",
      "source": [
        "testModel(valid_gen, an)"
      ],
      "metadata": {
        "colab": {
          "base_uri": "https://localhost:8080/",
          "height": 551
        },
        "id": "9yPTrfVmBTKm",
        "outputId": "a2e825a7-f5d9-4a00-863a-cfb2aac96cec"
      },
      "execution_count": null,
      "outputs": [
        {
          "output_type": "stream",
          "name": "stdout",
          "text": [
            "706/706 [==============================] - 3s 4ms/step\n"
          ]
        },
        {
          "output_type": "display_data",
          "data": {
            "text/plain": [
              "<Figure size 432x288 with 2 Axes>"
            ],
            "image/png": "[encoded data removed]"
          },
          "metadata": {
            "needs_background": "light"
          }
        },
        {
          "output_type": "stream",
          "name": "stdout",
          "text": [
            "              precision    recall  f1-score   support\n",
            "\n",
            "    Species1       0.11      0.14      0.12        37\n",
            "    Species2       0.54      0.41      0.46       106\n",
            "    Species3       0.38      0.35      0.36       103\n",
            "    Species4       0.40      0.38      0.39       102\n",
            "    Species5       0.40      0.86      0.54       106\n",
            "    Species6       0.44      0.50      0.47        44\n",
            "    Species7       0.75      0.42      0.54       107\n",
            "    Species8       0.60      0.31      0.41       101\n",
            "\n",
            "    accuracy                           0.44       706\n",
            "   macro avg       0.45      0.42      0.41       706\n",
            "weighted avg       0.49      0.44      0.44       706\n",
            "\n"
          ]
        }
      ]
    },
    {
      "cell_type": "code",
      "source": [
        "axn = tfk.models.load_model(\"savedModels/CNN_alexNet_2\")\n",
        "axn.compile(loss=tfk.losses.CategoricalCrossentropy(), optimizer=tfk.optimizers.SGD(0.00001), metrics='accuracy')"
      ],
      "metadata": {
        "id": "MbhVIncOB0GG"
      },
      "execution_count": null,
      "outputs": []
    },
    {
      "cell_type": "code",
      "source": [
        "callbacks = create_folders_and_callbacks(model_name='CNN_alexNet')\n",
        "\n",
        "# Train the model\n",
        "history = axn.fit(\n",
        "    x = train_gen,\n",
        "    epochs = epochs,\n",
        "    validation_data = valid_gen,\n",
        "    class_weight = {0: 3542/186, 1: 3542/532, 2: 3542/515, 3: 3542/511, 4: 3542/531, \n",
        "                    5: 3542/222, 6: 3542/537, 7: 3542/508},\n",
        "    callbacks = callbacks,\n",
        ").history"
      ],
      "metadata": {
        "colab": {
          "base_uri": "https://localhost:8080/"
        },
        "id": "UQZfL_pgCIVR",
        "outputId": "b4da4d9c-1b17-4ead-dc3f-e1bfe68034cd"
      },
      "execution_count": null,
      "outputs": [
        {
          "output_type": "stream",
          "name": "stdout",
          "text": [
            "Epoch 1/200\n",
            "89/89 [==============================] - 17s 182ms/step - loss: 11.9879 - accuracy: 0.4464 - val_loss: 1.6275 - val_accuracy: 0.3895\n",
            "Epoch 2/200\n",
            "89/89 [==============================] - 15s 169ms/step - loss: 12.0116 - accuracy: 0.4552 - val_loss: 1.6874 - val_accuracy: 0.3725\n",
            "Epoch 3/200\n",
            "89/89 [==============================] - 16s 179ms/step - loss: 12.0533 - accuracy: 0.4450 - val_loss: 1.6992 - val_accuracy: 0.3683\n",
            "Epoch 4/200\n",
            "89/89 [==============================] - 15s 172ms/step - loss: 12.0870 - accuracy: 0.4545 - val_loss: 1.6880 - val_accuracy: 0.3711\n",
            "Epoch 5/200\n",
            "89/89 [==============================] - 16s 178ms/step - loss: 12.1210 - accuracy: 0.4348 - val_loss: 1.6857 - val_accuracy: 0.3711\n",
            "Epoch 6/200\n",
            "89/89 [==============================] - 15s 167ms/step - loss: 12.0142 - accuracy: 0.4633 - val_loss: 1.6972 - val_accuracy: 0.3654\n",
            "Epoch 7/200\n",
            "89/89 [==============================] - 16s 178ms/step - loss: 11.8964 - accuracy: 0.4563 - val_loss: 1.6966 - val_accuracy: 0.3626\n",
            "Epoch 8/200\n",
            "89/89 [==============================] - 16s 179ms/step - loss: 11.8736 - accuracy: 0.4669 - val_loss: 1.6928 - val_accuracy: 0.3669\n",
            "Epoch 9/200\n",
            "89/89 [==============================] - 15s 167ms/step - loss: 12.0893 - accuracy: 0.4464 - val_loss: 1.6920 - val_accuracy: 0.3626\n",
            "Epoch 10/200\n",
            "89/89 [==============================] - 15s 167ms/step - loss: 12.0338 - accuracy: 0.4563 - val_loss: 1.7032 - val_accuracy: 0.3626\n",
            "Epoch 11/200\n",
            "89/89 [==============================] - 15s 169ms/step - loss: 11.7036 - accuracy: 0.4690 - val_loss: 1.6990 - val_accuracy: 0.3626\n"
          ]
        }
      ]
    },
    {
      "cell_type": "code",
      "source": [
        "axn.save(\"savedModels/CNN_alexNet_3\")"
      ],
      "metadata": {
        "colab": {
          "base_uri": "https://localhost:8080/"
        },
        "id": "IurN5VkUCXxv",
        "outputId": "92fd282a-b73f-48fc-d374-74dbef878a50"
      },
      "execution_count": null,
      "outputs": [
        {
          "output_type": "stream",
          "name": "stderr",
          "text": [
            "WARNING:absl:Found untraced functions such as _jit_compiled_convolution_op, _jit_compiled_convolution_op, _jit_compiled_convolution_op, _jit_compiled_convolution_op, _jit_compiled_convolution_op while saving (showing 5 of 5). These functions will not be directly callable after loading.\n"
          ]
        }
      ]
    },
    {
      "cell_type": "code",
      "source": [
        "testModel(valid_gen, axn)"
      ],
      "metadata": {
        "colab": {
          "base_uri": "https://localhost:8080/",
          "height": 551
        },
        "id": "cSaWaTGtCcfa",
        "outputId": "b4dd8067-ffb8-4c5d-f4f5-8f699d12d948"
      },
      "execution_count": null,
      "outputs": [
        {
          "output_type": "stream",
          "name": "stdout",
          "text": [
            "706/706 [==============================] - 3s 4ms/step\n"
          ]
        },
        {
          "output_type": "display_data",
          "data": {
            "text/plain": [
              "<Figure size 432x288 with 2 Axes>"
            ],
            "image/png": "[encoded data removed]"
          },
          "metadata": {
            "needs_background": "light"
          }
        },
        {
          "output_type": "stream",
          "name": "stdout",
          "text": [
            "              precision    recall  f1-score   support\n",
            "\n",
            "    Species1       0.09      0.14      0.11        37\n",
            "    Species2       0.48      0.37      0.41       106\n",
            "    Species3       0.27      0.28      0.27       103\n",
            "    Species4       0.35      0.43      0.39       102\n",
            "    Species5       0.39      0.81      0.52       106\n",
            "    Species6       0.48      0.27      0.35        44\n",
            "    Species7       0.72      0.29      0.41       107\n",
            "    Species8       0.66      0.29      0.40       101\n",
            "\n",
            "    accuracy                           0.39       706\n",
            "   macro avg       0.43      0.36      0.36       706\n",
            "weighted avg       0.46      0.39      0.38       706\n",
            "\n"
          ]
        }
      ]
    }
  ]
}