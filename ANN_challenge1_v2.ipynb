{
  "nbformat": 4,
  "nbformat_minor": 0,
  "metadata": {
    "colab": {
      "provenance": [],
      "collapsed_sections": [
        "wBlGXDLHoUHV",
        "qrXkJ_iQos8C"
      ],
      "authorship_tag": "ABX9TyO57QtzDhqjnY7dLUVMabPh",
      "include_colab_link": true
    },
    "kernelspec": {
      "name": "python3",
      "display_name": "Python 3"
    },
    "language_info": {
      "name": "python"
    },
    "accelerator": "GPU",
    "gpuClass": "standard"
  },
  "cells": [
    {
      "cell_type": "markdown",
      "metadata": {
        "id": "view-in-github",
        "colab_type": "text"
      },
      "source": [
        "<a href=\"https://colab.research.google.com/github/maurofama99/ann_challenge/blob/main/ANN_challenge1_v2.ipynb\" target=\"_parent\"><img src=\"https://colab.research.google.com/assets/colab-badge.svg\" alt=\"Open In Colab\"/></a>"
      ]
    },
    {
      "cell_type": "code",
      "execution_count": 2,
      "metadata": {
        "id": "bvm1ZEUtk50o",
        "colab": {
          "base_uri": "https://localhost:8080/"
        },
        "outputId": "8c9eca12-7742-4f48-f8b6-8416458e07e2"
      },
      "outputs": [
        {
          "output_type": "stream",
          "name": "stdout",
          "text": [
            "Mounted at /gdrive\n"
          ]
        }
      ],
      "source": [
        "from google.colab import drive\n",
        "drive.mount('/gdrive')"
      ]
    },
    {
      "cell_type": "code",
      "source": [
        "%cd /gdrive/My Drive/ANN/data2"
      ],
      "metadata": {
        "id": "9psz3db6lJI9",
        "colab": {
          "base_uri": "https://localhost:8080/"
        },
        "outputId": "ab401566-0488-4ad4-8931-e025ce6939ca"
      },
      "execution_count": 3,
      "outputs": [
        {
          "output_type": "stream",
          "name": "stdout",
          "text": [
            "/gdrive/My Drive/ANN/data2\n"
          ]
        }
      ]
    },
    {
      "cell_type": "code",
      "source": [
        "import tensorflow as tf\n",
        "import numpy as np\n",
        "import os\n",
        "import random\n",
        "import pandas as pd\n",
        "import seaborn as sns\n",
        "import matplotlib as mpl\n",
        "import matplotlib.pyplot as plt\n",
        "from sklearn.model_selection import train_test_split\n",
        "from sklearn.metrics import accuracy_score, f1_score, precision_score, recall_score\n",
        "from sklearn.metrics import confusion_matrix\n",
        "from PIL import Image\n",
        "\n",
        "tfk = tf.keras\n",
        "tfkl = tf.keras.layers\n",
        "print(tf.__version__)"
      ],
      "metadata": {
        "id": "cm-UpZA6lR2r",
        "colab": {
          "base_uri": "https://localhost:8080/"
        },
        "outputId": "e0362cf4-7c18-4cf8-9e6b-1d7932cca33f"
      },
      "execution_count": 4,
      "outputs": [
        {
          "output_type": "stream",
          "name": "stdout",
          "text": [
            "2.9.2\n"
          ]
        }
      ]
    },
    {
      "cell_type": "code",
      "source": [
        "# Random seed for reproducibility\n",
        "seed = 42\n",
        "\n",
        "random.seed(seed)\n",
        "os.environ['PYTHONHASHSEED'] = str(seed)\n",
        "np.random.seed(seed)\n",
        "tf.random.set_seed(seed)\n",
        "tf.compat.v1.set_random_seed(seed)"
      ],
      "metadata": {
        "id": "TIF7zEXilVGH"
      },
      "execution_count": 5,
      "outputs": []
    },
    {
      "cell_type": "code",
      "source": [
        "import warnings\n",
        "import logging\n",
        "\n",
        "os.environ['TF_CPP_MIN_LOG_LEVEL'] = '2'\n",
        "warnings.simplefilter(action='ignore', category=FutureWarning)\n",
        "warnings.simplefilter(action='ignore', category=Warning)\n",
        "tf.get_logger().setLevel('INFO')\n",
        "tf.autograph.set_verbosity(0)\n",
        "\n",
        "tf.get_logger().setLevel(logging.ERROR)\n",
        "tf.get_logger().setLevel('ERROR')\n",
        "tf.compat.v1.logging.set_verbosity(tf.compat.v1.logging.ERROR)"
      ],
      "metadata": {
        "id": "RZRmO4y3l5RE"
      },
      "execution_count": 6,
      "outputs": []
    },
    {
      "cell_type": "code",
      "source": [
        "# Load the dataset to be used for classification\n",
        "!unzip training_dataset_homework1.zip"
      ],
      "metadata": {
        "id": "MbFQ8VmRdGAb"
      },
      "execution_count": null,
      "outputs": []
    },
    {
      "cell_type": "code",
      "source": [
        "# Dataset folders \n",
        "dataset_dir = 'training_data_final'\n"
      ],
      "metadata": {
        "id": "du1WtX-fl6QC"
      },
      "execution_count": 7,
      "outputs": []
    },
    {
      "cell_type": "code",
      "source": [
        "#get the number of img of each species\n",
        "import fnmatch\n",
        "\n",
        "count = [0,0,0,0,0,0,0,0]\n",
        "labels = ['Species1',       # 0\n",
        "          'Species2',       # 1\n",
        "          'Species3',       # 2\n",
        "          'Species4',       # 3\n",
        "          'Species5',       # 4\n",
        "          'Species6',       # 5\n",
        "          'Species7',       # 6\n",
        "          'Species8']       # 7\n",
        "\n",
        "for i in range(len(labels)):\n",
        "  dir_path = os.path.join(dataset_dir, labels[i])\n",
        "  count[i] = len(fnmatch.filter(os.listdir(dir_path), '*.*'))\n",
        "  print('The number of img of', labels[i], 'is: ', count[i])\n",
        "\n",
        "cumsum = np.cumsum(count)\n",
        "print('Total amount of img is: ', cumsum[len(cumsum)-1] )"
      ],
      "metadata": {
        "id": "zzYmPtw-mCgi",
        "colab": {
          "base_uri": "https://localhost:8080/"
        },
        "outputId": "069cc4d4-2d62-4364-a5cb-9aeff4ad7e96"
      },
      "execution_count": 8,
      "outputs": [
        {
          "output_type": "stream",
          "name": "stdout",
          "text": [
            "training_data_final/Species1\n",
            "The number of img of Species1 is:  186\n",
            "training_data_final/Species2\n",
            "The number of img of Species2 is:  532\n",
            "training_data_final/Species3\n",
            "The number of img of Species3 is:  515\n",
            "training_data_final/Species4\n",
            "The number of img of Species4 is:  511\n",
            "training_data_final/Species5\n",
            "The number of img of Species5 is:  531\n",
            "training_data_final/Species6\n",
            "The number of img of Species6 is:  222\n",
            "training_data_final/Species7\n",
            "The number of img of Species7 is:  537\n",
            "training_data_final/Species8\n",
            "The number of img of Species8 is:  508\n",
            "Total amount of img is:  3542\n"
          ]
        }
      ]
    },
    {
      "cell_type": "code",
      "source": [
        "\"Given functions\"\n",
        "from sklearn.metrics import ConfusionMatrixDisplay\n",
        "from sklearn.metrics import confusion_matrix\n",
        "from sklearn.metrics import classification_report\n",
        "from sklearn import svm\n",
        "\n",
        "\n",
        "def plot_confusionMatrix(test_labels, test_predicted):\n",
        "  cm = confusion_matrix(test_labels, test_predicted, labels=[0,1,2,3,4,5,6,7])\n",
        "  disp = ConfusionMatrixDisplay(confusion_matrix=cm,\n",
        "                                display_labels=labels)\n",
        "  disp.plot()\n",
        "  plt.show()\n",
        "  return \n"
      ],
      "metadata": {
        "id": "Gh7iki6Rhbl8"
      },
      "execution_count": 15,
      "outputs": []
    },
    {
      "cell_type": "code",
      "source": [
        "def testModel( valid_gen, model):\n",
        "\n",
        "  # d. Predit test labels\n",
        "  test_predicted = model.predict(valid_gen)\n",
        "  test_predicted = np.argmax(test_predicted, axis=-1)\n",
        "  \n",
        "\n",
        "  # e. plot confusion matrix\n",
        "  plot_confusionMatrix(valid_gen.classes, test_predicted)\n",
        "\n",
        "  # f. display classification results\n",
        "  print(classification_report(valid_gen.classes, test_predicted, target_names=labels))"
      ],
      "metadata": {
        "id": "Gk1vHCU7hbaL"
      },
      "execution_count": 10,
      "outputs": []
    },
    {
      "cell_type": "code",
      "source": [
        "# Images are divided into folders, one for each class. \n",
        "# If the images are organized in such a way, we can exploit the \n",
        "# ImageDataGenerator to read them from disk.\n",
        "from tensorflow.keras.preprocessing.image import ImageDataGenerator\n",
        "\n",
        "# Create an instance of ImageDataGenerator with Data Augmentation\n",
        "data_gen = ImageDataGenerator(rescale=1/255, validation_split=0.2) \n",
        "\n",
        "aug_train_data_gen = ImageDataGenerator(rotation_range=30,\n",
        "                                        height_shift_range=50,\n",
        "                                        width_shift_range=50,\n",
        "                                        zoom_range=0.3,\n",
        "                                        horizontal_flip=True,\n",
        "                                        vertical_flip=True, \n",
        "                                        fill_mode='reflect',\n",
        "                                        rescale=1/255,\n",
        "                                        validation_split=0.2)\n",
        "\n",
        "# Obtain a data generator with the 'ImageDataGenerator.flow_from_directory' method\n",
        "train_gen = aug_train_data_gen.flow_from_directory(directory=dataset_dir,\n",
        "                                                           target_size=(96,96),\n",
        "                                                           color_mode='rgb',\n",
        "                                                           classes=None, # can be set to labels\n",
        "                                                           class_mode='categorical',\n",
        "                                                           batch_size=32,\n",
        "                                                           shuffle=True,\n",
        "                                                           seed=seed,\n",
        "                                                           subset=\"training\")\n",
        "\n",
        "valid_gen = data_gen.flow_from_directory(directory=dataset_dir,\n",
        "                                               target_size=(96,96),\n",
        "                                               color_mode='rgb',\n",
        "                                               classes=None, # can be set to labels\n",
        "                                               class_mode='categorical',\n",
        "                                               batch_size=1,\n",
        "                                               shuffle=False,\n",
        "                                               seed=seed,\n",
        "                                               subset=\"validation\")"
      ],
      "metadata": {
        "id": "oTgvlML8nOU8",
        "colab": {
          "base_uri": "https://localhost:8080/"
        },
        "outputId": "44a83996-4353-4929-8d18-c865527f682d"
      },
      "execution_count": 11,
      "outputs": [
        {
          "output_type": "stream",
          "name": "stdout",
          "text": [
            "Found 2836 images belonging to 8 classes.\n",
            "Found 706 images belonging to 8 classes.\n"
          ]
        }
      ]
    },
    {
      "cell_type": "code",
      "source": [
        "input_shape = (96, 96, 3)\n",
        "epochs = 200"
      ],
      "metadata": {
        "id": "JNEGPMsjnntG"
      },
      "execution_count": 12,
      "outputs": []
    },
    {
      "cell_type": "code",
      "source": [
        "def build_model(input_shape, supernet):\n",
        "\n",
        "    # Build the neural network layer by layer\n",
        "    input_layer = tfkl.Input(shape=input_shape, name='input_layer')\n",
        "\n",
        "    vgg16_layer = supernet(input_layer) \n",
        "\n",
        "    flattening_layer = tfkl.Flatten(name='Flatten')(vgg16_layer)\n",
        "\n",
        "    layer1 = tfkl.Dense(units=1028, kernel_initializer = tfk.initializers.HeUniform(seed), activation='relu')(flattening_layer)\n",
        "\n",
        "    dropout1 = tfkl.Dropout(0.3, seed=seed)(layer1)\n",
        "\n",
        "    classifier_layer = tfkl.Dense(units=512, name='Classifier', kernel_initializer = tfk.initializers.HeUniform(seed), activation='relu')(dropout1)\n",
        "\n",
        "    dropout2 = tfkl.Dropout(0.3, seed=seed)(classifier_layer)\n",
        "\n",
        "    output_layer = tfkl.Dense(units=8, activation='softmax', kernel_initializer=tfk.initializers.GlorotUniform(seed), name='output_layer')(dropout2)\n",
        "\n",
        "    # Connect input and output through the Model class\n",
        "    model = tfk.Model(inputs=input_layer, outputs=output_layer, name='model')\n",
        "\n",
        "    # Compile the model\n",
        "    model.compile(loss=tfk.losses.CategoricalCrossentropy(), optimizer=tfk.optimizers.Adam(1e-4), metrics='accuracy')\n",
        "\n",
        "    # Return the model\n",
        "    return model"
      ],
      "metadata": {
        "id": "eWTiNu3Rnutu"
      },
      "execution_count": 31,
      "outputs": []
    },
    {
      "cell_type": "code",
      "source": [
        "# Utility function to create folders and callbacks for training\n",
        "from datetime import datetime\n",
        "\n",
        "def create_folders_and_callbacks(model_name):\n",
        "\n",
        "  exps_dir = os.path.join('data_augmentation_experiments')\n",
        "  if not os.path.exists(exps_dir):\n",
        "      os.makedirs(exps_dir)\n",
        "\n",
        "  now = datetime.now().strftime('%b%d_%H-%M-%S')\n",
        "\n",
        "  exp_dir = os.path.join(exps_dir, model_name + '_' + str(now))\n",
        "  if not os.path.exists(exp_dir):\n",
        "      os.makedirs(exp_dir)\n",
        "      \n",
        "  callbacks = []\n",
        "\n",
        "  # Model checkpoint\n",
        "  # ----------------\n",
        "  ckpt_dir = os.path.join(exp_dir, 'ckpts')\n",
        "  if not os.path.exists(ckpt_dir):\n",
        "      os.makedirs(ckpt_dir)\n",
        "\n",
        "  ckpt_callback = tf.keras.callbacks.ModelCheckpoint(filepath=os.path.join(ckpt_dir, 'cp.ckpt'), \n",
        "                                                     save_weights_only=True, # True to save only weights\n",
        "                                                     save_best_only=False) # True to save only the best epoch \n",
        "  callbacks.append(ckpt_callback)\n",
        "\n",
        "  # Visualize Learning on Tensorboard\n",
        "  # ---------------------------------\n",
        "  tb_dir = os.path.join(exp_dir, 'tb_logs')\n",
        "  if not os.path.exists(tb_dir):\n",
        "      os.makedirs(tb_dir)\n",
        "      \n",
        "  # By default shows losses and metrics for both training and validation\n",
        "  tb_callback = tf.keras.callbacks.TensorBoard(log_dir=tb_dir, \n",
        "                                               profile_batch=0,\n",
        "                                               histogram_freq=1)  # if > 0 (epochs) shows weights histograms\n",
        "  callbacks.append(tb_callback)\n",
        "\n",
        "  # Early Stopping\n",
        "  # --------------\n",
        "  es_callback = tf.keras.callbacks.EarlyStopping(monitor='val_accuracy', patience=10, restore_best_weights=True)\n",
        "  callbacks.append(es_callback)\n",
        "\n",
        "  return callbacks"
      ],
      "metadata": {
        "id": "XZlKz44hnyMh"
      },
      "execution_count": 14,
      "outputs": []
    },
    {
      "cell_type": "markdown",
      "source": [
        "#VGG16"
      ],
      "metadata": {
        "id": "MMjSsjdg-BcK"
      }
    },
    {
      "cell_type": "code",
      "source": [
        "# Download and plot the VGG16 model\n",
        "supernet = tfk.applications.VGG16(\n",
        "    include_top=False,\n",
        "    weights=\"imagenet\",\n",
        "    input_shape=(96,96,3)\n",
        ")"
      ],
      "metadata": {
        "colab": {
          "base_uri": "https://localhost:8080/"
        },
        "id": "jnami_YPf4tq",
        "outputId": "01a88169-31ba-4998-a1b0-72c3a61b18c5"
      },
      "execution_count": null,
      "outputs": [
        {
          "output_type": "stream",
          "name": "stdout",
          "text": [
            "Downloading data from https://storage.googleapis.com/tensorflow/keras-applications/vgg16/vgg16_weights_tf_dim_ordering_tf_kernels_notop.h5\n",
            "58889256/58889256 [==============================] - 2s 0us/step\n"
          ]
        }
      ]
    },
    {
      "cell_type": "code",
      "source": [
        "for layer in supernet.layers:\n",
        "    layer.trainable = False"
      ],
      "metadata": {
        "id": "f6XHy6pJgCE6"
      },
      "execution_count": null,
      "outputs": []
    },
    {
      "cell_type": "code",
      "source": [
        "# Build model and visualize it\n",
        "model = build_model(input_shape)\n",
        "model.summary()"
      ],
      "metadata": {
        "id": "4JlKIehWoCwA",
        "colab": {
          "base_uri": "https://localhost:8080/"
        },
        "outputId": "308f3128-b105-43fb-db33-0af5c319727f"
      },
      "execution_count": null,
      "outputs": [
        {
          "output_type": "stream",
          "name": "stdout",
          "text": [
            "Model: \"model\"\n",
            "_________________________________________________________________\n",
            " Layer (type)                Output Shape              Param #   \n",
            "=================================================================\n",
            " input_layer (InputLayer)    [(None, 96, 96, 3)]       0         \n",
            "                                                                 \n",
            " vgg16 (Functional)          (None, 3, 3, 512)         14714688  \n",
            "                                                                 \n",
            " Flatten (Flatten)           (None, 4608)              0         \n",
            "                                                                 \n",
            " dense (Dense)               (None, 1028)              4738052   \n",
            "                                                                 \n",
            " dropout (Dropout)           (None, 1028)              0         \n",
            "                                                                 \n",
            " Classifier (Dense)          (None, 512)               526848    \n",
            "                                                                 \n",
            " dropout_1 (Dropout)         (None, 512)               0         \n",
            "                                                                 \n",
            " output_layer (Dense)        (None, 8)                 4104      \n",
            "                                                                 \n",
            "=================================================================\n",
            "Total params: 19,983,692\n",
            "Trainable params: 5,269,004\n",
            "Non-trainable params: 14,714,688\n",
            "_________________________________________________________________\n"
          ]
        }
      ]
    },
    {
      "cell_type": "code",
      "source": [
        "# Create folders and callbacks and fit\n",
        "callbacks = create_folders_and_callbacks(model_name='CNN_VGG16_1')\n",
        "\n",
        "# Train the model\n",
        "history = model.fit(\n",
        "    x = train_gen,\n",
        "    epochs = epochs,\n",
        "    validation_data = valid_gen,\n",
        "    class_weight = {0: 3542/186, 1: 3542/532, 2: 3542/515, 3: 3542/511, 4: 3542/531, \n",
        "                    5: 3542/222, 6: 3542/537, 7: 3542/508},\n",
        "    callbacks = callbacks,\n",
        ").history"
      ],
      "metadata": {
        "id": "ptbkcxd0oDZz",
        "colab": {
          "base_uri": "https://localhost:8080/"
        },
        "outputId": "2947652f-d295-4574-ead5-9eb359ae7a72"
      },
      "execution_count": null,
      "outputs": [
        {
          "output_type": "stream",
          "name": "stdout",
          "text": [
            "Epoch 1/200\n",
            "89/89 [==============================] - 29s 247ms/step - loss: 15.7007 - accuracy: 0.2394 - val_loss: 1.5117 - val_accuracy: 0.4037\n",
            "Epoch 2/200\n",
            "89/89 [==============================] - 21s 233ms/step - loss: 13.1571 - accuracy: 0.3709 - val_loss: 1.3896 - val_accuracy: 0.4929\n",
            "Epoch 3/200\n",
            "89/89 [==============================] - 21s 239ms/step - loss: 12.4187 - accuracy: 0.4051 - val_loss: 1.3442 - val_accuracy: 0.4731\n",
            "Epoch 4/200\n",
            "89/89 [==============================] - 24s 271ms/step - loss: 12.0338 - accuracy: 0.4228 - val_loss: 1.2657 - val_accuracy: 0.5269\n",
            "Epoch 5/200\n",
            "89/89 [==============================] - 22s 249ms/step - loss: 11.6501 - accuracy: 0.4482 - val_loss: 1.2742 - val_accuracy: 0.4972\n",
            "Epoch 6/200\n",
            "89/89 [==============================] - 22s 245ms/step - loss: 11.3920 - accuracy: 0.4577 - val_loss: 1.3005 - val_accuracy: 0.4759\n",
            "Epoch 7/200\n",
            "89/89 [==============================] - 24s 268ms/step - loss: 11.3312 - accuracy: 0.4728 - val_loss: 1.2639 - val_accuracy: 0.5071\n",
            "Epoch 8/200\n",
            "89/89 [==============================] - 24s 271ms/step - loss: 11.0721 - accuracy: 0.4827 - val_loss: 1.2087 - val_accuracy: 0.5567\n",
            "Epoch 9/200\n",
            "89/89 [==============================] - 22s 244ms/step - loss: 11.0040 - accuracy: 0.4803 - val_loss: 1.2176 - val_accuracy: 0.5198\n",
            "Epoch 10/200\n",
            "89/89 [==============================] - 23s 262ms/step - loss: 10.7440 - accuracy: 0.5138 - val_loss: 1.1831 - val_accuracy: 0.5482\n",
            "Epoch 11/200\n",
            "89/89 [==============================] - 22s 244ms/step - loss: 10.8164 - accuracy: 0.5046 - val_loss: 1.2298 - val_accuracy: 0.5326\n",
            "Epoch 12/200\n",
            "89/89 [==============================] - 20s 229ms/step - loss: 10.6655 - accuracy: 0.5134 - val_loss: 1.1660 - val_accuracy: 0.5609\n",
            "Epoch 13/200\n",
            "89/89 [==============================] - 21s 239ms/step - loss: 10.6134 - accuracy: 0.5173 - val_loss: 1.1412 - val_accuracy: 0.5567\n",
            "Epoch 14/200\n",
            "89/89 [==============================] - 21s 237ms/step - loss: 10.4261 - accuracy: 0.5134 - val_loss: 1.1038 - val_accuracy: 0.5892\n",
            "Epoch 15/200\n",
            "89/89 [==============================] - 21s 235ms/step - loss: 10.3773 - accuracy: 0.5250 - val_loss: 1.1257 - val_accuracy: 0.5765\n",
            "Epoch 16/200\n",
            "89/89 [==============================] - 21s 235ms/step - loss: 10.2933 - accuracy: 0.5247 - val_loss: 1.0858 - val_accuracy: 0.5935\n",
            "Epoch 17/200\n",
            "89/89 [==============================] - 21s 235ms/step - loss: 10.0253 - accuracy: 0.5444 - val_loss: 1.0946 - val_accuracy: 0.6048\n",
            "Epoch 18/200\n",
            "89/89 [==============================] - 20s 227ms/step - loss: 9.9105 - accuracy: 0.5536 - val_loss: 1.1195 - val_accuracy: 0.5836\n",
            "Epoch 19/200\n",
            "89/89 [==============================] - 20s 229ms/step - loss: 10.1218 - accuracy: 0.5346 - val_loss: 1.1137 - val_accuracy: 0.5822\n",
            "Epoch 20/200\n",
            "89/89 [==============================] - 21s 237ms/step - loss: 9.8161 - accuracy: 0.5596 - val_loss: 1.0872 - val_accuracy: 0.5807\n",
            "Epoch 21/200\n",
            "89/89 [==============================] - 22s 250ms/step - loss: 9.9619 - accuracy: 0.5522 - val_loss: 1.0622 - val_accuracy: 0.6218\n",
            "Epoch 22/200\n",
            "89/89 [==============================] - 21s 230ms/step - loss: 9.9610 - accuracy: 0.5458 - val_loss: 1.0837 - val_accuracy: 0.5907\n",
            "Epoch 23/200\n",
            "89/89 [==============================] - 21s 233ms/step - loss: 9.9079 - accuracy: 0.5497 - val_loss: 1.0486 - val_accuracy: 0.6119\n",
            "Epoch 24/200\n",
            "89/89 [==============================] - 21s 233ms/step - loss: 9.5549 - accuracy: 0.5652 - val_loss: 1.0504 - val_accuracy: 0.6176\n",
            "Epoch 25/200\n",
            "89/89 [==============================] - 26s 288ms/step - loss: 9.6735 - accuracy: 0.5603 - val_loss: 1.0317 - val_accuracy: 0.6374\n",
            "Epoch 26/200\n",
            "89/89 [==============================] - 21s 232ms/step - loss: 9.5848 - accuracy: 0.5702 - val_loss: 1.0552 - val_accuracy: 0.5963\n",
            "Epoch 27/200\n",
            "89/89 [==============================] - 24s 276ms/step - loss: 9.3690 - accuracy: 0.5751 - val_loss: 1.0342 - val_accuracy: 0.6176\n",
            "Epoch 28/200\n",
            "89/89 [==============================] - 21s 231ms/step - loss: 9.5313 - accuracy: 0.5776 - val_loss: 1.0500 - val_accuracy: 0.6119\n",
            "Epoch 29/200\n",
            "89/89 [==============================] - 21s 233ms/step - loss: 9.4661 - accuracy: 0.5723 - val_loss: 1.0258 - val_accuracy: 0.6218\n",
            "Epoch 30/200\n",
            "89/89 [==============================] - 22s 246ms/step - loss: 9.2416 - accuracy: 0.5857 - val_loss: 1.0089 - val_accuracy: 0.6388\n",
            "Epoch 31/200\n",
            "89/89 [==============================] - 21s 236ms/step - loss: 9.1622 - accuracy: 0.5867 - val_loss: 1.0149 - val_accuracy: 0.6289\n",
            "Epoch 32/200\n",
            "89/89 [==============================] - 21s 234ms/step - loss: 9.3008 - accuracy: 0.5769 - val_loss: 1.0051 - val_accuracy: 0.6275\n",
            "Epoch 33/200\n",
            "89/89 [==============================] - 23s 264ms/step - loss: 9.1675 - accuracy: 0.5822 - val_loss: 1.0198 - val_accuracy: 0.6147\n",
            "Epoch 34/200\n",
            "89/89 [==============================] - 22s 252ms/step - loss: 9.2303 - accuracy: 0.5815 - val_loss: 0.9935 - val_accuracy: 0.6487\n",
            "Epoch 35/200\n",
            "89/89 [==============================] - 21s 240ms/step - loss: 9.1977 - accuracy: 0.5832 - val_loss: 1.0103 - val_accuracy: 0.6289\n",
            "Epoch 36/200\n",
            "89/89 [==============================] - 23s 256ms/step - loss: 9.1626 - accuracy: 0.5867 - val_loss: 0.9664 - val_accuracy: 0.6374\n",
            "Epoch 37/200\n",
            "89/89 [==============================] - 22s 243ms/step - loss: 9.3388 - accuracy: 0.5797 - val_loss: 0.9928 - val_accuracy: 0.6303\n",
            "Epoch 38/200\n",
            "89/89 [==============================] - 21s 234ms/step - loss: 9.1432 - accuracy: 0.5832 - val_loss: 0.9835 - val_accuracy: 0.6289\n",
            "Epoch 39/200\n",
            "89/89 [==============================] - 23s 257ms/step - loss: 9.0427 - accuracy: 0.5860 - val_loss: 0.9767 - val_accuracy: 0.6317\n",
            "Epoch 40/200\n",
            "89/89 [==============================] - 22s 249ms/step - loss: 9.0204 - accuracy: 0.5846 - val_loss: 1.0046 - val_accuracy: 0.6218\n",
            "Epoch 41/200\n",
            "89/89 [==============================] - 24s 271ms/step - loss: 8.9522 - accuracy: 0.5956 - val_loss: 0.9753 - val_accuracy: 0.6388\n",
            "Epoch 42/200\n",
            "89/89 [==============================] - 23s 261ms/step - loss: 9.2118 - accuracy: 0.5927 - val_loss: 1.0168 - val_accuracy: 0.6317\n",
            "Epoch 43/200\n",
            "89/89 [==============================] - 22s 250ms/step - loss: 8.8357 - accuracy: 0.5952 - val_loss: 0.9735 - val_accuracy: 0.6416\n",
            "Epoch 44/200\n",
            "89/89 [==============================] - 22s 250ms/step - loss: 9.1193 - accuracy: 0.5956 - val_loss: 0.9708 - val_accuracy: 0.6487\n"
          ]
        }
      ]
    },
    {
      "cell_type": "code",
      "source": [
        "# Save best epoch model\n",
        "model.save(\"savedModels/CNN_VGG16_1\")"
      ],
      "metadata": {
        "id": "-vnpAJGAoIXJ",
        "colab": {
          "base_uri": "https://localhost:8080/"
        },
        "outputId": "51f199e3-71d5-4d55-ce31-5f0417cbd4a4"
      },
      "execution_count": null,
      "outputs": [
        {
          "output_type": "stream",
          "name": "stderr",
          "text": [
            "WARNING:absl:Found untraced functions such as _jit_compiled_convolution_op, _jit_compiled_convolution_op, _jit_compiled_convolution_op, _jit_compiled_convolution_op, _jit_compiled_convolution_op while saving (showing 5 of 13). These functions will not be directly callable after loading.\n"
          ]
        }
      ]
    },
    {
      "cell_type": "code",
      "source": [
        "testModel(valid_gen, model)"
      ],
      "metadata": {
        "colab": {
          "base_uri": "https://localhost:8080/",
          "height": 1000
        },
        "id": "eCjB_coLhTnV",
        "outputId": "ecf14007-8b61-4bba-a58b-5d06c5df74f1"
      },
      "execution_count": null,
      "outputs": [
        {
          "output_type": "stream",
          "name": "stdout",
          "text": [
            "706/706 [==============================] - 4s 6ms/step\n",
            "val labels:  [0 0 0 0 0 0 0 0 0 0 0 0 0 0 0 0 0 0 0 0 0 0 0 0 0 0 0 0 0 0 0 0 0 0 0 0 0\n",
            " 1 1 1 1 1 1 1 1 1 1 1 1 1 1 1 1 1 1 1 1 1 1 1 1 1 1 1 1 1 1 1 1 1 1 1 1 1\n",
            " 1 1 1 1 1 1 1 1 1 1 1 1 1 1 1 1 1 1 1 1 1 1 1 1 1 1 1 1 1 1 1 1 1 1 1 1 1\n",
            " 1 1 1 1 1 1 1 1 1 1 1 1 1 1 1 1 1 1 1 1 1 1 1 1 1 1 1 1 1 1 1 1 2 2 2 2 2\n",
            " 2 2 2 2 2 2 2 2 2 2 2 2 2 2 2 2 2 2 2 2 2 2 2 2 2 2 2 2 2 2 2 2 2 2 2 2 2\n",
            " 2 2 2 2 2 2 2 2 2 2 2 2 2 2 2 2 2 2 2 2 2 2 2 2 2 2 2 2 2 2 2 2 2 2 2 2 2\n",
            " 2 2 2 2 2 2 2 2 2 2 2 2 2 2 2 2 2 2 2 2 2 2 2 2 3 3 3 3 3 3 3 3 3 3 3 3 3\n",
            " 3 3 3 3 3 3 3 3 3 3 3 3 3 3 3 3 3 3 3 3 3 3 3 3 3 3 3 3 3 3 3 3 3 3 3 3 3\n",
            " 3 3 3 3 3 3 3 3 3 3 3 3 3 3 3 3 3 3 3 3 3 3 3 3 3 3 3 3 3 3 3 3 3 3 3 3 3\n",
            " 3 3 3 3 3 3 3 3 3 3 3 3 3 3 3 4 4 4 4 4 4 4 4 4 4 4 4 4 4 4 4 4 4 4 4 4 4\n",
            " 4 4 4 4 4 4 4 4 4 4 4 4 4 4 4 4 4 4 4 4 4 4 4 4 4 4 4 4 4 4 4 4 4 4 4 4 4\n",
            " 4 4 4 4 4 4 4 4 4 4 4 4 4 4 4 4 4 4 4 4 4 4 4 4 4 4 4 4 4 4 4 4 4 4 4 4 4\n",
            " 4 4 4 4 4 4 4 4 4 4 5 5 5 5 5 5 5 5 5 5 5 5 5 5 5 5 5 5 5 5 5 5 5 5 5 5 5\n",
            " 5 5 5 5 5 5 5 5 5 5 5 5 5 5 5 5 5 6 6 6 6 6 6 6 6 6 6 6 6 6 6 6 6 6 6 6 6\n",
            " 6 6 6 6 6 6 6 6 6 6 6 6 6 6 6 6 6 6 6 6 6 6 6 6 6 6 6 6 6 6 6 6 6 6 6 6 6\n",
            " 6 6 6 6 6 6 6 6 6 6 6 6 6 6 6 6 6 6 6 6 6 6 6 6 6 6 6 6 6 6 6 6 6 6 6 6 6\n",
            " 6 6 6 6 6 6 6 6 6 6 6 6 6 7 7 7 7 7 7 7 7 7 7 7 7 7 7 7 7 7 7 7 7 7 7 7 7\n",
            " 7 7 7 7 7 7 7 7 7 7 7 7 7 7 7 7 7 7 7 7 7 7 7 7 7 7 7 7 7 7 7 7 7 7 7 7 7\n",
            " 7 7 7 7 7 7 7 7 7 7 7 7 7 7 7 7 7 7 7 7 7 7 7 7 7 7 7 7 7 7 7 7 7 7 7 7 7\n",
            " 7 7 7]\n",
            "labels predicted:  [7 7 3 3 1 1 5 5 0 0 0 0 6 3 0 0 0 5 1 0 3 3 0 6 4 7 1 0 6 4 0 0 3 1 7 2 3\n",
            " 2 1 1 1 1 1 1 6 1 1 1 2 1 1 6 6 1 1 1 1 0 1 1 1 1 6 6 1 1 1 1 1 1 5 1 1 1\n",
            " 1 1 1 6 1 1 1 1 0 5 1 6 1 3 2 5 1 4 2 6 1 6 1 1 1 6 1 1 1 1 1 6 1 1 1 1 6\n",
            " 1 1 1 1 1 1 6 1 1 5 7 6 1 1 1 1 6 1 1 1 1 0 1 5 1 1 2 7 1 1 1 1 2 2 2 2 2\n",
            " 6 2 3 2 2 4 2 2 2 2 2 2 2 2 2 6 2 2 2 2 4 2 2 2 1 2 2 2 2 2 2 2 3 3 2 2 2\n",
            " 2 2 2 2 2 2 4 2 2 2 4 2 2 2 2 2 2 2 2 2 2 2 2 2 2 2 2 2 2 2 4 4 2 2 2 2 2\n",
            " 2 2 2 2 2 2 2 2 2 2 2 2 4 2 2 4 6 2 2 2 4 2 4 4 2 2 3 3 3 3 2 6 3 3 2 2 3\n",
            " 3 3 3 0 3 3 3 3 2 2 3 3 4 3 5 3 3 3 3 4 3 3 3 3 1 3 3 4 3 3 4 3 2 4 4 2 3\n",
            " 3 4 3 3 4 6 6 3 6 3 2 3 3 3 2 4 3 4 3 4 3 6 5 4 3 3 3 3 3 3 3 1 4 2 3 3 3\n",
            " 1 3 3 4 2 3 3 3 2 3 2 3 3 3 3 2 2 4 2 2 4 4 2 4 4 4 2 4 4 2 4 4 6 2 2 4 4\n",
            " 2 4 4 4 4 2 4 4 4 4 4 4 2 3 2 2 4 3 4 2 2 2 2 4 4 4 4 4 4 2 4 4 4 4 4 4 4\n",
            " 4 4 4 4 4 2 2 4 4 2 4 2 2 4 4 4 4 4 2 4 4 4 2 4 4 4 2 4 2 4 4 4 2 4 0 2 2\n",
            " 4 5 4 2 2 4 4 4 4 4 5 3 5 5 5 5 5 5 5 5 0 1 1 1 5 5 0 1 5 7 1 7 5 5 5 1 1\n",
            " 5 5 5 5 5 5 5 1 1 5 5 4 5 2 5 5 3 6 6 6 6 6 6 2 6 6 6 6 6 6 6 6 2 6 6 2 6\n",
            " 6 6 1 6 6 6 6 6 6 6 6 6 6 6 6 6 6 6 6 6 2 6 1 6 6 6 6 6 6 6 6 6 6 6 6 6 6\n",
            " 2 6 6 2 6 6 2 6 6 6 6 6 6 6 6 6 6 6 2 6 6 6 6 6 2 6 1 6 6 6 6 3 6 6 6 6 6\n",
            " 6 6 6 2 6 6 6 6 1 6 6 6 6 7 7 7 1 1 0 1 7 7 3 7 7 2 3 1 1 7 1 5 0 6 7 7 7\n",
            " 2 1 1 7 4 0 7 3 5 7 1 7 7 1 0 1 4 0 7 3 6 7 2 3 7 7 3 1 1 3 3 4 3 3 7 1 0\n",
            " 4 0 2 4 1 3 7 6 7 7 7 7 5 6 7 7 7 7 7 3 7 0 3 3 7 0 3 7 7 5 3 6 0 0 7 7 7\n",
            " 4 0 3]\n"
          ]
        },
        {
          "output_type": "display_data",
          "data": {
            "text/plain": [
              "<Figure size 432x288 with 2 Axes>"
            ],
            "image/png": "[encoded data removed]"
          },
          "metadata": {
            "needs_background": "light"
          }
        },
        {
          "output_type": "stream",
          "name": "stdout",
          "text": [
            "              precision    recall  f1-score   support\n",
            "\n",
            "    Species1       0.39      0.32      0.35        37\n",
            "    Species2       0.67      0.70      0.68       106\n",
            "    Species3       0.55      0.83      0.66       103\n",
            "    Species4       0.65      0.61      0.63       102\n",
            "    Species5       0.66      0.64      0.65       106\n",
            "    Species6       0.64      0.61      0.63        44\n",
            "    Species7       0.74      0.86      0.80       107\n",
            "    Species8       0.83      0.38      0.52       101\n",
            "\n",
            "    accuracy                           0.65       706\n",
            "   macro avg       0.64      0.62      0.61       706\n",
            "weighted avg       0.67      0.65      0.64       706\n",
            "\n"
          ]
        }
      ]
    },
    {
      "cell_type": "code",
      "source": [
        "m = tfk.models.load_model(\"savedModels/CNN_VGG16_1\")\n",
        "m.summary()"
      ],
      "metadata": {
        "colab": {
          "base_uri": "https://localhost:8080/"
        },
        "id": "BqPs96D1i4hh",
        "outputId": "4d0061a1-0de4-4224-eb27-ef631c8c8c27"
      },
      "execution_count": null,
      "outputs": [
        {
          "output_type": "stream",
          "name": "stdout",
          "text": [
            "Model: \"model\"\n",
            "_________________________________________________________________\n",
            " Layer (type)                Output Shape              Param #   \n",
            "=================================================================\n",
            " input_layer (InputLayer)    [(None, 96, 96, 3)]       0         \n",
            "                                                                 \n",
            " vgg16 (Functional)          (None, 3, 3, 512)         14714688  \n",
            "                                                                 \n",
            " Flatten (Flatten)           (None, 4608)              0         \n",
            "                                                                 \n",
            " dense (Dense)               (None, 1028)              4738052   \n",
            "                                                                 \n",
            " dropout (Dropout)           (None, 1028)              0         \n",
            "                                                                 \n",
            " Classifier (Dense)          (None, 512)               526848    \n",
            "                                                                 \n",
            " dropout_1 (Dropout)         (None, 512)               0         \n",
            "                                                                 \n",
            " output_layer (Dense)        (None, 8)                 4104      \n",
            "                                                                 \n",
            "=================================================================\n",
            "Total params: 19,983,692\n",
            "Trainable params: 5,269,004\n",
            "Non-trainable params: 14,714,688\n",
            "_________________________________________________________________\n"
          ]
        }
      ]
    },
    {
      "cell_type": "code",
      "source": [
        "m.get_layer('vgg16').trainable = True"
      ],
      "metadata": {
        "id": "4t39G0ARjSzt"
      },
      "execution_count": null,
      "outputs": []
    },
    {
      "cell_type": "code",
      "source": [
        "m.compile(loss=tfk.losses.CategoricalCrossentropy(), optimizer=tfk.optimizers.Adam(1e-4), metrics='accuracy')\n",
        "m.summary()"
      ],
      "metadata": {
        "colab": {
          "base_uri": "https://localhost:8080/"
        },
        "id": "amn30r9BjeLn",
        "outputId": "272572cf-c9d6-4d41-cd0c-3eb00859b89b"
      },
      "execution_count": null,
      "outputs": [
        {
          "output_type": "stream",
          "name": "stdout",
          "text": [
            "Model: \"model\"\n",
            "_________________________________________________________________\n",
            " Layer (type)                Output Shape              Param #   \n",
            "=================================================================\n",
            " input_layer (InputLayer)    [(None, 96, 96, 3)]       0         \n",
            "                                                                 \n",
            " vgg16 (Functional)          (None, 3, 3, 512)         14714688  \n",
            "                                                                 \n",
            " Flatten (Flatten)           (None, 4608)              0         \n",
            "                                                                 \n",
            " dense (Dense)               (None, 1028)              4738052   \n",
            "                                                                 \n",
            " dropout (Dropout)           (None, 1028)              0         \n",
            "                                                                 \n",
            " Classifier (Dense)          (None, 512)               526848    \n",
            "                                                                 \n",
            " dropout_1 (Dropout)         (None, 512)               0         \n",
            "                                                                 \n",
            " output_layer (Dense)        (None, 8)                 4104      \n",
            "                                                                 \n",
            "=================================================================\n",
            "Total params: 19,983,692\n",
            "Trainable params: 19,983,692\n",
            "Non-trainable params: 0\n",
            "_________________________________________________________________\n"
          ]
        }
      ]
    },
    {
      "cell_type": "code",
      "source": [
        "callbacks = create_folders_and_callbacks(model_name='CNN_VGG16_FineTuning')\n",
        "\n",
        "# Train the model\n",
        "history = m.fit(\n",
        "    x = train_gen,\n",
        "    epochs = epochs,\n",
        "    validation_data = valid_gen,\n",
        "    class_weight = {0: 3542/186, 1: 3542/532, 2: 3542/515, 3: 3542/511, 4: 3542/531, \n",
        "                    5: 3542/222, 6: 3542/537, 7: 3542/508},\n",
        "    callbacks = callbacks,\n",
        ").history"
      ],
      "metadata": {
        "colab": {
          "base_uri": "https://localhost:8080/"
        },
        "id": "xh83IKTwjtPP",
        "outputId": "5b00e1b7-9fa6-42a0-ee5f-5853237ef542"
      },
      "execution_count": null,
      "outputs": [
        {
          "output_type": "stream",
          "name": "stdout",
          "text": [
            "Epoch 1/200\n",
            "89/89 [==============================] - 26s 255ms/step - loss: 15.8586 - accuracy: 0.2560 - val_loss: 1.5618 - val_accuracy: 0.3853\n",
            "Epoch 2/200\n",
            "89/89 [==============================] - 23s 253ms/step - loss: 12.1132 - accuracy: 0.4041 - val_loss: 1.4404 - val_accuracy: 0.4547\n",
            "Epoch 3/200\n",
            "89/89 [==============================] - 22s 249ms/step - loss: 11.5343 - accuracy: 0.4598 - val_loss: 1.1961 - val_accuracy: 0.5071\n",
            "Epoch 4/200\n",
            "89/89 [==============================] - 21s 240ms/step - loss: 10.5852 - accuracy: 0.5049 - val_loss: 1.1982 - val_accuracy: 0.5212\n",
            "Epoch 5/200\n",
            "89/89 [==============================] - 22s 248ms/step - loss: 10.1245 - accuracy: 0.5264 - val_loss: 1.2279 - val_accuracy: 0.5057\n",
            "Epoch 6/200\n",
            "89/89 [==============================] - 22s 251ms/step - loss: 9.6402 - accuracy: 0.5755 - val_loss: 1.2768 - val_accuracy: 0.5297\n",
            "Epoch 7/200\n",
            "89/89 [==============================] - 22s 245ms/step - loss: 8.7699 - accuracy: 0.6164 - val_loss: 1.2936 - val_accuracy: 0.4844\n",
            "Epoch 8/200\n",
            "89/89 [==============================] - 22s 242ms/step - loss: 8.2525 - accuracy: 0.6255 - val_loss: 0.8050 - val_accuracy: 0.6700\n",
            "Epoch 9/200\n",
            "89/89 [==============================] - 22s 246ms/step - loss: 8.3407 - accuracy: 0.6167 - val_loss: 1.1881 - val_accuracy: 0.5510\n",
            "Epoch 10/200\n",
            "89/89 [==============================] - 22s 252ms/step - loss: 8.2197 - accuracy: 0.6234 - val_loss: 0.9471 - val_accuracy: 0.6275\n",
            "Epoch 11/200\n",
            "89/89 [==============================] - 22s 243ms/step - loss: 7.7952 - accuracy: 0.6435 - val_loss: 0.7431 - val_accuracy: 0.7224\n",
            "Epoch 12/200\n",
            "89/89 [==============================] - 23s 260ms/step - loss: 7.4806 - accuracy: 0.6696 - val_loss: 0.9020 - val_accuracy: 0.6232\n",
            "Epoch 13/200\n",
            "89/89 [==============================] - 22s 249ms/step - loss: 7.1598 - accuracy: 0.6798 - val_loss: 1.1021 - val_accuracy: 0.5977\n",
            "Epoch 14/200\n",
            "89/89 [==============================] - 22s 252ms/step - loss: 7.0856 - accuracy: 0.6943 - val_loss: 0.8097 - val_accuracy: 0.6813\n",
            "Epoch 15/200\n",
            "89/89 [==============================] - 23s 256ms/step - loss: 6.7585 - accuracy: 0.6999 - val_loss: 0.7380 - val_accuracy: 0.7096\n",
            "Epoch 16/200\n",
            "89/89 [==============================] - 22s 250ms/step - loss: 6.4867 - accuracy: 0.7137 - val_loss: 0.8302 - val_accuracy: 0.6856\n",
            "Epoch 17/200\n",
            "89/89 [==============================] - 22s 246ms/step - loss: 6.5468 - accuracy: 0.7017 - val_loss: 0.7932 - val_accuracy: 0.6870\n",
            "Epoch 18/200\n",
            "89/89 [==============================] - 23s 253ms/step - loss: 6.6523 - accuracy: 0.6999 - val_loss: 0.8557 - val_accuracy: 0.6728\n",
            "Epoch 19/200\n",
            "89/89 [==============================] - 22s 250ms/step - loss: 6.1747 - accuracy: 0.7253 - val_loss: 0.6903 - val_accuracy: 0.7096\n",
            "Epoch 20/200\n",
            "89/89 [==============================] - 22s 248ms/step - loss: 6.3231 - accuracy: 0.7267 - val_loss: 0.7148 - val_accuracy: 0.7181\n",
            "Epoch 21/200\n",
            "89/89 [==============================] - 21s 241ms/step - loss: 5.8812 - accuracy: 0.7313 - val_loss: 0.6971 - val_accuracy: 0.7380\n",
            "Epoch 22/200\n",
            "89/89 [==============================] - 21s 241ms/step - loss: 5.7184 - accuracy: 0.7384 - val_loss: 0.6816 - val_accuracy: 0.7266\n",
            "Epoch 23/200\n",
            "89/89 [==============================] - 23s 263ms/step - loss: 5.9894 - accuracy: 0.7362 - val_loss: 0.6782 - val_accuracy: 0.7422\n",
            "Epoch 24/200\n",
            "89/89 [==============================] - 22s 247ms/step - loss: 5.7693 - accuracy: 0.7440 - val_loss: 0.6761 - val_accuracy: 0.7493\n",
            "Epoch 25/200\n",
            "89/89 [==============================] - 21s 240ms/step - loss: 5.5128 - accuracy: 0.7493 - val_loss: 0.9238 - val_accuracy: 0.6473\n",
            "Epoch 26/200\n",
            "89/89 [==============================] - 22s 249ms/step - loss: 5.4920 - accuracy: 0.7493 - val_loss: 0.7102 - val_accuracy: 0.7380\n",
            "Epoch 27/200\n",
            "89/89 [==============================] - 23s 255ms/step - loss: 5.4929 - accuracy: 0.7496 - val_loss: 0.7771 - val_accuracy: 0.6997\n",
            "Epoch 28/200\n",
            "89/89 [==============================] - 23s 254ms/step - loss: 5.5676 - accuracy: 0.7556 - val_loss: 0.5791 - val_accuracy: 0.7776\n",
            "Epoch 29/200\n",
            "89/89 [==============================] - 21s 237ms/step - loss: 5.1450 - accuracy: 0.7736 - val_loss: 0.6848 - val_accuracy: 0.7465\n",
            "Epoch 30/200\n",
            "89/89 [==============================] - 22s 250ms/step - loss: 5.2688 - accuracy: 0.7623 - val_loss: 0.6446 - val_accuracy: 0.7493\n",
            "Epoch 31/200\n",
            "89/89 [==============================] - 22s 243ms/step - loss: 4.9111 - accuracy: 0.7891 - val_loss: 0.6711 - val_accuracy: 0.7323\n",
            "Epoch 32/200\n",
            "89/89 [==============================] - 22s 250ms/step - loss: 4.9525 - accuracy: 0.7824 - val_loss: 0.5558 - val_accuracy: 0.7790\n",
            "Epoch 33/200\n",
            "89/89 [==============================] - 22s 249ms/step - loss: 4.8028 - accuracy: 0.7807 - val_loss: 0.7051 - val_accuracy: 0.7224\n",
            "Epoch 34/200\n",
            "89/89 [==============================] - 22s 242ms/step - loss: 4.8830 - accuracy: 0.7824 - val_loss: 0.8959 - val_accuracy: 0.6827\n",
            "Epoch 35/200\n",
            "89/89 [==============================] - 22s 243ms/step - loss: 4.9745 - accuracy: 0.7796 - val_loss: 0.7109 - val_accuracy: 0.7663\n",
            "Epoch 36/200\n",
            "89/89 [==============================] - 23s 255ms/step - loss: 4.7079 - accuracy: 0.7987 - val_loss: 0.6117 - val_accuracy: 0.7861\n",
            "Epoch 37/200\n",
            "89/89 [==============================] - 22s 250ms/step - loss: 4.5276 - accuracy: 0.8068 - val_loss: 0.5644 - val_accuracy: 0.7904\n",
            "Epoch 38/200\n",
            "89/89 [==============================] - 23s 255ms/step - loss: 4.3738 - accuracy: 0.8173 - val_loss: 0.5309 - val_accuracy: 0.8144\n",
            "Epoch 39/200\n",
            "89/89 [==============================] - 22s 252ms/step - loss: 4.4526 - accuracy: 0.8184 - val_loss: 0.5172 - val_accuracy: 0.8173\n",
            "Epoch 40/200\n",
            "89/89 [==============================] - 22s 252ms/step - loss: 4.0788 - accuracy: 0.8251 - val_loss: 0.5586 - val_accuracy: 0.8017\n",
            "Epoch 41/200\n",
            "89/89 [==============================] - 22s 251ms/step - loss: 3.7814 - accuracy: 0.8212 - val_loss: 0.6165 - val_accuracy: 0.7720\n",
            "Epoch 42/200\n",
            "89/89 [==============================] - 22s 247ms/step - loss: 4.5601 - accuracy: 0.8047 - val_loss: 0.5283 - val_accuracy: 0.8229\n",
            "Epoch 43/200\n",
            "89/89 [==============================] - 22s 241ms/step - loss: 4.1805 - accuracy: 0.8121 - val_loss: 0.7310 - val_accuracy: 0.7663\n",
            "Epoch 44/200\n",
            "89/89 [==============================] - 23s 262ms/step - loss: 3.6410 - accuracy: 0.8293 - val_loss: 0.6210 - val_accuracy: 0.7918\n",
            "Epoch 45/200\n",
            "89/89 [==============================] - 22s 251ms/step - loss: 3.9764 - accuracy: 0.8230 - val_loss: 0.6367 - val_accuracy: 0.7691\n",
            "Epoch 46/200\n",
            "89/89 [==============================] - 22s 245ms/step - loss: 3.8899 - accuracy: 0.8353 - val_loss: 0.4916 - val_accuracy: 0.8173\n",
            "Epoch 47/200\n",
            "89/89 [==============================] - 21s 238ms/step - loss: 3.8546 - accuracy: 0.8272 - val_loss: 0.6203 - val_accuracy: 0.7790\n",
            "Epoch 48/200\n",
            "89/89 [==============================] - 22s 250ms/step - loss: 4.1019 - accuracy: 0.8262 - val_loss: 0.5226 - val_accuracy: 0.8258\n",
            "Epoch 49/200\n",
            "89/89 [==============================] - 21s 237ms/step - loss: 3.6655 - accuracy: 0.8413 - val_loss: 0.8116 - val_accuracy: 0.7408\n",
            "Epoch 50/200\n",
            "89/89 [==============================] - 22s 245ms/step - loss: 3.7901 - accuracy: 0.8339 - val_loss: 0.7381 - val_accuracy: 0.7635\n",
            "Epoch 51/200\n",
            "89/89 [==============================] - 22s 251ms/step - loss: 3.7996 - accuracy: 0.8304 - val_loss: 0.6255 - val_accuracy: 0.7635\n",
            "Epoch 52/200\n",
            "89/89 [==============================] - 21s 240ms/step - loss: 3.6328 - accuracy: 0.8410 - val_loss: 0.6672 - val_accuracy: 0.7649\n",
            "Epoch 53/200\n",
            "89/89 [==============================] - 22s 249ms/step - loss: 3.5511 - accuracy: 0.8494 - val_loss: 0.5424 - val_accuracy: 0.8229\n",
            "Epoch 54/200\n",
            "89/89 [==============================] - 23s 259ms/step - loss: 3.4867 - accuracy: 0.8551 - val_loss: 0.4966 - val_accuracy: 0.8215\n",
            "Epoch 55/200\n",
            "89/89 [==============================] - 22s 249ms/step - loss: 3.7736 - accuracy: 0.8329 - val_loss: 0.5272 - val_accuracy: 0.7989\n",
            "Epoch 56/200\n",
            "89/89 [==============================] - 23s 254ms/step - loss: 3.5969 - accuracy: 0.8424 - val_loss: 0.6309 - val_accuracy: 0.7748\n",
            "Epoch 57/200\n",
            "89/89 [==============================] - 22s 244ms/step - loss: 3.3786 - accuracy: 0.8586 - val_loss: 0.6592 - val_accuracy: 0.7635\n",
            "Epoch 58/200\n",
            "89/89 [==============================] - 22s 249ms/step - loss: 3.3745 - accuracy: 0.8551 - val_loss: 0.4895 - val_accuracy: 0.8428\n",
            "Epoch 59/200\n",
            "89/89 [==============================] - 22s 250ms/step - loss: 3.0238 - accuracy: 0.8709 - val_loss: 0.6021 - val_accuracy: 0.8088\n",
            "Epoch 60/200\n",
            "89/89 [==============================] - 22s 243ms/step - loss: 3.2366 - accuracy: 0.8635 - val_loss: 0.5153 - val_accuracy: 0.8329\n",
            "Epoch 61/200\n",
            "89/89 [==============================] - 22s 245ms/step - loss: 3.3686 - accuracy: 0.8484 - val_loss: 0.5494 - val_accuracy: 0.7932\n",
            "Epoch 62/200\n",
            "89/89 [==============================] - 23s 260ms/step - loss: 3.3084 - accuracy: 0.8593 - val_loss: 0.4868 - val_accuracy: 0.8300\n",
            "Epoch 63/200\n",
            "89/89 [==============================] - 23s 254ms/step - loss: 3.2835 - accuracy: 0.8660 - val_loss: 0.5446 - val_accuracy: 0.8045\n",
            "Epoch 64/200\n",
            "89/89 [==============================] - 23s 254ms/step - loss: 2.9619 - accuracy: 0.8724 - val_loss: 0.5344 - val_accuracy: 0.8272\n",
            "Epoch 65/200\n",
            "89/89 [==============================] - 22s 250ms/step - loss: 3.5259 - accuracy: 0.8554 - val_loss: 0.5054 - val_accuracy: 0.8229\n",
            "Epoch 66/200\n",
            "89/89 [==============================] - 22s 243ms/step - loss: 2.9891 - accuracy: 0.8808 - val_loss: 0.5063 - val_accuracy: 0.8357\n",
            "Epoch 67/200\n",
            "89/89 [==============================] - 22s 251ms/step - loss: 2.7685 - accuracy: 0.8805 - val_loss: 0.4810 - val_accuracy: 0.8314\n",
            "Epoch 68/200\n",
            "89/89 [==============================] - 22s 251ms/step - loss: 3.0322 - accuracy: 0.8639 - val_loss: 0.5702 - val_accuracy: 0.8074\n"
          ]
        }
      ]
    },
    {
      "cell_type": "code",
      "source": [
        "# Save best epoch model\n",
        "m.save(\"savedModels/CNN_VGG16_FineTuning\")"
      ],
      "metadata": {
        "colab": {
          "base_uri": "https://localhost:8080/"
        },
        "id": "7VEzyt1Jj4Wz",
        "outputId": "ac208303-d5f8-4c9b-e7e3-7af84d215910"
      },
      "execution_count": null,
      "outputs": [
        {
          "output_type": "stream",
          "name": "stderr",
          "text": [
            "WARNING:absl:Found untraced functions such as _jit_compiled_convolution_op, _jit_compiled_convolution_op, _jit_compiled_convolution_op, _jit_compiled_convolution_op, _jit_compiled_convolution_op while saving (showing 5 of 13). These functions will not be directly callable after loading.\n"
          ]
        }
      ]
    },
    {
      "cell_type": "code",
      "source": [
        "testModel(valid_gen, m)"
      ],
      "metadata": {
        "colab": {
          "base_uri": "https://localhost:8080/",
          "height": 1000
        },
        "id": "6chI-dBskDI7",
        "outputId": "0962e691-a09d-4797-b69d-7aff319830f6"
      },
      "execution_count": null,
      "outputs": [
        {
          "output_type": "stream",
          "name": "stdout",
          "text": [
            "706/706 [==============================] - 4s 5ms/step\n",
            "val labels:  [0 0 0 0 0 0 0 0 0 0 0 0 0 0 0 0 0 0 0 0 0 0 0 0 0 0 0 0 0 0 0 0 0 0 0 0 0\n",
            " 1 1 1 1 1 1 1 1 1 1 1 1 1 1 1 1 1 1 1 1 1 1 1 1 1 1 1 1 1 1 1 1 1 1 1 1 1\n",
            " 1 1 1 1 1 1 1 1 1 1 1 1 1 1 1 1 1 1 1 1 1 1 1 1 1 1 1 1 1 1 1 1 1 1 1 1 1\n",
            " 1 1 1 1 1 1 1 1 1 1 1 1 1 1 1 1 1 1 1 1 1 1 1 1 1 1 1 1 1 1 1 1 2 2 2 2 2\n",
            " 2 2 2 2 2 2 2 2 2 2 2 2 2 2 2 2 2 2 2 2 2 2 2 2 2 2 2 2 2 2 2 2 2 2 2 2 2\n",
            " 2 2 2 2 2 2 2 2 2 2 2 2 2 2 2 2 2 2 2 2 2 2 2 2 2 2 2 2 2 2 2 2 2 2 2 2 2\n",
            " 2 2 2 2 2 2 2 2 2 2 2 2 2 2 2 2 2 2 2 2 2 2 2 2 3 3 3 3 3 3 3 3 3 3 3 3 3\n",
            " 3 3 3 3 3 3 3 3 3 3 3 3 3 3 3 3 3 3 3 3 3 3 3 3 3 3 3 3 3 3 3 3 3 3 3 3 3\n",
            " 3 3 3 3 3 3 3 3 3 3 3 3 3 3 3 3 3 3 3 3 3 3 3 3 3 3 3 3 3 3 3 3 3 3 3 3 3\n",
            " 3 3 3 3 3 3 3 3 3 3 3 3 3 3 3 4 4 4 4 4 4 4 4 4 4 4 4 4 4 4 4 4 4 4 4 4 4\n",
            " 4 4 4 4 4 4 4 4 4 4 4 4 4 4 4 4 4 4 4 4 4 4 4 4 4 4 4 4 4 4 4 4 4 4 4 4 4\n",
            " 4 4 4 4 4 4 4 4 4 4 4 4 4 4 4 4 4 4 4 4 4 4 4 4 4 4 4 4 4 4 4 4 4 4 4 4 4\n",
            " 4 4 4 4 4 4 4 4 4 4 5 5 5 5 5 5 5 5 5 5 5 5 5 5 5 5 5 5 5 5 5 5 5 5 5 5 5\n",
            " 5 5 5 5 5 5 5 5 5 5 5 5 5 5 5 5 5 6 6 6 6 6 6 6 6 6 6 6 6 6 6 6 6 6 6 6 6\n",
            " 6 6 6 6 6 6 6 6 6 6 6 6 6 6 6 6 6 6 6 6 6 6 6 6 6 6 6 6 6 6 6 6 6 6 6 6 6\n",
            " 6 6 6 6 6 6 6 6 6 6 6 6 6 6 6 6 6 6 6 6 6 6 6 6 6 6 6 6 6 6 6 6 6 6 6 6 6\n",
            " 6 6 6 6 6 6 6 6 6 6 6 6 6 7 7 7 7 7 7 7 7 7 7 7 7 7 7 7 7 7 7 7 7 7 7 7 7\n",
            " 7 7 7 7 7 7 7 7 7 7 7 7 7 7 7 7 7 7 7 7 7 7 7 7 7 7 7 7 7 7 7 7 7 7 7 7 7\n",
            " 7 7 7 7 7 7 7 7 7 7 7 7 7 7 7 7 7 7 7 7 7 7 7 7 7 7 7 7 7 7 7 7 7 7 7 7 7\n",
            " 7 7 7]\n",
            "labels predicted:  [0 7 0 0 1 0 0 1 0 0 0 0 0 0 7 0 0 0 0 7 0 3 0 6 2 7 1 0 1 3 0 0 7 3 0 0 3\n",
            " 1 6 1 1 1 1 1 1 1 1 1 1 1 1 1 1 1 1 1 3 0 1 1 1 1 1 1 7 1 1 1 1 1 1 1 1 1\n",
            " 1 1 1 1 1 1 1 1 1 1 1 6 1 1 2 1 1 3 1 1 1 6 1 1 1 1 1 1 1 1 1 6 1 1 1 1 1\n",
            " 1 1 1 1 1 1 6 1 1 7 7 6 1 1 1 1 1 1 1 1 1 1 7 7 0 1 6 1 1 1 1 1 2 2 2 2 2\n",
            " 2 2 3 2 2 2 2 2 2 2 2 3 2 2 2 2 2 2 2 2 2 2 2 2 2 3 2 2 3 2 2 2 2 3 2 2 2\n",
            " 2 2 3 2 2 2 2 2 2 2 2 3 2 2 2 2 2 2 2 2 2 2 2 2 2 2 2 2 2 2 4 2 3 2 2 2 2\n",
            " 2 2 2 7 2 2 2 2 2 2 2 2 2 2 2 2 2 2 2 2 4 2 3 2 7 3 3 3 3 3 3 3 3 3 3 3 3\n",
            " 3 0 3 3 5 3 3 3 2 7 3 3 3 3 3 3 3 3 3 3 3 3 3 3 3 3 3 3 3 3 3 3 3 3 3 3 3\n",
            " 3 3 3 3 2 3 3 3 6 3 3 3 3 3 2 4 3 3 3 3 3 3 3 3 3 3 3 3 3 3 3 3 3 3 3 3 3\n",
            " 3 3 3 7 4 3 3 3 4 3 7 3 3 3 3 4 2 4 4 4 4 4 4 4 4 4 4 4 4 4 4 4 2 4 4 4 4\n",
            " 4 4 4 4 4 4 4 4 4 4 4 4 4 4 4 4 4 4 4 4 4 3 2 4 4 4 4 3 2 2 4 4 4 4 2 4 4\n",
            " 5 0 4 4 2 2 4 4 4 2 4 4 2 0 2 4 4 4 2 4 4 4 2 4 4 4 2 4 4 4 4 4 2 4 0 4 4\n",
            " 4 4 4 2 4 4 4 4 4 4 5 6 5 5 5 5 5 5 5 5 7 5 5 5 5 5 5 6 5 7 7 7 5 5 5 5 6\n",
            " 5 5 5 5 5 0 2 5 1 5 5 0 5 5 5 5 5 6 6 6 6 6 6 6 6 6 6 6 6 6 6 6 6 6 6 6 6\n",
            " 6 6 6 6 6 6 6 6 6 6 6 6 6 6 6 6 6 6 6 6 6 6 6 6 6 6 6 6 6 6 6 6 6 6 6 6 6\n",
            " 6 6 6 6 6 6 6 6 6 6 6 6 6 6 2 6 6 6 6 6 6 6 6 6 6 6 6 6 6 6 6 6 6 6 6 6 6\n",
            " 6 6 6 6 6 6 6 6 6 6 6 6 6 7 7 7 7 7 7 3 7 7 7 7 7 7 7 1 7 7 1 7 0 7 7 7 7\n",
            " 7 7 7 7 7 7 0 7 7 7 0 3 7 7 0 2 7 0 7 7 7 7 6 7 7 7 7 7 0 7 7 7 7 7 7 7 7\n",
            " 7 7 2 7 7 7 7 1 7 7 7 7 7 7 7 7 0 7 7 7 7 7 7 7 7 7 7 7 0 0 7 0 7 7 0 7 7\n",
            " 7 0 7]\n"
          ]
        },
        {
          "output_type": "display_data",
          "data": {
            "text/plain": [
              "<Figure size 432x288 with 2 Axes>"
            ],
            "image/png": "[encoded data removed]"
          },
          "metadata": {
            "needs_background": "light"
          }
        },
        {
          "output_type": "stream",
          "name": "stdout",
          "text": [
            "              precision    recall  f1-score   support\n",
            "\n",
            "    Species1       0.52      0.59      0.56        37\n",
            "    Species2       0.92      0.84      0.88       106\n",
            "    Species3       0.78      0.88      0.83       103\n",
            "    Species4       0.82      0.87      0.85       102\n",
            "    Species5       0.94      0.79      0.86       106\n",
            "    Species6       0.94      0.75      0.84        44\n",
            "    Species7       0.89      0.99      0.94       107\n",
            "    Species8       0.81      0.80      0.81       101\n",
            "\n",
            "    accuracy                           0.84       706\n",
            "   macro avg       0.83      0.82      0.82       706\n",
            "weighted avg       0.85      0.84      0.84       706\n",
            "\n"
          ]
        }
      ]
    },
    {
      "cell_type": "markdown",
      "source": [
        "#Now add weights"
      ],
      "metadata": {
        "id": "wBlGXDLHoUHV"
      }
    },
    {
      "cell_type": "code",
      "source": [
        "# Build model (for NO augmentation training)\n",
        "model1 = build_model(input_shape)"
      ],
      "metadata": {
        "id": "xPWVNKZnoTPq"
      },
      "execution_count": null,
      "outputs": []
    },
    {
      "cell_type": "code",
      "source": [
        "# Create folders and callbacks and fit\n",
        "noaug_callbacks = create_folders_and_callbacks(model_name='CNN_1')\n",
        "\n",
        "# Train the model\n",
        "history = model1.fit(\n",
        "    x = noaug_train_gen,\n",
        "    epochs = epochs,\n",
        "    validation_data = valid_gen,\n",
        "    class_weight = {0: 3542/186, 1: 3542/532, 2: 3542/515, 3: 3542/511, 4: 3542/531, \n",
        "                    5: 3542/222, 6: 3542/537, 7: 3542/508},\n",
        "    callbacks = noaug_callbacks,\n",
        ").history"
      ],
      "metadata": {
        "id": "-ua0xSMhoTxc"
      },
      "execution_count": null,
      "outputs": []
    },
    {
      "cell_type": "code",
      "source": [
        "# Save best epoch model\n",
        "model.save(\"data_augmentation_experiments/CNN_NoAug_Best_Weight\")"
      ],
      "metadata": {
        "id": "7VqWebR5ofNh"
      },
      "execution_count": null,
      "outputs": []
    },
    {
      "cell_type": "markdown",
      "source": [
        "#Try with VGG16\n",
        "first not trainable"
      ],
      "metadata": {
        "id": "qrXkJ_iQos8C"
      }
    },
    {
      "cell_type": "code",
      "source": [
        "# Download and plot the VGG16 model\n",
        "supernet = tfk.applications.VGG16(\n",
        "    include_top=False,\n",
        "    weights=\"imagenet\",\n",
        "    input_shape=(96,96,3)\n",
        ")"
      ],
      "metadata": {
        "id": "IBBKRrl7oxWh"
      },
      "execution_count": null,
      "outputs": []
    },
    {
      "cell_type": "code",
      "source": [
        "for layer in supernet.layers:\n",
        "    layer.trainable = False"
      ],
      "metadata": {
        "id": "9O_Gh6-JpCrB"
      },
      "execution_count": null,
      "outputs": []
    },
    {
      "cell_type": "code",
      "source": [
        "def pre_build_model(input_shape):\n",
        "\n",
        "    # Build the neural network layer by layer\n",
        "    input_layer = tfkl.Input(shape=input_shape, name='input_layer')\n",
        "\n",
        "    vgg16_layer = supernet(input_layer) \n",
        "\n",
        "    flattening_layer = tfkl.Flatten(name='Flatten')(vgg16_layer)\n",
        "\n",
        "    layer1 = tfkl.Dense(units=512, kernel_initializer = tfk.initializers.HeUniform(seed), activation='relu')(flattening_layer)\n",
        "\n",
        "    dropout1 = tfkl.Dropout(0.3, seed=seed)(layer1)\n",
        "\n",
        "    classifier_layer = tfkl.Dense(units=256, name='Classifier', kernel_initializer = tfk.initializers.HeUniform(seed), activation='relu')(dropout1)\n",
        "\n",
        "    dropout2 = tfkl.Dropout(0.3, seed=seed)(classifier_layer)\n",
        "\n",
        "    output_layer = tfkl.Dense(units=8, activation='softmax', kernel_initializer=tfk.initializers.GlorotUniform(seed), name='output_layer')(dropout2)\n",
        "\n",
        "    # Connect input and output through the Model class\n",
        "    model = tfk.Model(inputs=input_layer, outputs=output_layer, name='model')\n",
        "\n",
        "    # Compile the model\n",
        "    model.compile(loss=tfk.losses.CategoricalCrossentropy(), optimizer=tfk.optimizers.Adam(), metrics='accuracy')\n",
        "\n",
        "    # Return the model\n",
        "    return model"
      ],
      "metadata": {
        "id": "u5xppToqpN_p"
      },
      "execution_count": null,
      "outputs": []
    },
    {
      "cell_type": "code",
      "source": [
        "vgg16 = pre_build_model(input_shape)\n",
        "vgg16.summary()"
      ],
      "metadata": {
        "id": "Dj7g42f9tMkT"
      },
      "execution_count": null,
      "outputs": []
    },
    {
      "cell_type": "code",
      "source": [
        "# Create folders and callbacks and fit\n",
        "noaug_callbacks = create_folders_and_callbacks(model_name='CNN_VGG16')\n",
        "\n",
        "# Train the model\n",
        "history = vgg16.fit(\n",
        "    x = noaug_train_gen,\n",
        "    epochs = epochs,\n",
        "    validation_data = valid_gen,\n",
        "    callbacks = noaug_callbacks,\n",
        ").history"
      ],
      "metadata": {
        "id": "SfluR2-ZtSW-"
      },
      "execution_count": null,
      "outputs": []
    },
    {
      "cell_type": "code",
      "source": [
        "# Save best epoch model\n",
        "model.save(\"data_augmentation_experiments/CNN_VGG16_Best\")"
      ],
      "metadata": {
        "id": "7VUiy-29tg4s"
      },
      "execution_count": null,
      "outputs": []
    },
    {
      "cell_type": "markdown",
      "source": [
        "#XCeption"
      ],
      "metadata": {
        "id": "AMBafD8gvnQ9"
      }
    },
    {
      "cell_type": "code",
      "source": [
        "supernet = tfk.applications.Xception(\n",
        "    include_top=False,\n",
        "    weights=\"imagenet\",\n",
        "    input_shape=(96,96,3)\n",
        ")"
      ],
      "metadata": {
        "id": "jWGdJ1LLvnAp",
        "colab": {
          "base_uri": "https://localhost:8080/"
        },
        "outputId": "82f46a2e-fc8c-44b6-b40c-2232523c49cf"
      },
      "execution_count": 16,
      "outputs": [
        {
          "output_type": "stream",
          "name": "stdout",
          "text": [
            "Downloading data from https://storage.googleapis.com/tensorflow/keras-applications/xception/xception_weights_tf_dim_ordering_tf_kernels_notop.h5\n",
            "83683744/83683744 [==============================] - 3s 0us/step\n"
          ]
        }
      ]
    },
    {
      "cell_type": "code",
      "source": [
        "for layer in supernet.layers:\n",
        "    layer.trainable = False"
      ],
      "metadata": {
        "id": "Kg8uK5zvDphI"
      },
      "execution_count": 17,
      "outputs": []
    },
    {
      "cell_type": "code",
      "source": [
        "xCeption = build_model(input_shape)\n",
        "xCeption.summary()"
      ],
      "metadata": {
        "id": "h-mMCsdtvzwC",
        "colab": {
          "base_uri": "https://localhost:8080/"
        },
        "outputId": "d99aaab9-f16a-4559-efca-3525d4e92de0"
      },
      "execution_count": 18,
      "outputs": [
        {
          "output_type": "stream",
          "name": "stdout",
          "text": [
            "Model: \"model\"\n",
            "_________________________________________________________________\n",
            " Layer (type)                Output Shape              Param #   \n",
            "=================================================================\n",
            " input_layer (InputLayer)    [(None, 96, 96, 3)]       0         \n",
            "                                                                 \n",
            " xception (Functional)       (None, 3, 3, 2048)        20861480  \n",
            "                                                                 \n",
            " Flatten (Flatten)           (None, 18432)             0         \n",
            "                                                                 \n",
            " dense (Dense)               (None, 1028)              18949124  \n",
            "                                                                 \n",
            " dropout (Dropout)           (None, 1028)              0         \n",
            "                                                                 \n",
            " Classifier (Dense)          (None, 512)               526848    \n",
            "                                                                 \n",
            " dropout_1 (Dropout)         (None, 512)               0         \n",
            "                                                                 \n",
            " output_layer (Dense)        (None, 8)                 4104      \n",
            "                                                                 \n",
            "=================================================================\n",
            "Total params: 40,341,556\n",
            "Trainable params: 19,480,076\n",
            "Non-trainable params: 20,861,480\n",
            "_________________________________________________________________\n"
          ]
        }
      ]
    },
    {
      "cell_type": "code",
      "source": [
        "callbacks = create_folders_and_callbacks(model_name='CNN_XCeption')\n",
        "\n",
        "# Train the model\n",
        "history = xCeption.fit(\n",
        "    x = train_gen,\n",
        "    epochs = epochs,\n",
        "    validation_data = valid_gen,\n",
        "    class_weight = {0: 3542/186, 1: 3542/532, 2: 3542/515, 3: 3542/511, 4: 3542/531, \n",
        "                    5: 3542/222, 6: 3542/537, 7: 3542/508},\n",
        "    callbacks = callbacks,\n",
        ").history"
      ],
      "metadata": {
        "id": "k6cJ5uuVv5Z3",
        "colab": {
          "base_uri": "https://localhost:8080/"
        },
        "outputId": "3533bde6-77bb-44d8-c29e-edb7de72dc06"
      },
      "execution_count": 20,
      "outputs": [
        {
          "output_type": "stream",
          "name": "stdout",
          "text": [
            "Epoch 1/200\n",
            "89/89 [==============================] - 1172s 13s/step - loss: 15.6720 - accuracy: 0.2638 - val_loss: 1.6375 - val_accuracy: 0.4178\n",
            "Epoch 2/200\n",
            "89/89 [==============================] - 29s 328ms/step - loss: 14.0136 - accuracy: 0.3558 - val_loss: 1.5289 - val_accuracy: 0.4306\n",
            "Epoch 3/200\n",
            "89/89 [==============================] - 29s 325ms/step - loss: 13.4852 - accuracy: 0.3755 - val_loss: 1.4376 - val_accuracy: 0.4660\n",
            "Epoch 4/200\n",
            "89/89 [==============================] - 29s 322ms/step - loss: 12.6522 - accuracy: 0.4133 - val_loss: 1.4163 - val_accuracy: 0.4816\n",
            "Epoch 5/200\n",
            "89/89 [==============================] - 27s 310ms/step - loss: 12.4381 - accuracy: 0.4397 - val_loss: 1.3837 - val_accuracy: 0.4929\n",
            "Epoch 6/200\n",
            "89/89 [==============================] - 29s 324ms/step - loss: 12.4235 - accuracy: 0.4319 - val_loss: 1.3807 - val_accuracy: 0.4858\n",
            "Epoch 7/200\n",
            "89/89 [==============================] - 28s 319ms/step - loss: 12.0968 - accuracy: 0.4471 - val_loss: 1.3568 - val_accuracy: 0.4887\n",
            "Epoch 8/200\n",
            "89/89 [==============================] - 28s 313ms/step - loss: 12.1291 - accuracy: 0.4323 - val_loss: 1.3538 - val_accuracy: 0.5127\n",
            "Epoch 9/200\n",
            "89/89 [==============================] - 27s 305ms/step - loss: 11.7572 - accuracy: 0.4591 - val_loss: 1.3670 - val_accuracy: 0.4688\n",
            "Epoch 10/200\n",
            "89/89 [==============================] - 28s 315ms/step - loss: 11.6845 - accuracy: 0.4612 - val_loss: 1.2610 - val_accuracy: 0.5482\n",
            "Epoch 11/200\n",
            "89/89 [==============================] - 28s 312ms/step - loss: 11.5391 - accuracy: 0.4633 - val_loss: 1.2963 - val_accuracy: 0.5014\n",
            "Epoch 12/200\n",
            "89/89 [==============================] - 27s 300ms/step - loss: 11.4988 - accuracy: 0.4707 - val_loss: 1.2718 - val_accuracy: 0.5227\n",
            "Epoch 13/200\n",
            "89/89 [==============================] - 28s 316ms/step - loss: 11.4251 - accuracy: 0.4714 - val_loss: 1.2722 - val_accuracy: 0.5382\n",
            "Epoch 14/200\n",
            "89/89 [==============================] - 26s 297ms/step - loss: 11.4803 - accuracy: 0.4697 - val_loss: 1.2479 - val_accuracy: 0.5453\n",
            "Epoch 15/200\n",
            "89/89 [==============================] - 29s 328ms/step - loss: 11.2448 - accuracy: 0.4894 - val_loss: 1.2570 - val_accuracy: 0.5255\n",
            "Epoch 16/200\n",
            "89/89 [==============================] - 29s 322ms/step - loss: 11.3016 - accuracy: 0.4714 - val_loss: 1.2290 - val_accuracy: 0.5595\n",
            "Epoch 17/200\n",
            "89/89 [==============================] - 26s 298ms/step - loss: 11.2331 - accuracy: 0.4743 - val_loss: 1.2754 - val_accuracy: 0.5142\n",
            "Epoch 18/200\n",
            "89/89 [==============================] - 30s 343ms/step - loss: 11.1710 - accuracy: 0.4915 - val_loss: 1.2387 - val_accuracy: 0.5397\n",
            "Epoch 19/200\n",
            "89/89 [==============================] - 27s 302ms/step - loss: 11.1980 - accuracy: 0.4944 - val_loss: 1.2235 - val_accuracy: 0.5368\n",
            "Epoch 20/200\n",
            "89/89 [==============================] - 28s 315ms/step - loss: 11.1106 - accuracy: 0.4954 - val_loss: 1.2419 - val_accuracy: 0.5297\n",
            "Epoch 21/200\n",
            "89/89 [==============================] - 27s 307ms/step - loss: 11.0829 - accuracy: 0.4824 - val_loss: 1.2186 - val_accuracy: 0.5581\n",
            "Epoch 22/200\n",
            "89/89 [==============================] - 27s 304ms/step - loss: 10.9590 - accuracy: 0.5046 - val_loss: 1.2206 - val_accuracy: 0.5524\n",
            "Epoch 23/200\n",
            "89/89 [==============================] - 28s 317ms/step - loss: 11.0152 - accuracy: 0.4891 - val_loss: 1.2086 - val_accuracy: 0.5595\n",
            "Epoch 24/200\n",
            "89/89 [==============================] - 27s 304ms/step - loss: 10.7897 - accuracy: 0.5060 - val_loss: 1.2241 - val_accuracy: 0.5397\n",
            "Epoch 25/200\n",
            "89/89 [==============================] - 27s 300ms/step - loss: 10.7737 - accuracy: 0.4975 - val_loss: 1.2059 - val_accuracy: 0.5567\n",
            "Epoch 26/200\n",
            "89/89 [==============================] - 28s 310ms/step - loss: 10.7934 - accuracy: 0.5123 - val_loss: 1.2491 - val_accuracy: 0.5283\n"
          ]
        }
      ]
    },
    {
      "cell_type": "code",
      "source": [
        "# Save best epoch model\n",
        "xCeption.save(\"savedModels/CNN_XCeption\")"
      ],
      "metadata": {
        "id": "GHGkW2xRwCck",
        "colab": {
          "base_uri": "https://localhost:8080/"
        },
        "outputId": "7e5746aa-1a15-4fa8-87cb-786f417a506f"
      },
      "execution_count": 21,
      "outputs": [
        {
          "output_type": "stream",
          "name": "stderr",
          "text": [
            "WARNING:absl:Found untraced functions such as _jit_compiled_convolution_op, _jit_compiled_convolution_op, _jit_compiled_convolution_op, _jit_compiled_convolution_op, _jit_compiled_convolution_op while saving (showing 5 of 40). These functions will not be directly callable after loading.\n"
          ]
        }
      ]
    },
    {
      "cell_type": "code",
      "source": [
        "testModel(valid_gen, xCeption)"
      ],
      "metadata": {
        "colab": {
          "base_uri": "https://localhost:8080/",
          "height": 555
        },
        "id": "0PQgvfJTmRkd",
        "outputId": "399cc14d-bd68-4395-c138-03b3141c0332"
      },
      "execution_count": 22,
      "outputs": [
        {
          "output_type": "stream",
          "name": "stdout",
          "text": [
            "706/706 [==============================] - 8s 10ms/step\n"
          ]
        },
        {
          "output_type": "display_data",
          "data": {
            "text/plain": [
              "<Figure size 432x288 with 2 Axes>"
            ],
            "image/png": "[encoded data removed]"
          },
          "metadata": {
            "needs_background": "light"
          }
        },
        {
          "output_type": "stream",
          "name": "stdout",
          "text": [
            "              precision    recall  f1-score   support\n",
            "\n",
            "    Species1       0.58      0.41      0.48        37\n",
            "    Species2       0.54      0.42      0.48       106\n",
            "    Species3       0.51      0.67      0.58       103\n",
            "    Species4       0.53      0.47      0.50       102\n",
            "    Species5       0.52      0.66      0.58       106\n",
            "    Species6       0.46      0.68      0.55        44\n",
            "    Species7       0.66      0.61      0.63       107\n",
            "    Species8       0.71      0.52      0.60       101\n",
            "\n",
            "    accuracy                           0.56       706\n",
            "   macro avg       0.56      0.56      0.55       706\n",
            "weighted avg       0.57      0.56      0.56       706\n",
            "\n"
          ]
        }
      ]
    },
    {
      "cell_type": "code",
      "source": [
        "xc = tfk.models.load_model(\"savedModels/CNN_XCeption\")\n",
        "xc.summary()"
      ],
      "metadata": {
        "colab": {
          "base_uri": "https://localhost:8080/"
        },
        "id": "qWg3OVcvmdvK",
        "outputId": "af16ab1f-5b58-4d67-e844-8360db5d3d0b"
      },
      "execution_count": 23,
      "outputs": [
        {
          "output_type": "stream",
          "name": "stdout",
          "text": [
            "Model: \"model\"\n",
            "_________________________________________________________________\n",
            " Layer (type)                Output Shape              Param #   \n",
            "=================================================================\n",
            " input_layer (InputLayer)    [(None, 96, 96, 3)]       0         \n",
            "                                                                 \n",
            " xception (Functional)       (None, 3, 3, 2048)        20861480  \n",
            "                                                                 \n",
            " Flatten (Flatten)           (None, 18432)             0         \n",
            "                                                                 \n",
            " dense (Dense)               (None, 1028)              18949124  \n",
            "                                                                 \n",
            " dropout (Dropout)           (None, 1028)              0         \n",
            "                                                                 \n",
            " Classifier (Dense)          (None, 512)               526848    \n",
            "                                                                 \n",
            " dropout_1 (Dropout)         (None, 512)               0         \n",
            "                                                                 \n",
            " output_layer (Dense)        (None, 8)                 4104      \n",
            "                                                                 \n",
            "=================================================================\n",
            "Total params: 40,341,556\n",
            "Trainable params: 19,480,076\n",
            "Non-trainable params: 20,861,480\n",
            "_________________________________________________________________\n"
          ]
        }
      ]
    },
    {
      "cell_type": "code",
      "source": [
        "xc.get_layer('xception').trainable = True"
      ],
      "metadata": {
        "id": "yWS9_VX7mdjE"
      },
      "execution_count": 24,
      "outputs": []
    },
    {
      "cell_type": "code",
      "source": [
        "xc.compile(loss=tfk.losses.CategoricalCrossentropy(), optimizer=tfk.optimizers.Adam(1e-4), metrics='accuracy')\n",
        "xc.summary()"
      ],
      "metadata": {
        "colab": {
          "base_uri": "https://localhost:8080/"
        },
        "id": "anHoDNvJmv57",
        "outputId": "eb0287a0-2071-42d4-8fa4-bbec5619c734"
      },
      "execution_count": 25,
      "outputs": [
        {
          "output_type": "stream",
          "name": "stdout",
          "text": [
            "Model: \"model\"\n",
            "_________________________________________________________________\n",
            " Layer (type)                Output Shape              Param #   \n",
            "=================================================================\n",
            " input_layer (InputLayer)    [(None, 96, 96, 3)]       0         \n",
            "                                                                 \n",
            " xception (Functional)       (None, 3, 3, 2048)        20861480  \n",
            "                                                                 \n",
            " Flatten (Flatten)           (None, 18432)             0         \n",
            "                                                                 \n",
            " dense (Dense)               (None, 1028)              18949124  \n",
            "                                                                 \n",
            " dropout (Dropout)           (None, 1028)              0         \n",
            "                                                                 \n",
            " Classifier (Dense)          (None, 512)               526848    \n",
            "                                                                 \n",
            " dropout_1 (Dropout)         (None, 512)               0         \n",
            "                                                                 \n",
            " output_layer (Dense)        (None, 8)                 4104      \n",
            "                                                                 \n",
            "=================================================================\n",
            "Total params: 40,341,556\n",
            "Trainable params: 40,287,028\n",
            "Non-trainable params: 54,528\n",
            "_________________________________________________________________\n"
          ]
        }
      ]
    },
    {
      "cell_type": "code",
      "source": [
        "callbacks = create_folders_and_callbacks(model_name='CNN_EffNet_FineTuning')\n",
        "\n",
        "# Train the model\n",
        "history = xc.fit(\n",
        "    x = train_gen,\n",
        "    epochs = epochs,\n",
        "    validation_data = valid_gen,\n",
        "    class_weight = {0: 3542/186, 1: 3542/532, 2: 3542/515, 3: 3542/511, 4: 3542/531, \n",
        "                    5: 3542/222, 6: 3542/537, 7: 3542/508},\n",
        "    callbacks = callbacks,\n",
        ").history"
      ],
      "metadata": {
        "colab": {
          "base_uri": "https://localhost:8080/"
        },
        "id": "pGqq-N9Zm2kN",
        "outputId": "a9f081a9-eaba-4b31-8d29-38701e5dbbd2"
      },
      "execution_count": 26,
      "outputs": [
        {
          "output_type": "stream",
          "name": "stdout",
          "text": [
            "Epoch 1/200\n",
            "89/89 [==============================] - 38s 365ms/step - loss: 13.3041 - accuracy: 0.4147 - val_loss: 1.8470 - val_accuracy: 0.3853\n",
            "Epoch 2/200\n",
            "89/89 [==============================] - 32s 359ms/step - loss: 11.1056 - accuracy: 0.5028 - val_loss: 1.3813 - val_accuracy: 0.5170\n",
            "Epoch 3/200\n",
            "89/89 [==============================] - 35s 389ms/step - loss: 9.9327 - accuracy: 0.5822 - val_loss: 1.0955 - val_accuracy: 0.5793\n",
            "Epoch 4/200\n",
            "89/89 [==============================] - 31s 350ms/step - loss: 9.2160 - accuracy: 0.5977 - val_loss: 1.1067 - val_accuracy: 0.6119\n",
            "Epoch 5/200\n",
            "89/89 [==============================] - 33s 368ms/step - loss: 8.3768 - accuracy: 0.6340 - val_loss: 0.8872 - val_accuracy: 0.6856\n",
            "Epoch 6/200\n",
            "89/89 [==============================] - 33s 376ms/step - loss: 7.9111 - accuracy: 0.6629 - val_loss: 0.7958 - val_accuracy: 0.7096\n",
            "Epoch 7/200\n",
            "89/89 [==============================] - 33s 372ms/step - loss: 7.8139 - accuracy: 0.6654 - val_loss: 0.7664 - val_accuracy: 0.7125\n",
            "Epoch 8/200\n",
            "89/89 [==============================] - 32s 364ms/step - loss: 7.2691 - accuracy: 0.6894 - val_loss: 0.7749 - val_accuracy: 0.7224\n",
            "Epoch 9/200\n",
            "89/89 [==============================] - 33s 375ms/step - loss: 7.1841 - accuracy: 0.6932 - val_loss: 0.7746 - val_accuracy: 0.7280\n",
            "Epoch 10/200\n",
            "89/89 [==============================] - 34s 383ms/step - loss: 6.5718 - accuracy: 0.7172 - val_loss: 0.7502 - val_accuracy: 0.7422\n",
            "Epoch 11/200\n",
            "89/89 [==============================] - 33s 374ms/step - loss: 6.5211 - accuracy: 0.7179 - val_loss: 0.7456 - val_accuracy: 0.7266\n",
            "Epoch 12/200\n",
            "89/89 [==============================] - 33s 370ms/step - loss: 6.1664 - accuracy: 0.7271 - val_loss: 0.7968 - val_accuracy: 0.7550\n",
            "Epoch 13/200\n",
            "89/89 [==============================] - 33s 374ms/step - loss: 5.9965 - accuracy: 0.7419 - val_loss: 0.8395 - val_accuracy: 0.7691\n",
            "Epoch 14/200\n",
            "89/89 [==============================] - 33s 376ms/step - loss: 5.7486 - accuracy: 0.7493 - val_loss: 0.8208 - val_accuracy: 0.7280\n",
            "Epoch 15/200\n",
            "89/89 [==============================] - 32s 365ms/step - loss: 5.7227 - accuracy: 0.7482 - val_loss: 0.7162 - val_accuracy: 0.7805\n",
            "Epoch 16/200\n",
            "89/89 [==============================] - 32s 358ms/step - loss: 5.4302 - accuracy: 0.7609 - val_loss: 0.8510 - val_accuracy: 0.7677\n",
            "Epoch 17/200\n",
            "89/89 [==============================] - 31s 351ms/step - loss: 5.3460 - accuracy: 0.7729 - val_loss: 0.7304 - val_accuracy: 0.7620\n",
            "Epoch 18/200\n",
            "89/89 [==============================] - 32s 355ms/step - loss: 4.9460 - accuracy: 0.7793 - val_loss: 0.7407 - val_accuracy: 0.7748\n",
            "Epoch 19/200\n",
            "89/89 [==============================] - 32s 361ms/step - loss: 5.0696 - accuracy: 0.7729 - val_loss: 0.6962 - val_accuracy: 0.7762\n",
            "Epoch 20/200\n",
            "89/89 [==============================] - 32s 362ms/step - loss: 4.8997 - accuracy: 0.7863 - val_loss: 0.8969 - val_accuracy: 0.7819\n",
            "Epoch 21/200\n",
            "89/89 [==============================] - 32s 361ms/step - loss: 4.8411 - accuracy: 0.7948 - val_loss: 0.7007 - val_accuracy: 0.7720\n",
            "Epoch 22/200\n",
            "89/89 [==============================] - 34s 386ms/step - loss: 4.7528 - accuracy: 0.7965 - val_loss: 0.6474 - val_accuracy: 0.7776\n",
            "Epoch 23/200\n",
            "89/89 [==============================] - 33s 369ms/step - loss: 4.4518 - accuracy: 0.7994 - val_loss: 0.7312 - val_accuracy: 0.7861\n",
            "Epoch 24/200\n",
            "89/89 [==============================] - 34s 382ms/step - loss: 4.3983 - accuracy: 0.8054 - val_loss: 0.5685 - val_accuracy: 0.8116\n",
            "Epoch 25/200\n",
            "89/89 [==============================] - 33s 372ms/step - loss: 4.1205 - accuracy: 0.8212 - val_loss: 0.6015 - val_accuracy: 0.8031\n",
            "Epoch 26/200\n",
            "89/89 [==============================] - 34s 386ms/step - loss: 4.3976 - accuracy: 0.8163 - val_loss: 0.5935 - val_accuracy: 0.8074\n",
            "Epoch 27/200\n",
            "89/89 [==============================] - 34s 385ms/step - loss: 4.0380 - accuracy: 0.8244 - val_loss: 0.6659 - val_accuracy: 0.7946\n",
            "Epoch 28/200\n",
            "89/89 [==============================] - 33s 375ms/step - loss: 4.1243 - accuracy: 0.8166 - val_loss: 0.6259 - val_accuracy: 0.8017\n",
            "Epoch 29/200\n",
            "89/89 [==============================] - 33s 377ms/step - loss: 3.9844 - accuracy: 0.8276 - val_loss: 0.6653 - val_accuracy: 0.7776\n",
            "Epoch 30/200\n",
            "89/89 [==============================] - 33s 376ms/step - loss: 3.7500 - accuracy: 0.8434 - val_loss: 0.7091 - val_accuracy: 0.7861\n",
            "Epoch 31/200\n",
            "89/89 [==============================] - 33s 376ms/step - loss: 3.7866 - accuracy: 0.8452 - val_loss: 0.6444 - val_accuracy: 0.8045\n",
            "Epoch 32/200\n",
            "89/89 [==============================] - 38s 424ms/step - loss: 3.5997 - accuracy: 0.8445 - val_loss: 0.5769 - val_accuracy: 0.8300\n",
            "Epoch 33/200\n",
            "89/89 [==============================] - 32s 360ms/step - loss: 3.6730 - accuracy: 0.8389 - val_loss: 0.5880 - val_accuracy: 0.8187\n",
            "Epoch 34/200\n",
            "89/89 [==============================] - 34s 385ms/step - loss: 3.4135 - accuracy: 0.8466 - val_loss: 0.7579 - val_accuracy: 0.8045\n",
            "Epoch 35/200\n",
            "89/89 [==============================] - 33s 365ms/step - loss: 3.2560 - accuracy: 0.8547 - val_loss: 0.6254 - val_accuracy: 0.7975\n",
            "Epoch 36/200\n",
            "89/89 [==============================] - 33s 370ms/step - loss: 3.4678 - accuracy: 0.8470 - val_loss: 0.5648 - val_accuracy: 0.8201\n",
            "Epoch 37/200\n",
            "89/89 [==============================] - 37s 413ms/step - loss: 3.0336 - accuracy: 0.8699 - val_loss: 0.6127 - val_accuracy: 0.8130\n",
            "Epoch 38/200\n",
            "89/89 [==============================] - 34s 383ms/step - loss: 3.2464 - accuracy: 0.8579 - val_loss: 0.6924 - val_accuracy: 0.8144\n",
            "Epoch 39/200\n",
            "89/89 [==============================] - 34s 378ms/step - loss: 3.1734 - accuracy: 0.8611 - val_loss: 0.6972 - val_accuracy: 0.8059\n",
            "Epoch 40/200\n",
            "89/89 [==============================] - 33s 370ms/step - loss: 3.1465 - accuracy: 0.8642 - val_loss: 0.5675 - val_accuracy: 0.8329\n",
            "Epoch 41/200\n",
            "89/89 [==============================] - 34s 383ms/step - loss: 3.1024 - accuracy: 0.8650 - val_loss: 0.6122 - val_accuracy: 0.8286\n",
            "Epoch 42/200\n",
            "89/89 [==============================] - 33s 373ms/step - loss: 3.2151 - accuracy: 0.8650 - val_loss: 0.5830 - val_accuracy: 0.8385\n",
            "Epoch 43/200\n",
            "89/89 [==============================] - 32s 364ms/step - loss: 2.9160 - accuracy: 0.8798 - val_loss: 0.6933 - val_accuracy: 0.7960\n",
            "Epoch 44/200\n",
            "89/89 [==============================] - 36s 401ms/step - loss: 2.8747 - accuracy: 0.8822 - val_loss: 0.6535 - val_accuracy: 0.8088\n",
            "Epoch 45/200\n",
            "89/89 [==============================] - 32s 362ms/step - loss: 2.8328 - accuracy: 0.8822 - val_loss: 0.5715 - val_accuracy: 0.8229\n",
            "Epoch 46/200\n",
            "89/89 [==============================] - 33s 367ms/step - loss: 2.6850 - accuracy: 0.8829 - val_loss: 0.6044 - val_accuracy: 0.8229\n",
            "Epoch 47/200\n",
            "89/89 [==============================] - 33s 376ms/step - loss: 2.5272 - accuracy: 0.8903 - val_loss: 0.6632 - val_accuracy: 0.8144\n",
            "Epoch 48/200\n",
            "89/89 [==============================] - 34s 380ms/step - loss: 2.7620 - accuracy: 0.8752 - val_loss: 0.6264 - val_accuracy: 0.8215\n",
            "Epoch 49/200\n",
            "89/89 [==============================] - 33s 367ms/step - loss: 2.6443 - accuracy: 0.8896 - val_loss: 0.6925 - val_accuracy: 0.8173\n",
            "Epoch 50/200\n",
            "89/89 [==============================] - 34s 387ms/step - loss: 2.4629 - accuracy: 0.8942 - val_loss: 0.6365 - val_accuracy: 0.8300\n",
            "Epoch 51/200\n",
            "89/89 [==============================] - 34s 380ms/step - loss: 2.6954 - accuracy: 0.8858 - val_loss: 0.5818 - val_accuracy: 0.8357\n",
            "Epoch 52/200\n",
            "89/89 [==============================] - 35s 392ms/step - loss: 2.5176 - accuracy: 0.8882 - val_loss: 0.8148 - val_accuracy: 0.8130\n"
          ]
        }
      ]
    },
    {
      "cell_type": "code",
      "source": [
        "# Save best epoch model\n",
        "xc.save(\"savedModels/CNN_XCeption_FineTuning\")"
      ],
      "metadata": {
        "id": "aL4_KumVm_vf",
        "colab": {
          "base_uri": "https://localhost:8080/"
        },
        "outputId": "87a5665b-1dd9-4982-f948-10130bc90498"
      },
      "execution_count": 29,
      "outputs": [
        {
          "output_type": "stream",
          "name": "stderr",
          "text": [
            "WARNING:absl:Found untraced functions such as _jit_compiled_convolution_op, _jit_compiled_convolution_op, _jit_compiled_convolution_op, _jit_compiled_convolution_op, _jit_compiled_convolution_op while saving (showing 5 of 40). These functions will not be directly callable after loading.\n"
          ]
        }
      ]
    },
    {
      "cell_type": "code",
      "source": [
        "testModel(valid_gen, xc)"
      ],
      "metadata": {
        "id": "tjTfY-2PnIBL",
        "colab": {
          "base_uri": "https://localhost:8080/",
          "height": 555
        },
        "outputId": "2dbd7325-28ce-40ff-d999-c7a09728d9c6"
      },
      "execution_count": 30,
      "outputs": [
        {
          "output_type": "stream",
          "name": "stdout",
          "text": [
            "706/706 [==============================] - 8s 11ms/step\n"
          ]
        },
        {
          "output_type": "display_data",
          "data": {
            "text/plain": [
              "<Figure size 432x288 with 2 Axes>"
            ],
            "image/png": "[encoded data removed]"
          },
          "metadata": {
            "needs_background": "light"
          }
        },
        {
          "output_type": "stream",
          "name": "stdout",
          "text": [
            "              precision    recall  f1-score   support\n",
            "\n",
            "    Species1       0.67      0.65      0.66        37\n",
            "    Species2       0.81      0.87      0.84       106\n",
            "    Species3       0.87      0.80      0.83       103\n",
            "    Species4       0.73      0.88      0.80       102\n",
            "    Species5       0.87      0.85      0.86       106\n",
            "    Species6       0.97      0.66      0.78        44\n",
            "    Species7       0.99      0.93      0.96       107\n",
            "    Species8       0.81      0.84      0.83       101\n",
            "\n",
            "    accuracy                           0.84       706\n",
            "   macro avg       0.84      0.81      0.82       706\n",
            "weighted avg       0.85      0.84      0.84       706\n",
            "\n"
          ]
        }
      ]
    },
    {
      "cell_type": "markdown",
      "source": [
        "#InceptionV3"
      ],
      "metadata": {
        "id": "fC237kGVRCvK"
      }
    },
    {
      "cell_type": "code",
      "source": [
        "supernet3 = tfk.applications.InceptionV3(\n",
        "    include_top=False,\n",
        "    weights=\"imagenet\",\n",
        "    input_shape=(96,96,3)\n",
        ")"
      ],
      "metadata": {
        "colab": {
          "base_uri": "https://localhost:8080/"
        },
        "id": "fezLnbhXRFuU",
        "outputId": "1999e0a1-d7bb-4b41-9985-316d7e13617e"
      },
      "execution_count": 32,
      "outputs": [
        {
          "output_type": "stream",
          "name": "stdout",
          "text": [
            "Downloading data from https://storage.googleapis.com/tensorflow/keras-applications/inception_v3/inception_v3_weights_tf_dim_ordering_tf_kernels_notop.h5\n",
            "87910968/87910968 [==============================] - 4s 0us/step\n"
          ]
        }
      ]
    },
    {
      "cell_type": "code",
      "source": [
        "for layer in supernet3.layers:\n",
        "    layer.trainable = False"
      ],
      "metadata": {
        "id": "xAwyvAnTRdnL"
      },
      "execution_count": 33,
      "outputs": []
    },
    {
      "cell_type": "code",
      "source": [
        "inceptionV3 = build_model(input_shape, supernet3)\n",
        "inceptionV3.summary()"
      ],
      "metadata": {
        "colab": {
          "base_uri": "https://localhost:8080/"
        },
        "id": "2pQl-80CRgxC",
        "outputId": "fd4c8f0d-16a3-47c6-f0b7-42c334517c6e"
      },
      "execution_count": 35,
      "outputs": [
        {
          "output_type": "stream",
          "name": "stdout",
          "text": [
            "Model: \"model\"\n",
            "_________________________________________________________________\n",
            " Layer (type)                Output Shape              Param #   \n",
            "=================================================================\n",
            " input_layer (InputLayer)    [(None, 96, 96, 3)]       0         \n",
            "                                                                 \n",
            " inception_v3 (Functional)   (None, 1, 1, 2048)        21802784  \n",
            "                                                                 \n",
            " Flatten (Flatten)           (None, 2048)              0         \n",
            "                                                                 \n",
            " dense_1 (Dense)             (None, 1028)              2106372   \n",
            "                                                                 \n",
            " dropout_2 (Dropout)         (None, 1028)              0         \n",
            "                                                                 \n",
            " Classifier (Dense)          (None, 512)               526848    \n",
            "                                                                 \n",
            " dropout_3 (Dropout)         (None, 512)               0         \n",
            "                                                                 \n",
            " output_layer (Dense)        (None, 8)                 4104      \n",
            "                                                                 \n",
            "=================================================================\n",
            "Total params: 24,440,108\n",
            "Trainable params: 2,637,324\n",
            "Non-trainable params: 21,802,784\n",
            "_________________________________________________________________\n"
          ]
        }
      ]
    },
    {
      "cell_type": "code",
      "source": [
        "callbacks = create_folders_and_callbacks(model_name='CNN_XCeption')\n",
        "\n",
        "# Train the model\n",
        "history = inceptionV3.fit(\n",
        "    x = train_gen,\n",
        "    epochs = epochs,\n",
        "    validation_data = valid_gen,\n",
        "    class_weight = {0: 3542/186, 1: 3542/532, 2: 3542/515, 3: 3542/511, 4: 3542/531, \n",
        "                    5: 3542/222, 6: 3542/537, 7: 3542/508},\n",
        "    callbacks = callbacks,\n",
        ").history"
      ],
      "metadata": {
        "colab": {
          "base_uri": "https://localhost:8080/"
        },
        "id": "ufqfbakvRyto",
        "outputId": "c3755eb1-0e9b-436a-c285-42236ddb8a1c"
      },
      "execution_count": null,
      "outputs": [
        {
          "output_type": "stream",
          "name": "stdout",
          "text": [
            "Epoch 1/200\n",
            "89/89 [==============================] - 38s 373ms/step - loss: 18.4904 - accuracy: 0.1668 - val_loss: 1.8235 - val_accuracy: 0.3513\n",
            "Epoch 2/200\n",
            "89/89 [==============================] - 30s 341ms/step - loss: 16.1028 - accuracy: 0.2574 - val_loss: 1.7706 - val_accuracy: 0.3456\n",
            "Epoch 3/200\n",
            "89/89 [==============================] - 28s 315ms/step - loss: 15.0425 - accuracy: 0.3032 - val_loss: 1.6819 - val_accuracy: 0.3697\n",
            "Epoch 4/200\n",
            "89/89 [==============================] - 29s 322ms/step - loss: 14.6979 - accuracy: 0.3029 - val_loss: 1.5911 - val_accuracy: 0.4391\n",
            "Epoch 5/200\n",
            "89/89 [==============================] - 28s 311ms/step - loss: 14.3209 - accuracy: 0.3170 - val_loss: 1.5698 - val_accuracy: 0.4207\n",
            "Epoch 6/200\n",
            "89/89 [==============================] - 28s 322ms/step - loss: 14.2124 - accuracy: 0.3410 - val_loss: 1.5835 - val_accuracy: 0.4136\n",
            "Epoch 7/200\n",
            "89/89 [==============================] - 28s 319ms/step - loss: 14.1402 - accuracy: 0.3325 - val_loss: 1.5390 - val_accuracy: 0.4348\n",
            "Epoch 8/200\n",
            "89/89 [==============================] - 29s 326ms/step - loss: 13.8344 - accuracy: 0.3519 - val_loss: 1.5244 - val_accuracy: 0.4490\n",
            "Epoch 9/200\n",
            "89/89 [==============================] - 28s 320ms/step - loss: 13.7337 - accuracy: 0.3583 - val_loss: 1.5340 - val_accuracy: 0.4533\n",
            "Epoch 10/200\n",
            "89/89 [==============================] - 27s 309ms/step - loss: 13.8720 - accuracy: 0.3470 - val_loss: 1.5132 - val_accuracy: 0.4533\n",
            "Epoch 11/200\n",
            "89/89 [==============================] - 28s 321ms/step - loss: 13.5469 - accuracy: 0.3805 - val_loss: 1.5188 - val_accuracy: 0.4618\n",
            "Epoch 12/200\n",
            "89/89 [==============================] - 27s 303ms/step - loss: 13.6718 - accuracy: 0.3650 - val_loss: 1.4912 - val_accuracy: 0.4547\n",
            "Epoch 13/200\n",
            "89/89 [==============================] - 28s 321ms/step - loss: 13.4276 - accuracy: 0.3755 - val_loss: 1.4807 - val_accuracy: 0.4433\n",
            "Epoch 14/200\n",
            "89/89 [==============================] - 28s 313ms/step - loss: 13.1145 - accuracy: 0.3865 - val_loss: 1.4800 - val_accuracy: 0.4603\n",
            "Epoch 15/200\n",
            "89/89 [==============================] - 28s 319ms/step - loss: 13.3334 - accuracy: 0.3646 - val_loss: 1.4573 - val_accuracy: 0.4688\n",
            "Epoch 16/200\n",
            "89/89 [==============================] - 28s 320ms/step - loss: 13.1392 - accuracy: 0.3889 - val_loss: 1.4402 - val_accuracy: 0.4731\n",
            "Epoch 17/200\n",
            "89/89 [==============================] - 28s 311ms/step - loss: 12.9969 - accuracy: 0.3879 - val_loss: 1.4692 - val_accuracy: 0.4688\n",
            "Epoch 18/200\n",
            "89/89 [==============================] - 29s 323ms/step - loss: 13.0794 - accuracy: 0.3791 - val_loss: 1.4429 - val_accuracy: 0.4731\n",
            "Epoch 19/200\n",
            "89/89 [==============================] - 27s 303ms/step - loss: 13.0062 - accuracy: 0.3960 - val_loss: 1.4643 - val_accuracy: 0.4518\n",
            "Epoch 20/200\n",
            "89/89 [==============================] - 27s 305ms/step - loss: 13.1146 - accuracy: 0.3872 - val_loss: 1.4519 - val_accuracy: 0.4816\n",
            "Epoch 21/200\n",
            "89/89 [==============================] - 28s 313ms/step - loss: 12.8513 - accuracy: 0.3917 - val_loss: 1.4328 - val_accuracy: 0.4773\n",
            "Epoch 22/200\n",
            "89/89 [==============================] - 28s 320ms/step - loss: 12.8598 - accuracy: 0.3879 - val_loss: 1.4564 - val_accuracy: 0.4575\n",
            "Epoch 23/200\n",
            "89/89 [==============================] - 28s 313ms/step - loss: 13.0830 - accuracy: 0.3858 - val_loss: 1.4600 - val_accuracy: 0.4788\n",
            "Epoch 24/200\n",
            "89/89 [==============================] - 28s 320ms/step - loss: 13.1292 - accuracy: 0.3882 - val_loss: 1.4253 - val_accuracy: 0.4844\n",
            "Epoch 25/200\n",
            "89/89 [==============================] - 27s 310ms/step - loss: 12.9442 - accuracy: 0.3854 - val_loss: 1.4235 - val_accuracy: 0.4986\n",
            "Epoch 26/200\n",
            "89/89 [==============================] - 28s 317ms/step - loss: 12.7755 - accuracy: 0.3956 - val_loss: 1.4091 - val_accuracy: 0.4958\n",
            "Epoch 27/200\n",
            "89/89 [==============================] - 27s 304ms/step - loss: 12.9746 - accuracy: 0.3939 - val_loss: 1.4054 - val_accuracy: 0.4986\n"
          ]
        }
      ]
    },
    {
      "cell_type": "code",
      "source": [
        "# Save best epoch model\n",
        "inceptionV3.save(\"savedModels/CNN_inceptionV3\")"
      ],
      "metadata": {
        "id": "VNLPrhgqSWxc"
      },
      "execution_count": null,
      "outputs": []
    },
    {
      "cell_type": "code",
      "source": [
        "testModel(valid_gen, inceptionV3)"
      ],
      "metadata": {
        "id": "gjL2vBtzSeK0"
      },
      "execution_count": null,
      "outputs": []
    },
    {
      "cell_type": "code",
      "source": [
        "iv3 = tfk.models.load_model(\"savedModels/CNN_inceptionV3\")\n",
        "iv3.summary()"
      ],
      "metadata": {
        "id": "8KdBAANvSnCz"
      },
      "execution_count": null,
      "outputs": []
    },
    {
      "cell_type": "code",
      "source": [
        "iv3.get_layer('inception_v3').trainable = True\n"
      ],
      "metadata": {
        "id": "xamD1kcNSutj"
      },
      "execution_count": null,
      "outputs": []
    },
    {
      "cell_type": "code",
      "source": [
        "iv3.compile(loss=tfk.losses.CategoricalCrossentropy(), optimizer=tfk.optimizers.Adam(1e-4), metrics='accuracy')\n",
        "iv3.summary()"
      ],
      "metadata": {
        "id": "NCIL_m94S_W1"
      },
      "execution_count": null,
      "outputs": []
    },
    {
      "cell_type": "code",
      "source": [
        "callbacks = create_folders_and_callbacks(model_name='CNN_inceptionV3_FineTuning')\n",
        "\n",
        "# Train the model\n",
        "history = iv3.fit(\n",
        "    x = train_gen,\n",
        "    epochs = epochs,\n",
        "    validation_data = valid_gen,\n",
        "    class_weight = {0: 3542/186, 1: 3542/532, 2: 3542/515, 3: 3542/511, 4: 3542/531, \n",
        "                    5: 3542/222, 6: 3542/537, 7: 3542/508},\n",
        "    callbacks = callbacks,\n",
        ").history"
      ],
      "metadata": {
        "id": "7x8w4tuATHxa"
      },
      "execution_count": null,
      "outputs": []
    },
    {
      "cell_type": "code",
      "source": [
        "iv3.save(\"savedModels/CNN_inceptionV3_FineTuning\")"
      ],
      "metadata": {
        "id": "U3m_7M_UTQKJ"
      },
      "execution_count": null,
      "outputs": []
    },
    {
      "cell_type": "code",
      "source": [
        "testModel(valid_gen, iv3)"
      ],
      "metadata": {
        "id": "6-TZn46STUzG"
      },
      "execution_count": null,
      "outputs": []
    }
  ]
}