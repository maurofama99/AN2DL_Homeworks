{
  "cells": [
    {
      "cell_type": "markdown",
      "metadata": {
        "id": "BoQhbCMfRl_X"
      },
      "source": [
        "# Prima prova, primo allenamento"
      ]
    },
    {
      "cell_type": "markdown",
      "metadata": {
        "id": "WFiELE4oR7Dz"
      },
      "source": [
        "Obbiettivi:\n",
        "\n",
        "\n",
        "*   Transfer learning\n",
        "*   data augmentation\n",
        "*   Split del dataset\n",
        "*   Allenamento della rete con early stopping\n",
        "*   Confusion matrix sul validation dataset"
      ]
    },
    {
      "cell_type": "code",
      "execution_count": null,
      "metadata": {
        "colab": {
          "base_uri": "https://localhost:8080/"
        },
        "id": "a4mSIJP0pIYU",
        "outputId": "574e4ec1-c5a6-4c2c-f23a-43ffef2c972c"
      },
      "outputs": [
        {
          "output_type": "stream",
          "name": "stdout",
          "text": [
            "Looking in indexes: https://pypi.org/simple, https://us-python.pkg.dev/colab-wheels/public/simple/\n",
            "Collecting alexnet_pytorch\n",
            "  Downloading alexnet_pytorch-0.2.0-py2.py3-none-any.whl (13 kB)\n",
            "Requirement already satisfied: torch in /usr/local/lib/python3.7/dist-packages (from alexnet_pytorch) (1.12.1+cu113)\n",
            "Requirement already satisfied: typing-extensions in /usr/local/lib/python3.7/dist-packages (from torch->alexnet_pytorch) (4.1.1)\n",
            "Installing collected packages: alexnet-pytorch\n",
            "Successfully installed alexnet-pytorch-0.2.0\n"
          ]
        }
      ],
      "source": [
        "import tensorflow as tf\n",
        "import numpy as np\n",
        "import os\n",
        "import random\n",
        "import pandas as pd\n",
        "import seaborn as sns\n",
        "import matplotlib as mpl\n",
        "import matplotlib.pyplot as plt\n",
        "from sklearn.model_selection import train_test_split\n",
        "from sklearn.metrics import accuracy_score, f1_score, precision_score, recall_score\n",
        "from sklearn.metrics import confusion_matrix\n",
        "import cv2\n",
        "\n",
        "import os\n",
        "import time \n",
        "from PIL import Image\n",
        "\n",
        "import torch\n",
        "import torchvision\n",
        "import torch.nn as nn\n",
        "import torch.nn.functional as F\n",
        "from torchvision.transforms import ToTensor\n",
        "from torchvision.utils import make_grid\n",
        "from torch.utils.data.dataloader import DataLoader\n",
        "from torch.utils.data import random_split\n",
        "\n",
        "from keras.layers import Dense, Activation, Dropout, Flatten, Conv2D, MaxPooling2D\n",
        "#from keras.layers.normalization import BatchNormalization\n",
        "from keras.models import Sequential\n",
        "\n",
        "!pip install alexnet_pytorch"
      ]
    },
    {
      "cell_type": "code",
      "execution_count": null,
      "metadata": {
        "colab": {
          "base_uri": "https://localhost:8080/"
        },
        "id": "N_WfHVI4RYf6",
        "outputId": "115702a7-06ea-411e-f541-324affae6636"
      },
      "outputs": [
        {
          "output_type": "stream",
          "name": "stdout",
          "text": [
            "2.9.2\n",
            "Looking in indexes: https://pypi.org/simple, https://us-python.pkg.dev/colab-wheels/public/simple/\n",
            "Collecting visualkeras\n",
            "  Downloading visualkeras-0.0.2-py3-none-any.whl (12 kB)\n",
            "Requirement already satisfied: numpy>=1.18.1 in /usr/local/lib/python3.7/dist-packages (from visualkeras) (1.21.6)\n",
            "Collecting aggdraw>=1.3.11\n",
            "  Downloading aggdraw-1.3.15-cp37-cp37m-manylinux_2_17_x86_64.manylinux2014_x86_64.whl (989 kB)\n",
            "\u001b[K     |████████████████████████████████| 989 kB 15.3 MB/s \n",
            "\u001b[?25hRequirement already satisfied: pillow>=6.2.0 in /usr/local/lib/python3.7/dist-packages (from visualkeras) (7.1.2)\n",
            "Installing collected packages: aggdraw, visualkeras\n",
            "Successfully installed aggdraw-1.3.15 visualkeras-0.0.2\n"
          ]
        }
      ],
      "source": [
        "tfk = tf.keras\n",
        "tfkl = tf.keras.layers\n",
        "print(tf.__version__)\n",
        "\n",
        "\n",
        "# Download and import visualkeras library\n",
        "!pip install visualkeras\n",
        "import visualkeras\n",
        "\n",
        "# Random seed for reproducibility\n",
        "seed = 42\n",
        "\n",
        "random.seed(seed)\n",
        "os.environ['PYTHONHASHSEED'] = str(seed)\n",
        "np.random.seed(seed)\n",
        "tf.random.set_seed(seed)\n",
        "tf.compat.v1.set_random_seed(seed)"
      ]
    },
    {
      "cell_type": "markdown",
      "metadata": {
        "id": "9EpvUcBFWKlp"
      },
      "source": [
        "# Scelta modello e Fine Tuning"
      ]
    },
    {
      "cell_type": "markdown",
      "metadata": {
        "id": "BQTTp2oD-aT8"
      },
      "source": [
        "Let's import the feature extraction network of the VGG16 model, adding the new classifier layers with an output layer of 8 neurons (as many as the number of classes in the dataset)"
      ]
    },
    {
      "cell_type": "code",
      "execution_count": null,
      "metadata": {
        "id": "sW_0qaxiWSbg",
        "colab": {
          "base_uri": "https://localhost:8080/"
        },
        "outputId": "fc0b4466-3dd4-49d5-be4f-e65dbc3ec7fd"
      },
      "outputs": [
        {
          "output_type": "stream",
          "name": "stdout",
          "text": [
            "Downloading data from https://storage.googleapis.com/tensorflow/keras-applications/vgg16/vgg16_weights_tf_dim_ordering_tf_kernels_notop.h5\n",
            "58889256/58889256 [==============================] - 2s 0us/step\n"
          ]
        }
      ],
      "source": [
        "# example of tending the vgg16 model\n",
        "from keras.applications.vgg16 import VGG16\n",
        "\n",
        "inputshape = [96, 96, 3]\n",
        "vgg16 = VGG16(include_top=False, input_shape=inputshape)\n",
        "for layer in vgg16.layers:\n",
        "\tlayer.trainable = True"
      ]
    },
    {
      "cell_type": "code",
      "execution_count": null,
      "metadata": {
        "id": "HLv_XcD3EaaS"
      },
      "outputs": [],
      "source": [
        "def effnet():\n",
        "  effnet = tf.keras.applications.EfficientNetB0(\n",
        "      include_top=True,\n",
        "      weights=\"imagenet\",\n",
        "      #input_shape=inputshape,\n",
        "      classes=1000,\n",
        "      classifier_activation=\"softmax\"\n",
        "  )\n",
        "\n"
      ]
    },
    {
      "cell_type": "code",
      "execution_count": null,
      "metadata": {
        "id": "Cn2J030Cgkpa"
      },
      "outputs": [],
      "source": [
        "def create_model(input_shape, convnet):\n",
        "  # mark loaded layers as not trainable\n",
        "\n",
        "  dropout_rate = 0.2\n",
        "    \n",
        "    # Da provare: flatten, dropout, dense (relu), dropout, dense (softmax)\n",
        "\n",
        "    # Build the model\n",
        "  input_layer = convnet.layers[0].input\n",
        "  flat1 = Flatten()(convnet.layers[-1].output)\n",
        "  flat1 = tfkl.Dropout(dropout_rate, seed=seed)(flat1)\n",
        "  hidden_layer1 = tfkl.Dense(units=1024, activation='relu', name='Hidden1', \n",
        "                                kernel_initializer=tfk.initializers.HeUniform(seed=seed))(flat1)\n",
        "  hidden_layer1 = tfkl.Dropout(dropout_rate, seed=seed)(hidden_layer1)\n",
        "  output = tfkl.Dense(units=8, activation='softmax', name='Dropout', \n",
        "                                kernel_initializer=tfk.initializers.HeUniform(seed=seed))(hidden_layer1)\n",
        "    # Connect input and output through the Model class\n",
        "  model = tfk.Model(inputs=input_layer, outputs=output, name='model')\n",
        "\n",
        "    # Compile the model\n",
        "  learning_rate = 1e-5\n",
        "  opt = tfk.optimizers.Adam(learning_rate)\n",
        "  model.compile(loss=tfk.losses.CategoricalCrossentropy(), optimizer=opt, metrics='accuracy')\n",
        "\n",
        "    # Return the model\n",
        "  return model"
      ]
    },
    {
      "cell_type": "code",
      "execution_count": null,
      "metadata": {
        "colab": {
          "base_uri": "https://localhost:8080/",
          "height": 1000
        },
        "id": "ieOFPUQ91xph",
        "outputId": "1c27f2b1-0740-4643-a4cd-1eadcda56476"
      },
      "outputs": [
        {
          "output_type": "stream",
          "name": "stdout",
          "text": [
            "Model: \"model\"\n",
            "_________________________________________________________________\n",
            " Layer (type)                Output Shape              Param #   \n",
            "=================================================================\n",
            " input_1 (InputLayer)        [(None, 96, 96, 3)]       0         \n",
            "                                                                 \n",
            " block1_conv1 (Conv2D)       (None, 96, 96, 64)        1792      \n",
            "                                                                 \n",
            " block1_conv2 (Conv2D)       (None, 96, 96, 64)        36928     \n",
            "                                                                 \n",
            " block1_pool (MaxPooling2D)  (None, 48, 48, 64)        0         \n",
            "                                                                 \n",
            " block2_conv1 (Conv2D)       (None, 48, 48, 128)       73856     \n",
            "                                                                 \n",
            " block2_conv2 (Conv2D)       (None, 48, 48, 128)       147584    \n",
            "                                                                 \n",
            " block2_pool (MaxPooling2D)  (None, 24, 24, 128)       0         \n",
            "                                                                 \n",
            " block3_conv1 (Conv2D)       (None, 24, 24, 256)       295168    \n",
            "                                                                 \n",
            " block3_conv2 (Conv2D)       (None, 24, 24, 256)       590080    \n",
            "                                                                 \n",
            " block3_conv3 (Conv2D)       (None, 24, 24, 256)       590080    \n",
            "                                                                 \n",
            " block3_pool (MaxPooling2D)  (None, 12, 12, 256)       0         \n",
            "                                                                 \n",
            " block4_conv1 (Conv2D)       (None, 12, 12, 512)       1180160   \n",
            "                                                                 \n",
            " block4_conv2 (Conv2D)       (None, 12, 12, 512)       2359808   \n",
            "                                                                 \n",
            " block4_conv3 (Conv2D)       (None, 12, 12, 512)       2359808   \n",
            "                                                                 \n",
            " block4_pool (MaxPooling2D)  (None, 6, 6, 512)         0         \n",
            "                                                                 \n",
            " block5_conv1 (Conv2D)       (None, 6, 6, 512)         2359808   \n",
            "                                                                 \n",
            " block5_conv2 (Conv2D)       (None, 6, 6, 512)         2359808   \n",
            "                                                                 \n",
            " block5_conv3 (Conv2D)       (None, 6, 6, 512)         2359808   \n",
            "                                                                 \n",
            " block5_pool (MaxPooling2D)  (None, 3, 3, 512)         0         \n",
            "                                                                 \n",
            " flatten (Flatten)           (None, 4608)              0         \n",
            "                                                                 \n",
            " dropout (Dropout)           (None, 4608)              0         \n",
            "                                                                 \n",
            " Hidden1 (Dense)             (None, 1024)              4719616   \n",
            "                                                                 \n",
            " dropout_1 (Dropout)         (None, 1024)              0         \n",
            "                                                                 \n",
            " Dropout (Dense)             (None, 8)                 8200      \n",
            "                                                                 \n",
            "=================================================================\n",
            "Total params: 19,442,504\n",
            "Trainable params: 19,442,504\n",
            "Non-trainable params: 0\n",
            "_________________________________________________________________\n"
          ]
        },
        {
          "output_type": "execute_result",
          "data": {
            "image/png": "[encoded data removed]",
            "text/plain": [
              "<IPython.core.display.Image object>"
            ]
          },
          "metadata": {},
          "execution_count": 6
        }
      ],
      "source": [
        "# summarize\n",
        "\n",
        "model = create_model(input_shape = inputshape, convnet = vgg16)\n",
        "model.summary()\n",
        "\n",
        "tfk.utils.plot_model(model)"
      ]
    },
    {
      "cell_type": "markdown",
      "metadata": {
        "id": "0TXy3VA6EaXp"
      },
      "source": [
        "#  Splitting the dataset"
      ]
    },
    {
      "cell_type": "markdown",
      "metadata": {
        "id": "nPEW6Iv2EhyB"
      },
      "source": [
        "Before splitting the dataset let's analyze it"
      ]
    },
    {
      "cell_type": "code",
      "execution_count": null,
      "metadata": {
        "colab": {
          "base_uri": "https://localhost:8080/"
        },
        "id": "5J04aA5bItfM",
        "outputId": "ac1a65d2-658d-42b8-fd4d-df8d0a21e650"
      },
      "outputs": [
        {
          "output_type": "stream",
          "name": "stdout",
          "text": [
            "Mounted at /gdrive\n",
            "/gdrive/My Drive\n"
          ]
        }
      ],
      "source": [
        "from google.colab import drive\n",
        "drive.mount('/gdrive')\n",
        "%cd /gdrive/My Drive"
      ]
    },
    {
      "cell_type": "code",
      "execution_count": null,
      "metadata": {
        "id": "9jGEVP-LEZXy"
      },
      "outputs": [],
      "source": [
        "data_dir=\"training_data_final\"\n",
        "batch_size = 16\n",
        "img_height = 96\n",
        "img_width = 96"
      ]
    },
    {
      "cell_type": "code",
      "execution_count": null,
      "metadata": {
        "id": "aTPckr3CnCDa"
      },
      "outputs": [],
      "source": [
        "def add_noise(img):\n",
        "    '''Add random noise to an image'''\n",
        "    VARIABILITY = 70\n",
        "    deviation = VARIABILITY*random.random()\n",
        "    noise = np.random.normal(0, deviation, img.shape)\n",
        "    img += noise\n",
        "    np.clip(img, 0., 255.)\n",
        "    return img\n",
        "\n",
        "def change_color(image):\n",
        "    image = np.array(image)\n",
        "    hsv_image = cv2.cvtColor(image,cv2.COLOR_RGB2HSV)\n",
        "    return hsv_image\n",
        "\n",
        "def preprocessing(image):\n",
        "    CP1 = 0.3\n",
        "    CP2 = 0.6\n",
        "    n = random.random()\n",
        "    if n<=CP1: \n",
        "        return change_color(image)\n",
        "    elif n>CP1 and n<=CP2:\n",
        "        return add_noise(image)\n",
        "    return image"
      ]
    },
    {
      "cell_type": "code",
      "execution_count": null,
      "metadata": {
        "colab": {
          "base_uri": "https://localhost:8080/"
        },
        "id": "ysi0_HGP0jMC",
        "outputId": "ecd53275-43fc-414f-9005-a46a08a53ee8"
      },
      "outputs": [
        {
          "output_type": "stream",
          "name": "stdout",
          "text": [
            "Found 2836 images belonging to 8 classes.\n",
            "Found 706 images belonging to 8 classes.\n"
          ]
        }
      ],
      "source": [
        "training_dir = data_dir\n",
        "from keras_preprocessing.image import ImageDataGenerator\n",
        "data_gen = ImageDataGenerator(rescale=1/255, validation_split=0.2)\n",
        "aug_train_data_gen = ImageDataGenerator(rotation_range=30, \n",
        "                                        height_shift_range=50, \n",
        "                                        width_shift_range=50, \n",
        "                                        zoom_range=0.3, \n",
        "                                        horizontal_flip=True, \n",
        "                                        vertical_flip=True,  \n",
        "                                        fill_mode='reflect',\n",
        "                                        #preprocessing_function=preprocessing,\n",
        "                                        rescale=1/255, \n",
        "                                        validation_split=0.2)\n",
        "train_gen = aug_train_data_gen.flow_from_directory(directory=training_dir,\n",
        "                                               target_size=(96,96),\n",
        "                                               color_mode='rgb',\n",
        "                                               classes=None, # can be set to labels\n",
        "                                               class_mode='categorical',\n",
        "                                               batch_size=64,\n",
        "                                               shuffle=True,\n",
        "                                               seed=seed,\n",
        "                                               subset=\"training\")\n",
        "\n",
        "valid_gen = data_gen.flow_from_directory(directory=training_dir,\n",
        "                                               target_size=(96,96),\n",
        "                                               color_mode='rgb',\n",
        "                                               #classes=labels, # can be set to labels\n",
        "                                               class_mode='categorical',\n",
        "                                               batch_size=1,\n",
        "                                               shuffle=True,\n",
        "                                               seed=seed,\n",
        "                                               subset=\"validation\")\n",
        "\n"
      ]
    },
    {
      "cell_type": "code",
      "execution_count": null,
      "metadata": {
        "colab": {
          "base_uri": "https://localhost:8080/"
        },
        "id": "5LwF7nCFcbm-",
        "outputId": "57581aac-c648-4422-ff83-063e982666a0"
      },
      "outputs": [
        {
          "output_type": "stream",
          "name": "stdout",
          "text": [
            "[149, 426, 412, 409, 425, 178, 430, 407]\n",
            "2836\n",
            "[19  6  6  6  6 15  6  6]\n"
          ]
        }
      ],
      "source": [
        "countclass=[0,0,0,0,0,0,0,0]\n",
        "for i in train_gen.classes:\n",
        "  countclass[i] = countclass[i] + 1;\n",
        "\n",
        "print(countclass)\n",
        "\n",
        "tot = len(train_gen.classes)\n",
        "\n",
        "print(tot)\n",
        "\n",
        "weights = np.zeros(8, dtype=float)\n",
        "for x in range(8):\n",
        "  weights[x] = tot/countclass[x]\n",
        "\n",
        "weights = weights.astype(int)\n",
        "\n",
        "print(weights)"
      ]
    },
    {
      "cell_type": "code",
      "execution_count": null,
      "metadata": {
        "id": "r1UR4cZkgaF3"
      },
      "outputs": [],
      "source": [
        "from datetime import datetime\n",
        "\n",
        "def create_folders_and_callbacks(model_name):\n",
        "\n",
        "  exps_dir = os.path.join('data_augmentation_experiments')\n",
        "  if not os.path.exists(exps_dir):\n",
        "      os.makedirs(exps_dir)\n",
        "\n",
        "  now = datetime.now().strftime('%b%d_%H-%M-%S')\n",
        "\n",
        "  exp_dir = os.path.join(exps_dir, model_name + '_' + str(now))\n",
        "  if not os.path.exists(exp_dir):\n",
        "      os.makedirs(exp_dir)\n",
        "      \n",
        "  callbacks = []\n",
        "\n",
        "  # Model checkpoint\n",
        "  # ----------------\n",
        "  ckpt_dir = os.path.join(exp_dir, 'ckpts')\n",
        "  if not os.path.exists(ckpt_dir):\n",
        "      os.makedirs(ckpt_dir)\n",
        "\n",
        "  ckpt_callback = tf.keras.callbacks.ModelCheckpoint(filepath=os.path.join(ckpt_dir, 'cp.ckpt'), \n",
        "                                                     save_weights_only=False, # True to save only weights\n",
        "                                                     save_best_only=False) # True to save only the best epoch \n",
        "  callbacks.append(ckpt_callback)\n",
        "\n",
        "  # Visualize Learning on Tensorboard\n",
        "  # ---------------------------------\n",
        "  tb_dir = os.path.join(exp_dir, 'tb_logs')\n",
        "  if not os.path.exists(tb_dir):\n",
        "      os.makedirs(tb_dir)\n",
        "      \n",
        "  # By default shows losses and metrics for both training and validation\n",
        "  tb_callback = tf.keras.callbacks.TensorBoard(log_dir=tb_dir, \n",
        "                                               profile_batch=0,\n",
        "                                               histogram_freq=1)  # if > 0 (epochs) shows weights histograms\n",
        "  callbacks.append(tb_callback)\n",
        "\n",
        "  # Early Stopping\n",
        "  # --------------\n",
        "  es_callback = tf.keras.callbacks.EarlyStopping(monitor='val_loss', patience=10, restore_best_weights=True)\n",
        "  callbacks.append(es_callback)\n",
        "\n",
        "  return callbacks"
      ]
    },
    {
      "cell_type": "code",
      "execution_count": null,
      "metadata": {
        "colab": {
          "base_uri": "https://localhost:8080/"
        },
        "id": "fV1nqUTVoMsQ",
        "outputId": "2d5e0951-248b-43a2-865d-b710e4167eb2"
      },
      "outputs": [
        {
          "output_type": "stream",
          "name": "stdout",
          "text": [
            "Epoch 1/200\n",
            "45/45 [==============================] - ETA: 0s - loss: 3.2482 - accuracy: 0.8283"
          ]
        },
        {
          "output_type": "stream",
          "name": "stderr",
          "text": [
            "WARNING:absl:Found untraced functions such as _jit_compiled_convolution_op, _jit_compiled_convolution_op, _jit_compiled_convolution_op, _jit_compiled_convolution_op, _jit_compiled_convolution_op while saving (showing 5 of 13). These functions will not be directly callable after loading.\n"
          ]
        },
        {
          "output_type": "stream",
          "name": "stdout",
          "text": [
            "\b\b\b\b\b\b\b\b\b\b\b\b\b\b\b\b\b\b\b\b\b\b\b\b\b\b\b\b\b\b\b\b\b\b\b\b\b\b\b\b\b\b\b\b\b\b\b\b\b\b\b\b\b\b\b\b\b\b\b\b\b\b\b\b\b\b\b\b\b\b\b\b\b\b\b\b\b\b\b\b\b\b\r45/45 [==============================] - 24s 543ms/step - loss: 3.2482 - accuracy: 0.8283 - val_loss: 0.4702 - val_accuracy: 0.8300\n",
            "Epoch 2/200\n",
            "45/45 [==============================] - ETA: 0s - loss: 3.3853 - accuracy: 0.8336"
          ]
        },
        {
          "output_type": "stream",
          "name": "stderr",
          "text": [
            "WARNING:absl:Found untraced functions such as _jit_compiled_convolution_op, _jit_compiled_convolution_op, _jit_compiled_convolution_op, _jit_compiled_convolution_op, _jit_compiled_convolution_op while saving (showing 5 of 13). These functions will not be directly callable after loading.\n"
          ]
        },
        {
          "output_type": "stream",
          "name": "stdout",
          "text": [
            "\b\b\b\b\b\b\b\b\b\b\b\b\b\b\b\b\b\b\b\b\b\b\b\b\b\b\b\b\b\b\b\b\b\b\b\b\b\b\b\b\b\b\b\b\b\b\b\b\b\b\b\b\b\b\b\b\b\b\b\b\b\b\b\b\b\b\b\b\b\b\b\b\b\b\b\b\b\b\b\b\b\b\r45/45 [==============================] - 24s 533ms/step - loss: 3.3853 - accuracy: 0.8336 - val_loss: 0.4947 - val_accuracy: 0.8258\n",
            "Epoch 3/200\n",
            "45/45 [==============================] - ETA: 0s - loss: 3.2811 - accuracy: 0.8360"
          ]
        },
        {
          "output_type": "stream",
          "name": "stderr",
          "text": [
            "WARNING:absl:Found untraced functions such as _jit_compiled_convolution_op, _jit_compiled_convolution_op, _jit_compiled_convolution_op, _jit_compiled_convolution_op, _jit_compiled_convolution_op while saving (showing 5 of 13). These functions will not be directly callable after loading.\n"
          ]
        },
        {
          "output_type": "stream",
          "name": "stdout",
          "text": [
            "\b\b\b\b\b\b\b\b\b\b\b\b\b\b\b\b\b\b\b\b\b\b\b\b\b\b\b\b\b\b\b\b\b\b\b\b\b\b\b\b\b\b\b\b\b\b\b\b\b\b\b\b\b\b\b\b\b\b\b\b\b\b\b\b\b\b\b\b\b\b\b\b\b\b\b\b\b\b\b\b\b\b\r45/45 [==============================] - 24s 544ms/step - loss: 3.2811 - accuracy: 0.8360 - val_loss: 0.5446 - val_accuracy: 0.8102\n",
            "Epoch 4/200\n",
            "45/45 [==============================] - ETA: 0s - loss: 3.0814 - accuracy: 0.8452"
          ]
        },
        {
          "output_type": "stream",
          "name": "stderr",
          "text": [
            "WARNING:absl:Found untraced functions such as _jit_compiled_convolution_op, _jit_compiled_convolution_op, _jit_compiled_convolution_op, _jit_compiled_convolution_op, _jit_compiled_convolution_op while saving (showing 5 of 13). These functions will not be directly callable after loading.\n"
          ]
        },
        {
          "output_type": "stream",
          "name": "stdout",
          "text": [
            "\b\b\b\b\b\b\b\b\b\b\b\b\b\b\b\b\b\b\b\b\b\b\b\b\b\b\b\b\b\b\b\b\b\b\b\b\b\b\b\b\b\b\b\b\b\b\b\b\b\b\b\b\b\b\b\b\b\b\b\b\b\b\b\b\b\b\b\b\b\b\b\b\b\b\b\b\b\b\b\b\b\b\r45/45 [==============================] - 24s 532ms/step - loss: 3.0814 - accuracy: 0.8452 - val_loss: 0.5428 - val_accuracy: 0.8144\n",
            "Epoch 5/200\n",
            "45/45 [==============================] - ETA: 0s - loss: 3.1769 - accuracy: 0.8403"
          ]
        },
        {
          "output_type": "stream",
          "name": "stderr",
          "text": [
            "WARNING:absl:Found untraced functions such as _jit_compiled_convolution_op, _jit_compiled_convolution_op, _jit_compiled_convolution_op, _jit_compiled_convolution_op, _jit_compiled_convolution_op while saving (showing 5 of 13). These functions will not be directly callable after loading.\n"
          ]
        },
        {
          "output_type": "stream",
          "name": "stdout",
          "text": [
            "\b\b\b\b\b\b\b\b\b\b\b\b\b\b\b\b\b\b\b\b\b\b\b\b\b\b\b\b\b\b\b\b\b\b\b\b\b\b\b\b\b\b\b\b\b\b\b\b\b\b\b\b\b\b\b\b\b\b\b\b\b\b\b\b\b\b\b\b\b\b\b\b\b\b\b\b\b\b\b\b\b\b\r45/45 [==============================] - 24s 526ms/step - loss: 3.1769 - accuracy: 0.8403 - val_loss: 0.5260 - val_accuracy: 0.8159\n",
            "Epoch 6/200\n",
            "45/45 [==============================] - ETA: 0s - loss: 3.0905 - accuracy: 0.8413"
          ]
        },
        {
          "output_type": "stream",
          "name": "stderr",
          "text": [
            "WARNING:absl:Found untraced functions such as _jit_compiled_convolution_op, _jit_compiled_convolution_op, _jit_compiled_convolution_op, _jit_compiled_convolution_op, _jit_compiled_convolution_op while saving (showing 5 of 13). These functions will not be directly callable after loading.\n"
          ]
        },
        {
          "output_type": "stream",
          "name": "stdout",
          "text": [
            "\b\b\b\b\b\b\b\b\b\b\b\b\b\b\b\b\b\b\b\b\b\b\b\b\b\b\b\b\b\b\b\b\b\b\b\b\b\b\b\b\b\b\b\b\b\b\b\b\b\b\b\b\b\b\b\b\b\b\b\b\b\b\b\b\b\b\b\b\b\b\b\b\b\b\b\b\b\b\b\b\b\b\r45/45 [==============================] - 26s 576ms/step - loss: 3.0905 - accuracy: 0.8413 - val_loss: 0.4622 - val_accuracy: 0.8414\n",
            "Epoch 7/200\n",
            "45/45 [==============================] - ETA: 0s - loss: 2.9654 - accuracy: 0.8477"
          ]
        },
        {
          "output_type": "stream",
          "name": "stderr",
          "text": [
            "WARNING:absl:Found untraced functions such as _jit_compiled_convolution_op, _jit_compiled_convolution_op, _jit_compiled_convolution_op, _jit_compiled_convolution_op, _jit_compiled_convolution_op while saving (showing 5 of 13). These functions will not be directly callable after loading.\n"
          ]
        },
        {
          "output_type": "stream",
          "name": "stdout",
          "text": [
            "\b\b\b\b\b\b\b\b\b\b\b\b\b\b\b\b\b\b\b\b\b\b\b\b\b\b\b\b\b\b\b\b\b\b\b\b\b\b\b\b\b\b\b\b\b\b\b\b\b\b\b\b\b\b\b\b\b\b\b\b\b\b\b\b\b\b\b\b\b\b\b\b\b\b\b\b\b\b\b\b\b\b\r45/45 [==============================] - 25s 554ms/step - loss: 2.9654 - accuracy: 0.8477 - val_loss: 0.4690 - val_accuracy: 0.8456\n",
            "Epoch 8/200\n",
            "45/45 [==============================] - ETA: 0s - loss: 2.8652 - accuracy: 0.8561"
          ]
        },
        {
          "output_type": "stream",
          "name": "stderr",
          "text": [
            "WARNING:absl:Found untraced functions such as _jit_compiled_convolution_op, _jit_compiled_convolution_op, _jit_compiled_convolution_op, _jit_compiled_convolution_op, _jit_compiled_convolution_op while saving (showing 5 of 13). These functions will not be directly callable after loading.\n"
          ]
        },
        {
          "output_type": "stream",
          "name": "stdout",
          "text": [
            "\b\b\b\b\b\b\b\b\b\b\b\b\b\b\b\b\b\b\b\b\b\b\b\b\b\b\b\b\b\b\b\b\b\b\b\b\b\b\b\b\b\b\b\b\b\b\b\b\b\b\b\b\b\b\b\b\b\b\b\b\b\b\b\b\b\b\b\b\b\b\b\b\b\b\b\b\b\b\b\b\b\b\r45/45 [==============================] - 24s 535ms/step - loss: 2.8652 - accuracy: 0.8561 - val_loss: 0.6711 - val_accuracy: 0.7720\n",
            "Epoch 9/200\n",
            "45/45 [==============================] - ETA: 0s - loss: 3.2556 - accuracy: 0.8353"
          ]
        },
        {
          "output_type": "stream",
          "name": "stderr",
          "text": [
            "WARNING:absl:Found untraced functions such as _jit_compiled_convolution_op, _jit_compiled_convolution_op, _jit_compiled_convolution_op, _jit_compiled_convolution_op, _jit_compiled_convolution_op while saving (showing 5 of 13). These functions will not be directly callable after loading.\n"
          ]
        },
        {
          "output_type": "stream",
          "name": "stdout",
          "text": [
            "\b\b\b\b\b\b\b\b\b\b\b\b\b\b\b\b\b\b\b\b\b\b\b\b\b\b\b\b\b\b\b\b\b\b\b\b\b\b\b\b\b\b\b\b\b\b\b\b\b\b\b\b\b\b\b\b\b\b\b\b\b\b\b\b\b\b\b\b\b\b\b\b\b\b\b\b\b\b\b\b\b\b\r45/45 [==============================] - 26s 586ms/step - loss: 3.2556 - accuracy: 0.8353 - val_loss: 0.4564 - val_accuracy: 0.8470\n"
          ]
        }
      ],
      "source": [
        "callbacks = create_folders_and_callbacks(model_name='CNN_W')\n",
        "\n",
        "patience = 150\n",
        "early_stopping = tfk.callbacks.EarlyStopping(monitor='val_mse', mode='min', patience=patience, restore_best_weights=True)\n",
        "\n",
        "# Train the model\n",
        "tl_history = model.fit(\n",
        "    train_gen,\n",
        "    epochs = 200,\n",
        "    validation_data = valid_gen,\n",
        "    class_weight = {0:19,  1:6,  2:6,  3:6,  4:6, 5:15,  6:6,  7:6},\n",
        "    callbacks=callbacks\n",
        ").history\n",
        "\n"
      ]
    },
    {
      "cell_type": "code",
      "source": [
        "from sklearn.metrics import confusion_matrix, classification_report\n",
        "#Confution Matrix and Classification Report\n",
        "Y_pred = tl_history.predict(valid_gen)\n",
        "y_pred = np.argmax(Y_pred, axis=1)"
      ],
      "metadata": {
        "colab": {
          "base_uri": "https://localhost:8080/",
          "height": 214
        },
        "id": "n8i6IHDX68rE",
        "outputId": "bca4581c-b440-4b42-bba6-6318ea7f96ec"
      },
      "execution_count": null,
      "outputs": [
        {
          "output_type": "error",
          "ename": "AttributeError",
          "evalue": "ignored",
          "traceback": [
            "\u001b[0;31m---------------------------------------------------------------------------\u001b[0m",
            "\u001b[0;31mAttributeError\u001b[0m                            Traceback (most recent call last)",
            "\u001b[0;32m<ipython-input-19-7c2871e54da8>\u001b[0m in \u001b[0;36m<module>\u001b[0;34m\u001b[0m\n\u001b[1;32m      1\u001b[0m \u001b[0;32mfrom\u001b[0m \u001b[0msklearn\u001b[0m\u001b[0;34m.\u001b[0m\u001b[0mmetrics\u001b[0m \u001b[0;32mimport\u001b[0m \u001b[0mconfusion_matrix\u001b[0m\u001b[0;34m,\u001b[0m \u001b[0mclassification_report\u001b[0m\u001b[0;34m\u001b[0m\u001b[0;34m\u001b[0m\u001b[0m\n\u001b[1;32m      2\u001b[0m \u001b[0;31m#Confution Matrix and Classification Report\u001b[0m\u001b[0;34m\u001b[0m\u001b[0;34m\u001b[0m\u001b[0;34m\u001b[0m\u001b[0m\n\u001b[0;32m----> 3\u001b[0;31m \u001b[0mY_pred\u001b[0m \u001b[0;34m=\u001b[0m \u001b[0mtl_history\u001b[0m\u001b[0;34m.\u001b[0m\u001b[0mpredict\u001b[0m\u001b[0;34m(\u001b[0m\u001b[0mvalid_gen\u001b[0m\u001b[0;34m)\u001b[0m\u001b[0;34m\u001b[0m\u001b[0;34m\u001b[0m\u001b[0m\n\u001b[0m\u001b[1;32m      4\u001b[0m \u001b[0my_pred\u001b[0m \u001b[0;34m=\u001b[0m \u001b[0mnp\u001b[0m\u001b[0;34m.\u001b[0m\u001b[0margmax\u001b[0m\u001b[0;34m(\u001b[0m\u001b[0mY_pred\u001b[0m\u001b[0;34m,\u001b[0m \u001b[0maxis\u001b[0m\u001b[0;34m=\u001b[0m\u001b[0;36m1\u001b[0m\u001b[0;34m)\u001b[0m\u001b[0;34m\u001b[0m\u001b[0;34m\u001b[0m\u001b[0m\n",
            "\u001b[0;31mAttributeError\u001b[0m: 'dict' object has no attribute 'predict'"
          ]
        }
      ]
    },
    {
      "cell_type": "code",
      "source": [
        "print('Confusion Matrix')\n",
        "print(confusion_matrix(valid_gen.classes, y_pred))\n",
        "print('Classification Report')\n",
        "target_names = ['1', '2', '3', '4', '5', '6', '7', '8']\n",
        "print(classification_report(valid_gen.classes, y_pred, target_names=target_names))"
      ],
      "metadata": {
        "colab": {
          "base_uri": "https://localhost:8080/"
        },
        "id": "M1dQv90k7BnQ",
        "outputId": "01f74edf-deb4-481e-99e5-d9b017b89ecb"
      },
      "execution_count": null,
      "outputs": [
        {
          "output_type": "stream",
          "name": "stdout",
          "text": [
            "Confusion Matrix\n",
            "[[ 6  5  5  5  3  3  6  4]\n",
            " [ 8 15 15 17 19  5 13 14]\n",
            " [ 6 19 19 13 16  3 14 13]\n",
            " [ 6  8 15 14 17  7 18 17]\n",
            " [ 6 19 16 16 18  5 14 12]\n",
            " [ 2  6  2  5  8  2 11  8]\n",
            " [ 7 19 12 22 17  5 14 11]\n",
            " [ 8 13 18 15 15  4 16 12]]\n",
            "Classification Report\n",
            "              precision    recall  f1-score   support\n",
            "\n",
            "           1       0.12      0.16      0.14        37\n",
            "           2       0.14      0.14      0.14       106\n",
            "           3       0.19      0.18      0.19       103\n",
            "           4       0.13      0.14      0.13       102\n",
            "           5       0.16      0.17      0.16       106\n",
            "           6       0.06      0.05      0.05        44\n",
            "           7       0.13      0.13      0.13       107\n",
            "           8       0.13      0.12      0.12       101\n",
            "\n",
            "    accuracy                           0.14       706\n",
            "   macro avg       0.13      0.14      0.13       706\n",
            "weighted avg       0.14      0.14      0.14       706\n",
            "\n"
          ]
        }
      ]
    }
  ],
  "metadata": {
    "accelerator": "GPU",
    "colab": {
      "collapsed_sections": [],
      "provenance": []
    },
    "gpuClass": "standard",
    "kernelspec": {
      "display_name": "Python 3",
      "name": "python3"
    },
    "language_info": {
      "name": "python"
    }
  },
  "nbformat": 4,
  "nbformat_minor": 0
}